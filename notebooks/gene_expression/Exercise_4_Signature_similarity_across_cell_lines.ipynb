{
 "cells": [
  {
   "cell_type": "markdown",
   "metadata": {},
   "source": [
    "# Signature similarity across cell lines\n",
    "\n",
    "### *Ted Natoli*"
   ]
  },
  {
   "cell_type": "markdown",
   "metadata": {},
   "source": [
    "The goal of this exercise is to perform a simple analysis of cross-cell line signature similarity for a small collection of compounds. Along the way we will demonstrate some basic functionality in the [cmapR](https://github.com/workshop/data/cmapR) package."
   ]
  },
  {
   "cell_type": "markdown",
   "metadata": {},
   "source": [
    "## Signature selection"
   ]
  },
  {
   "cell_type": "markdown",
   "metadata": {},
   "source": [
    "To keep the dataset size manageable, we selected signatures of 17 compounds that each gave a highly reproducible signature in each of 15 cell lines. So each of the 255 selected signatures under consideration was highly reproducible. Signatures were chosen to have between 2-10 replicates and where the dose was between 1 and 20 uM. In some cases, there was more than one possible signature for each compound/cell line combination. In those cases, we chose the one that was most reproducible."
   ]
  },
  {
   "cell_type": "markdown",
   "metadata": {},
   "source": [
    "## Setup"
   ]
  },
  {
   "cell_type": "code",
   "execution_count": null,
   "metadata": {},
   "outputs": [],
   "source": [
    "library(cmapR)\n",
    "library(pheatmap)\n",
    "library(RColorBrewer)\n",
    "library(repr)"
   ]
  },
  {
   "cell_type": "code",
   "execution_count": null,
   "metadata": {},
   "outputs": [],
   "source": [
    "# paths to relevant data files\n",
    "ds_path <- \"/srv/data/workshop/data/Module4/cross_cell_modz_n255x978.gctx\"\n",
    "meta_path <- \"/srv/data/workshop/data/Module4/cross_cell_meta.txt\"\n"
   ]
  },
  {
   "cell_type": "markdown",
   "metadata": {},
   "source": [
    "### Read inputs"
   ]
  },
  {
   "cell_type": "code",
   "execution_count": null,
   "metadata": {},
   "outputs": [],
   "source": [
    "# read the dataset and view contents\n",
    "(ds <- cmapR::parse.gctx(ds_path))"
   ]
  },
  {
   "cell_type": "code",
   "execution_count": null,
   "metadata": {},
   "outputs": [],
   "source": [
    "# read metadata\n",
    "meta <- data.table::fread(meta_path)"
   ]
  },
  {
   "cell_type": "markdown",
   "metadata": {},
   "source": [
    "Apply annotations to the GCT object using the `annotate.gct` method from `cmapR`."
   ]
  },
  {
   "cell_type": "code",
   "execution_count": null,
   "metadata": {},
   "outputs": [],
   "source": [
    "# annotate the dataset\n",
    "(ds <- cmapR::annotate.gct(ds, meta, dim=\"col\", keyfield=\"sig_id\"))"
   ]
  },
  {
   "cell_type": "markdown",
   "metadata": {},
   "source": [
    "We can now see that the dataset has column annotations for all the contained signatures. "
   ]
  },
  {
   "cell_type": "markdown",
   "metadata": {},
   "source": [
    "## Compute pairwise correlations"
   ]
  },
  {
   "cell_type": "markdown",
   "metadata": {},
   "source": [
    "To do this, we'll compute all pairwise correlations between signatures and use that matrix to construct a new GCT object."
   ]
  },
  {
   "cell_type": "code",
   "execution_count": null,
   "metadata": {},
   "outputs": [],
   "source": [
    "corr_mat <- cor(ds@mat, method=\"spearman\")"
   ]
  },
  {
   "cell_type": "code",
   "execution_count": null,
   "metadata": {},
   "outputs": [],
   "source": [
    "# build a new GCT object from the correlation matrix\n",
    "# we can take advantage of the fact that the rows/columns of\n",
    "# corr_mat are in the same order as the original columns of ds\n",
    "(corr_ds <- new(\"GCT\", mat=corr_mat, cdesc=ds@cdesc, rdesc=ds@cdesc))"
   ]
  },
  {
   "cell_type": "markdown",
   "metadata": {},
   "source": [
    "## Clustering"
   ]
  },
  {
   "cell_type": "markdown",
   "metadata": {},
   "source": [
    "Let's try clustering this correlation matrix to see whether the clusters are driven by cell line."
   ]
  },
  {
   "cell_type": "code",
   "execution_count": null,
   "metadata": {},
   "outputs": [],
   "source": [
    "# first set aside an annotation data.frame to indicate cell line\n",
    "plot_df <- data.frame(cell_id = corr_ds@cdesc$cell_id)\n",
    "rownames(plot_df) <- corr_ds@cid"
   ]
  },
  {
   "cell_type": "code",
   "execution_count": null,
   "metadata": {},
   "outputs": [],
   "source": [
    "# plot the clustered heatmap using pheatmap package and overlaying\n",
    "# the cell line designation as a color bar on the margins\n",
    "options(repr.plot.width=10, repr.plot.height=7)\n",
    "pheatmap::pheatmap(corr_ds@mat, annotation_row=plot_df, annotation_col=plot_df,\n",
    "                  show_rownames=F, show_colnames=F)"
   ]
  },
  {
   "cell_type": "markdown",
   "metadata": {},
   "source": [
    "In general, we don't see strong clustering by cell line. That is, we don't see contiguous blocks of the same color along the margins. This suggests that perhaps the compounds themselves are what's driving the clustering."
   ]
  },
  {
   "cell_type": "markdown",
   "metadata": {},
   "source": [
    "## Quantifying frequency of high correlation"
   ]
  },
  {
   "cell_type": "markdown",
   "metadata": {},
   "source": [
    "Let's look at the distribution of correlation values, ignoring the trivial self-correlations along the diagonal."
   ]
  },
  {
   "cell_type": "code",
   "execution_count": null,
   "metadata": {},
   "outputs": [],
   "source": [
    "options(repr.plot.width=5, repr.plot.height=4)\n",
    "hist(corr_ds@mat[upper.tri(corr_ds@mat, diag=F)],\n",
    "    xlab=\"correlation\",\n",
    "    breaks=30,\n",
    "    col=\"dodgerblue\",\n",
    "    border=\"white\",\n",
    "    main=\"All Pairwise Correlations\")"
   ]
  },
  {
   "cell_type": "markdown",
   "metadata": {},
   "source": [
    "What are the quantiles of these correlation values?"
   ]
  },
  {
   "cell_type": "code",
   "execution_count": null,
   "metadata": {},
   "outputs": [],
   "source": [
    "quantile(corr_ds@mat[upper.tri(corr_ds@mat, diag=F)],\n",
    "        probs=seq(0, 1, 0.05))"
   ]
  },
  {
   "cell_type": "markdown",
   "metadata": {},
   "source": [
    "So it seems like ~0.37 is the 95th quantile of correlation. "
   ]
  },
  {
   "cell_type": "markdown",
   "metadata": {},
   "source": [
    "### By compound"
   ]
  },
  {
   "cell_type": "markdown",
   "metadata": {},
   "source": [
    "Let's try to quantify how often a given compound correlates with itself above a this threshold. To do this, we'll melt our `corr_ds` object into a data.frame for easier aggregation."
   ]
  },
  {
   "cell_type": "code",
   "execution_count": null,
   "metadata": {},
   "outputs": [],
   "source": [
    "melted_corr <- cmapR::melt.gct(corr_ds, remove_symmetries = T)"
   ]
  },
  {
   "cell_type": "markdown",
   "metadata": {},
   "source": [
    "Let's take a look at this melted object."
   ]
  },
  {
   "cell_type": "code",
   "execution_count": null,
   "metadata": {},
   "outputs": [],
   "source": [
    "str(melted_corr)"
   ]
  },
  {
   "cell_type": "markdown",
   "metadata": {},
   "source": [
    "Note the '.x' and '.y' suffixes on the column names to indicate whether the corresponding field originally came from the row or column of `corr_ds`, respectively. "
   ]
  },
  {
   "cell_type": "markdown",
   "metadata": {},
   "source": [
    "Let's aggregate the `melted_corr` to ask how often the same compound correlates with itself above 0.37."
   ]
  },
  {
   "cell_type": "code",
   "execution_count": null,
   "metadata": {},
   "outputs": [],
   "source": [
    "melted_corr_agg <- melted_corr[\n",
    "    pert_iname.x == pert_iname.y &          # consider cases where it's the same compound\n",
    "    cell_id.x != cell_id.y,                 # but not the same cell line\n",
    "    .(\n",
    "        ncomp = .N,                         # how many comparisons for this compound\n",
    "        ncomp_hi_corr = sum(value >= 0.37), # how many comparisons are above 0.37\n",
    "        median_corr = median(value)         # median cross cell correlation \n",
    "    ), .(pert_iname.x)]                     # aggregate by pert_iname"
   ]
  },
  {
   "cell_type": "code",
   "execution_count": null,
   "metadata": {},
   "outputs": [],
   "source": [
    "# add a column for the fraction of high-correlation comparisons\n",
    "# and rename pert_iname.x to pert_iname\n",
    "melted_corr_agg[, frac_comp_hi_corr := ncomp_hi_corr / ncomp, .(pert_iname.x)]\n",
    "data.table::setnames(melted_corr_agg, \"pert_iname.x\", \"pert_iname\")"
   ]
  },
  {
   "cell_type": "code",
   "execution_count": null,
   "metadata": {},
   "outputs": [],
   "source": [
    "str(melted_corr_agg)"
   ]
  },
  {
   "cell_type": "markdown",
   "metadata": {},
   "source": [
    "Let's make a barplot of the high correlation frequencies."
   ]
  },
  {
   "cell_type": "code",
   "execution_count": null,
   "metadata": {},
   "outputs": [],
   "source": [
    "options(repr.plot.width=5.5, repr.plot.height=4.5)\n",
    "par(mar=c(10, 4, 2, 2)+0.1)\n",
    "with(melted_corr_agg[order(frac_comp_hi_corr, decreasing=T)],\n",
    "    barplot(frac_comp_hi_corr, names.arg=pert_iname, las=3,\n",
    "           ylab=\"Frequency of High Correlation\"))"
   ]
  },
  {
   "cell_type": "markdown",
   "metadata": {},
   "source": [
    "Perhaps not surprisingly, the HDAC inhibitors most frequently correlate across cell lines. The SRC, HER, JAK inhibitors that correlate least frequently may also be interesting. We know going in that the selected signatures were all individually reproducible, so the fact that they do not correlate strongly across cell lines may suggest that they are having some cell-specific effects."
   ]
  },
  {
   "cell_type": "markdown",
   "metadata": {},
   "source": [
    "### By cell line"
   ]
  },
  {
   "cell_type": "markdown",
   "metadata": {},
   "source": [
    "Let's flip things around and ask for every cell line pair, what fraction of compounds correlate strongly across the two lines. We'll do the aggregation a little differently here, and actually will consider the symmetric values from `corr_ds` for convenience. We'll also lower the threshold slightly so that the results are not driven by only a small number of comparisons."
   ]
  },
  {
   "cell_type": "code",
   "execution_count": null,
   "metadata": {},
   "outputs": [],
   "source": [
    "# make a new melted data.frame keeping the symmetries\n",
    "melted_corr_symm <- melt.gct(corr_ds)"
   ]
  },
  {
   "cell_type": "code",
   "execution_count": null,
   "metadata": {},
   "outputs": [],
   "source": [
    "melted_corr_agg_cell <- melted_corr_symm[\n",
    "    pert_iname.x != pert_iname.y,           # consider cases where it's NOT same compound\n",
    "    .(\n",
    "        ncomp = .N,                         # how many comparisons for this compound\n",
    "        ncomp_hi_corr = sum(value >= 0.20), # how many comparisons are above 0.37\n",
    "        median_corr = median(value)         # median cross cell correlation \n",
    "    ), .(cell_id.x, cell_id.y)]    \n",
    "# add a column for the fraction of high-correlation comparisons\n",
    "# divide by 2 to account for the symmetries\n",
    "melted_corr_agg_cell[, frac_comp_hi_corr := (ncomp_hi_corr / ncomp) / 2,\n",
    "                .(cell_id.x, cell_id.y)]"
   ]
  },
  {
   "cell_type": "code",
   "execution_count": null,
   "metadata": {},
   "outputs": [],
   "source": [
    "str(melted_corr_agg_cell)"
   ]
  },
  {
   "cell_type": "markdown",
   "metadata": {},
   "source": [
    "Let's look at this as a heatmap."
   ]
  },
  {
   "cell_type": "code",
   "execution_count": null,
   "metadata": {},
   "outputs": [],
   "source": [
    "# first convert to a matrix\n",
    "tmp <- data.table::dcast(melted_corr_agg_cell, cell_id.x ~ cell_id.y,\n",
    "                        value.var=\"frac_comp_hi_corr\")\n",
    "cross_cell_hicorr_freq_mat <- as.matrix(tmp[, -1])\n",
    "rownames(cross_cell_hicorr_freq_mat) <- tmp[[1]]"
   ]
  },
  {
   "cell_type": "code",
   "execution_count": null,
   "metadata": {},
   "outputs": [],
   "source": [
    "str(cross_cell_hicorr_freq_mat)"
   ]
  },
  {
   "cell_type": "code",
   "execution_count": null,
   "metadata": {},
   "outputs": [],
   "source": [
    "pheatmap::pheatmap(cross_cell_hicorr_freq_mat,\n",
    "                   color = colorRampPalette(rev(RColorBrewer::brewer.pal(n = 7, name=\"RdYlBu\")))(25),\n",
    "                   breaks=seq(0, 0.25, 0.01),\n",
    "                   display_numbers=T)"
   ]
  },
  {
   "cell_type": "markdown",
   "metadata": {},
   "source": [
    "Overall the frequencies seem pretty low, but but there are perhaps some interesting patterns that emerge. Let's just look at the dendrogram to see the clustering a bit more clearly."
   ]
  },
  {
   "cell_type": "code",
   "execution_count": null,
   "metadata": {},
   "outputs": [],
   "source": [
    "plot(hclust(as.dist(1-cross_cell_hicorr_freq_mat)), xlab=\"\")"
   ]
  },
  {
   "cell_type": "markdown",
   "metadata": {},
   "source": [
    "In general the two large clusters seem to make sense. The one on the right contains majority non-cancer lines (other than HELA). The two breast cancer lines (MCF7 + MDAMB231) cluster together but apart from MCF10A, an immortalized breast line."
   ]
  },
  {
   "cell_type": "code",
   "execution_count": null,
   "metadata": {},
   "outputs": [],
   "source": []
  }
 ],
 "metadata": {
  "kernelspec": {
   "display_name": "R",
   "language": "R",
   "name": "ir"
  },
  "language_info": {
   "codemirror_mode": "r",
   "file_extension": ".r",
   "mimetype": "text/x-r-source",
   "name": "R",
   "pygments_lexer": "r",
   "version": "3.4.4"
  }
 },
 "nbformat": 4,
 "nbformat_minor": 1
}
