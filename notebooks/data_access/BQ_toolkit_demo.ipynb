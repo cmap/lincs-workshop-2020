{
  "nbformat": 4,
  "nbformat_minor": 0,
  "metadata": {
    "kernelspec": {
      "display_name": "Python 3",
      "language": "python",
      "name": "python3"
    },
    "language_info": {
      "codemirror_mode": {
        "name": "ipython",
        "version": 3
      },
      "file_extension": ".py",
      "mimetype": "text/x-python",
      "name": "python",
      "nbconvert_exporter": "python",
      "pygments_lexer": "ipython3",
      "version": "3.8.5"
    },
    "toc": {
      "base_numbering": 1,
      "nav_menu": {},
      "number_sections": false,
      "sideBar": true,
      "skip_h1_title": true,
      "title_cell": "Table of Contents",
      "title_sidebar": "Contents",
      "toc_cell": false,
      "toc_position": {},
      "toc_section_display": true,
      "toc_window_display": false
    },
    "colab": {
      "name": "BQ_toolkit_demo.ipynb",
      "provenance": [],
      "collapsed_sections": [
        "LMA5uHXtB7V8",
        "8H7RQUqvSpWp",
        "JNf034n1DF7f"
      ],
      "toc_visible": true,
      "include_colab_link": true
    }
  },
  "cells": [
    {
      "cell_type": "markdown",
      "metadata": {
        "id": "view-in-github",
        "colab_type": "text"
      },
      "source": [
        "<a href=\"https://colab.research.google.com/github/cmap/lincs-workshop-2020/blob/main/notebooks/data_access/BQ_toolkit_demo.ipynb\" target=\"_parent\"><img src=\"https://colab.research.google.com/assets/colab-badge.svg\" alt=\"Open In Colab\"/></a>"
      ]
    },
    {
      "cell_type": "markdown",
      "metadata": {
        "id": "MrN92xlsDnqE"
      },
      "source": [
        "## cmapBQ Tutorial\n",
        "\n",
        "This notebook is meant to show a few examples of exploring, selecting and retrieving data available within LINCS-CMap datasets from Google BigQuery.\n",
        "\n",
        "`cmapBQ` allows for targeted retrieval of relevant gene expression data from the resources provided by The Broad Institute and LINCS Project"
      ]
    },
    {
      "cell_type": "markdown",
      "metadata": {
        "id": "9BzY-ZW3Dq7k"
      },
      "source": [
        "### Package installation"
      ]
    },
    {
      "cell_type": "markdown",
      "metadata": {
        "id": "M_QOAzWJxCuM"
      },
      "source": [
        "The cmapBQ package is available from `pip` and can be installed using the command below. Documentation is available on [Read The Docs](https://cmapbq.readthedocs.io/en/latest/)"
      ]
    },
    {
      "cell_type": "code",
      "metadata": {
        "id": "BOWAFnXQD3Xs"
      },
      "source": [
        "!pip -q install cmapBQ"
      ],
      "execution_count": null,
      "outputs": []
    },
    {
      "cell_type": "markdown",
      "metadata": {
        "id": "S_wNgSQrDnqH"
      },
      "source": [
        "### Standard Imports"
      ]
    },
    {
      "cell_type": "code",
      "metadata": {
        "ExecuteTime": {
          "end_time": "2020-10-16T15:08:01.975360Z",
          "start_time": "2020-10-16T15:08:01.326791Z"
        },
        "id": "KwESkecNDnqK"
      },
      "source": [
        "import os\n",
        "import pandas as pd\n",
        "import numpy as np\n",
        "import seaborn as sns\n",
        "import requests\n",
        "\n",
        "import matplotlib.pyplot as plt"
      ],
      "execution_count": null,
      "outputs": []
    },
    {
      "cell_type": "markdown",
      "metadata": {
        "ExecuteTime": {
          "end_time": "2020-10-16T15:08:01.975360Z",
          "start_time": "2020-10-16T15:08:01.326791Z"
        },
        "id": "titAMjiCDnqX"
      },
      "source": [
        "### Credentials Setup and Package imports"
      ]
    },
    {
      "cell_type": "markdown",
      "metadata": {
        "id": "bnSqb7pda1R2"
      },
      "source": [
        "Getting demo credentials from S3. To access BigQuery, a service account JSON credentials file must be obtained. Running the `cmap.config.setup_credentials(credentials_path)` function will point the toolkit to the credentials connected to your Google Account. \n",
        "\n",
        "More information about service accounts are available here: [Getting started with authentication](https://cloud.google.com/docs/authentication/getting-started)"
      ]
    },
    {
      "cell_type": "code",
      "metadata": {
        "id": "U4lQS63voy4C"
      },
      "source": [
        "\"\"\" Delete line if without Google Cloud credentials\n",
        "\n",
        "import requests\n",
        "\n",
        "# URL with credentials\n",
        "url = ('https://s3.amazonaws.com/data.clue.io/api/bq_creds/BQ-demo-credentials.json')\n",
        "\n",
        "response = requests.get(url)\n",
        "credentials_filepath='/content/BQ-demo-credentials.json'\n",
        "\n",
        "with open(credentials_filepath, 'w') as f:\n",
        "  f.write(response.text)\n",
        "\n",
        "\"\"\""
      ],
      "execution_count": null,
      "outputs": []
    },
    {
      "cell_type": "markdown",
      "metadata": {
        "id": "j79uwWIsa48M"
      },
      "source": [
        "Pointing cmapBQ to credentials file"
      ]
    },
    {
      "cell_type": "code",
      "metadata": {
        "ExecuteTime": {
          "end_time": "2020-10-16T15:08:01.975360Z",
          "start_time": "2020-10-16T15:08:01.326791Z"
        },
        "id": "CtzQMe-aDnqZ"
      },
      "source": [
        "import cmapBQ.query as cmap_query\n",
        "import cmapBQ.config as cmap_config\n",
        "\n",
        "credentials_filepath='/content/YOUR_JSON_KEY.json'\n",
        "# Set up credentials\n",
        "cmap_config.setup_credentials(credentials_filepath)\n",
        "bq_client = cmap_config.get_bq_client()"
      ],
      "execution_count": null,
      "outputs": []
    },
    {
      "cell_type": "markdown",
      "metadata": {
        "ExecuteTime": {
          "end_time": "2020-10-16T15:08:01.975360Z",
          "start_time": "2020-10-16T15:08:01.326791Z"
        },
        "id": "0gRb1ug3Dnqh"
      },
      "source": [
        "<div style=\"font-size: 10pt;line-height:30px\">\n",
        "    \n",
        "Alternative method of authentication:"
      ]
    },
    {
      "cell_type": "code",
      "metadata": {
        "ExecuteTime": {
          "end_time": "2020-10-16T15:08:01.975360Z",
          "start_time": "2020-10-16T15:08:01.326791Z"
        },
        "id": "subhwHdCDnqi"
      },
      "source": [
        "#from google.cloud import bigquery\n",
        "#os.environ['GOOGLE_APPLICATION_CREDENTIALS'] = credentials_filepath\n",
        "#bq_client = bigquery.Client()"
      ],
      "execution_count": null,
      "outputs": []
    },
    {
      "cell_type": "markdown",
      "metadata": {
        "id": "LMA5uHXtB7V8"
      },
      "source": [
        "# BigQuery Table Information"
      ]
    },
    {
      "cell_type": "markdown",
      "metadata": {
        "id": "7Erxfh69Dnqz"
      },
      "source": [
        "### The data hosted on BigQuery is organized in the following tables\n",
        "\n",
        "<div style=\"font-size: 10pt;line-height:18px;font-weight:normal\">\n",
        "    \n",
        "**compoundinfo:** <br> Metadata for all unique compounds included in the data release. Each row contains information about a unique compound such as MoA, target, etc. \n",
        "    \n",
        "**instinfo:**  <br> Sample level metadata includes information for each replicate including experimental parameters such as timepoint and dose\n",
        "\n",
        "**siginfo:**  <br> Signature (replicate collapsed) level 5 metadata. Includes experimental parameters such as timepoint and dose as well as metrics for bioactivity such as `tas` for [Transcriptional Activity Score](https://clue.io/connectopedia/signature_quality_metrics) and `cc_q75` for Replicate Correlation\n",
        "\n",
        "**L1000 Level3:**  <br> Gene expression (GEX, Level 2) are normalized to invariant gene set curves and quantile normalized across each plate. Here, the data from each perturbagen treatment is referred to as a profile, experiment, or instance. Additional values for 11,350 additional genes not directly measured in the L10000 assay are inferred based on the normalized values for the 978 landmark genes.\n",
        "\n",
        "    \n",
        "**L1000 Level4:**  <br> Z-scores for each gene based on Level 3 with respect to the entire plate population. This comparison of profiles to their appropriate population control generates a list of differentially expressed genes.\n",
        "\n",
        "**L1000 Level5:** <br> Replicate-collapsed z-score vectors based on Level 4. Replicate collapse generates one differential expression vector, which we term a signature. Connectivity analyses are performed on signatures.\n",
        "    \n",
        "**geneinfo:** <br> Metadata for gene_ids included in the data release. Each row contains mappings between gene_symbol, ensemble_id, gene_id as well as information about gene_type\n",
        "\n",
        "**cellinfo:** <br> Metadata for cell lines included in the data release. Each row contains information such as cell_iname, ccle_name or cell_lineage\n",
        "\n",
        "**genetic_pertinfo**: <br> Contains information related to genetic perturbagens such as type ['oe', 'sh', 'xpr'] and relevant gene_id, ensemble_id \n"
      ]
    },
    {
      "cell_type": "markdown",
      "metadata": {
        "id": "8H7RQUqvSpWp"
      },
      "source": [
        "# Raw SQL Queries"
      ]
    },
    {
      "cell_type": "markdown",
      "metadata": {
        "id": "59rrOYcv_08C"
      },
      "source": [
        "`cmapBQ.query.list_tables()` function will display table adresses of default tables for usage in SQL queries"
      ]
    },
    {
      "cell_type": "code",
      "metadata": {
        "id": "yCMwFJvcSn-8"
      },
      "source": [
        "import cmapBQ.query as cmap_query\n",
        "\n",
        "cmap_query.list_tables()"
      ],
      "execution_count": null,
      "outputs": []
    },
    {
      "cell_type": "markdown",
      "metadata": {
        "id": "K55z8PJABDfe"
      },
      "source": [
        "Raw SQL queries can be run on the public datasets as shown below. Syntax follows that of Google Biqquery, available here: https://cloud.google.com/bigquery/docs/reference/standard-sql/query-syntax"
      ]
    },
    {
      "cell_type": "markdown",
      "metadata": {
        "id": "VwHW62U7Z1bT"
      },
      "source": [
        "### Example SQL Query "
      ]
    },
    {
      "cell_type": "code",
      "metadata": {
        "id": "zCD_qgt4__T4"
      },
      "source": [
        "## This query may take up to a minute\n",
        "query = \"SELECT COUNT(DISTINCT(cid)) as num_level5_sigs FROM cmap-big-table.cmap_lincs_public_views.L1000_Level5\"\n",
        "\n",
        "cmap_query.run_query(query=query, client=bq_client).result().to_dataframe()"
      ],
      "execution_count": null,
      "outputs": []
    },
    {
      "cell_type": "markdown",
      "metadata": {
        "id": "0jYyUZ2N_wqa"
      },
      "source": [
        "# cmapBQ Utilities"
      ]
    },
    {
      "cell_type": "markdown",
      "metadata": {
        "id": "qoPGexcRBv-I"
      },
      "source": [
        "`cmapBQ` provides a multitude of utility functions to survey and retrieve data hosted on BigQuery. Below we will demonstrate a workflow for finding and analyzing data pertaining to an MoA of interest as an example."
      ]
    },
    {
      "cell_type": "markdown",
      "metadata": {
        "id": "erfU4Fniqhwx"
      },
      "source": [
        "# Get Table Schema Information"
      ]
    },
    {
      "cell_type": "code",
      "metadata": {
        "id": "Z_HpGVk5qbok"
      },
      "source": [
        "cmap_query.list_tables()"
      ],
      "execution_count": null,
      "outputs": []
    },
    {
      "cell_type": "code",
      "metadata": {
        "id": "KWn3W1dsqTUQ"
      },
      "source": [
        "cmap_query.get_table_info(bq_client, 'cmap-big-table.cmap_lincs_public_views.compoundinfo') "
      ],
      "execution_count": null,
      "outputs": []
    },
    {
      "cell_type": "code",
      "metadata": {
        "id": "oQPtEl8axOsb"
      },
      "source": [
        "config = cmap_config.get_default_config()\n",
        "compoundinfo_table = config.tables.compoundinfo\n",
        "\n",
        "QUERY = ( 'SELECT moa, ' \n",
        "'COUNT(DISTINCT(pert_id)) AS count ' \n",
        "'FROM `{}` ' \n",
        "'GROUP BY moa')\n",
        "\n",
        "QUERY = QUERY.format(compoundinfo_table)\n",
        "cmap_query.run_query(bq_client, QUERY).result().to_dataframe()"
      ],
      "execution_count": null,
      "outputs": []
    },
    {
      "cell_type": "markdown",
      "metadata": {
        "id": "XEN8Xl8RcT6T"
      },
      "source": [
        "### Metadata at a glance"
      ]
    },
    {
      "cell_type": "code",
      "metadata": {
        "ExecuteTime": {
          "end_time": "2020-10-16T15:10:36.592241Z",
          "start_time": "2020-10-16T15:08:01.976661Z"
        },
        "scrolled": true,
        "id": "FjCH2S9JDnq0"
      },
      "source": [
        "moas = cmap_query.list_cmap_moas(bq_client)\n",
        "display(moas)"
      ],
      "execution_count": null,
      "outputs": []
    },
    {
      "cell_type": "code",
      "metadata": {
        "id": "VaUtgmHPeI2o"
      },
      "source": [
        "targets = cmap_query.list_cmap_targets(bq_client)\n",
        "display(targets.sort_values('count'))"
      ],
      "execution_count": null,
      "outputs": []
    },
    {
      "cell_type": "code",
      "metadata": {
        "id": "UrFc4KJKeSpS"
      },
      "source": [
        "display(\n",
        "    moas[moas['moa'].str.contains('Glucocorticoid receptor agonist', na=False)]\n",
        ")\n",
        "display(\n",
        "    targets[targets['target'].str.contains('EGFR', na=False)]\n",
        ")"
      ],
      "execution_count": null,
      "outputs": []
    },
    {
      "cell_type": "markdown",
      "metadata": {
        "id": "NreWAYjlYPUQ"
      },
      "source": [
        "# Analysis 1 - Comparison of MoA concordance across various cell lines"
      ]
    },
    {
      "cell_type": "markdown",
      "metadata": {
        "id": "OIUh2yzkCEvz"
      },
      "source": [
        "## Compound Information Table"
      ]
    },
    {
      "cell_type": "markdown",
      "metadata": {
        "id": "j2JpkD_2DnrV"
      },
      "source": [
        "<div style=\"font-size: 12pt;line-height:20px\">\n",
        "\n",
        "If the desired target or MoA is present, we can then query the compound table to get information about what compounds may relate to that MoA"
      ]
    },
    {
      "cell_type": "code",
      "metadata": {
        "ExecuteTime": {
          "end_time": "2020-10-16T15:10:38.777966Z",
          "start_time": "2020-10-16T15:10:36.594280Z"
        },
        "id": "pi2PFOV7Dnq7"
      },
      "source": [
        "moa = 'Glucocorticoid receptor agonist'\n",
        "#moa = 'EGFR inhibitor'\n",
        "\n",
        "moa_cpinfo = cmap_query.cmap_compounds(client=bq_client,\n",
        "  moa=moa, \n",
        "  #verbose=True,\n",
        ")\n",
        "moa_cpinfo.sample(10)"
      ],
      "execution_count": null,
      "outputs": []
    },
    {
      "cell_type": "markdown",
      "metadata": {
        "id": "27G0ZiKyDnrd"
      },
      "source": [
        "<div style=\"font-size: 12pt;line-height:20px\">\n",
        "\n",
        "Lets take the first 10 compounds and see how many signatures are available for those compounds. We can pass a list of compounds to the **cmap_sig function**, which then queries the dataset for compounds that match."
      ]
    },
    {
      "cell_type": "code",
      "metadata": {
        "id": "v0HBkU2EnssJ"
      },
      "source": [
        "moa_cps = moa_cpinfo.cmap_name.unique()\n",
        "moa_cps"
      ],
      "execution_count": null,
      "outputs": []
    },
    {
      "cell_type": "markdown",
      "metadata": {
        "id": "M4HvZ56L9ScL"
      },
      "source": [
        "## Cell Line information"
      ]
    },
    {
      "cell_type": "code",
      "metadata": {
        "id": "jdTO3msOS9uC"
      },
      "source": [
        "core_cell_lines = ['A375', 'A549', 'HCC515', 'HEPG2', 'MCF7', 'PC3', 'VCAP', 'HT29', 'HA1E']\n",
        "\n",
        "core_cellinfo = cmap_query.cmap_cell(bq_client, \n",
        "  cell_iname=core_cell_lines, \n",
        "  verbose=True,\n",
        ")\n",
        "core_cellinfo.head(10)"
      ],
      "execution_count": null,
      "outputs": []
    },
    {
      "cell_type": "markdown",
      "metadata": {
        "id": "trvLt0FV9XTv"
      },
      "source": [
        "## Query Siginfo "
      ]
    },
    {
      "cell_type": "markdown",
      "metadata": {
        "id": "qyzjNqtlDnr0"
      },
      "source": [
        "<div style=\"font-size: 12pt;line-height:20px\">\n",
        "\n",
        "\n",
        "The siginfo file provides information on the conditions for each experiment such as compound, dose, timepoint, cell line, and more.\n",
        "\n",
        "The table also includes information regarding the signal strength and replicate correlation of the compound. The `tas` contains the signatures **Transcriptional Activity Score (TAS)** which is an aggregate measure of strength and reproducibilty.  [More information about signature quality metrics can be found on Connectopedia](https://clue.io/connectopedia/signature_quality_metrics)"
      ]
    },
    {
      "cell_type": "code",
      "metadata": {
        "id": "E-23XFmkjXAW"
      },
      "source": [
        "sample_cell_lines = list(core_cellinfo.cell_iname.unique()) #core_cell_lines\n",
        "\n",
        "sample_compounds = list(moa_cps)\n",
        "print(\"Compounds: {}\".format(sample_compounds))\n",
        "print(\"Cell Lines: {}\".format(sample_cell_lines))\n",
        "\n",
        "siginfo_sample = cmap_query.cmap_sig(     #Query the siginfo table\n",
        "    bq_client, \n",
        "    cmap_name = sample_compounds,\n",
        "    cell_iname = sample_cell_lines,\n",
        "    return_fields = 'all'\n",
        ")\n",
        "\n",
        "siginfo_sample = siginfo_sample.loc[     #Filter returned table \n",
        "    (siginfo_sample.nsample >= 3) &\n",
        "    (siginfo_sample.pert_dose >= 10) &\n",
        "    (siginfo_sample.pert_itime.eq('24 h'))\n",
        "]\n",
        "\n",
        "\n",
        "siginfo_sample = siginfo_sample.merge(core_cellinfo, on='cell_iname') #join with cellinfo table to get cell lineage information\n",
        "siginfo_sample.sample(5)"
      ],
      "execution_count": null,
      "outputs": []
    },
    {
      "cell_type": "code",
      "metadata": {
        "id": "d3NxRWAJ5Pg3"
      },
      "source": [
        "plt.figure(figsize=(8,6))\n",
        "\n",
        "sorted_index = siginfo_sample.groupby('cell_iname').median().sort_values('tas').index\n",
        "\n",
        "sns.boxplot(\n",
        "    data=siginfo_sample,\n",
        "    x='cell_iname',\n",
        "    y='tas',\n",
        "    hue='cell_lineage',\n",
        "    dodge=False,\n",
        "    order=sorted_index\n",
        ");\n",
        "\n",
        "plt.title('Transcriptional Activity by Cell Line')\n",
        "plt.xlabel('Cell Line')\n",
        "plt.ylabel('Transcriptional Activity Score (TAS)')\n",
        "plt.legend(loc='upper left', bbox_to_anchor=(1.01,1))\n",
        "plt.show()"
      ],
      "execution_count": null,
      "outputs": []
    },
    {
      "cell_type": "markdown",
      "metadata": {
        "id": "Lsgw2Fnmw75G"
      },
      "source": [
        "## Numerical Data"
      ]
    },
    {
      "cell_type": "markdown",
      "metadata": {
        "id": "JXoXha2Tav6W"
      },
      "source": [
        "### Extracting Numerical data using `cmapBQ.query.cmap_matrix`"
      ]
    },
    {
      "cell_type": "code",
      "metadata": {
        "id": "egy1Ak7ApLR8"
      },
      "source": [
        "sig_ids = siginfo_sample.sig_id.unique() #sig_ids are unique for each signature and relates siginfo table to numerical data\n",
        "\n",
        "sample_data_numerical = cmap_query.cmap_matrix(bq_client,\n",
        "    data_level='level5',\n",
        "    feature_space='landmark', #Choices ['landmark', 'bing', 'aig']\n",
        "    cid=list(sig_ids), #columns are signatures\n",
        ")\n",
        "\n",
        "print( sample_data_numerical.data_df.shape )"
      ],
      "execution_count": null,
      "outputs": []
    },
    {
      "cell_type": "markdown",
      "metadata": {
        "id": "IshdQPt5gw5B"
      },
      "source": [
        "`cmap_matrix` returns a GCToo object, part of the cmapPy resource. Documentation on the GCToo object structure and useful cmapPy utilities can be found in the cmapPy documentation here: https://cmappy.readthedocs.io/en/stable/"
      ]
    },
    {
      "cell_type": "markdown",
      "metadata": {
        "id": "RyQH2lKka-7-"
      },
      "source": [
        "### Write to file as GCTX"
      ]
    },
    {
      "cell_type": "code",
      "metadata": {
        "id": "vB1SQaAiDnsN"
      },
      "source": [
        "from cmapPy.pandasGEXpress.write_gctx import write as write_gctx\n",
        "from cmapPy.pandasGEXpress.write_gct import write as write_gct\n",
        "\n",
        "#write_gctx(sample_data_numerical, filename)\n",
        "#write_gct(sample_data_numerical, filename)"
      ],
      "execution_count": null,
      "outputs": []
    },
    {
      "cell_type": "markdown",
      "metadata": {
        "id": "yHAUuOQCG5Ml"
      },
      "source": [
        "## Pairwise Correlations"
      ]
    },
    {
      "cell_type": "code",
      "metadata": {
        "id": "2b3r9xYxw6eB"
      },
      "source": [
        "corr_matrix = sample_data_numerical.data_df.corr()\n",
        "print(corr_matrix.shape)"
      ],
      "execution_count": null,
      "outputs": []
    },
    {
      "cell_type": "markdown",
      "metadata": {
        "id": "c-K98pMLWsRA"
      },
      "source": [
        "### Function definitions"
      ]
    },
    {
      "cell_type": "code",
      "metadata": {
        "id": "XkW9ZNHvI_MN"
      },
      "source": [
        "import scipy\n",
        "import scipy.cluster.hierarchy as sch\n",
        "import numpy as np\n",
        "\n",
        "\n",
        "def get_off_diagonals(matrix):\n",
        "  \"\"\"\n",
        "  Extract off-diagonal elements of matrix as list of values\n",
        "\n",
        "  Parameters\n",
        "  ----------\n",
        "  matrix: pandas.DataFrame or numpy.ndarray, NxN matrix\n",
        "  \n",
        "  Returns\n",
        "  -------\n",
        "  \"\"\"\n",
        "  return matrix.where(\n",
        "    np.triu(np.ones(matrix.shape).astype(bool), k=1)\n",
        "  ).stack().reset_index(drop=True)\n",
        "\n",
        "def cluster_corr(corr_array, inplace=False):\n",
        "    \"\"\"\n",
        "    Rearranges the correlation matrix, corr_array, so that groups of highly \n",
        "    correlated variables are next to eachother \n",
        "    \n",
        "    Parameters\n",
        "    ----------\n",
        "    corr_array : pandas.DataFrame or numpy.ndarray\n",
        "        a NxN correlation matrix \n",
        "        \n",
        "    Returns\n",
        "    -------\n",
        "    pandas.DataFrame or numpy.ndarray\n",
        "        a NxN correlation matrix with the columns and rows rearranged\n",
        "    \"\"\"\n",
        "    pairwise_distances = sch.distance.pdist(corr_array)\n",
        "    linkage = sch.linkage(pairwise_distances, method='complete')\n",
        "    cluster_distance_threshold = pairwise_distances.max()/2\n",
        "    idx_to_cluster_array = sch.fcluster(linkage, cluster_distance_threshold, \n",
        "                                        criterion='distance')\n",
        "    idx = np.argsort(idx_to_cluster_array)\n",
        "    \n",
        "    if not inplace:\n",
        "        corr_array = corr_array.copy()\n",
        "    \n",
        "    if isinstance(corr_array, pd.DataFrame):\n",
        "        return corr_array.iloc[idx, :].T.iloc[idx, :]\n",
        "    return corr_array[idx, :][:, idx]\n",
        "\n",
        "def get_subplot_dimensions(num_plots):\n",
        "    if num_plots % 4 == 0:\n",
        "      return num_plots//4, 4\n",
        "    elif num_plots % 3 == 0:\n",
        "      return num_plots//3, 3\n",
        "    elif num_plots % 2 == 0:\n",
        "      return num_plots//2, 2\n",
        "    elif num_plots % 1 == 0:\n",
        "      return num_plots//1, 1\n",
        "\n",
        "\n"
      ],
      "execution_count": null,
      "outputs": []
    },
    {
      "cell_type": "markdown",
      "metadata": {
        "id": "5Kml4zu0Vfg3"
      },
      "source": [
        "### Histograms"
      ]
    },
    {
      "cell_type": "code",
      "metadata": {
        "id": "BmBTuJj1Vf_b"
      },
      "source": [
        "#Lists used for sns.boxplot\n",
        "dist_list = []\n",
        "cell_list = siginfo_sample.groupby('cell_iname').median().sort_values('tas').index\n",
        "\n",
        "lineage_list = []\n",
        "\n",
        "#ncols=4\n",
        "#nrows=2\n",
        "subplot_size = 5\n",
        "nrows, ncols = get_subplot_dimensions(len(cell_list))\n",
        "fig_dist, axes_dist = plt.subplots(nrows, ncols, figsize=(subplot_size*ncols,subplot_size*nrows))\n",
        "\n",
        "\n",
        "for i,cell in enumerate(cell_list):\n",
        "\n",
        "  lineage = core_cellinfo.loc[\n",
        "        core_cellinfo.cell_iname.eq(cell)\n",
        "      ].cell_lineage.unique()[0]  #Lineage information for cell line\n",
        "\n",
        "  cell_sig_ids = siginfo_sample.loc[\n",
        "    siginfo_sample.cell_iname.eq(cell)\n",
        "  ].sig_id.unique()  #Get sig_ids for cell line\n",
        "\n",
        "  cell_corrs = corr_matrix.loc[cell_sig_ids, cell_sig_ids] #Extract correlations for cell line\n",
        "#  cell_corrs = cluster_corr(cell_corrs) #Cluster cell correlations\n",
        "  \n",
        "  dist = get_off_diagonals(cell_corrs) #Extract off-diagonals\n",
        "  \n",
        "  dist_list.append(dist)\n",
        "  lineage_list.append(lineage)\n",
        "\n",
        "  sns.histplot(dist, \n",
        "               binwidth=0.1,\n",
        "               ax=axes_dist[i // ncols][i % ncols])\n",
        "  axes_dist[i // ncols][i % ncols].set_title(\n",
        "    'Distribution of pairwise connections in {} \\n({})'.format(\n",
        "        cell, \n",
        "        lineage\n",
        "      )\n",
        "    )\n",
        "  axes_dist[i // ncols][i % ncols].set_xlim(-1, 1)\n",
        "  axes_dist[i // ncols][i % ncols].set_xlabel('Correlation')\n",
        "  axes_dist[i // ncols][i % ncols].set_xticks([-1, -0.5, 0, 0.5, 1])\n",
        "\n",
        "plt.tight_layout()\n",
        "plt.show()"
      ],
      "execution_count": null,
      "outputs": []
    },
    {
      "cell_type": "markdown",
      "metadata": {
        "id": "fATzaSlUV2cX"
      },
      "source": [
        "### Boxplots"
      ]
    },
    {
      "cell_type": "code",
      "metadata": {
        "id": "bBBOWqnFVwSi"
      },
      "source": [
        "plt.figure(figsize=(10,10))\n",
        "colors_list = ['brown', 'red', 'orange', 'red', 'magenta', 'blue', 'cyan', 'green', 'green'] #manual coloring by cell_lineage\n",
        "\n",
        "sns.boxplot(\n",
        "    data=dist_list,\n",
        "    palette=colors_list\n",
        "    )\n",
        "\n",
        "labels = ['{}\\n({})'.format(cell_list[i], lineage_list[i]) for i in range(0,len(cell_list))]\n",
        "plt.xticks(np.linspace(0,len(cell_list)-1, len(cell_list)), labels)\n",
        "\n",
        "plt.ylabel('Pairwise Correlations')\n",
        "plt.xlabel('Cell Line')\n",
        "plt.ylim([-1,1])\n",
        "plt.title('Comparison of {} concordance in Core Cell Lines'.format(moa))\n",
        "plt.show()"
      ],
      "execution_count": null,
      "outputs": []
    },
    {
      "cell_type": "markdown",
      "metadata": {
        "id": "LBX2J0MrViB4"
      },
      "source": [
        "### Heatmaps"
      ]
    },
    {
      "cell_type": "markdown",
      "metadata": {
        "id": "O2kxIoQsbkso"
      },
      "source": [
        "#### Color Map Configuration"
      ]
    },
    {
      "cell_type": "code",
      "metadata": {
        "id": "NkUHXKdjEaC_"
      },
      "source": [
        "from matplotlib import cm\n",
        "from matplotlib.colors import ListedColormap, LinearSegmentedColormap\n",
        "\n",
        "red_blue_map = cm.get_cmap('RdBu_r', 256)\n",
        "tau_red_blue_90 = red_blue_map(np.linspace(0,1,200))\n",
        "white = np.array([1, 1, 1, 1])\n",
        "tau_red_blue_90[70:130, :] = white\n",
        "tau_red_blue_90 = ListedColormap(tau_red_blue_90)"
      ],
      "execution_count": null,
      "outputs": []
    },
    {
      "cell_type": "markdown",
      "metadata": {
        "id": "2mgvIbuJbw9z"
      },
      "source": [
        "#### Full Correlation Matrix"
      ]
    },
    {
      "cell_type": "code",
      "metadata": {
        "id": "QC9n7CpeASiC"
      },
      "source": [
        "clustered_matrix = cluster_corr(sample_data_numerical.data_df.corr())"
      ],
      "execution_count": null,
      "outputs": []
    },
    {
      "cell_type": "code",
      "metadata": {
        "id": "Z5733x9eKdED"
      },
      "source": [
        "plt.figure(figsize=(20,20))\n",
        "sns.heatmap(clustered_matrix, cmap=tau_red_blue_90, vmin=-1, vmax=1)\n",
        "plt.show()"
      ],
      "execution_count": null,
      "outputs": []
    },
    {
      "cell_type": "markdown",
      "metadata": {
        "id": "M3jtC2Uvbp1F"
      },
      "source": [
        "#### Pairwise correlations by Cell Line"
      ]
    },
    {
      "cell_type": "code",
      "metadata": {
        "id": "iuuTpn8APFCp"
      },
      "source": [
        "cell_list = siginfo_sample.groupby('cell_iname').median().sort_values('tas').index #sorted by median tas\n",
        "\n",
        "nrows, ncols = get_subplot_dimensions(len(cell_list))\n",
        "subplot_size = 5\n",
        "fig_hm, axes_hm = plt.subplots(nrows, ncols, figsize=(subplot_size*ncols*1.4,subplot_size*nrows))\n",
        "\n",
        "for i,cell in enumerate(cell_list):\n",
        "\n",
        "  lineage = core_cellinfo.loc[\n",
        "          core_cellinfo.cell_iname.eq(cell)\n",
        "        ].cell_lineage.unique()[0]\n",
        "\n",
        "  cell_siginfo = siginfo_sample.loc[\n",
        "    siginfo_sample.cell_iname.eq(cell)\n",
        "  ]\n",
        "\n",
        "  cell_sig_ids = cell_siginfo.sig_id.unique()  \n",
        "  \n",
        "  cell_corrs = corr_matrix.loc[cell_sig_ids, cell_sig_ids]\n",
        "\n",
        "  cell_corrs = cluster_corr(cell_corrs)\n",
        "\n",
        "  cell_siginfo.set_index('sig_id').loc[cell_corrs.columns] #sort to match clustered matrix\n",
        "  \n",
        "  sns.heatmap(cell_corrs,\n",
        "              cmap=tau_red_blue_90, \n",
        "              vmin=-1, \n",
        "              vmax=1,\n",
        "              ax=axes_hm[i // ncols][i % ncols])\n",
        "  \n",
        "  axes_hm[i // ncols][i % ncols].set_xticklabels([]) \n",
        "  axes_hm[i // ncols][i % ncols].set_yticklabels(cell_siginfo.cmap_name) # Add compound names\n",
        "  axes_hm[i // ncols][i % ncols].set_xlabel('')\n",
        "  axes_hm[i // ncols][i % ncols].set_ylabel('')\n",
        "  axes_hm[i // ncols][i % ncols].set_title('Cell Line: {}\\n Cell Lineage: {}'.format(cell, lineage))\n",
        "\n",
        "plt.tight_layout()\n"
      ],
      "execution_count": null,
      "outputs": []
    },
    {
      "cell_type": "markdown",
      "metadata": {
        "id": "Wus3S7O1xc_B"
      },
      "source": [
        "# Analysis 2 - Gene Mod"
      ]
    },
    {
      "cell_type": "markdown",
      "metadata": {
        "id": "6ELFcR1PVeVi"
      },
      "source": [
        "## Functions"
      ]
    },
    {
      "cell_type": "code",
      "metadata": {
        "id": "pDlBRpMRVNnu"
      },
      "source": [
        "def genemod_histograms_by_cell(data, \n",
        "                               info,\n",
        "                               cellinfo,\n",
        "                               cell_order,\n",
        "                               target,\n",
        "                               level='level5', \n",
        "                               xlim=[-10, 10],\n",
        "                               ylim=[0,10], \n",
        "                               metric_label='Normalized expression', \n",
        "                               plot_title=''):\n",
        "    dist_list = []\n",
        "    lineage_list = []\n",
        "\n",
        "    subplot_size = 5\n",
        "    nrows, ncols = get_subplot_dimensions(len(cell_order))\n",
        "    fig_dist, axes_dist = plt.subplots(nrows, ncols, figsize=(subplot_size*ncols,subplot_size*nrows))\n",
        "\n",
        "    for i,cell in enumerate(cell_order):\n",
        "        lineage = cellinfo.loc[\n",
        "              cellinfo.cell_iname.eq(cell)\n",
        "            ].cell_lineage.unique()[0]  #Lineage information for cell line\n",
        "\n",
        "        if level == 'level5':\n",
        "          cell_sig_ids = info.loc[\n",
        "            info.cell_iname.eq(cell)\n",
        "          ].sig_id.unique()  #Get sig_ids for cell line\n",
        "        elif level == 'level3':\n",
        "          cell_sig_ids = info.loc[\n",
        "            info.cell_iname.eq(cell)\n",
        "          ].sample_id.unique()  #Get sig_ids for cell line\n",
        "        \n",
        "        cell_genemod = data.loc[str(target_gene_id), cell_sig_ids] #Extract correlations for cell line\n",
        "  \n",
        "        sns.histplot(cell_genemod, \n",
        "                    binwidth=0.1,\n",
        "                    ax=axes_dist[i // ncols][i % ncols])\n",
        "        \n",
        "        axes_dist[i // ncols][i % ncols].set_title(\n",
        "          '{} ({})'.format(\n",
        "              cell, \n",
        "              lineage\n",
        "            )\n",
        "          )\n",
        "        axes_dist[i // ncols][i % ncols].set_xlim(xlim)\n",
        "        axes_dist[i // ncols][i % ncols].set_ylim(ylim)\n",
        "        axes_dist[i // ncols][i % ncols].set_xlabel('{} for {}'.format(metric_label, target))\n",
        "\n",
        "    plt.tight_layout(rect=[0, 0.03, 1, 0.95])\n",
        "    plt.suptitle(plot_title, fontsize=15)\n",
        "    plt.show()\n",
        "\n",
        "\n",
        "\n",
        "def genemod_boxplot_by_cell(data, \n",
        "                            info,\n",
        "                            cellinfo,\n",
        "                            cell_order,\n",
        "                            target,\n",
        "                            colors_list = ['brown', 'red', 'orange', 'red', 'magenta', 'blue', 'cyan', 'green', 'green'],\n",
        "                            level='level3', \n",
        "                            ylim=[0,14],\n",
        "                            metric_label='Normalized expression',\n",
        "                            plot_title=''):\n",
        "    dist_list = []\n",
        "    lineage_list = []\n",
        "\n",
        "    for i,cell in enumerate(cell_order):\n",
        "        lineage = cellinfo.loc[\n",
        "              cellinfo.cell_iname.eq(cell)\n",
        "            ].cell_lineage.unique()[0]  #Lineage information for cell line\n",
        "        lineage_list.append(lineage)\n",
        "\n",
        "        if level == 'level5':\n",
        "          cell_sig_ids = info.loc[\n",
        "            info.cell_iname.eq(cell)\n",
        "          ].sig_id.unique()  #Get sig_ids for cell line\n",
        "        elif level == 'level3':\n",
        "          cell_sig_ids = info.loc[\n",
        "            info.cell_iname.eq(cell)\n",
        "          ].sample_id.unique()  #Get sig_ids for cell line\n",
        "        \n",
        "        cell_genemod = data.loc[str(target_gene_id), cell_sig_ids] #Extract correlations for cell line\n",
        "        dist_list.append(cell_genemod)\n",
        "\n",
        "    plt.figure(figsize=(10,10))\n",
        "    colors_list = ['brown', 'red', 'orange', 'red', 'magenta', 'blue', 'cyan', 'green', 'green'] #manual coloring by cell_lineage\n",
        "\n",
        "    sns.boxplot(\n",
        "        data=dist_list,\n",
        "        palette=colors_list\n",
        "        )\n",
        "\n",
        "    labels = ['{}\\n({})'.format(cell_list[i], lineage_list[i]) for i in range(0,len(cell_list))]\n",
        "    plt.xticks(np.linspace(0,len(cell_list)-1, len(cell_list)), labels)\n",
        "\n",
        "    plt.ylabel('{} {}'.format(target, metric_label))\n",
        "    plt.xlabel('Cell Line')\n",
        "    plt.ylim(ylim)\n",
        "    plt.title(plot_title)\n",
        "    plt.show()\n"
      ],
      "execution_count": null,
      "outputs": []
    },
    {
      "cell_type": "markdown",
      "metadata": {
        "id": "KrrRIYOrdCAK"
      },
      "source": [
        "## Level 5 Gene Mod"
      ]
    },
    {
      "cell_type": "markdown",
      "metadata": {
        "id": "wdLOx1_Mxj5o"
      },
      "source": [
        "Take a look the level 5 gene modulation of the target "
      ]
    },
    {
      "cell_type": "code",
      "metadata": {
        "id": "5WqDqQB-xbml"
      },
      "source": [
        "target = 'NR3C1'\n",
        "target_info = cmap_query.cmap_genes(bq_client, gene_symbol='NR3C1')\n",
        "target_gene_id = target_info.gene_id.item()"
      ],
      "execution_count": null,
      "outputs": []
    },
    {
      "cell_type": "markdown",
      "metadata": {
        "id": "tWLNXuJodYHg"
      },
      "source": [
        "### Histograms"
      ]
    },
    {
      "cell_type": "code",
      "metadata": {
        "id": "YtxZC9ozzjT8"
      },
      "source": [
        "sample_data = sample_data_numerical.data_df\n",
        "\n",
        "cell_sig_ids = siginfo_sample.loc[\n",
        "  siginfo_sample.cell_iname.eq('MCF7')\n",
        "].sig_id.unique()  #Get sig_ids for cell line\n",
        "\n",
        "global_genemod = sample_data.loc[str(target_gene_id), :] #Extract correlations for target\n",
        "sns.histplot(global_genemod, \n",
        "              binwidth=0.1).set_xlim(-10, 10)\n",
        "\n",
        "plt.title('Global {} expression in core cell lines'.format(target))\n",
        "plt.xlabel('Mod Z-Score for {}'.format(target))\n",
        "plt.show()"
      ],
      "execution_count": null,
      "outputs": []
    },
    {
      "cell_type": "code",
      "metadata": {
        "id": "PmDaRe6kdcdQ"
      },
      "source": [
        "genemod_histograms_by_cell(sample_data, \n",
        "                           siginfo_sample, \n",
        "                           core_cellinfo, \n",
        "                           cell_list,\n",
        "                           target=target, \n",
        "                           level='level5',\n",
        "                           xlim=[-5,5],\n",
        "                           metric_label='Mod Z-Scores',\n",
        "                           plot_title='Distribution of Mod Z-Score values in Glucocorticoid Recepter Agonist treated wells')"
      ],
      "execution_count": null,
      "outputs": []
    },
    {
      "cell_type": "code",
      "metadata": {
        "id": "P02rxn3peI0i"
      },
      "source": [
        "genemod_boxplot_by_cell(sample_data, \n",
        "                           siginfo_sample, \n",
        "                           core_cellinfo, \n",
        "                           cell_list,\n",
        "                           target=target, \n",
        "                           level='level5',\n",
        "                           metric_label='Normalized expression', \n",
        "                           ylim=[-10, 10],\n",
        "                           plot_title='Distribution of NR3C1 mod z-scores in Glucocorticoid Recepter Agonist treated wells')"
      ],
      "execution_count": null,
      "outputs": []
    },
    {
      "cell_type": "markdown",
      "metadata": {
        "id": "qRWddbnJtnf5"
      },
      "source": [
        "## Comparison of Normalized Gene Expression (level 3) profiles \n",
        "\n",
        "\n"
      ]
    },
    {
      "cell_type": "markdown",
      "metadata": {
        "id": "6ee5gBYbttMd"
      },
      "source": [
        "Within the siginfo table, a few fields can be used to track down the level 3 and 4 profiles that were collapsed into the level 5 signature. \n",
        "\n",
        "\n",
        "1. First is `distil_ids` which is a concatenation of `sample_id` values from the `instinfo` table. sample_ids can be recovered by splitting by the `|` delimiter\n",
        "\n",
        "2. The `det_plates` field specifies which detection plate a profile was treated. In the `siginfo` table, this is often a concatenation of multiple values delimited by `|`. This can be useful for identifying control wells that from the same treatment plates as the treated wells.\n"
      ]
    },
    {
      "cell_type": "code",
      "metadata": {
        "id": "fJxJlJXZ3Jgc"
      },
      "source": [
        "siginfo_sample.sample(5)[['distil_ids', 'det_plates']]"
      ],
      "execution_count": null,
      "outputs": []
    },
    {
      "cell_type": "code",
      "metadata": {
        "id": "bQpITAwotetN"
      },
      "source": [
        "distil_ids = siginfo_sample.apply(lambda row: row['distil_ids'].split('|'), axis=1)\n",
        "sample_ids = [sample for id_list in distil_ids for sample in id_list]"
      ],
      "execution_count": null,
      "outputs": []
    },
    {
      "cell_type": "code",
      "metadata": {
        "id": "Q53PypTFxxNW"
      },
      "source": [
        "print(\"Number of sig_ids: {}\".format(len(siginfo_sample)))\n",
        "print(\"Number of sample_ids: {}\".format(len(sample_ids)))"
      ],
      "execution_count": null,
      "outputs": []
    },
    {
      "cell_type": "code",
      "metadata": {
        "id": "FqfRom7g0FJl"
      },
      "source": [
        "instinfo = cmap_query.cmap_profiles(bq_client, sample_id=sample_ids)"
      ],
      "execution_count": null,
      "outputs": []
    },
    {
      "cell_type": "code",
      "metadata": {
        "id": "TcdNZC8P0H0I"
      },
      "source": [
        "instinfo.sample(10)"
      ],
      "execution_count": null,
      "outputs": []
    },
    {
      "cell_type": "markdown",
      "metadata": {
        "id": "mtH6h-zO3iIL"
      },
      "source": [
        "### Get Level 3 data"
      ]
    },
    {
      "cell_type": "code",
      "metadata": {
        "id": "4B6M8XXU1n3X"
      },
      "source": [
        "level3_data = cmap_query.cmap_matrix(bq_client, data_level='level3', cid=instinfo.sample_id.to_list(), limit=len(instinfo))"
      ],
      "execution_count": null,
      "outputs": []
    },
    {
      "cell_type": "code",
      "metadata": {
        "id": "W6c_ZbFgOEdB"
      },
      "source": [
        "level3_clustered_matrix = cluster_corr(level3_data.data_df.corr())"
      ],
      "execution_count": null,
      "outputs": []
    },
    {
      "cell_type": "code",
      "metadata": {
        "id": "iJbRBAeg5ol1"
      },
      "source": [
        "global_genemod = level3_data.data_df.loc[str(target_gene_id), :] #Extract correlations for cell line\n",
        "sns.histplot(global_genemod, \n",
        "              binwidth=0.1)\n",
        "\n",
        "plt.title('Global {} expression in core cell lines'.format(target))\n",
        "plt.xlabel('Mod Z-Score for {}'.format(target))\n",
        "plt.show()"
      ],
      "execution_count": null,
      "outputs": []
    },
    {
      "cell_type": "markdown",
      "metadata": {
        "id": "XXTzBoUqEQWP"
      },
      "source": [
        "### Histograms"
      ]
    },
    {
      "cell_type": "code",
      "metadata": {
        "id": "_ABBuNSHRMh0"
      },
      "source": [
        "genemod_histograms_by_cell(level3_data.data_df,\n",
        "                           instinfo,\n",
        "                           core_cellinfo,\n",
        "                           cell_order=cell_list,\n",
        "                           target=target,\n",
        "                           level='level3',\n",
        "                           xlim=[0, 14],\n",
        "                           ylim=None,\n",
        "                           metric_label='Normalized expression', \n",
        "                           plot_title='Distribution of normalized expression in Glucocorticoid Recepter Agonist treated wells')"
      ],
      "execution_count": null,
      "outputs": []
    },
    {
      "cell_type": "markdown",
      "metadata": {
        "id": "w5JVXObkEQWO"
      },
      "source": [
        "### Boxplots"
      ]
    },
    {
      "cell_type": "code",
      "metadata": {
        "id": "EJdIX24gXET-"
      },
      "source": [
        "genemod_boxplot_by_cell(level3_data.data_df,\n",
        "                           instinfo,\n",
        "                           core_cellinfo,\n",
        "                           cell_order=cell_list,\n",
        "                           target=target,\n",
        "                           level='level3',\n",
        "                           metric_label='Normalized expression', \n",
        "                           plot_title='Distribution of normalized expression in Glucocorticoid Recepter Agonist treated wells')"
      ],
      "execution_count": null,
      "outputs": []
    },
    {
      "cell_type": "markdown",
      "metadata": {
        "id": "C3AqYJupXJDq"
      },
      "source": [
        "## Comparison of Target Gene Expression in Control Wells"
      ]
    },
    {
      "cell_type": "markdown",
      "metadata": {
        "id": "ngdwMnnp6Q3a"
      },
      "source": [
        "### Getting data for control wells within the same plate as treatements"
      ]
    },
    {
      "cell_type": "code",
      "metadata": {
        "id": "mAxj51176Tqd"
      },
      "source": [
        "print(\"Number of unique plates: {}\".format(len(instinfo.det_plate.unique())))"
      ],
      "execution_count": null,
      "outputs": []
    },
    {
      "cell_type": "code",
      "metadata": {
        "id": "bsOXcQDU7evw"
      },
      "source": [
        "types = [\n",
        "         'ctl_vehicle', \n",
        "#         'ctl_untrt'\n",
        "    ]\n",
        "\n",
        "ctl_instinfo = cmap_query.cmap_profiles(bq_client, pert_type=types , det_plate=list(instinfo.det_plate.unique()))\n",
        "\n",
        "print(\"Length of ctl instinfo: {}\".format(len(ctl_instinfo)))"
      ],
      "execution_count": null,
      "outputs": []
    },
    {
      "cell_type": "code",
      "metadata": {
        "id": "dIcQ4g_ge6GU"
      },
      "source": [
        "ctl_instinfo.sample(10)"
      ],
      "execution_count": null,
      "outputs": []
    },
    {
      "cell_type": "code",
      "metadata": {
        "id": "gM65Be8gez6S"
      },
      "source": [
        "ctl_data = cmap_query.cmap_matrix(bq_client, data_level='level3', cid=list(ctl_instinfo.sample_id), limit=10000)\n",
        "\n",
        "target_ctl_genemod = ctl_data.data_df.loc[str(target_gene_id), :]"
      ],
      "execution_count": null,
      "outputs": []
    },
    {
      "cell_type": "markdown",
      "metadata": {
        "id": "4tjPntQaXUV_"
      },
      "source": [
        "### Histograms"
      ]
    },
    {
      "cell_type": "code",
      "metadata": {
        "id": "r3kPJ9v_Vu2Y"
      },
      "source": [
        "sns.histplot(target_ctl_genemod, \n",
        "              binwidth=0.1)\n",
        "\n",
        "plt.title('Distribution of normalized expression\\n values for {} in core cell lines'.format(target))\n",
        "plt.xlabel('Normalized expression values for {}'.format(target))\n",
        "plt.show()"
      ],
      "execution_count": null,
      "outputs": []
    },
    {
      "cell_type": "code",
      "metadata": {
        "id": "0crJRQEfTGo6"
      },
      "source": [
        "genemod_histograms_by_cell(ctl_data.data_df,\n",
        "                           ctl_instinfo,\n",
        "                           core_cellinfo,\n",
        "                           cell_list,\n",
        "                           target=target,\n",
        "                           level='level3',\n",
        "                           xlim=[0,14], ylim=None,\n",
        "                           metric_label='normalized expression',\n",
        "                           plot_title='Distribution of Normalized expression in Control Wells')"
      ],
      "execution_count": null,
      "outputs": []
    },
    {
      "cell_type": "markdown",
      "metadata": {
        "id": "tHZLt-MwXQdY"
      },
      "source": [
        "### Boxplots"
      ]
    },
    {
      "cell_type": "code",
      "metadata": {
        "id": "pb86RL869lgp"
      },
      "source": [
        "genemod_boxplot_by_cell(ctl_data.data_df,\n",
        "                           ctl_instinfo,\n",
        "                           core_cellinfo,\n",
        "                           cell_order=cell_list,\n",
        "                           target=target,\n",
        "                           level='level3',\n",
        "                           metric_label='Normalized expression',\n",
        "                           plot_title='Distribution of Normalized expression in Control Wells')"
      ],
      "execution_count": null,
      "outputs": []
    }
  ]
}