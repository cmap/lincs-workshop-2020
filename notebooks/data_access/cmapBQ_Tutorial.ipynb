{
  "nbformat": 4,
  "nbformat_minor": 0,
  "metadata": {
    "colab": {
      "name": "cmapBQ Documentation",
      "provenance": [],
      "collapsed_sections": [
        "9BzY-ZW3Dq7k",
        "S_wNgSQrDnqH",
        "titAMjiCDnqX"
      ],
      "toc_visible": true,
      "include_colab_link": true
    },
    "kernelspec": {
      "name": "python3",
      "display_name": "Python 3"
    }
  },
  "cells": [
    {
      "cell_type": "markdown",
      "metadata": {
        "id": "view-in-github",
        "colab_type": "text"
      },
      "source": [
        "<a href=\"https://colab.research.google.com/github/cmap/lincs-workshop-2020/blob/main/notebooks/data_access/cmapBQ_Tutorial.ipynb\" target=\"_parent\"><img src=\"https://colab.research.google.com/assets/colab-badge.svg\" alt=\"Open In Colab\"/></a>"
      ]
    },
    {
      "cell_type": "markdown",
      "metadata": {
        "id": "w7oG5TjDZKOK"
      },
      "source": [
        "# cmapBQ Tutorial"
      ]
    },
    {
      "cell_type": "markdown",
      "metadata": {
        "id": "0iXUbyR1ML2A"
      },
      "source": [
        "Tutorial notebook for the `cmapBQ` package. `cmapBQ` allows for targeted retrieval of relevant gene expression data from the resources provided by The Broad Institute and LINCS Project\n"
      ]
    },
    {
      "cell_type": "markdown",
      "metadata": {
        "id": "IUUKrJiWMqSb"
      },
      "source": [
        "Documentation available on [Read The Docs](https://cmapbq.readthedocs.io)\n",
        "\n",
        "Source code available on [Github](https://github.com/cmap/cmapBQ/)"
      ]
    },
    {
      "cell_type": "markdown",
      "metadata": {
        "id": "Zv3qnyFcZErE"
      },
      "source": [
        "## Setup"
      ]
    },
    {
      "cell_type": "markdown",
      "metadata": {
        "id": "9BzY-ZW3Dq7k"
      },
      "source": [
        "### Package installation"
      ]
    },
    {
      "cell_type": "markdown",
      "metadata": {
        "id": "M_QOAzWJxCuM"
      },
      "source": [
        "The cmapBQ package is available from `pip` and can be installed using the command below. Documentation is available on [Read The Docs](https://cmapbq.readthedocs.io/en/latest/)"
      ]
    },
    {
      "cell_type": "code",
      "metadata": {
        "id": "BOWAFnXQD3Xs"
      },
      "source": [
        "!pip -q install --upgrade cmapBQ"
      ],
      "execution_count": null,
      "outputs": []
    },
    {
      "cell_type": "markdown",
      "metadata": {
        "id": "S_wNgSQrDnqH"
      },
      "source": [
        "### Standard Imports"
      ]
    },
    {
      "cell_type": "code",
      "metadata": {
        "ExecuteTime": {
          "end_time": "2020-10-16T15:08:01.975360Z",
          "start_time": "2020-10-16T15:08:01.326791Z"
        },
        "id": "KwESkecNDnqK"
      },
      "source": [
        "import os\n",
        "import pandas as pd\n",
        "import numpy as np\n",
        "import seaborn as sns\n",
        "import requests\n",
        "\n",
        "import matplotlib.pyplot as plt\n",
        "\n",
        "#%load_ext google.colab.data_table #For Google Colab"
      ],
      "execution_count": null,
      "outputs": []
    },
    {
      "cell_type": "markdown",
      "metadata": {
        "ExecuteTime": {
          "end_time": "2020-10-16T15:08:01.975360Z",
          "start_time": "2020-10-16T15:08:01.326791Z"
        },
        "id": "titAMjiCDnqX"
      },
      "source": [
        "### Credentials Setup and Package imports"
      ]
    },
    {
      "cell_type": "markdown",
      "metadata": {
        "id": "bnSqb7pda1R2"
      },
      "source": [
        "Getting demo credentials from S3. To access BigQuery, a service account JSON credentials file must be obtained. Running the `cmap.config.setup_credentials(credentials_path)` function will point the toolkit to the credentials connected to your Google Account. \n",
        "\n",
        "More information about service accounts are available here: [Getting started with authentication](https://cloud.google.com/docs/authentication/getting-started)"
      ]
    },
    {
      "cell_type": "code",
      "metadata": {
        "id": "U4lQS63voy4C"
      },
      "source": [
        "\"\"\" Delete line if without Google Cloud credentials\n",
        "\n",
        "import requests\n",
        "\n",
        "# URL with credentials\n",
        "url = ('https://s3.amazonaws.com/data.clue.io/api/bq_creds/BQ-demo-credentials.json')\n",
        "\n",
        "response = requests.get(url)\n",
        "credentials_filepath='/content/BQ-demo-credentials.json'\n",
        "\n",
        "with open(credentials_filepath, 'w') as f:\n",
        "  f.write(response.text)\n",
        "\n",
        "\"\"\""
      ],
      "execution_count": null,
      "outputs": []
    },
    {
      "cell_type": "markdown",
      "metadata": {
        "id": "j79uwWIsa48M"
      },
      "source": [
        "Pointing cmapBQ to credentials file"
      ]
    },
    {
      "cell_type": "code",
      "metadata": {
        "ExecuteTime": {
          "end_time": "2020-10-16T15:08:01.975360Z",
          "start_time": "2020-10-16T15:08:01.326791Z"
        },
        "id": "CtzQMe-aDnqZ"
      },
      "source": [
        "import cmapBQ.query as cmap_query\n",
        "import cmapBQ.config as cmap_config\n",
        "\n",
        "#credentials_filepath='/content/YOUR_JSON_KEY.json'\n",
        "# Set up credentials\n",
        "cmap_config.setup_credentials(credentials_filepath)\n",
        "bq_client = cmap_config.get_bq_client()"
      ],
      "execution_count": null,
      "outputs": []
    },
    {
      "cell_type": "markdown",
      "metadata": {
        "id": "XWPNh_l-7t6_"
      },
      "source": [
        "# Metadata Overview"
      ]
    },
    {
      "cell_type": "markdown",
      "metadata": {
        "id": "pUuU-66H-Zzo"
      },
      "source": [
        "![](https://raw.githubusercontent.com/cmap/lincs-workshop-2020/main/assets/BQ_metadata_schema.jpg)"
      ]
    },
    {
      "cell_type": "markdown",
      "metadata": {
        "id": "LMA5uHXtB7V8"
      },
      "source": [
        "## BigQuery Table Information"
      ]
    },
    {
      "cell_type": "markdown",
      "metadata": {
        "id": "7Erxfh69Dnqz"
      },
      "source": [
        "### The data hosted on BigQuery is organized in the following tables\n",
        "\n",
        "<div style=\"font-size: 10pt;line-height:18px;font-weight:normal\">\n",
        "    \n",
        "**compoundinfo:** <br> Metadata for all unique compounds included in the data release. Each row contains information about a unique compound such as MoA, target, etc. \n",
        "    \n",
        "**instinfo:**  <br> Sample level metadata includes information for each replicate including experimental parameters such as timepoint and dose\n",
        "\n",
        "**siginfo:**  <br> Signature (replicate collapsed) level 5 metadata. Includes experimental parameters such as timepoint and dose as well as metrics for bioactivity such as `tas` for [Transcriptional Activity Score](https://clue.io/connectopedia/signature_quality_metrics) and `cc_q75` for Replicate Correlation\n",
        "\n",
        "**L1000 Level3:**  <br> Gene expression (GEX, Level 2) are normalized to invariant gene set curves and quantile normalized across each plate. Here, the data from each perturbagen treatment is referred to as a profile, experiment, or instance. Additional values for 11,350 additional genes not directly measured in the L10000 assay are inferred based on the normalized values for the 978 landmark genes.\n",
        "\n",
        "    \n",
        "**L1000 Level4:**  <br> Z-scores for each gene based on Level 3 with respect to the entire plate population. This comparison of profiles to their appropriate population control generates a list of differentially expressed genes.\n",
        "\n",
        "**L1000 Level5:** <br> Replicate-collapsed z-score vectors based on Level 4. Replicate collapse generates one differential expression vector, which we term a signature. Connectivity analyses are performed on signatures.\n",
        "    \n",
        "**geneinfo:** <br> Metadata for gene_ids included in the data release. Each row contains mappings between gene_symbol, ensemble_id, gene_id as well as information about gene_type\n",
        "\n",
        "**cellinfo:** <br> Metadata for cell lines included in the data release. Each row contains information such as cell_iname, ccle_name or cell_lineage\n",
        "\n",
        "**genetic_pertinfo**: <br> Contains information related to genetic perturbagens such as type ['oe', 'sh', 'xpr'] and relevant gene_id, ensemble_id \n"
      ]
    },
    {
      "cell_type": "markdown",
      "metadata": {
        "id": "nd9T22hXY5HF"
      },
      "source": [
        "# Data Access"
      ]
    },
    {
      "cell_type": "markdown",
      "metadata": {
        "id": "erfU4Fniqhwx"
      },
      "source": [
        "## Get Table Schema Information"
      ]
    },
    {
      "cell_type": "code",
      "metadata": {
        "id": "Z_HpGVk5qbok"
      },
      "source": [
        "cmap_query.list_tables()"
      ],
      "execution_count": null,
      "outputs": []
    },
    {
      "cell_type": "code",
      "metadata": {
        "id": "KWn3W1dsqTUQ"
      },
      "source": [
        "cmap_query.get_table_info(bq_client, 'cmap-big-table.cmap_lincs_public_views.compoundinfo') "
      ],
      "execution_count": null,
      "outputs": []
    },
    {
      "cell_type": "code",
      "metadata": {
        "id": "oQPtEl8axOsb"
      },
      "source": [
        "config = cmap_config.get_default_config()\n",
        "compoundinfo_table = config.tables.compoundinfo\n",
        "\n",
        "QUERY = ( 'SELECT moa, ' \n",
        "'COUNT(DISTINCT(pert_id)) AS count ' \n",
        "'FROM `cmap-big-table.cmap_lincs_public_views.compoundinfo` ' \n",
        "'GROUP BY moa')\n",
        "\n",
        "cmap_query.run_query(bq_client, QUERY).result().to_dataframe()"
      ],
      "execution_count": null,
      "outputs": []
    },
    {
      "cell_type": "markdown",
      "metadata": {
        "id": "8H7RQUqvSpWp"
      },
      "source": [
        "## Raw SQL Queries"
      ]
    },
    {
      "cell_type": "markdown",
      "metadata": {
        "id": "59rrOYcv_08C"
      },
      "source": [
        "`cmapBQ.query.list_tables()` function will display table adresses of default tables for usage in SQL queries"
      ]
    },
    {
      "cell_type": "code",
      "metadata": {
        "id": "yCMwFJvcSn-8"
      },
      "source": [
        "import cmapBQ.query as cmap_query\n",
        "\n",
        "cmap_query.list_tables()"
      ],
      "execution_count": null,
      "outputs": []
    },
    {
      "cell_type": "markdown",
      "metadata": {
        "id": "K55z8PJABDfe"
      },
      "source": [
        "Raw SQL queries can be run on the public datasets as shown below. Syntax follows that of Google Biqquery, available here: https://cloud.google.com/bigquery/docs/reference/standard-sql/query-syntax"
      ]
    },
    {
      "cell_type": "markdown",
      "metadata": {
        "id": "YVPmcb4mMIKh"
      },
      "source": [
        "Runs BigQuery query job.\n",
        "\n",
        "    cmapBQ.query.run_query(client, query)\n",
        "  \n",
        "    Parameters\n",
        "            client – BigQuery client object\n",
        "            query – Query to run as a string\n",
        "    Returns\n",
        "        QueryJob object\n",
        "\n"
      ]
    },
    {
      "cell_type": "markdown",
      "metadata": {
        "id": "VwHW62U7Z1bT"
      },
      "source": [
        "### Example SQL Query "
      ]
    },
    {
      "cell_type": "code",
      "metadata": {
        "id": "zCD_qgt4__T4"
      },
      "source": [
        "## This query may take up to a minute\n",
        "query = \"SELECT COUNT(DISTINCT(sig_id)) as num_level5_sigs FROM cmap-big-table.cmap_lincs_public_views.siginfo\"\n",
        "\n",
        "\n",
        "# a QueryJob object is returned which is why result() and to_dataframe() are required.\n",
        "cmap_query.run_query(query=query, client=bq_client).result().to_dataframe()"
      ],
      "execution_count": null,
      "outputs": []
    },
    {
      "cell_type": "markdown",
      "metadata": {
        "id": "Oolqo1qST_sV"
      },
      "source": [
        "## Functions -- Data Preview"
      ]
    },
    {
      "cell_type": "code",
      "metadata": {
        "id": "mO7S5cqVURJc"
      },
      "source": [
        "cmap_query.list_cmap_compounds(bq_client)"
      ],
      "execution_count": null,
      "outputs": []
    },
    {
      "cell_type": "code",
      "metadata": {
        "id": "3FSn99k9UHzx"
      },
      "source": [
        "cmap_query.list_cmap_targets(bq_client)"
      ],
      "execution_count": null,
      "outputs": []
    },
    {
      "cell_type": "code",
      "metadata": {
        "id": "o7egSxJCKJJx"
      },
      "source": [
        "cmap_query.list_cmap_moas(bq_client)"
      ],
      "execution_count": null,
      "outputs": []
    },
    {
      "cell_type": "markdown",
      "metadata": {
        "id": "OURvAVwX72NQ"
      },
      "source": [
        "## Functions -- Data Retrieval"
      ]
    },
    {
      "cell_type": "markdown",
      "metadata": {
        "id": "5dMPQapai1Xk"
      },
      "source": [
        "### cmap_cell"
      ]
    },
    {
      "cell_type": "markdown",
      "metadata": {
        "id": "RQVkrXJlrlYQ"
      },
      "source": [
        "Query cellinfo table\n",
        "\n",
        "    cmapBQ.query.cmap_cell(client, cell_iname=None, cell_alias=None, ccle_name=None, primary_disease=None, cell_lineage=None, cell_type=None, table=None, verbose=False)\n",
        "\n",
        "    Parameters\n",
        "            client – Bigquery Client\n",
        "            cell_iname – List of cell_inames\n",
        "            cell_alias – List of cell aliases\n",
        "            ccle_name – List of ccle_names\n",
        "            primary_disease – List of primary_diseases\n",
        "            cell_lineage – List of cell_lineages\n",
        "            cell_type – List of cell_types [link text](https://)\n",
        "            table – table to query. This by default points to the siginfo table and normally should not be changed.\n",
        "            verbose – Print query and table address.\n",
        "    Returns\n",
        "        Pandas DataFrame\n",
        "\n"
      ]
    },
    {
      "cell_type": "code",
      "metadata": {
        "id": "a3xJ_svGvpxs"
      },
      "source": [
        "cell_lineage = 'skin'\n",
        "core_cell_lines = ['A375', 'A549', 'HCC515', 'HEPG2', 'MCF7', 'PC3', 'VCAP', 'HT29', 'HA1E']\n",
        "\n",
        "cell_table = cmap_query.cmap_cell(\n",
        "    bq_client,\n",
        "    cell_iname = core_cell_lines, \n",
        "    primary_disease=None,\n",
        "#    cell_lineage=cell_lineage,\n",
        "    verbose=False\n",
        ")\n",
        "\n",
        "cell_table.head(10)"
      ],
      "execution_count": null,
      "outputs": []
    },
    {
      "cell_type": "markdown",
      "metadata": {
        "id": "kj5EGRk3s408"
      },
      "source": [
        "### cmap_genes"
      ]
    },
    {
      "cell_type": "markdown",
      "metadata": {
        "id": "6MlSHv7gs40-"
      },
      "source": [
        "**Query geneinfo table. Geneinfo contains information about genes including ids, symbols, types, ensembl_ids, etc.**\n",
        "\n",
        "    cmapBQ.query.cmap_genes(client, gene_id=None, gene_symbol=None, ensembl_id=None, gene_title=None, gene_type=None, feature_space='landmark', src=None, table=None, verbose=False)\n",
        "\n",
        "    Parameters\n",
        "          client – Bigquery Client\n",
        "          gene_id – list of gene_ids\n",
        "          gene_symbol – list of gene_symbols\n",
        "          ensembl_id – list of ensembl_ids\n",
        "          gene_title – list of gene_titles\n",
        "          gene_type – list of gene_types\n",
        "          feature_space –\n",
        "                Common featurespaces to extract. ‘rid’ overrides selection\n",
        "                Choices: [‘landmark’, ‘bing’, ‘aig’]\n",
        "                landmark: 978 landmark genes\n",
        "                bing: Best-inferred set of 10,174 genes\n",
        "                aig: All inferred genes including 12,328 genes\n",
        "                Default is landmark.\n",
        "          src – list of gene sources\n",
        "          table – table to query. This by default points to the siginfo table and normally should not be changed.\n",
        "          verbose – Print query and table address.\n",
        "    Returns\n",
        "          Pandas DataFrame"
      ]
    },
    {
      "cell_type": "code",
      "metadata": {
        "id": "tVF3BUsAGKbC"
      },
      "source": [
        "#small sample of genes\n",
        "gene_symbol_list = ['EGFR', 'NR3C1', 'MDM2']\n",
        "gene_id_list = [1956, 2908, 4193] \n",
        "\n",
        "gene_table = cmap_query.cmap_genes(\n",
        "    bq_client, \n",
        "    #gene_id=gene_id_list, \n",
        "    gene_symbol=gene_list, \n",
        "    #feature_space='landmark', \n",
        "    feature_space='aig',\n",
        "    #verbose=True\n",
        "  )\n",
        "\n",
        "gene_table"
      ],
      "execution_count": null,
      "outputs": []
    },
    {
      "cell_type": "markdown",
      "metadata": {
        "id": "4Tj3MDr4jChF"
      },
      "source": [
        "### cmap_genetic_perts"
      ]
    },
    {
      "cell_type": "markdown",
      "metadata": {
        "id": "QM2AYbTcp0Fq"
      },
      "source": [
        "**Query genetic_pertinfo table**\n",
        "\n",
        "\n",
        "    cmapBQ.query.cmap_genetic_perts(client, pert_id=None, cmap_name=None, gene_id=None, gene_title=None, ensemble_id=None, table=None, verbose=False)\n",
        "\n",
        "    Parameters\n",
        "            client – Bigquery Client\n",
        "            pert_id – List of pert_ids\n",
        "            cmap_name – List of cmap_names\n",
        "            gene_id – List of type INTEGER corresponding to gene_ids\n",
        "            gene_title – List of gene_titles\n",
        "            ensemble_id – List of ensumble_ids\n",
        "            table – table to query. This by default points to the siginfo table and normally should not be changed.\n",
        "            verbose – Print query and table address.\n",
        "    Returns: \n",
        "        Pandas Dataframe"
      ]
    },
    {
      "cell_type": "code",
      "metadata": {
        "id": "k7D-sakt0kwm"
      },
      "source": [
        "#small sample of genes\n",
        "gene_symbol_list = ['EGFR', 'NR3C1', 'MDM2']\n",
        "gene_id_list = [1956, 2908, 4193] \n",
        "\n",
        "genetic_perts_table = cmap_query.cmap_genetic_perts(bq_client,\n",
        "    pert_id=None,\n",
        "    cmap_name=None,\n",
        "    gene_id=gene_id_list,\n",
        "    gene_title=None,\n",
        "    verbose=True\n",
        ")\n",
        "\n",
        "genetic_perts_table.sample(10)"
      ],
      "execution_count": null,
      "outputs": []
    },
    {
      "cell_type": "markdown",
      "metadata": {
        "id": "nHoRzAxgigYy"
      },
      "source": [
        "### cmap_compounds"
      ]
    },
    {
      "cell_type": "markdown",
      "metadata": {
        "id": "Hp-Bfsa9qiWL"
      },
      "source": [
        "\n",
        "\n",
        "**Query compoundinfo table for various field by providing lists of compounds, moa, targets, etc. ‘AND’ operator used for multiple conditions.**\n",
        "\n",
        "\n",
        "    cmapBQ.query.cmap_compounds(client, pert_id=None, cmap_name=None, moa=None, target=None, compound_aliases=None, limit=None, verbose=False)\n",
        "\n",
        "    Parameters\n",
        "            client – BigQuery Client\n",
        "            pert_id – List of pert_ids\n",
        "            cmap_name – List of cmap_names\n",
        "            target – List of targets\n",
        "            moa – List of MoAs\n",
        "            compound_aliases – List of compound aliases\n",
        "            limit – Maximum number of rows to return\n",
        "            verbose – Print query and table address.\n",
        "    Returns\n",
        "        Pandas Dataframe matching queries"
      ]
    },
    {
      "cell_type": "code",
      "metadata": {
        "id": "QUwBjrU0tipq"
      },
      "source": [
        "target = 'EGFR'\n",
        "moa = 'EGFR inhibitor'\n",
        "\n",
        "compound_table = cmap_query.cmap_compounds(\n",
        "    bq_client,\n",
        "    pert_id=None,\n",
        "    cmap_name=None, \n",
        "    moa='MDM inhibitor', \n",
        "    target=None, \n",
        "    compound_aliases=None, \n",
        "    limit=None, \n",
        "    verbose=False\n",
        "  )\n",
        "\n",
        "compound_table\n",
        "## Do we need to be able to query by canonical smiles or inchi_keys? "
      ],
      "execution_count": null,
      "outputs": []
    },
    {
      "cell_type": "code",
      "metadata": {
        "id": "r9KsVZnB3uqq"
      },
      "source": [
        "compound_table.cmap_name.unique()"
      ],
      "execution_count": null,
      "outputs": []
    },
    {
      "cell_type": "markdown",
      "metadata": {
        "id": "4dwum4Enigme"
      },
      "source": [
        "### cmap_profiles"
      ]
    },
    {
      "cell_type": "markdown",
      "metadata": {
        "id": "onqAbYiUpVj9"
      },
      "source": [
        "**Query per sample metadata, corresponds to level 3 and level 4 data, AND operator used for multiple conditions.**\n",
        "\n",
        "    cmapBQ.query.cmap_profiles(client, sample_id=None, pert_id=None, cmap_name=None, cell_iname=None, build_name=None, return_fields='priority', limit=None, table=None, verbose=False)\n",
        "    \n",
        "    Parameters\n",
        "            client – Bigquery client\n",
        "            sample_id – list of sample_ids\n",
        "            pert_id – list of pert_ids\n",
        "            cmap_name – list of cmap_name\n",
        "            build_name – list of builds\n",
        "            return_fields – [‘priority’, ‘all’]\n",
        "            limit – Maximum number of rows to return\n",
        "            table – table to query. This by default points to the siginfo table and normally should not be changed.\n",
        "            verbose – Print query and table address.\n",
        "    Returns\n",
        "        Pandas Dataframe\n",
        "\n"
      ]
    },
    {
      "cell_type": "code",
      "metadata": {
        "id": "3g1hX79b3Pj7"
      },
      "source": [
        "list_of_sample_ids = [\n",
        "  ''\n",
        "]\n",
        "\n",
        "list_of_cmap_names = [\n",
        "    'afatinib',\n",
        "    'dacomitinib', \n",
        "    'dovitinib',\n",
        "    'erlotinib',\n",
        "    'gefitinib'\n",
        "]\n",
        "\n",
        "instinfo_table = cmap_query.cmap_profiles(\n",
        "    bq_client,\n",
        "    sample_id=None,\n",
        "    return_fields='all', \n",
        "    cmap_name=list_of_cmap_names \n",
        ")\n",
        "\n",
        "instinfo_table.head(10)"
      ],
      "execution_count": null,
      "outputs": []
    },
    {
      "cell_type": "markdown",
      "metadata": {
        "id": "DfPj_MZkicAZ"
      },
      "source": [
        "### cmap_sig"
      ]
    },
    {
      "cell_type": "markdown",
      "metadata": {
        "id": "jZ62FtoqoQT-"
      },
      "source": [
        "**Query level 5 metadata table**\n",
        "\n",
        "    cmapBQ.query.cmap_sig(client, sig_id=None, pert_id=None, cmap_name=None, cell_iname=None, build_name=None, return_fields='priority', limit=None, table=None, verbose=False)\n",
        "    Parameters\n",
        "            client – Bigquery Client\n",
        "            sig_id – list of sig_ids\n",
        "            pert_id – list of pert_ids\n",
        "            cmap_name – list of cmap_name, formerly pert_iname\n",
        "            cell_iname – list of cell names\n",
        "            build_name – list of builds\n",
        "            return_fields – [‘priority’, ‘all’]\n",
        "            limit – Maximum number of rows to return\n",
        "            table – table to query. This by default points to the level 5 siginfo table and normally should not be changed.\n",
        "            verbose – Print query and table address.\n",
        "    Returns\n",
        "        Pandas Dataframe\n",
        "\n"
      ]
    },
    {
      "cell_type": "code",
      "metadata": {
        "id": "PnIcvQEwrt8B"
      },
      "source": [
        "list_of_sig_ids = [\n",
        "  ''\n",
        "]\n",
        "\n",
        "list_of_cmap_names = [\n",
        "    'afatinib',\n",
        "    'dacomitinib', \n",
        "    'dovitinib',\n",
        "    'erlotinib',\n",
        "    'gefitinib'\n",
        "]\n",
        "\n",
        "\n",
        "siginfo_table = cmap_query.cmap_sig(\n",
        "    bq_client,\n",
        "    sig_id = None, \n",
        "    cell_iname = core_cell_lines, \n",
        "    cmap_name = list_of_cmap_names,\n",
        "    return_fields='priority'\n",
        ")\n",
        "\n"
      ],
      "execution_count": null,
      "outputs": []
    },
    {
      "cell_type": "code",
      "metadata": {
        "id": "8NT8aEuV_DpA"
      },
      "source": [
        ""
      ],
      "execution_count": null,
      "outputs": []
    },
    {
      "cell_type": "markdown",
      "metadata": {
        "id": "-SIWT2ebi3Qb"
      },
      "source": [
        "### cmap_matrix"
      ]
    },
    {
      "cell_type": "markdown",
      "metadata": {
        "id": "3JXryRQkqHoe"
      },
      "source": [
        "**Query for numerical data for signature-gene level data.**\n",
        "\n",
        "    cmapBQ.query.cmap_matrix(client, data_level='level5', feature_space='landmark', rid=None, cid=None, verbose=False, chunk_size=1000, table=None, limit=1000)\n",
        "\n",
        "    Parameters\n",
        "            client – Bigquery Client\n",
        "            data_level – Data level requested. IDs from siginfo file correspond to ‘level5’. Ids from instinfo are available in ‘level3’ and ‘level4’. Choices are [‘level5’, ‘level4’, ‘level3’]\n",
        "            rid – Row ids\n",
        "            cid – Column ids\n",
        "            verbose – Run in verbose mode\n",
        "            chunk_size – Runs queries in stages to avoid query character limit. Default 1,000\n",
        "            table – Table address to query. Overrides ‘data_level’ parameter. Generally should not be used.\n",
        "            verbose – Print query and table address.\n",
        "    Returns\n",
        "        GCToo object\n",
        "\n"
      ]
    },
    {
      "cell_type": "code",
      "metadata": {
        "id": "t3Ed6zVdEPhp"
      },
      "source": [
        "list_of_sig_ids = list(siginfo_table.sample(10)['sig_id'])\n",
        "list_of_sample_ids = list(instinfo_table.sample(10)['sample_id'])\n",
        "\n",
        "data = cmap_query.cmap_matrix(\n",
        "    bq_client,\n",
        "    cid=list_of_sample_ids,\n",
        "    rid=None,\n",
        "    feature_space='landmark',\n",
        "    data_level='level5'\n",
        ")\n",
        "\n",
        "data.data_df"
      ],
      "execution_count": null,
      "outputs": []
    }
  ]
}