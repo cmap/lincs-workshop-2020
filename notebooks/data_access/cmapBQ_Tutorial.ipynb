{
  "nbformat": 4,
  "nbformat_minor": 0,
  "metadata": {
    "colab": {
      "name": "cmapBQ Documentation",
      "provenance": [],
      "collapsed_sections": [
        "9BzY-ZW3Dq7k",
        "S_wNgSQrDnqH",
        "titAMjiCDnqX"
      ],
      "toc_visible": true,
      "include_colab_link": true
    },
    "kernelspec": {
      "name": "python3",
      "display_name": "Python 3"
    }
  },
  "cells": [
    {
      "cell_type": "markdown",
      "metadata": {
        "id": "view-in-github",
        "colab_type": "text"
      },
      "source": [
        "<a href=\"https://colab.research.google.com/github/cmap/lincs-workshop-2020/blob/main/notebooks/data_access/cmapBQ_Tutorial.ipynb\" target=\"_parent\"><img src=\"https://colab.research.google.com/assets/colab-badge.svg\" alt=\"Open In Colab\"/></a>"
      ]
    },
    {
      "cell_type": "markdown",
      "metadata": {
        "id": "w7oG5TjDZKOK"
      },
      "source": [
        "# cmapBQ Tutorial"
      ]
    },
    {
      "cell_type": "markdown",
      "metadata": {
        "id": "0iXUbyR1ML2A"
      },
      "source": [
        "Tutorial notebook for the `cmapBQ` package. `cmapBQ` allows for targeted retrieval of relevant gene expression data from the resources provided by The Broad Institute and LINCS Project\n"
      ]
    },
    {
      "cell_type": "markdown",
      "metadata": {
        "id": "IUUKrJiWMqSb"
      },
      "source": [
        "Documentation available on [Read The Docs](https://cmapbq.readthedocs.io)\n",
        "\n",
        "Source code available on [Github](https://github.com/cmap/cmapBQ/)"
      ]
    },
    {
      "cell_type": "markdown",
      "metadata": {
        "id": "Zv3qnyFcZErE"
      },
      "source": [
        "## Setup"
      ]
    },
    {
      "cell_type": "markdown",
      "metadata": {
        "id": "9BzY-ZW3Dq7k"
      },
      "source": [
        "### Package installation"
      ]
    },
    {
      "cell_type": "markdown",
      "metadata": {
        "id": "M_QOAzWJxCuM"
      },
      "source": [
        "The cmapBQ package is available from `pip` and can be installed using the command below. Documentation is available on [Read The Docs](https://cmapbq.readthedocs.io/en/latest/)"
      ]
    },
    {
      "cell_type": "code",
      "metadata": {
        "id": "BOWAFnXQD3Xs",
        "outputId": "005457e2-60ea-415c-9199-33329373f7f0",
        "colab": {
          "base_uri": "https://localhost:8080/"
        }
      },
      "source": [
        "!pip -q install --upgrade cmapBQ"
      ],
      "execution_count": 1,
      "outputs": [
        {
          "output_type": "stream",
          "text": [
            "\u001b[?25l\r\u001b[K     |██▏                             | 10kB 23.3MB/s eta 0:00:01\r\u001b[K     |████▍                           | 20kB 26.6MB/s eta 0:00:01\r\u001b[K     |██████▌                         | 30kB 26.8MB/s eta 0:00:01\r\u001b[K     |████████▊                       | 40kB 13.8MB/s eta 0:00:01\r\u001b[K     |███████████                     | 51kB 11.6MB/s eta 0:00:01\r\u001b[K     |█████████████                   | 61kB 10.4MB/s eta 0:00:01\r\u001b[K     |███████████████▎                | 71kB 5.7MB/s eta 0:00:01\r\u001b[K     |█████████████████▌              | 81kB 6.2MB/s eta 0:00:01\r\u001b[K     |███████████████████▋            | 92kB 6.2MB/s eta 0:00:01\r\u001b[K     |█████████████████████▉          | 102kB 6.5MB/s eta 0:00:01\r\u001b[K     |████████████████████████        | 112kB 6.5MB/s eta 0:00:01\r\u001b[K     |██████████████████████████▏     | 122kB 6.5MB/s eta 0:00:01\r\u001b[K     |████████████████████████████▍   | 133kB 6.5MB/s eta 0:00:01\r\u001b[K     |██████████████████████████████▌ | 143kB 6.5MB/s eta 0:00:01\r\u001b[K     |████████████████████████████████| 153kB 6.5MB/s \n",
            "\u001b[?25h"
          ],
          "name": "stdout"
        }
      ]
    },
    {
      "cell_type": "markdown",
      "metadata": {
        "id": "S_wNgSQrDnqH"
      },
      "source": [
        "### Standard Imports"
      ]
    },
    {
      "cell_type": "code",
      "metadata": {
        "ExecuteTime": {
          "end_time": "2020-10-16T15:08:01.975360Z",
          "start_time": "2020-10-16T15:08:01.326791Z"
        },
        "id": "KwESkecNDnqK"
      },
      "source": [
        "import os\n",
        "import pandas as pd\n",
        "import numpy as np\n",
        "import seaborn as sns\n",
        "import requests\n",
        "\n",
        "import matplotlib.pyplot as plt\n",
        "\n",
        "#%load_ext google.colab.data_table #For Google Colab"
      ],
      "execution_count": 2,
      "outputs": []
    },
    {
      "cell_type": "markdown",
      "metadata": {
        "ExecuteTime": {
          "end_time": "2020-10-16T15:08:01.975360Z",
          "start_time": "2020-10-16T15:08:01.326791Z"
        },
        "id": "titAMjiCDnqX"
      },
      "source": [
        "### Credentials Setup and Package imports"
      ]
    },
    {
      "cell_type": "markdown",
      "metadata": {
        "id": "bnSqb7pda1R2"
      },
      "source": [
        "Getting demo credentials from S3. To access BigQuery, a service account JSON credentials file must be obtained. Running the `cmap.config.setup_credentials(credentials_path)` function will point the toolkit to the credentials connected to your Google Account. \n",
        "\n",
        "More information about service accounts are available here: [Getting started with authentication](https://cloud.google.com/docs/authentication/getting-started)"
      ]
    },
    {
      "cell_type": "code",
      "metadata": {
        "id": "U4lQS63voy4C"
      },
      "source": [
        "\n",
        "import requests\n",
        "\n",
        "# URL with credentials\n",
        "url = ('https://s3.amazonaws.com/data.clue.io/api/bq_creds/BQ-demo-credentials.json')\n",
        "\n",
        "response = requests.get(url)\n",
        "credentials_filepath='/content/BQ-demo-credentials.json'\n",
        "\n",
        "with open(credentials_filepath, 'w') as f:\n",
        "  f.write(response.text)\n",
        "\n"
      ],
      "execution_count": 3,
      "outputs": []
    },
    {
      "cell_type": "markdown",
      "metadata": {
        "id": "j79uwWIsa48M"
      },
      "source": [
        "Pointing cmapBQ to credentials file"
      ]
    },
    {
      "cell_type": "code",
      "metadata": {
        "ExecuteTime": {
          "end_time": "2020-10-16T15:08:01.975360Z",
          "start_time": "2020-10-16T15:08:01.326791Z"
        },
        "id": "CtzQMe-aDnqZ"
      },
      "source": [
        "import cmapBQ.query as cmap_query\n",
        "import cmapBQ.config as cmap_config\n",
        "\n",
        "#credentials_filepath='/content/YOUR_JSON_KEY.json'\n",
        "# Set up credentials\n",
        "cmap_config.setup_credentials(credentials_filepath)\n",
        "bq_client = cmap_config.get_bq_client()"
      ],
      "execution_count": 4,
      "outputs": []
    },
    {
      "cell_type": "markdown",
      "metadata": {
        "id": "XWPNh_l-7t6_"
      },
      "source": [
        "# Metadata Overview"
      ]
    },
    {
      "cell_type": "markdown",
      "metadata": {
        "id": "pUuU-66H-Zzo"
      },
      "source": [
        "![](https://raw.githubusercontent.com/cmap/lincs-workshop-2020/main/assets/BQ_metadata_schema.jpg)"
      ]
    },
    {
      "cell_type": "markdown",
      "metadata": {
        "id": "LMA5uHXtB7V8"
      },
      "source": [
        "## BigQuery Table Information"
      ]
    },
    {
      "cell_type": "markdown",
      "metadata": {
        "id": "7Erxfh69Dnqz"
      },
      "source": [
        "### The data hosted on BigQuery is organized in the following tables\n",
        "\n",
        "<div style=\"font-size: 10pt;line-height:18px;font-weight:normal\">\n",
        "    \n",
        "**compoundinfo:** <br> Metadata for all unique compounds included in the data release. Each row contains information about a unique compound such as MoA, target, etc. \n",
        "    \n",
        "**instinfo:**  <br> Sample level metadata includes information for each replicate including experimental parameters such as timepoint and dose\n",
        "\n",
        "**siginfo:**  <br> Signature (replicate collapsed) level 5 metadata. Includes experimental parameters such as timepoint and dose as well as metrics for bioactivity such as `tas` for [Transcriptional Activity Score](https://clue.io/connectopedia/signature_quality_metrics) and `cc_q75` for Replicate Correlation\n",
        "\n",
        "**L1000 Level3:**  <br> Gene expression (GEX, Level 2) are normalized to invariant gene set curves and quantile normalized across each plate. Here, the data from each perturbagen treatment is referred to as a profile, experiment, or instance. Additional values for 11,350 additional genes not directly measured in the L10000 assay are inferred based on the normalized values for the 978 landmark genes.\n",
        "\n",
        "    \n",
        "**L1000 Level4:**  <br> Z-scores for each gene based on Level 3 with respect to the entire plate population. This comparison of profiles to their appropriate population control generates a list of differentially expressed genes.\n",
        "\n",
        "**L1000 Level5:** <br> Replicate-collapsed z-score vectors based on Level 4. Replicate collapse generates one differential expression vector, which we term a signature. Connectivity analyses are performed on signatures.\n",
        "    \n",
        "**geneinfo:** <br> Metadata for gene_ids included in the data release. Each row contains mappings between gene_symbol, ensemble_id, gene_id as well as information about gene_type\n",
        "\n",
        "**cellinfo:** <br> Metadata for cell lines included in the data release. Each row contains information such as cell_iname, ccle_name or cell_lineage\n",
        "\n",
        "**genetic_pertinfo**: <br> Contains information related to genetic perturbagens such as type ['oe', 'sh', 'xpr'] and relevant gene_id, ensemble_id \n"
      ]
    },
    {
      "cell_type": "markdown",
      "metadata": {
        "id": "nd9T22hXY5HF"
      },
      "source": [
        "# Data Access"
      ]
    },
    {
      "cell_type": "markdown",
      "metadata": {
        "id": "erfU4Fniqhwx"
      },
      "source": [
        "## Get Table Schema Information"
      ]
    },
    {
      "cell_type": "code",
      "metadata": {
        "id": "Z_HpGVk5qbok",
        "outputId": "b02a35be-d60f-4b18-c527-6caa8d6a863a",
        "colab": {
          "base_uri": "https://localhost:8080/"
        }
      },
      "source": [
        "cmap_query.list_tables()"
      ],
      "execution_count": 5,
      "outputs": [
        {
          "output_type": "stream",
          "text": [
            "cellinfo: cmap-big-table.cmap_lincs_public_views.cellinfo\n",
            "compoundinfo: cmap-big-table.cmap_lincs_public_views.compoundinfo\n",
            "geneinfo: cmap-big-table.cmap_lincs_public_views.geneinfo\n",
            "genetic_pertinfo: cmap-big-table.cmap_lincs_public_views.genetic_pertinfo\n",
            "instinfo: cmap-big-table.cmap_lincs_public_views.instinfo\n",
            "level3: cmap-big-table.cmap_lincs_public_views.L1000_Level3\n",
            "level4: cmap-big-table.cmap_lincs_public_views.L1000_Level4\n",
            "level5: cmap-big-table.cmap_lincs_public_views.L1000_Level5\n",
            "siginfo: cmap-big-table.cmap_lincs_public_views.siginfo\n"
          ],
          "name": "stdout"
        }
      ]
    },
    {
      "cell_type": "code",
      "metadata": {
        "id": "KWn3W1dsqTUQ",
        "outputId": "5fa0d0d8-7b38-41b1-9146-c802fd40dd77",
        "colab": {
          "base_uri": "https://localhost:8080/",
          "height": 269
        }
      },
      "source": [
        "cmap_query.get_table_info(bq_client, 'cmap-big-table.cmap_lincs_public_views.compoundinfo') "
      ],
      "execution_count": 6,
      "outputs": [
        {
          "output_type": "execute_result",
          "data": {
            "text/html": [
              "<div>\n",
              "<style scoped>\n",
              "    .dataframe tbody tr th:only-of-type {\n",
              "        vertical-align: middle;\n",
              "    }\n",
              "\n",
              "    .dataframe tbody tr th {\n",
              "        vertical-align: top;\n",
              "    }\n",
              "\n",
              "    .dataframe thead th {\n",
              "        text-align: right;\n",
              "    }\n",
              "</style>\n",
              "<table border=\"1\" class=\"dataframe\">\n",
              "  <thead>\n",
              "    <tr style=\"text-align: right;\">\n",
              "      <th></th>\n",
              "      <th>column_name</th>\n",
              "      <th>data_type</th>\n",
              "    </tr>\n",
              "  </thead>\n",
              "  <tbody>\n",
              "    <tr>\n",
              "      <th>0</th>\n",
              "      <td>pert_id</td>\n",
              "      <td>STRING</td>\n",
              "    </tr>\n",
              "    <tr>\n",
              "      <th>1</th>\n",
              "      <td>cmap_name</td>\n",
              "      <td>STRING</td>\n",
              "    </tr>\n",
              "    <tr>\n",
              "      <th>2</th>\n",
              "      <td>target</td>\n",
              "      <td>STRING</td>\n",
              "    </tr>\n",
              "    <tr>\n",
              "      <th>3</th>\n",
              "      <td>moa</td>\n",
              "      <td>STRING</td>\n",
              "    </tr>\n",
              "    <tr>\n",
              "      <th>4</th>\n",
              "      <td>canonical_smiles</td>\n",
              "      <td>STRING</td>\n",
              "    </tr>\n",
              "    <tr>\n",
              "      <th>5</th>\n",
              "      <td>inchi_key</td>\n",
              "      <td>STRING</td>\n",
              "    </tr>\n",
              "    <tr>\n",
              "      <th>6</th>\n",
              "      <td>compound_aliases</td>\n",
              "      <td>STRING</td>\n",
              "    </tr>\n",
              "  </tbody>\n",
              "</table>\n",
              "</div>"
            ],
            "text/plain": [
              "        column_name data_type\n",
              "0           pert_id    STRING\n",
              "1         cmap_name    STRING\n",
              "2            target    STRING\n",
              "3               moa    STRING\n",
              "4  canonical_smiles    STRING\n",
              "5         inchi_key    STRING\n",
              "6  compound_aliases    STRING"
            ]
          },
          "metadata": {
            "tags": []
          },
          "execution_count": 6
        }
      ]
    },
    {
      "cell_type": "code",
      "metadata": {
        "id": "oQPtEl8axOsb",
        "outputId": "790f6b89-c7d3-43e3-f792-ea62bef1176b",
        "colab": {
          "base_uri": "https://localhost:8080/",
          "height": 424
        }
      },
      "source": [
        "config = cmap_config.get_default_config()\n",
        "compoundinfo_table = config.tables.compoundinfo\n",
        "\n",
        "QUERY = ( 'SELECT moa, ' \n",
        "'COUNT(DISTINCT(pert_id)) AS count ' \n",
        "'FROM `cmap-big-table.cmap_lincs_public_views.compoundinfo` ' \n",
        "'GROUP BY moa')\n",
        "\n",
        "cmap_query.run_query(bq_client, QUERY).result().to_dataframe()"
      ],
      "execution_count": 7,
      "outputs": [
        {
          "output_type": "execute_result",
          "data": {
            "text/html": [
              "<div>\n",
              "<style scoped>\n",
              "    .dataframe tbody tr th:only-of-type {\n",
              "        vertical-align: middle;\n",
              "    }\n",
              "\n",
              "    .dataframe tbody tr th {\n",
              "        vertical-align: top;\n",
              "    }\n",
              "\n",
              "    .dataframe thead th {\n",
              "        text-align: right;\n",
              "    }\n",
              "</style>\n",
              "<table border=\"1\" class=\"dataframe\">\n",
              "  <thead>\n",
              "    <tr style=\"text-align: right;\">\n",
              "      <th></th>\n",
              "      <th>moa</th>\n",
              "      <th>count</th>\n",
              "    </tr>\n",
              "  </thead>\n",
              "  <tbody>\n",
              "    <tr>\n",
              "      <th>0</th>\n",
              "      <td>None</td>\n",
              "      <td>31262</td>\n",
              "    </tr>\n",
              "    <tr>\n",
              "      <th>1</th>\n",
              "      <td>CAR agonist</td>\n",
              "      <td>2</td>\n",
              "    </tr>\n",
              "    <tr>\n",
              "      <th>2</th>\n",
              "      <td>ALK inhibitor</td>\n",
              "      <td>7</td>\n",
              "    </tr>\n",
              "    <tr>\n",
              "      <th>3</th>\n",
              "      <td>Akt inhibitor</td>\n",
              "      <td>13</td>\n",
              "    </tr>\n",
              "    <tr>\n",
              "      <th>4</th>\n",
              "      <td>BCL inhibitor</td>\n",
              "      <td>11</td>\n",
              "    </tr>\n",
              "    <tr>\n",
              "      <th>...</th>\n",
              "      <td>...</td>\n",
              "      <td>...</td>\n",
              "    </tr>\n",
              "    <tr>\n",
              "      <th>653</th>\n",
              "      <td>Telomerase reverse transcriptase expression in...</td>\n",
              "      <td>1</td>\n",
              "    </tr>\n",
              "    <tr>\n",
              "      <th>654</th>\n",
              "      <td>Gonadotropin releasing factor hormone receptor...</td>\n",
              "      <td>2</td>\n",
              "    </tr>\n",
              "    <tr>\n",
              "      <th>655</th>\n",
              "      <td>Gonadotropin releasing factor hormone receptor...</td>\n",
              "      <td>1</td>\n",
              "    </tr>\n",
              "    <tr>\n",
              "      <th>656</th>\n",
              "      <td>Precursor for food preservatives, plasticizers...</td>\n",
              "      <td>1</td>\n",
              "    </tr>\n",
              "    <tr>\n",
              "      <th>657</th>\n",
              "      <td>Binding of RNA helicase A to the transcription...</td>\n",
              "      <td>1</td>\n",
              "    </tr>\n",
              "  </tbody>\n",
              "</table>\n",
              "<p>658 rows × 2 columns</p>\n",
              "</div>"
            ],
            "text/plain": [
              "                                                   moa  count\n",
              "0                                                 None  31262\n",
              "1                                          CAR agonist      2\n",
              "2                                        ALK inhibitor      7\n",
              "3                                        Akt inhibitor     13\n",
              "4                                        BCL inhibitor     11\n",
              "..                                                 ...    ...\n",
              "653  Telomerase reverse transcriptase expression in...      1\n",
              "654  Gonadotropin releasing factor hormone receptor...      2\n",
              "655  Gonadotropin releasing factor hormone receptor...      1\n",
              "656  Precursor for food preservatives, plasticizers...      1\n",
              "657  Binding of RNA helicase A to the transcription...      1\n",
              "\n",
              "[658 rows x 2 columns]"
            ]
          },
          "metadata": {
            "tags": []
          },
          "execution_count": 7
        }
      ]
    },
    {
      "cell_type": "markdown",
      "metadata": {
        "id": "8H7RQUqvSpWp"
      },
      "source": [
        "## Raw SQL Queries"
      ]
    },
    {
      "cell_type": "markdown",
      "metadata": {
        "id": "59rrOYcv_08C"
      },
      "source": [
        "`cmapBQ.query.list_tables()` function will display table adresses of default tables for usage in SQL queries"
      ]
    },
    {
      "cell_type": "code",
      "metadata": {
        "id": "yCMwFJvcSn-8",
        "outputId": "d07605f4-8b09-4e3e-9315-11549e0b0d35",
        "colab": {
          "base_uri": "https://localhost:8080/"
        }
      },
      "source": [
        "import cmapBQ.query as cmap_query\n",
        "\n",
        "cmap_query.list_tables()"
      ],
      "execution_count": 8,
      "outputs": [
        {
          "output_type": "stream",
          "text": [
            "cellinfo: cmap-big-table.cmap_lincs_public_views.cellinfo\n",
            "compoundinfo: cmap-big-table.cmap_lincs_public_views.compoundinfo\n",
            "geneinfo: cmap-big-table.cmap_lincs_public_views.geneinfo\n",
            "genetic_pertinfo: cmap-big-table.cmap_lincs_public_views.genetic_pertinfo\n",
            "instinfo: cmap-big-table.cmap_lincs_public_views.instinfo\n",
            "level3: cmap-big-table.cmap_lincs_public_views.L1000_Level3\n",
            "level4: cmap-big-table.cmap_lincs_public_views.L1000_Level4\n",
            "level5: cmap-big-table.cmap_lincs_public_views.L1000_Level5\n",
            "siginfo: cmap-big-table.cmap_lincs_public_views.siginfo\n"
          ],
          "name": "stdout"
        }
      ]
    },
    {
      "cell_type": "markdown",
      "metadata": {
        "id": "K55z8PJABDfe"
      },
      "source": [
        "Raw SQL queries can be run on the public datasets as shown below. Syntax follows that of Google Biqquery, available here: https://cloud.google.com/bigquery/docs/reference/standard-sql/query-syntax"
      ]
    },
    {
      "cell_type": "markdown",
      "metadata": {
        "id": "YVPmcb4mMIKh"
      },
      "source": [
        "Runs BigQuery query job.\n",
        "\n",
        "    cmapBQ.query.run_query(client, query)\n",
        "  \n",
        "    Parameters\n",
        "            client – BigQuery client object\n",
        "            query – Query to run as a string\n",
        "    Returns\n",
        "        QueryJob object\n",
        "\n"
      ]
    },
    {
      "cell_type": "markdown",
      "metadata": {
        "id": "VwHW62U7Z1bT"
      },
      "source": [
        "### Example SQL Query "
      ]
    },
    {
      "cell_type": "code",
      "metadata": {
        "id": "zCD_qgt4__T4",
        "outputId": "e8068dca-b537-405c-92ac-a5a7ceeeae66",
        "colab": {
          "base_uri": "https://localhost:8080/",
          "height": 81
        }
      },
      "source": [
        "## This query may take up to a minute\n",
        "query = \"SELECT COUNT(DISTINCT(sig_id)) as num_level5_sigs FROM cmap-big-table.cmap_lincs_public_views.siginfo\"\n",
        "\n",
        "\n",
        "# a QueryJob object is returned which is why result() and to_dataframe() are required.\n",
        "cmap_query.run_query(query=query, client=bq_client).result().to_dataframe()"
      ],
      "execution_count": 9,
      "outputs": [
        {
          "output_type": "execute_result",
          "data": {
            "text/html": [
              "<div>\n",
              "<style scoped>\n",
              "    .dataframe tbody tr th:only-of-type {\n",
              "        vertical-align: middle;\n",
              "    }\n",
              "\n",
              "    .dataframe tbody tr th {\n",
              "        vertical-align: top;\n",
              "    }\n",
              "\n",
              "    .dataframe thead th {\n",
              "        text-align: right;\n",
              "    }\n",
              "</style>\n",
              "<table border=\"1\" class=\"dataframe\">\n",
              "  <thead>\n",
              "    <tr style=\"text-align: right;\">\n",
              "      <th></th>\n",
              "      <th>num_level5_sigs</th>\n",
              "    </tr>\n",
              "  </thead>\n",
              "  <tbody>\n",
              "    <tr>\n",
              "      <th>0</th>\n",
              "      <td>1202656</td>\n",
              "    </tr>\n",
              "  </tbody>\n",
              "</table>\n",
              "</div>"
            ],
            "text/plain": [
              "   num_level5_sigs\n",
              "0          1202656"
            ]
          },
          "metadata": {
            "tags": []
          },
          "execution_count": 9
        }
      ]
    },
    {
      "cell_type": "markdown",
      "metadata": {
        "id": "Oolqo1qST_sV"
      },
      "source": [
        "## Functions -- Data Preview"
      ]
    },
    {
      "cell_type": "code",
      "metadata": {
        "id": "mO7S5cqVURJc",
        "outputId": "1a2a0c1c-f366-4d67-a2e0-fe6be5c0c381",
        "colab": {
          "base_uri": "https://localhost:8080/",
          "height": 424
        }
      },
      "source": [
        "cmap_query.list_cmap_compounds(bq_client)"
      ],
      "execution_count": 10,
      "outputs": [
        {
          "output_type": "execute_result",
          "data": {
            "text/html": [
              "<div>\n",
              "<style scoped>\n",
              "    .dataframe tbody tr th:only-of-type {\n",
              "        vertical-align: middle;\n",
              "    }\n",
              "\n",
              "    .dataframe tbody tr th {\n",
              "        vertical-align: top;\n",
              "    }\n",
              "\n",
              "    .dataframe thead th {\n",
              "        text-align: right;\n",
              "    }\n",
              "</style>\n",
              "<table border=\"1\" class=\"dataframe\">\n",
              "  <thead>\n",
              "    <tr style=\"text-align: right;\">\n",
              "      <th></th>\n",
              "      <th>cmap_name</th>\n",
              "    </tr>\n",
              "  </thead>\n",
              "  <tbody>\n",
              "    <tr>\n",
              "      <th>0</th>\n",
              "      <td>L-theanine</td>\n",
              "    </tr>\n",
              "    <tr>\n",
              "      <th>1</th>\n",
              "      <td>L-citrulline</td>\n",
              "    </tr>\n",
              "    <tr>\n",
              "      <th>2</th>\n",
              "      <td>BRD-A18795974</td>\n",
              "    </tr>\n",
              "    <tr>\n",
              "      <th>3</th>\n",
              "      <td>BRD-A27924917</td>\n",
              "    </tr>\n",
              "    <tr>\n",
              "      <th>4</th>\n",
              "      <td>BRD-A35931254</td>\n",
              "    </tr>\n",
              "    <tr>\n",
              "      <th>...</th>\n",
              "      <td>...</td>\n",
              "    </tr>\n",
              "    <tr>\n",
              "      <th>33622</th>\n",
              "      <td>TAS-301</td>\n",
              "    </tr>\n",
              "    <tr>\n",
              "      <th>33623</th>\n",
              "      <td>goserelin-acetate</td>\n",
              "    </tr>\n",
              "    <tr>\n",
              "      <th>33624</th>\n",
              "      <td>triptorelin</td>\n",
              "    </tr>\n",
              "    <tr>\n",
              "      <th>33625</th>\n",
              "      <td>T-98475</td>\n",
              "    </tr>\n",
              "    <tr>\n",
              "      <th>33626</th>\n",
              "      <td>benzoic-acid</td>\n",
              "    </tr>\n",
              "  </tbody>\n",
              "</table>\n",
              "<p>33627 rows × 1 columns</p>\n",
              "</div>"
            ],
            "text/plain": [
              "               cmap_name\n",
              "0             L-theanine\n",
              "1           L-citrulline\n",
              "2          BRD-A18795974\n",
              "3          BRD-A27924917\n",
              "4          BRD-A35931254\n",
              "...                  ...\n",
              "33622            TAS-301\n",
              "33623  goserelin-acetate\n",
              "33624        triptorelin\n",
              "33625            T-98475\n",
              "33626       benzoic-acid\n",
              "\n",
              "[33627 rows x 1 columns]"
            ]
          },
          "metadata": {
            "tags": []
          },
          "execution_count": 10
        }
      ]
    },
    {
      "cell_type": "code",
      "metadata": {
        "id": "3FSn99k9UHzx",
        "outputId": "601d7f0b-bf50-4b1a-f593-d0b848be651c",
        "colab": {
          "base_uri": "https://localhost:8080/",
          "height": 424
        }
      },
      "source": [
        "cmap_query.list_cmap_targets(bq_client)"
      ],
      "execution_count": 11,
      "outputs": [
        {
          "output_type": "execute_result",
          "data": {
            "text/html": [
              "<div>\n",
              "<style scoped>\n",
              "    .dataframe tbody tr th:only-of-type {\n",
              "        vertical-align: middle;\n",
              "    }\n",
              "\n",
              "    .dataframe tbody tr th {\n",
              "        vertical-align: top;\n",
              "    }\n",
              "\n",
              "    .dataframe thead th {\n",
              "        text-align: right;\n",
              "    }\n",
              "</style>\n",
              "<table border=\"1\" class=\"dataframe\">\n",
              "  <thead>\n",
              "    <tr style=\"text-align: right;\">\n",
              "      <th></th>\n",
              "      <th>target</th>\n",
              "      <th>count</th>\n",
              "    </tr>\n",
              "  </thead>\n",
              "  <tbody>\n",
              "    <tr>\n",
              "      <th>0</th>\n",
              "      <td>None</td>\n",
              "      <td>31262</td>\n",
              "    </tr>\n",
              "    <tr>\n",
              "      <th>1</th>\n",
              "      <td>NR1I3</td>\n",
              "      <td>3</td>\n",
              "    </tr>\n",
              "    <tr>\n",
              "      <th>2</th>\n",
              "      <td>ACVR1</td>\n",
              "      <td>3</td>\n",
              "    </tr>\n",
              "    <tr>\n",
              "      <th>3</th>\n",
              "      <td>AKT3</td>\n",
              "      <td>7</td>\n",
              "    </tr>\n",
              "    <tr>\n",
              "      <th>4</th>\n",
              "      <td>AKT1</td>\n",
              "      <td>10</td>\n",
              "    </tr>\n",
              "    <tr>\n",
              "      <th>...</th>\n",
              "      <td>...</td>\n",
              "      <td>...</td>\n",
              "    </tr>\n",
              "    <tr>\n",
              "      <th>886</th>\n",
              "      <td>WASL</td>\n",
              "      <td>1</td>\n",
              "    </tr>\n",
              "    <tr>\n",
              "      <th>887</th>\n",
              "      <td>EIF2S1</td>\n",
              "      <td>2</td>\n",
              "    </tr>\n",
              "    <tr>\n",
              "      <th>888</th>\n",
              "      <td>MTTP</td>\n",
              "      <td>1</td>\n",
              "    </tr>\n",
              "    <tr>\n",
              "      <th>889</th>\n",
              "      <td>HSD3B2</td>\n",
              "      <td>1</td>\n",
              "    </tr>\n",
              "    <tr>\n",
              "      <th>890</th>\n",
              "      <td>RAB9A</td>\n",
              "      <td>1</td>\n",
              "    </tr>\n",
              "  </tbody>\n",
              "</table>\n",
              "<p>891 rows × 2 columns</p>\n",
              "</div>"
            ],
            "text/plain": [
              "     target  count\n",
              "0      None  31262\n",
              "1     NR1I3      3\n",
              "2     ACVR1      3\n",
              "3      AKT3      7\n",
              "4      AKT1     10\n",
              "..      ...    ...\n",
              "886    WASL      1\n",
              "887  EIF2S1      2\n",
              "888    MTTP      1\n",
              "889  HSD3B2      1\n",
              "890   RAB9A      1\n",
              "\n",
              "[891 rows x 2 columns]"
            ]
          },
          "metadata": {
            "tags": []
          },
          "execution_count": 11
        }
      ]
    },
    {
      "cell_type": "code",
      "metadata": {
        "id": "o7egSxJCKJJx",
        "outputId": "c93cd1de-a6af-4e3f-c8f9-89bfbf599a9a",
        "colab": {
          "base_uri": "https://localhost:8080/",
          "height": 424
        }
      },
      "source": [
        "cmap_query.list_cmap_moas(bq_client)"
      ],
      "execution_count": 12,
      "outputs": [
        {
          "output_type": "execute_result",
          "data": {
            "text/html": [
              "<div>\n",
              "<style scoped>\n",
              "    .dataframe tbody tr th:only-of-type {\n",
              "        vertical-align: middle;\n",
              "    }\n",
              "\n",
              "    .dataframe tbody tr th {\n",
              "        vertical-align: top;\n",
              "    }\n",
              "\n",
              "    .dataframe thead th {\n",
              "        text-align: right;\n",
              "    }\n",
              "</style>\n",
              "<table border=\"1\" class=\"dataframe\">\n",
              "  <thead>\n",
              "    <tr style=\"text-align: right;\">\n",
              "      <th></th>\n",
              "      <th>moa</th>\n",
              "      <th>count</th>\n",
              "    </tr>\n",
              "  </thead>\n",
              "  <tbody>\n",
              "    <tr>\n",
              "      <th>0</th>\n",
              "      <td>None</td>\n",
              "      <td>31262</td>\n",
              "    </tr>\n",
              "    <tr>\n",
              "      <th>1</th>\n",
              "      <td>CAR agonist</td>\n",
              "      <td>2</td>\n",
              "    </tr>\n",
              "    <tr>\n",
              "      <th>2</th>\n",
              "      <td>ALK inhibitor</td>\n",
              "      <td>7</td>\n",
              "    </tr>\n",
              "    <tr>\n",
              "      <th>3</th>\n",
              "      <td>Akt inhibitor</td>\n",
              "      <td>13</td>\n",
              "    </tr>\n",
              "    <tr>\n",
              "      <th>4</th>\n",
              "      <td>BCL inhibitor</td>\n",
              "      <td>11</td>\n",
              "    </tr>\n",
              "    <tr>\n",
              "      <th>...</th>\n",
              "      <td>...</td>\n",
              "      <td>...</td>\n",
              "    </tr>\n",
              "    <tr>\n",
              "      <th>653</th>\n",
              "      <td>Telomerase reverse transcriptase expression in...</td>\n",
              "      <td>1</td>\n",
              "    </tr>\n",
              "    <tr>\n",
              "      <th>654</th>\n",
              "      <td>Gonadotropin releasing factor hormone receptor...</td>\n",
              "      <td>2</td>\n",
              "    </tr>\n",
              "    <tr>\n",
              "      <th>655</th>\n",
              "      <td>Gonadotropin releasing factor hormone receptor...</td>\n",
              "      <td>1</td>\n",
              "    </tr>\n",
              "    <tr>\n",
              "      <th>656</th>\n",
              "      <td>Precursor for food preservatives, plasticizers...</td>\n",
              "      <td>1</td>\n",
              "    </tr>\n",
              "    <tr>\n",
              "      <th>657</th>\n",
              "      <td>Binding of RNA helicase A to the transcription...</td>\n",
              "      <td>1</td>\n",
              "    </tr>\n",
              "  </tbody>\n",
              "</table>\n",
              "<p>658 rows × 2 columns</p>\n",
              "</div>"
            ],
            "text/plain": [
              "                                                   moa  count\n",
              "0                                                 None  31262\n",
              "1                                          CAR agonist      2\n",
              "2                                        ALK inhibitor      7\n",
              "3                                        Akt inhibitor     13\n",
              "4                                        BCL inhibitor     11\n",
              "..                                                 ...    ...\n",
              "653  Telomerase reverse transcriptase expression in...      1\n",
              "654  Gonadotropin releasing factor hormone receptor...      2\n",
              "655  Gonadotropin releasing factor hormone receptor...      1\n",
              "656  Precursor for food preservatives, plasticizers...      1\n",
              "657  Binding of RNA helicase A to the transcription...      1\n",
              "\n",
              "[658 rows x 2 columns]"
            ]
          },
          "metadata": {
            "tags": []
          },
          "execution_count": 12
        }
      ]
    },
    {
      "cell_type": "markdown",
      "metadata": {
        "id": "OURvAVwX72NQ"
      },
      "source": [
        "## Functions -- Data Retrieval"
      ]
    },
    {
      "cell_type": "markdown",
      "metadata": {
        "id": "5dMPQapai1Xk"
      },
      "source": [
        "### cmap_cell"
      ]
    },
    {
      "cell_type": "markdown",
      "metadata": {
        "id": "RQVkrXJlrlYQ"
      },
      "source": [
        "Query cellinfo table\n",
        "\n",
        "    cmapBQ.query.cmap_cell(client, cell_iname=None, cell_alias=None, ccle_name=None, primary_disease=None, cell_lineage=None, cell_type=None, table=None, verbose=False)\n",
        "\n",
        "    Parameters\n",
        "            client – Bigquery Client\n",
        "            cell_iname – List of cell_inames\n",
        "            cell_alias – List of cell aliases\n",
        "            ccle_name – List of ccle_names\n",
        "            primary_disease – List of primary_diseases\n",
        "            cell_lineage – List of cell_lineages\n",
        "            cell_type – List of cell_types [link text](https://)\n",
        "            table – table to query. This by default points to the siginfo table and normally should not be changed.\n",
        "            verbose – Print query and table address.\n",
        "    Returns\n",
        "        Pandas DataFrame\n",
        "\n"
      ]
    },
    {
      "cell_type": "code",
      "metadata": {
        "id": "a3xJ_svGvpxs",
        "outputId": "0e04088f-edd8-40d3-93f2-20ecf27d3e3a",
        "colab": {
          "base_uri": "https://localhost:8080/",
          "height": 578
        }
      },
      "source": [
        "cell_lineage = 'skin'\n",
        "core_cell_lines = ['A375', 'A549', 'HCC515', 'HEPG2', 'MCF7', 'PC3', 'VCAP', 'HT29', 'HA1E']\n",
        "\n",
        "cell_table = cmap_query.cmap_cell(\n",
        "    bq_client,\n",
        "    cell_iname = core_cell_lines, \n",
        "    primary_disease=None,\n",
        "#    cell_lineage=cell_lineage,\n",
        "    verbose=False\n",
        ")\n",
        "\n",
        "cell_table.head(10)"
      ],
      "execution_count": 13,
      "outputs": [
        {
          "output_type": "execute_result",
          "data": {
            "text/html": [
              "<div>\n",
              "<style scoped>\n",
              "    .dataframe tbody tr th:only-of-type {\n",
              "        vertical-align: middle;\n",
              "    }\n",
              "\n",
              "    .dataframe tbody tr th {\n",
              "        vertical-align: top;\n",
              "    }\n",
              "\n",
              "    .dataframe thead th {\n",
              "        text-align: right;\n",
              "    }\n",
              "</style>\n",
              "<table border=\"1\" class=\"dataframe\">\n",
              "  <thead>\n",
              "    <tr style=\"text-align: right;\">\n",
              "      <th></th>\n",
              "      <th>cell_iname</th>\n",
              "      <th>cellosaurus_id</th>\n",
              "      <th>donor_age</th>\n",
              "      <th>donor_age_death</th>\n",
              "      <th>donor_disease_age_onset</th>\n",
              "      <th>doubling_time</th>\n",
              "      <th>growth_medium</th>\n",
              "      <th>provider_catalog_id</th>\n",
              "      <th>feature_id</th>\n",
              "      <th>cell_type</th>\n",
              "      <th>donor_ethnicity</th>\n",
              "      <th>donor_sex</th>\n",
              "      <th>donor_tumor_phase</th>\n",
              "      <th>cell_lineage</th>\n",
              "      <th>primary_disease</th>\n",
              "      <th>subtype</th>\n",
              "      <th>provider_name</th>\n",
              "      <th>growth_pattern</th>\n",
              "      <th>ccle_name</th>\n",
              "      <th>cell_alias</th>\n",
              "    </tr>\n",
              "  </thead>\n",
              "  <tbody>\n",
              "    <tr>\n",
              "      <th>0</th>\n",
              "      <td>HCC515</td>\n",
              "      <td>CVCL_5136</td>\n",
              "      <td>None</td>\n",
              "      <td>None</td>\n",
              "      <td>None</td>\n",
              "      <td>None</td>\n",
              "      <td>None</td>\n",
              "      <td>None</td>\n",
              "      <td>None</td>\n",
              "      <td>tumor</td>\n",
              "      <td>Unknown</td>\n",
              "      <td>F</td>\n",
              "      <td>Unknown</td>\n",
              "      <td>lung</td>\n",
              "      <td>lung cancer</td>\n",
              "      <td>carcinoma</td>\n",
              "      <td>None</td>\n",
              "      <td>adherent</td>\n",
              "      <td>HCC515_LUNG</td>\n",
              "      <td>HCC0515</td>\n",
              "    </tr>\n",
              "    <tr>\n",
              "      <th>1</th>\n",
              "      <td>HA1E</td>\n",
              "      <td>None</td>\n",
              "      <td>None</td>\n",
              "      <td>None</td>\n",
              "      <td>None</td>\n",
              "      <td>60</td>\n",
              "      <td>MEM-ALPHA (Invitrogen A1049001) supplemented w...</td>\n",
              "      <td>None</td>\n",
              "      <td>None</td>\n",
              "      <td>normal</td>\n",
              "      <td>Unknown</td>\n",
              "      <td>Unknown</td>\n",
              "      <td>Unknown</td>\n",
              "      <td>kidney</td>\n",
              "      <td>normal kidney sample</td>\n",
              "      <td>normal kidney sample</td>\n",
              "      <td>None</td>\n",
              "      <td>unknown</td>\n",
              "      <td>HA1E_KIDNEY</td>\n",
              "      <td>None</td>\n",
              "    </tr>\n",
              "    <tr>\n",
              "      <th>2</th>\n",
              "      <td>A549</td>\n",
              "      <td>CVCL_0023</td>\n",
              "      <td>58</td>\n",
              "      <td>None</td>\n",
              "      <td>None</td>\n",
              "      <td>48</td>\n",
              "      <td>F-12K ATCC catalog # 3-24</td>\n",
              "      <td>CCL-185</td>\n",
              "      <td>c-4</td>\n",
              "      <td>tumor</td>\n",
              "      <td>Caucasian</td>\n",
              "      <td>M</td>\n",
              "      <td>Primary</td>\n",
              "      <td>lung</td>\n",
              "      <td>lung cancer</td>\n",
              "      <td>non small cell carcinoma</td>\n",
              "      <td>ATCC</td>\n",
              "      <td>adherent</td>\n",
              "      <td>A549_LUNG</td>\n",
              "      <td>A 549</td>\n",
              "    </tr>\n",
              "    <tr>\n",
              "      <th>3</th>\n",
              "      <td>A375</td>\n",
              "      <td>CVCL_0132</td>\n",
              "      <td>54</td>\n",
              "      <td>None</td>\n",
              "      <td>None</td>\n",
              "      <td>36</td>\n",
              "      <td>DMEM Invitrogen catalog # 11995-65</td>\n",
              "      <td>CRL-1619</td>\n",
              "      <td>c-127</td>\n",
              "      <td>tumor</td>\n",
              "      <td>Unknown</td>\n",
              "      <td>F</td>\n",
              "      <td>Metastatic</td>\n",
              "      <td>skin</td>\n",
              "      <td>skin cancer</td>\n",
              "      <td>melanoma</td>\n",
              "      <td>ATCC</td>\n",
              "      <td>adherent</td>\n",
              "      <td>A375_SKIN</td>\n",
              "      <td>A 375|A-375</td>\n",
              "    </tr>\n",
              "    <tr>\n",
              "      <th>4</th>\n",
              "      <td>HT29</td>\n",
              "      <td>CVCL_0320</td>\n",
              "      <td>44</td>\n",
              "      <td>None</td>\n",
              "      <td>None</td>\n",
              "      <td>36</td>\n",
              "      <td>McCoy's 5A Invitrogen catalog # 166-82</td>\n",
              "      <td>HTB-38</td>\n",
              "      <td>c-272</td>\n",
              "      <td>tumor</td>\n",
              "      <td>Caucasian</td>\n",
              "      <td>F</td>\n",
              "      <td>Primary</td>\n",
              "      <td>large_intestine</td>\n",
              "      <td>colon cancer</td>\n",
              "      <td>adenocarcinoma</td>\n",
              "      <td>ATCC</td>\n",
              "      <td>adherent</td>\n",
              "      <td>HT29_LARGE_INTESTINE</td>\n",
              "      <td>HT 29</td>\n",
              "    </tr>\n",
              "    <tr>\n",
              "      <th>5</th>\n",
              "      <td>HEPG2</td>\n",
              "      <td>CVCL_0027</td>\n",
              "      <td>15</td>\n",
              "      <td>None</td>\n",
              "      <td>None</td>\n",
              "      <td>84</td>\n",
              "      <td>EMEM ATCC catalog # 3-23</td>\n",
              "      <td>HB-8065</td>\n",
              "      <td>None</td>\n",
              "      <td>tumor</td>\n",
              "      <td>Caucasian</td>\n",
              "      <td>M</td>\n",
              "      <td>Primary</td>\n",
              "      <td>liver</td>\n",
              "      <td>liver cancer</td>\n",
              "      <td>carcinoma</td>\n",
              "      <td>ATCC</td>\n",
              "      <td>adherent</td>\n",
              "      <td>HEPG2_LIVER</td>\n",
              "      <td>Hep G2|HEP-G2</td>\n",
              "    </tr>\n",
              "    <tr>\n",
              "      <th>6</th>\n",
              "      <td>MCF7</td>\n",
              "      <td>CVCL_0031</td>\n",
              "      <td>40</td>\n",
              "      <td>None</td>\n",
              "      <td>None</td>\n",
              "      <td>72</td>\n",
              "      <td>EMEM ATCC catalog # 3-23</td>\n",
              "      <td>HTB-22</td>\n",
              "      <td>c-438</td>\n",
              "      <td>tumor</td>\n",
              "      <td>Caucasian</td>\n",
              "      <td>F</td>\n",
              "      <td>Metastatic</td>\n",
              "      <td>breast</td>\n",
              "      <td>breast cancer</td>\n",
              "      <td>adenocarcinoma</td>\n",
              "      <td>ATCC</td>\n",
              "      <td>adherent</td>\n",
              "      <td>MCF7_BREAST</td>\n",
              "      <td>IBMF-7</td>\n",
              "    </tr>\n",
              "    <tr>\n",
              "      <th>7</th>\n",
              "      <td>PC3</td>\n",
              "      <td>CVCL_0035</td>\n",
              "      <td>62</td>\n",
              "      <td>None</td>\n",
              "      <td>None</td>\n",
              "      <td>72</td>\n",
              "      <td>F-12K ATCC catalog # 3-24</td>\n",
              "      <td>CRL-1435</td>\n",
              "      <td>c-214</td>\n",
              "      <td>tumor</td>\n",
              "      <td>Caucasian</td>\n",
              "      <td>M</td>\n",
              "      <td>Metastatic</td>\n",
              "      <td>prostate</td>\n",
              "      <td>prostate cancer</td>\n",
              "      <td>adenocarcinoma</td>\n",
              "      <td>ATCC</td>\n",
              "      <td>mix</td>\n",
              "      <td>PC3_PROSTATE</td>\n",
              "      <td>PC.3|PC-3</td>\n",
              "    </tr>\n",
              "    <tr>\n",
              "      <th>8</th>\n",
              "      <td>VCAP</td>\n",
              "      <td>CVCL_2235</td>\n",
              "      <td>None</td>\n",
              "      <td>None</td>\n",
              "      <td>None</td>\n",
              "      <td>220</td>\n",
              "      <td>DMEM ATCC catalog # 3-22</td>\n",
              "      <td>None</td>\n",
              "      <td>None</td>\n",
              "      <td>tumor</td>\n",
              "      <td>Caucasian</td>\n",
              "      <td>M</td>\n",
              "      <td>Metastatic</td>\n",
              "      <td>prostate</td>\n",
              "      <td>prostate cancer</td>\n",
              "      <td>adenocarcinoma</td>\n",
              "      <td>ATCC</td>\n",
              "      <td>adherent</td>\n",
              "      <td>VCAP_PROSTATE</td>\n",
              "      <td>Vcap</td>\n",
              "    </tr>\n",
              "  </tbody>\n",
              "</table>\n",
              "</div>"
            ],
            "text/plain": [
              "  cell_iname cellosaurus_id  ...             ccle_name     cell_alias\n",
              "0     HCC515      CVCL_5136  ...           HCC515_LUNG        HCC0515\n",
              "1       HA1E           None  ...           HA1E_KIDNEY           None\n",
              "2       A549      CVCL_0023  ...             A549_LUNG          A 549\n",
              "3       A375      CVCL_0132  ...             A375_SKIN    A 375|A-375\n",
              "4       HT29      CVCL_0320  ...  HT29_LARGE_INTESTINE          HT 29\n",
              "5      HEPG2      CVCL_0027  ...           HEPG2_LIVER  Hep G2|HEP-G2\n",
              "6       MCF7      CVCL_0031  ...           MCF7_BREAST         IBMF-7\n",
              "7        PC3      CVCL_0035  ...          PC3_PROSTATE      PC.3|PC-3\n",
              "8       VCAP      CVCL_2235  ...         VCAP_PROSTATE           Vcap\n",
              "\n",
              "[9 rows x 20 columns]"
            ]
          },
          "metadata": {
            "tags": []
          },
          "execution_count": 13
        }
      ]
    },
    {
      "cell_type": "markdown",
      "metadata": {
        "id": "kj5EGRk3s408"
      },
      "source": [
        "### cmap_genes"
      ]
    },
    {
      "cell_type": "markdown",
      "metadata": {
        "id": "6MlSHv7gs40-"
      },
      "source": [
        "**Query geneinfo table. Geneinfo contains information about genes including ids, symbols, types, ensembl_ids, etc.**\n",
        "\n",
        "    cmapBQ.query.cmap_genes(client, gene_id=None, gene_symbol=None, ensembl_id=None, gene_title=None, gene_type=None, feature_space='landmark', src=None, table=None, verbose=False)\n",
        "\n",
        "    Parameters\n",
        "          client – Bigquery Client\n",
        "          gene_id – list of gene_ids\n",
        "          gene_symbol – list of gene_symbols\n",
        "          ensembl_id – list of ensembl_ids\n",
        "          gene_title – list of gene_titles\n",
        "          gene_type – list of gene_types\n",
        "          feature_space –\n",
        "                Common featurespaces to extract. ‘rid’ overrides selection\n",
        "                Choices: [‘landmark’, ‘bing’, ‘aig’]\n",
        "                landmark: 978 landmark genes\n",
        "                bing: Best-inferred set of 10,174 genes\n",
        "                aig: All inferred genes including 12,328 genes\n",
        "                Default is landmark.\n",
        "          src – list of gene sources\n",
        "          table – table to query. This by default points to the siginfo table and normally should not be changed.\n",
        "          verbose – Print query and table address.\n",
        "    Returns\n",
        "          Pandas DataFrame"
      ]
    },
    {
      "cell_type": "code",
      "metadata": {
        "id": "tVF3BUsAGKbC",
        "outputId": "e42eb9b1-937f-4f7e-9e27-866e7c7ab0f9",
        "colab": {
          "base_uri": "https://localhost:8080/",
          "height": 144
        }
      },
      "source": [
        "#small sample of genes\n",
        "gene_symbol_list = ['EGFR', 'NR3C1', 'MDM2']\n",
        "gene_id_list = [1956, 2908, 4193] \n",
        "\n",
        "gene_table = cmap_query.cmap_genes(\n",
        "    bq_client, \n",
        "    #gene_id=gene_id_list, \n",
        "    gene_symbol=gene_symbol_list, \n",
        "    #feature_space='landmark', \n",
        "    feature_space='aig',\n",
        "    #verbose=True\n",
        "  )\n",
        "\n",
        "gene_table"
      ],
      "execution_count": 15,
      "outputs": [
        {
          "output_type": "execute_result",
          "data": {
            "text/html": [
              "<div>\n",
              "<style scoped>\n",
              "    .dataframe tbody tr th:only-of-type {\n",
              "        vertical-align: middle;\n",
              "    }\n",
              "\n",
              "    .dataframe tbody tr th {\n",
              "        vertical-align: top;\n",
              "    }\n",
              "\n",
              "    .dataframe thead th {\n",
              "        text-align: right;\n",
              "    }\n",
              "</style>\n",
              "<table border=\"1\" class=\"dataframe\">\n",
              "  <thead>\n",
              "    <tr style=\"text-align: right;\">\n",
              "      <th></th>\n",
              "      <th>gene_id</th>\n",
              "      <th>gene_symbol</th>\n",
              "      <th>ensembl_id</th>\n",
              "      <th>gene_title</th>\n",
              "      <th>gene_type</th>\n",
              "      <th>src</th>\n",
              "      <th>feature_space</th>\n",
              "    </tr>\n",
              "  </thead>\n",
              "  <tbody>\n",
              "    <tr>\n",
              "      <th>0</th>\n",
              "      <td>1956</td>\n",
              "      <td>EGFR</td>\n",
              "      <td>ENSG00000146648</td>\n",
              "      <td>epidermal growth factor receptor</td>\n",
              "      <td>protein-coding</td>\n",
              "      <td>NCBI</td>\n",
              "      <td>landmark</td>\n",
              "    </tr>\n",
              "    <tr>\n",
              "      <th>1</th>\n",
              "      <td>2908</td>\n",
              "      <td>NR3C1</td>\n",
              "      <td>ENSG00000113580</td>\n",
              "      <td>nuclear receptor subfamily 3 group C member 1</td>\n",
              "      <td>protein-coding</td>\n",
              "      <td>NCBI</td>\n",
              "      <td>landmark</td>\n",
              "    </tr>\n",
              "    <tr>\n",
              "      <th>2</th>\n",
              "      <td>4193</td>\n",
              "      <td>MDM2</td>\n",
              "      <td>ENSG00000135679</td>\n",
              "      <td>MDM2 proto-oncogene</td>\n",
              "      <td>protein-coding</td>\n",
              "      <td>NCBI</td>\n",
              "      <td>best inferred</td>\n",
              "    </tr>\n",
              "  </tbody>\n",
              "</table>\n",
              "</div>"
            ],
            "text/plain": [
              "   gene_id gene_symbol       ensembl_id  ...       gene_type   src  feature_space\n",
              "0     1956        EGFR  ENSG00000146648  ...  protein-coding  NCBI       landmark\n",
              "1     2908       NR3C1  ENSG00000113580  ...  protein-coding  NCBI       landmark\n",
              "2     4193        MDM2  ENSG00000135679  ...  protein-coding  NCBI  best inferred\n",
              "\n",
              "[3 rows x 7 columns]"
            ]
          },
          "metadata": {
            "tags": []
          },
          "execution_count": 15
        }
      ]
    },
    {
      "cell_type": "markdown",
      "metadata": {
        "id": "4Tj3MDr4jChF"
      },
      "source": [
        "### cmap_genetic_perts"
      ]
    },
    {
      "cell_type": "markdown",
      "metadata": {
        "id": "QM2AYbTcp0Fq"
      },
      "source": [
        "**Query genetic_pertinfo table**\n",
        "\n",
        "\n",
        "    cmapBQ.query.cmap_genetic_perts(client, pert_id=None, cmap_name=None, gene_id=None, gene_title=None, ensemble_id=None, table=None, verbose=False)\n",
        "\n",
        "    Parameters\n",
        "            client – Bigquery Client\n",
        "            pert_id – List of pert_ids\n",
        "            cmap_name – List of cmap_names\n",
        "            gene_id – List of type INTEGER corresponding to gene_ids\n",
        "            gene_title – List of gene_titles\n",
        "            ensemble_id – List of ensumble_ids\n",
        "            table – table to query. This by default points to the siginfo table and normally should not be changed.\n",
        "            verbose – Print query and table address.\n",
        "    Returns: \n",
        "        Pandas Dataframe"
      ]
    },
    {
      "cell_type": "code",
      "metadata": {
        "id": "k7D-sakt0kwm",
        "outputId": "84385aaa-b6b2-4928-9838-b7828e59b451",
        "colab": {
          "base_uri": "https://localhost:8080/",
          "height": 435
        }
      },
      "source": [
        "#small sample of genes\n",
        "gene_symbol_list = ['EGFR', 'NR3C1', 'MDM2']\n",
        "gene_id_list = [1956, 2908, 4193] \n",
        "\n",
        "genetic_perts_table = cmap_query.cmap_genetic_perts(bq_client,\n",
        "    pert_id=None,\n",
        "    cmap_name=None,\n",
        "    gene_id=gene_id_list,\n",
        "    gene_title=None,\n",
        "    verbose=True\n",
        ")\n",
        "\n",
        "genetic_perts_table.sample(10)"
      ],
      "execution_count": 16,
      "outputs": [
        {
          "output_type": "stream",
          "text": [
            "Table: \n",
            " cmap-big-table.cmap_lincs_public_views.genetic_pertinfo\n",
            "Query:\n",
            " SELECT * FROM cmap-big-table.cmap_lincs_public_views.genetic_pertinfo WHERE gene_id in UNNEST([1956, 2908, 4193])\n"
          ],
          "name": "stdout"
        },
        {
          "output_type": "execute_result",
          "data": {
            "text/html": [
              "<div>\n",
              "<style scoped>\n",
              "    .dataframe tbody tr th:only-of-type {\n",
              "        vertical-align: middle;\n",
              "    }\n",
              "\n",
              "    .dataframe tbody tr th {\n",
              "        vertical-align: top;\n",
              "    }\n",
              "\n",
              "    .dataframe thead th {\n",
              "        text-align: right;\n",
              "    }\n",
              "</style>\n",
              "<table border=\"1\" class=\"dataframe\">\n",
              "  <thead>\n",
              "    <tr style=\"text-align: right;\">\n",
              "      <th></th>\n",
              "      <th>pert_id</th>\n",
              "      <th>cmap_name</th>\n",
              "      <th>pert_type</th>\n",
              "      <th>gene_id</th>\n",
              "      <th>gene_title</th>\n",
              "      <th>ensembl_id</th>\n",
              "      <th>gene_type</th>\n",
              "      <th>feature_space</th>\n",
              "    </tr>\n",
              "  </thead>\n",
              "  <tbody>\n",
              "    <tr>\n",
              "      <th>44</th>\n",
              "      <td>EGFR_L858R</td>\n",
              "      <td>EGFR</td>\n",
              "      <td>trt_oe</td>\n",
              "      <td>1956</td>\n",
              "      <td>epidermal growth factor receptor</td>\n",
              "      <td>ENSG00000146648</td>\n",
              "      <td>protein-coding</td>\n",
              "      <td>landmark</td>\n",
              "    </tr>\n",
              "    <tr>\n",
              "      <th>95</th>\n",
              "      <td>TRCN0000355728</td>\n",
              "      <td>MDM2</td>\n",
              "      <td>trt_sh</td>\n",
              "      <td>4193</td>\n",
              "      <td>MDM2 proto-oncogene</td>\n",
              "      <td>ENSG00000135679</td>\n",
              "      <td>protein-coding</td>\n",
              "      <td>best inferred</td>\n",
              "    </tr>\n",
              "    <tr>\n",
              "      <th>30</th>\n",
              "      <td>BRDN0000554094</td>\n",
              "      <td>EGFR</td>\n",
              "      <td>trt_oe</td>\n",
              "      <td>1956</td>\n",
              "      <td>epidermal growth factor receptor</td>\n",
              "      <td>ENSG00000146648</td>\n",
              "      <td>protein-coding</td>\n",
              "      <td>landmark</td>\n",
              "    </tr>\n",
              "    <tr>\n",
              "      <th>96</th>\n",
              "      <td>TRCN0000003380</td>\n",
              "      <td>MDM2</td>\n",
              "      <td>trt_sh</td>\n",
              "      <td>4193</td>\n",
              "      <td>MDM2 proto-oncogene</td>\n",
              "      <td>ENSG00000135679</td>\n",
              "      <td>protein-coding</td>\n",
              "      <td>best inferred</td>\n",
              "    </tr>\n",
              "    <tr>\n",
              "      <th>82</th>\n",
              "      <td>2908_R23K</td>\n",
              "      <td>NR3C1</td>\n",
              "      <td>trt_oe</td>\n",
              "      <td>2908</td>\n",
              "      <td>nuclear receptor subfamily 3 group C member 1</td>\n",
              "      <td>ENSG00000113580</td>\n",
              "      <td>protein-coding</td>\n",
              "      <td>landmark</td>\n",
              "    </tr>\n",
              "    <tr>\n",
              "      <th>89</th>\n",
              "      <td>CGS001-2908</td>\n",
              "      <td>NR3C1</td>\n",
              "      <td>trt_sh.cgs</td>\n",
              "      <td>2908</td>\n",
              "      <td>nuclear receptor subfamily 3 group C member 1</td>\n",
              "      <td>ENSG00000113580</td>\n",
              "      <td>protein-coding</td>\n",
              "      <td>landmark</td>\n",
              "    </tr>\n",
              "    <tr>\n",
              "      <th>2</th>\n",
              "      <td>BRDN0000465000</td>\n",
              "      <td>EGFR</td>\n",
              "      <td>trt_oe</td>\n",
              "      <td>1956</td>\n",
              "      <td>epidermal growth factor receptor</td>\n",
              "      <td>ENSG00000146648</td>\n",
              "      <td>protein-coding</td>\n",
              "      <td>landmark</td>\n",
              "    </tr>\n",
              "    <tr>\n",
              "      <th>70</th>\n",
              "      <td>TRCN0000121067</td>\n",
              "      <td>EGFR</td>\n",
              "      <td>trt_sh</td>\n",
              "      <td>1956</td>\n",
              "      <td>epidermal growth factor receptor</td>\n",
              "      <td>ENSG00000146648</td>\n",
              "      <td>protein-coding</td>\n",
              "      <td>landmark</td>\n",
              "    </tr>\n",
              "    <tr>\n",
              "      <th>25</th>\n",
              "      <td>BRDN0000553938</td>\n",
              "      <td>EGFR</td>\n",
              "      <td>trt_oe</td>\n",
              "      <td>1956</td>\n",
              "      <td>epidermal growth factor receptor</td>\n",
              "      <td>ENSG00000146648</td>\n",
              "      <td>protein-coding</td>\n",
              "      <td>landmark</td>\n",
              "    </tr>\n",
              "    <tr>\n",
              "      <th>74</th>\n",
              "      <td>BRDN0001054761</td>\n",
              "      <td>EGFR</td>\n",
              "      <td>trt_xpr</td>\n",
              "      <td>1956</td>\n",
              "      <td>epidermal growth factor receptor</td>\n",
              "      <td>ENSG00000146648</td>\n",
              "      <td>protein-coding</td>\n",
              "      <td>landmark</td>\n",
              "    </tr>\n",
              "  </tbody>\n",
              "</table>\n",
              "</div>"
            ],
            "text/plain": [
              "           pert_id cmap_name  ...       gene_type  feature_space\n",
              "44      EGFR_L858R      EGFR  ...  protein-coding       landmark\n",
              "95  TRCN0000355728      MDM2  ...  protein-coding  best inferred\n",
              "30  BRDN0000554094      EGFR  ...  protein-coding       landmark\n",
              "96  TRCN0000003380      MDM2  ...  protein-coding  best inferred\n",
              "82       2908_R23K     NR3C1  ...  protein-coding       landmark\n",
              "89     CGS001-2908     NR3C1  ...  protein-coding       landmark\n",
              "2   BRDN0000465000      EGFR  ...  protein-coding       landmark\n",
              "70  TRCN0000121067      EGFR  ...  protein-coding       landmark\n",
              "25  BRDN0000553938      EGFR  ...  protein-coding       landmark\n",
              "74  BRDN0001054761      EGFR  ...  protein-coding       landmark\n",
              "\n",
              "[10 rows x 8 columns]"
            ]
          },
          "metadata": {
            "tags": []
          },
          "execution_count": 16
        }
      ]
    },
    {
      "cell_type": "markdown",
      "metadata": {
        "id": "nHoRzAxgigYy"
      },
      "source": [
        "### cmap_compounds"
      ]
    },
    {
      "cell_type": "markdown",
      "metadata": {
        "id": "Hp-Bfsa9qiWL"
      },
      "source": [
        "\n",
        "\n",
        "**Query compoundinfo table for various field by providing lists of compounds, moa, targets, etc. ‘AND’ operator used for multiple conditions.**\n",
        "\n",
        "\n",
        "    cmapBQ.query.cmap_compounds(client, pert_id=None, cmap_name=None, moa=None, target=None, compound_aliases=None, limit=None, verbose=False)\n",
        "\n",
        "    Parameters\n",
        "            client – BigQuery Client\n",
        "            pert_id – List of pert_ids\n",
        "            cmap_name – List of cmap_names\n",
        "            target – List of targets\n",
        "            moa – List of MoAs\n",
        "            compound_aliases – List of compound aliases\n",
        "            limit – Maximum number of rows to return\n",
        "            verbose – Print query and table address.\n",
        "    Returns\n",
        "        Pandas Dataframe matching queries"
      ]
    },
    {
      "cell_type": "code",
      "metadata": {
        "id": "QUwBjrU0tipq",
        "outputId": "a92a0daa-459a-42a2-c824-81ccdc996db1",
        "colab": {
          "base_uri": "https://localhost:8080/",
          "height": 363
        }
      },
      "source": [
        "target = 'EGFR'\n",
        "moa = 'EGFR inhibitor'\n",
        "\n",
        "compound_table = cmap_query.cmap_compounds(\n",
        "    bq_client,\n",
        "    pert_id=None,\n",
        "    cmap_name=None, \n",
        "    moa='MDM inhibitor', \n",
        "    target=None, \n",
        "    compound_aliases=None, \n",
        "    limit=None, \n",
        "    verbose=False\n",
        "  )\n",
        "\n",
        "compound_table\n",
        "## Do we need to be able to query by canonical smiles or inchi_keys? "
      ],
      "execution_count": 17,
      "outputs": [
        {
          "output_type": "execute_result",
          "data": {
            "text/html": [
              "<div>\n",
              "<style scoped>\n",
              "    .dataframe tbody tr th:only-of-type {\n",
              "        vertical-align: middle;\n",
              "    }\n",
              "\n",
              "    .dataframe tbody tr th {\n",
              "        vertical-align: top;\n",
              "    }\n",
              "\n",
              "    .dataframe thead th {\n",
              "        text-align: right;\n",
              "    }\n",
              "</style>\n",
              "<table border=\"1\" class=\"dataframe\">\n",
              "  <thead>\n",
              "    <tr style=\"text-align: right;\">\n",
              "      <th></th>\n",
              "      <th>pert_id</th>\n",
              "      <th>cmap_name</th>\n",
              "      <th>target</th>\n",
              "      <th>moa</th>\n",
              "      <th>canonical_smiles</th>\n",
              "      <th>inchi_key</th>\n",
              "      <th>compound_aliases</th>\n",
              "    </tr>\n",
              "  </thead>\n",
              "  <tbody>\n",
              "    <tr>\n",
              "      <th>0</th>\n",
              "      <td>BRD-K84987553</td>\n",
              "      <td>MDM2-inhibitor</td>\n",
              "      <td>MDM2</td>\n",
              "      <td>MDM inhibitor</td>\n",
              "      <td>OB(O)c1ccc(cc1)C(=O)/C=C/c2ccc(I)cc2</td>\n",
              "      <td>BYMGWCQXSPGCMW-XCVCLJGOSA-N</td>\n",
              "      <td>MDM-2-INHIBITOR</td>\n",
              "    </tr>\n",
              "    <tr>\n",
              "      <th>1</th>\n",
              "      <td>BRD-A12230535</td>\n",
              "      <td>nutlin-3</td>\n",
              "      <td>MDM2</td>\n",
              "      <td>MDM inhibitor</td>\n",
              "      <td>COc1ccc(C2=NC(C(N2C(=O)N2CCNC(=O)C2)c2ccc(Cl)c...</td>\n",
              "      <td>BDUHCSBCVGXTJM-UHFFFAOYSA-N</td>\n",
              "      <td>NUTLIN-3A</td>\n",
              "    </tr>\n",
              "    <tr>\n",
              "      <th>2</th>\n",
              "      <td>BRD-K00317371</td>\n",
              "      <td>RITA</td>\n",
              "      <td>MDM2</td>\n",
              "      <td>MDM inhibitor</td>\n",
              "      <td>OCc1ccc(s1)-c1ccc(o1)-c1ccc(CO)s1</td>\n",
              "      <td>KZENBFUSKMWCJF-UHFFFAOYSA-N</td>\n",
              "      <td>rita</td>\n",
              "    </tr>\n",
              "    <tr>\n",
              "      <th>3</th>\n",
              "      <td>BRD-K64925568</td>\n",
              "      <td>AMG-232</td>\n",
              "      <td>MDM2</td>\n",
              "      <td>MDM inhibitor</td>\n",
              "      <td>CC(C)[C@@H](CS(=O)(=O)C(C)C)N1[C@@H]([C@H](C[C...</td>\n",
              "      <td>DRLCSJFKKILATL-YWCVFVGNSA-N</td>\n",
              "      <td>None</td>\n",
              "    </tr>\n",
              "    <tr>\n",
              "      <th>4</th>\n",
              "      <td>BRD-K17349619</td>\n",
              "      <td>HLI-373</td>\n",
              "      <td>MDM2</td>\n",
              "      <td>MDM inhibitor</td>\n",
              "      <td>CN(C)CCCNc1c2ccccc2n(C)c2nc(=O)n(C)c(=O)c12</td>\n",
              "      <td>LNRUPMPQQGPSQT-UHFFFAOYSA-N</td>\n",
              "      <td>None</td>\n",
              "    </tr>\n",
              "    <tr>\n",
              "      <th>5</th>\n",
              "      <td>BRD-K65924316</td>\n",
              "      <td>serdemetan</td>\n",
              "      <td>MDM2</td>\n",
              "      <td>MDM inhibitor</td>\n",
              "      <td>C(Cc1c[nH]c2ccccc12)Nc1ccc(Nc2ccncc2)cc1</td>\n",
              "      <td>CEGSUKYESLWKJP-UHFFFAOYSA-N</td>\n",
              "      <td>None</td>\n",
              "    </tr>\n",
              "    <tr>\n",
              "      <th>6</th>\n",
              "      <td>BRD-K60219430</td>\n",
              "      <td>serdemetan</td>\n",
              "      <td>MDM2</td>\n",
              "      <td>MDM inhibitor</td>\n",
              "      <td>C(Cc1c[nH]c2ccccc12)Nc1cccc(Nc2ccncc2)c1</td>\n",
              "      <td>JCKLHFMOFAYQHE-UHFFFAOYSA-N</td>\n",
              "      <td>None</td>\n",
              "    </tr>\n",
              "    <tr>\n",
              "      <th>7</th>\n",
              "      <td>BRD-K93095519</td>\n",
              "      <td>SJ-172550</td>\n",
              "      <td>MDM4</td>\n",
              "      <td>MDM inhibitor</td>\n",
              "      <td>CCOc1cc(cc(Cl)c1OCC(=O)OC)C=C1C(=O)N(N=C/1C)c1...</td>\n",
              "      <td>RKKFQJXGAQWHBZ-YVLHZVERSA-N</td>\n",
              "      <td>None</td>\n",
              "    </tr>\n",
              "    <tr>\n",
              "      <th>8</th>\n",
              "      <td>BRD-A16035238</td>\n",
              "      <td>SAR405838</td>\n",
              "      <td>MDM2</td>\n",
              "      <td>MDM inhibitor</td>\n",
              "      <td>CC(C)(C)CC1NC(C(c2cccc(Cl)c2F)C11C(=O)Nc2cc(Cl...</td>\n",
              "      <td>IDKAKZRYYDCJDU-UHFFFAOYSA-N</td>\n",
              "      <td>None</td>\n",
              "    </tr>\n",
              "    <tr>\n",
              "      <th>9</th>\n",
              "      <td>BRD-K73255294</td>\n",
              "      <td>nutlin-3</td>\n",
              "      <td>MDM2</td>\n",
              "      <td>MDM inhibitor</td>\n",
              "      <td>COc1ccc(C2=N[C@@H]([C@@H](N2C(=O)N2CCNC(=O)C2)...</td>\n",
              "      <td>BDUHCSBCVGXTJM-IZLXSDGUSA-N</td>\n",
              "      <td>None</td>\n",
              "    </tr>\n",
              "  </tbody>\n",
              "</table>\n",
              "</div>"
            ],
            "text/plain": [
              "         pert_id       cmap_name  ...                    inchi_key compound_aliases\n",
              "0  BRD-K84987553  MDM2-inhibitor  ...  BYMGWCQXSPGCMW-XCVCLJGOSA-N  MDM-2-INHIBITOR\n",
              "1  BRD-A12230535        nutlin-3  ...  BDUHCSBCVGXTJM-UHFFFAOYSA-N        NUTLIN-3A\n",
              "2  BRD-K00317371            RITA  ...  KZENBFUSKMWCJF-UHFFFAOYSA-N             rita\n",
              "3  BRD-K64925568         AMG-232  ...  DRLCSJFKKILATL-YWCVFVGNSA-N             None\n",
              "4  BRD-K17349619         HLI-373  ...  LNRUPMPQQGPSQT-UHFFFAOYSA-N             None\n",
              "5  BRD-K65924316      serdemetan  ...  CEGSUKYESLWKJP-UHFFFAOYSA-N             None\n",
              "6  BRD-K60219430      serdemetan  ...  JCKLHFMOFAYQHE-UHFFFAOYSA-N             None\n",
              "7  BRD-K93095519       SJ-172550  ...  RKKFQJXGAQWHBZ-YVLHZVERSA-N             None\n",
              "8  BRD-A16035238       SAR405838  ...  IDKAKZRYYDCJDU-UHFFFAOYSA-N             None\n",
              "9  BRD-K73255294        nutlin-3  ...  BDUHCSBCVGXTJM-IZLXSDGUSA-N             None\n",
              "\n",
              "[10 rows x 7 columns]"
            ]
          },
          "metadata": {
            "tags": []
          },
          "execution_count": 17
        }
      ]
    },
    {
      "cell_type": "code",
      "metadata": {
        "id": "r9KsVZnB3uqq",
        "outputId": "ee6ddd2f-cbf0-4080-fd79-3191a1569853",
        "colab": {
          "base_uri": "https://localhost:8080/"
        }
      },
      "source": [
        "compound_table.cmap_name.unique()"
      ],
      "execution_count": 18,
      "outputs": [
        {
          "output_type": "execute_result",
          "data": {
            "text/plain": [
              "array(['MDM2-inhibitor', 'nutlin-3', 'RITA', 'AMG-232', 'HLI-373',\n",
              "       'serdemetan', 'SJ-172550', 'SAR405838'], dtype=object)"
            ]
          },
          "metadata": {
            "tags": []
          },
          "execution_count": 18
        }
      ]
    },
    {
      "cell_type": "markdown",
      "metadata": {
        "id": "4dwum4Enigme"
      },
      "source": [
        "### cmap_profiles"
      ]
    },
    {
      "cell_type": "markdown",
      "metadata": {
        "id": "onqAbYiUpVj9"
      },
      "source": [
        "**Query per sample metadata, corresponds to level 3 and level 4 data, AND operator used for multiple conditions.**\n",
        "\n",
        "    cmapBQ.query.cmap_profiles(client, sample_id=None, pert_id=None, cmap_name=None, cell_iname=None, build_name=None, return_fields='priority', limit=None, table=None, verbose=False)\n",
        "    \n",
        "    Parameters\n",
        "            client – Bigquery client\n",
        "            sample_id – list of sample_ids\n",
        "            pert_id – list of pert_ids\n",
        "            cmap_name – list of cmap_name\n",
        "            build_name – list of builds\n",
        "            return_fields – [‘priority’, ‘all’]\n",
        "            limit – Maximum number of rows to return\n",
        "            table – table to query. This by default points to the siginfo table and normally should not be changed.\n",
        "            verbose – Print query and table address.\n",
        "    Returns\n",
        "        Pandas Dataframe\n",
        "\n"
      ]
    },
    {
      "cell_type": "code",
      "metadata": {
        "id": "3g1hX79b3Pj7"
      },
      "source": [
        "list_of_sample_ids = [\n",
        "  ''\n",
        "]\n",
        "\n",
        "list_of_cmap_names = [\n",
        "    'afatinib',\n",
        "    'dacomitinib', \n",
        "    'dovitinib',\n",
        "    'erlotinib',\n",
        "    'gefitinib'\n",
        "]\n",
        "\n",
        "instinfo_table = cmap_query.cmap_profiles(\n",
        "    bq_client,\n",
        "    sample_id=None,\n",
        "    return_fields='all', \n",
        "    cmap_name=list_of_cmap_names \n",
        ")\n",
        "\n",
        "instinfo_table.head(10)"
      ],
      "execution_count": null,
      "outputs": []
    },
    {
      "cell_type": "markdown",
      "metadata": {
        "id": "DfPj_MZkicAZ"
      },
      "source": [
        "### cmap_sig"
      ]
    },
    {
      "cell_type": "markdown",
      "metadata": {
        "id": "jZ62FtoqoQT-"
      },
      "source": [
        "**Query level 5 metadata table**\n",
        "\n",
        "    cmapBQ.query.cmap_sig(client, sig_id=None, pert_id=None, cmap_name=None, cell_iname=None, build_name=None, return_fields='priority', limit=None, table=None, verbose=False)\n",
        "    Parameters\n",
        "            client – Bigquery Client\n",
        "            sig_id – list of sig_ids\n",
        "            pert_id – list of pert_ids\n",
        "            cmap_name – list of cmap_name, formerly pert_iname\n",
        "            cell_iname – list of cell names\n",
        "            build_name – list of builds\n",
        "            return_fields – [‘priority’, ‘all’]\n",
        "            limit – Maximum number of rows to return\n",
        "            table – table to query. This by default points to the level 5 siginfo table and normally should not be changed.\n",
        "            verbose – Print query and table address.\n",
        "    Returns\n",
        "        Pandas Dataframe\n",
        "\n"
      ]
    },
    {
      "cell_type": "code",
      "metadata": {
        "id": "PnIcvQEwrt8B"
      },
      "source": [
        "list_of_sig_ids = [\n",
        "  ''\n",
        "]\n",
        "\n",
        "list_of_cmap_names = [\n",
        "    'afatinib',\n",
        "    'dacomitinib', \n",
        "    'dovitinib',\n",
        "    'erlotinib',\n",
        "    'gefitinib'\n",
        "]\n",
        "\n",
        "\n",
        "siginfo_table = cmap_query.cmap_sig(\n",
        "    bq_client,\n",
        "    sig_id = None, \n",
        "    cell_iname = core_cell_lines, \n",
        "    cmap_name = list_of_cmap_names,\n",
        "    return_fields='priority'\n",
        ")\n",
        "\n"
      ],
      "execution_count": null,
      "outputs": []
    },
    {
      "cell_type": "code",
      "metadata": {
        "id": "8NT8aEuV_DpA"
      },
      "source": [
        ""
      ],
      "execution_count": null,
      "outputs": []
    },
    {
      "cell_type": "markdown",
      "metadata": {
        "id": "-SIWT2ebi3Qb"
      },
      "source": [
        "### cmap_matrix"
      ]
    },
    {
      "cell_type": "markdown",
      "metadata": {
        "id": "3JXryRQkqHoe"
      },
      "source": [
        "**Query for numerical data for signature-gene level data.**\n",
        "\n",
        "    cmapBQ.query.cmap_matrix(client, data_level='level5', feature_space='landmark', rid=None, cid=None, verbose=False, chunk_size=1000, table=None, limit=1000)\n",
        "\n",
        "    Parameters\n",
        "            client – Bigquery Client\n",
        "            data_level – Data level requested. IDs from siginfo file correspond to ‘level5’. Ids from instinfo are available in ‘level3’ and ‘level4’. Choices are [‘level5’, ‘level4’, ‘level3’]\n",
        "            rid – Row ids\n",
        "            cid – Column ids\n",
        "            verbose – Run in verbose mode\n",
        "            chunk_size – Runs queries in stages to avoid query character limit. Default 1,000\n",
        "            table – Table address to query. Overrides ‘data_level’ parameter. Generally should not be used.\n",
        "            verbose – Print query and table address.\n",
        "    Returns\n",
        "        GCToo object\n",
        "\n"
      ]
    },
    {
      "cell_type": "code",
      "metadata": {
        "id": "t3Ed6zVdEPhp"
      },
      "source": [
        "list_of_sig_ids = list(siginfo_table.sample(10)['sig_id'])\n",
        "list_of_sample_ids = list(instinfo_table.sample(10)['sample_id'])\n",
        "\n",
        "data = cmap_query.cmap_matrix(\n",
        "    bq_client,\n",
        "    cid=list_of_sample_ids,\n",
        "    rid=None,\n",
        "    feature_space='landmark',\n",
        "    data_level='level5'\n",
        ")\n",
        "\n",
        "data.data_df"
      ],
      "execution_count": null,
      "outputs": []
    }
  ]
}