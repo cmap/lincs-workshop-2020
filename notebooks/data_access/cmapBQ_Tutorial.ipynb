{
  "nbformat": 4,
  "nbformat_minor": 0,
  "metadata": {
    "colab": {
      "name": "cmapBQ Documentation",
      "provenance": [],
      "collapsed_sections": [
        "9BzY-ZW3Dq7k",
        "S_wNgSQrDnqH",
        "titAMjiCDnqX"
      ],
      "toc_visible": true,
      "include_colab_link": true
    },
    "kernelspec": {
      "name": "python3",
      "display_name": "Python 3"
    }
  },
  "cells": [
    {
      "cell_type": "markdown",
      "metadata": {
        "id": "view-in-github",
        "colab_type": "text"
      },
      "source": [
        "<a href=\"https://colab.research.google.com/github/cmap/lincs-workshop-2020/blob/main/notebooks/data_access/cmapBQ_Tutorial.ipynb\" target=\"_parent\"><img src=\"https://colab.research.google.com/assets/colab-badge.svg\" alt=\"Open In Colab\"/></a>"
      ]
    },
    {
      "cell_type": "markdown",
      "metadata": {
        "id": "w7oG5TjDZKOK"
      },
      "source": [
        "# cmapBQ Tutorial"
      ]
    },
    {
      "cell_type": "markdown",
      "metadata": {
        "id": "0iXUbyR1ML2A"
      },
      "source": [
        "Tutorial notebook for the `cmapBQ` package. `cmapBQ` allows for targeted retrieval of relevant gene expression data from the resources provided by The Broad Institute and LINCS Project\n"
      ]
    },
    {
      "cell_type": "markdown",
      "metadata": {
        "id": "IUUKrJiWMqSb"
      },
      "source": [
        "Documentation available on [Read The Docs](https://cmapbq.readthedocs.io)\n",
        "\n",
        "Source code available on [Github](https://github.com/cmap/cmapBQ/)"
      ]
    },
    {
      "cell_type": "markdown",
      "metadata": {
        "id": "Zv3qnyFcZErE"
      },
      "source": [
        "## Setup"
      ]
    },
    {
      "cell_type": "markdown",
      "metadata": {
        "id": "9BzY-ZW3Dq7k"
      },
      "source": [
        "### Package installation"
      ]
    },
    {
      "cell_type": "markdown",
      "metadata": {
        "id": "M_QOAzWJxCuM"
      },
      "source": [
        "The cmapBQ package is available from `pip` and can be installed using the command below. Documentation is available on [Read The Docs](https://cmapbq.readthedocs.io/en/latest/)"
      ]
    },
    {
      "cell_type": "code",
      "metadata": {
        "id": "BOWAFnXQD3Xs"
      },
      "source": [
        "!pip -q install --upgrade cmapBQ"
      ],
      "execution_count": null,
      "outputs": []
    },
    {
      "cell_type": "markdown",
      "metadata": {
        "id": "S_wNgSQrDnqH"
      },
      "source": [
        "### Standard Imports"
      ]
    },
    {
      "cell_type": "code",
      "metadata": {
        "ExecuteTime": {
          "end_time": "2020-10-16T15:08:01.975360Z",
          "start_time": "2020-10-16T15:08:01.326791Z"
        },
        "id": "KwESkecNDnqK"
      },
      "source": [
        "import os\n",
        "import pandas as pd\n",
        "import numpy as np\n",
        "import seaborn as sns\n",
        "import requests\n",
        "\n",
        "import matplotlib.pyplot as plt\n",
        "\n",
        "#%load_ext google.colab.data_table #For Google Colab"
      ],
      "execution_count": null,
      "outputs": []
    },
    {
      "cell_type": "markdown",
      "metadata": {
        "ExecuteTime": {
          "end_time": "2020-10-16T15:08:01.975360Z",
          "start_time": "2020-10-16T15:08:01.326791Z"
        },
        "id": "titAMjiCDnqX"
      },
      "source": [
        "### Credentials Setup and Package imports"
      ]
    },
    {
      "cell_type": "markdown",
      "metadata": {
        "id": "bnSqb7pda1R2"
      },
      "source": [
        "Getting demo credentials from S3. To access BigQuery, a service account JSON credentials file must be obtained. Running the `cmap.config.setup_credentials(credentials_path)` function will point the toolkit to the credentials connected to your Google Account. \n",
        "\n",
        "More information about service accounts are available here: [Getting started with authentication](https://cloud.google.com/docs/authentication/getting-started)"
      ]
    },
    {
      "cell_type": "code",
      "metadata": {
        "id": "U4lQS63voy4C"
      },
      "source": [
        "\"\"\" Delete line if without Google Cloud credentials\n",
        "\n",
        "import requests\n",
        "\n",
        "# URL with credentials\n",
        "url = ('https://s3.amazonaws.com/data.clue.io/api/bq_creds/BQ-demo-credentials.json')\n",
        "\n",
        "response = requests.get(url)\n",
        "credentials_filepath='/content/BQ-demo-credentials.json'\n",
        "\n",
        "with open(credentials_filepath, 'w') as f:\n",
        "  f.write(response.text)\n",
        "\n",
        "\"\"\""
      ],
      "execution_count": null,
      "outputs": []
    },
    {
      "cell_type": "markdown",
      "metadata": {
        "id": "j79uwWIsa48M"
      },
      "source": [
        "Pointing cmapBQ to credentials file"
      ]
    },
    {
      "cell_type": "code",
      "metadata": {
        "ExecuteTime": {
          "end_time": "2020-10-16T15:08:01.975360Z",
          "start_time": "2020-10-16T15:08:01.326791Z"
        },
        "id": "CtzQMe-aDnqZ"
      },
      "source": [
        "import cmapBQ.query as cmap_query\n",
        "import cmapBQ.config as cmap_config\n",
        "\n",
        "#credentials_filepath='/content/YOUR_JSON_KEY.json'\n",
        "# Set up credentials\n",
        "cmap_config.setup_credentials(credentials_filepath)\n",
        "bq_client = cmap_config.get_bq_client()"
      ],
      "execution_count": null,
      "outputs": []
    },
    {
      "cell_type": "markdown",
      "metadata": {
        "id": "XWPNh_l-7t6_"
      },
      "source": [
        "# Metadata Overview"
      ]
    },
    {
      "cell_type": "markdown",
      "metadata": {
        "id": "pUuU-66H-Zzo"
      },
      "source": [
        "![](https://raw.githubusercontent.com/cmap/lincs-workshop-2020/main/assets/BQ_metadata_schema.jpg)"
      ]
    },
    {
      "cell_type": "markdown",
      "metadata": {
        "id": "LMA5uHXtB7V8"
      },
      "source": [
        "## BigQuery Table Information"
      ]
    },
    {
      "cell_type": "markdown",
      "metadata": {
        "id": "7Erxfh69Dnqz"
      },
      "source": [
        "### The data hosted on BigQuery is organized in the following tables\n",
        "\n",
        "<div style=\"font-size: 10pt;line-height:18px;font-weight:normal\">\n",
        "    \n",
        "**compoundinfo:** <br> Metadata for all unique compounds included in the data release. Each row contains information about a unique compound such as MoA, target, etc. \n",
        "    \n",
        "**instinfo:**  <br> Sample level metadata includes information for each replicate including experimental parameters such as timepoint and dose\n",
        "\n",
        "**siginfo:**  <br> Signature (replicate collapsed) level 5 metadata. Includes experimental parameters such as timepoint and dose as well as metrics for bioactivity such as `tas` for [Transcriptional Activity Score](https://clue.io/connectopedia/signature_quality_metrics) and `cc_q75` for Replicate Correlation\n",
        "\n",
        "**L1000 Level3:**  <br> Gene expression (GEX, Level 2) are normalized to invariant gene set curves and quantile normalized across each plate. Here, the data from each perturbagen treatment is referred to as a profile, experiment, or instance. Additional values for 11,350 additional genes not directly measured in the L10000 assay are inferred based on the normalized values for the 978 landmark genes.\n",
        "\n",
        "    \n",
        "**L1000 Level4:**  <br> Z-scores for each gene based on Level 3 with respect to the entire plate population. This comparison of profiles to their appropriate population control generates a list of differentially expressed genes.\n",
        "\n",
        "**L1000 Level5:** <br> Replicate-collapsed z-score vectors based on Level 4. Replicate collapse generates one differential expression vector, which we term a signature. Connectivity analyses are performed on signatures.\n",
        "    \n",
        "**geneinfo:** <br> Metadata for gene_ids included in the data release. Each row contains mappings between gene_symbol, ensemble_id, gene_id as well as information about gene_type\n",
        "\n",
        "**cellinfo:** <br> Metadata for cell lines included in the data release. Each row contains information such as cell_iname, ccle_name or cell_lineage\n",
        "\n",
        "**genetic_pertinfo**: <br> Contains information related to genetic perturbagens such as type ['oe', 'sh', 'xpr'] and relevant gene_id, ensemble_id \n"
      ]
    },
    {
      "cell_type": "markdown",
      "metadata": {
        "id": "nd9T22hXY5HF"
      },
      "source": [
        "# Data Access"
      ]
    },
    {
      "cell_type": "markdown",
      "metadata": {
        "id": "erfU4Fniqhwx"
      },
      "source": [
        "## Get Table Schema Information"
      ]
    },
    {
      "cell_type": "code",
      "metadata": {
        "colab": {
          "base_uri": "https://localhost:8080/"
        },
        "id": "Z_HpGVk5qbok",
        "outputId": "7e0ac8c3-4691-42e2-e690-714c112b2e04"
      },
      "source": [
        "cmap_query.list_tables()"
      ],
      "execution_count": null,
      "outputs": [
        {
          "output_type": "stream",
          "text": [
            "cellinfo: cmap-big-table.cmap_lincs_public_views.cellinfo\n",
            "compoundinfo: cmap-big-table.cmap_lincs_public_views.compoundinfo\n",
            "geneinfo: cmap-big-table.cmap_lincs_public_views.geneinfo\n",
            "genetic_pertinfo: cmap-big-table.cmap_lincs_public_views.genetic_pertinfo\n",
            "instinfo: cmap-big-table.cmap_lincs_public_views.instinfo\n",
            "level3: cmap-big-table.cmap_lincs_public_views.L1000_Level3\n",
            "level4: cmap-big-table.cmap_lincs_public_views.L1000_Level4\n",
            "level5: cmap-big-table.cmap_lincs_public_views.L1000_Level5\n",
            "siginfo: cmap-big-table.cmap_lincs_public_views.siginfo\n"
          ],
          "name": "stdout"
        }
      ]
    },
    {
      "cell_type": "code",
      "metadata": {
        "colab": {
          "base_uri": "https://localhost:8080/",
          "height": 238
        },
        "id": "KWn3W1dsqTUQ",
        "outputId": "755e667b-8cb0-4869-d60a-45ba57b16d57"
      },
      "source": [
        "cmap_query.get_table_info(bq_client, 'cmap-big-table.cmap_lincs_public_views.compoundinfo') "
      ],
      "execution_count": null,
      "outputs": [
        {
          "output_type": "execute_result",
          "data": {
            "application/vnd.google.colaboratory.module+javascript": "\n      import \"https://ssl.gstatic.com/colaboratory/data_table/a6224c040fa35dcf/data_table.js\";\n\n      window.createDataTable({\n        data: [[{\n            'v': 0,\n            'f': \"0\",\n        },\n\"pert_id\",\n\"STRING\"],\n [{\n            'v': 1,\n            'f': \"1\",\n        },\n\"cmap_name\",\n\"STRING\"],\n [{\n            'v': 2,\n            'f': \"2\",\n        },\n\"target\",\n\"STRING\"],\n [{\n            'v': 3,\n            'f': \"3\",\n        },\n\"moa\",\n\"STRING\"],\n [{\n            'v': 4,\n            'f': \"4\",\n        },\n\"canonical_smiles\",\n\"STRING\"],\n [{\n            'v': 5,\n            'f': \"5\",\n        },\n\"inchi_key\",\n\"STRING\"],\n [{\n            'v': 6,\n            'f': \"6\",\n        },\n\"compound_aliases\",\n\"STRING\"]],\n        columns: [[\"number\", \"index\"], [\"string\", \"column_name\"], [\"string\", \"data_type\"]],\n        columnOptions: [{\"width\": \"1px\", \"className\": \"index_column\"}],\n        rowsPerPage: 25,\n        helpUrl: \"https://colab.research.google.com/notebooks/data_table.ipynb\",\n        suppressOutputScrolling: true,\n        minimumWidth: undefined,\n      });\n    ",
            "text/html": [
              "<div>\n",
              "<style scoped>\n",
              "    .dataframe tbody tr th:only-of-type {\n",
              "        vertical-align: middle;\n",
              "    }\n",
              "\n",
              "    .dataframe tbody tr th {\n",
              "        vertical-align: top;\n",
              "    }\n",
              "\n",
              "    .dataframe thead th {\n",
              "        text-align: right;\n",
              "    }\n",
              "</style>\n",
              "<table border=\"1\" class=\"dataframe\">\n",
              "  <thead>\n",
              "    <tr style=\"text-align: right;\">\n",
              "      <th></th>\n",
              "      <th>column_name</th>\n",
              "      <th>data_type</th>\n",
              "    </tr>\n",
              "  </thead>\n",
              "  <tbody>\n",
              "    <tr>\n",
              "      <th>0</th>\n",
              "      <td>pert_id</td>\n",
              "      <td>STRING</td>\n",
              "    </tr>\n",
              "    <tr>\n",
              "      <th>1</th>\n",
              "      <td>cmap_name</td>\n",
              "      <td>STRING</td>\n",
              "    </tr>\n",
              "    <tr>\n",
              "      <th>2</th>\n",
              "      <td>target</td>\n",
              "      <td>STRING</td>\n",
              "    </tr>\n",
              "    <tr>\n",
              "      <th>3</th>\n",
              "      <td>moa</td>\n",
              "      <td>STRING</td>\n",
              "    </tr>\n",
              "    <tr>\n",
              "      <th>4</th>\n",
              "      <td>canonical_smiles</td>\n",
              "      <td>STRING</td>\n",
              "    </tr>\n",
              "    <tr>\n",
              "      <th>5</th>\n",
              "      <td>inchi_key</td>\n",
              "      <td>STRING</td>\n",
              "    </tr>\n",
              "    <tr>\n",
              "      <th>6</th>\n",
              "      <td>compound_aliases</td>\n",
              "      <td>STRING</td>\n",
              "    </tr>\n",
              "  </tbody>\n",
              "</table>\n",
              "</div>"
            ],
            "text/plain": [
              "        column_name data_type\n",
              "0           pert_id    STRING\n",
              "1         cmap_name    STRING\n",
              "2            target    STRING\n",
              "3               moa    STRING\n",
              "4  canonical_smiles    STRING\n",
              "5         inchi_key    STRING\n",
              "6  compound_aliases    STRING"
            ]
          },
          "metadata": {
            "tags": []
          },
          "execution_count": 51
        }
      ]
    },
    {
      "cell_type": "code",
      "metadata": {
        "colab": {
          "base_uri": "https://localhost:8080/",
          "height": 423
        },
        "id": "oQPtEl8axOsb",
        "outputId": "ae96452c-ed66-4a63-c563-305d72587ab8"
      },
      "source": [
        "config = cmap_config.get_default_config()\n",
        "compoundinfo_table = config.tables.compoundinfo\n",
        "\n",
        "QUERY = ( 'SELECT moa, ' \n",
        "'COUNT(DISTINCT(pert_id)) AS count ' \n",
        "'FROM `cmap-big-table.cmap_lincs_public_views.compoundinfo` ' \n",
        "'GROUP BY moa')\n",
        "\n",
        "cmap_query.run_query(bq_client, QUERY).result().to_dataframe()"
      ],
      "execution_count": null,
      "outputs": [
        {
          "output_type": "execute_result",
          "data": {
            "text/html": [
              "<div>\n",
              "<style scoped>\n",
              "    .dataframe tbody tr th:only-of-type {\n",
              "        vertical-align: middle;\n",
              "    }\n",
              "\n",
              "    .dataframe tbody tr th {\n",
              "        vertical-align: top;\n",
              "    }\n",
              "\n",
              "    .dataframe thead th {\n",
              "        text-align: right;\n",
              "    }\n",
              "</style>\n",
              "<table border=\"1\" class=\"dataframe\">\n",
              "  <thead>\n",
              "    <tr style=\"text-align: right;\">\n",
              "      <th></th>\n",
              "      <th>moa</th>\n",
              "      <th>count</th>\n",
              "    </tr>\n",
              "  </thead>\n",
              "  <tbody>\n",
              "    <tr>\n",
              "      <th>0</th>\n",
              "      <td>None</td>\n",
              "      <td>31262</td>\n",
              "    </tr>\n",
              "    <tr>\n",
              "      <th>1</th>\n",
              "      <td>CAR agonist</td>\n",
              "      <td>2</td>\n",
              "    </tr>\n",
              "    <tr>\n",
              "      <th>2</th>\n",
              "      <td>ALK inhibitor</td>\n",
              "      <td>7</td>\n",
              "    </tr>\n",
              "    <tr>\n",
              "      <th>3</th>\n",
              "      <td>Akt inhibitor</td>\n",
              "      <td>13</td>\n",
              "    </tr>\n",
              "    <tr>\n",
              "      <th>4</th>\n",
              "      <td>BCL inhibitor</td>\n",
              "      <td>11</td>\n",
              "    </tr>\n",
              "    <tr>\n",
              "      <th>...</th>\n",
              "      <td>...</td>\n",
              "      <td>...</td>\n",
              "    </tr>\n",
              "    <tr>\n",
              "      <th>653</th>\n",
              "      <td>Telomerase reverse transcriptase expression in...</td>\n",
              "      <td>1</td>\n",
              "    </tr>\n",
              "    <tr>\n",
              "      <th>654</th>\n",
              "      <td>Gonadotropin releasing factor hormone receptor...</td>\n",
              "      <td>2</td>\n",
              "    </tr>\n",
              "    <tr>\n",
              "      <th>655</th>\n",
              "      <td>Gonadotropin releasing factor hormone receptor...</td>\n",
              "      <td>1</td>\n",
              "    </tr>\n",
              "    <tr>\n",
              "      <th>656</th>\n",
              "      <td>Precursor for food preservatives, plasticizers...</td>\n",
              "      <td>1</td>\n",
              "    </tr>\n",
              "    <tr>\n",
              "      <th>657</th>\n",
              "      <td>Binding of RNA helicase A to the transcription...</td>\n",
              "      <td>1</td>\n",
              "    </tr>\n",
              "  </tbody>\n",
              "</table>\n",
              "<p>658 rows × 2 columns</p>\n",
              "</div>"
            ],
            "text/plain": [
              "                                                   moa  count\n",
              "0                                                 None  31262\n",
              "1                                          CAR agonist      2\n",
              "2                                        ALK inhibitor      7\n",
              "3                                        Akt inhibitor     13\n",
              "4                                        BCL inhibitor     11\n",
              "..                                                 ...    ...\n",
              "653  Telomerase reverse transcriptase expression in...      1\n",
              "654  Gonadotropin releasing factor hormone receptor...      2\n",
              "655  Gonadotropin releasing factor hormone receptor...      1\n",
              "656  Precursor for food preservatives, plasticizers...      1\n",
              "657  Binding of RNA helicase A to the transcription...      1\n",
              "\n",
              "[658 rows x 2 columns]"
            ]
          },
          "metadata": {
            "tags": []
          },
          "execution_count": 37
        }
      ]
    },
    {
      "cell_type": "markdown",
      "metadata": {
        "id": "8H7RQUqvSpWp"
      },
      "source": [
        "## Raw SQL Queries"
      ]
    },
    {
      "cell_type": "markdown",
      "metadata": {
        "id": "59rrOYcv_08C"
      },
      "source": [
        "`cmapBQ.query.list_tables()` function will display table adresses of default tables for usage in SQL queries"
      ]
    },
    {
      "cell_type": "code",
      "metadata": {
        "id": "yCMwFJvcSn-8",
        "colab": {
          "base_uri": "https://localhost:8080/"
        },
        "outputId": "839dc5d9-a4e9-4eaa-94c2-b88ea09e015b"
      },
      "source": [
        "import cmapBQ.query as cmap_query\n",
        "\n",
        "cmap_query.list_tables()"
      ],
      "execution_count": null,
      "outputs": [
        {
          "output_type": "stream",
          "text": [
            "cellinfo: cmap-big-table.cmap_lincs_public_views.cellinfo\n",
            "compoundinfo: cmap-big-table.cmap_lincs_public_views.compoundinfo\n",
            "geneinfo: cmap-big-table.cmap_lincs_public_views.geneinfo\n",
            "genetic_pertinfo: cmap-big-table.cmap_lincs_public_views.genetic_pertinfo\n",
            "instinfo: cmap-big-table.cmap_lincs_public_views.instinfo\n",
            "level3: cmap-big-table.cmap_lincs_public_views.L1000_Level3\n",
            "level4: cmap-big-table.cmap_lincs_public_views.L1000_Level4\n",
            "level5: cmap-big-table.cmap_lincs_public_views.L1000_Level5\n",
            "siginfo: cmap-big-table.cmap_lincs_public_views.siginfo\n"
          ],
          "name": "stdout"
        }
      ]
    },
    {
      "cell_type": "markdown",
      "metadata": {
        "id": "K55z8PJABDfe"
      },
      "source": [
        "Raw SQL queries can be run on the public datasets as shown below. Syntax follows that of Google Biqquery, available here: https://cloud.google.com/bigquery/docs/reference/standard-sql/query-syntax"
      ]
    },
    {
      "cell_type": "markdown",
      "metadata": {
        "id": "YVPmcb4mMIKh"
      },
      "source": [
        "Runs BigQuery query job.\n",
        "\n",
        "    cmapBQ.query.run_query(client, query)\n",
        "  \n",
        "    Parameters\n",
        "            client – BigQuery client object\n",
        "            query – Query to run as a string\n",
        "    Returns\n",
        "        QueryJob object\n",
        "\n"
      ]
    },
    {
      "cell_type": "markdown",
      "metadata": {
        "id": "VwHW62U7Z1bT"
      },
      "source": [
        "### Example SQL Query "
      ]
    },
    {
      "cell_type": "code",
      "metadata": {
        "id": "zCD_qgt4__T4",
        "colab": {
          "base_uri": "https://localhost:8080/",
          "height": 80
        },
        "outputId": "3546657c-894d-4420-b7f7-323708c4a3b7"
      },
      "source": [
        "## This query may take up to a minute\n",
        "query = \"SELECT COUNT(DISTINCT(sig_id)) as num_level5_sigs FROM cmap-big-table.cmap_lincs_public_views.siginfo\"\n",
        "\n",
        "\n",
        "# a QueryJob object is returned which is why result() and to_dataframe() are required.\n",
        "cmap_query.run_query(query=query, client=bq_client).result().to_dataframe()"
      ],
      "execution_count": null,
      "outputs": [
        {
          "output_type": "execute_result",
          "data": {
            "text/html": [
              "<div>\n",
              "<style scoped>\n",
              "    .dataframe tbody tr th:only-of-type {\n",
              "        vertical-align: middle;\n",
              "    }\n",
              "\n",
              "    .dataframe tbody tr th {\n",
              "        vertical-align: top;\n",
              "    }\n",
              "\n",
              "    .dataframe thead th {\n",
              "        text-align: right;\n",
              "    }\n",
              "</style>\n",
              "<table border=\"1\" class=\"dataframe\">\n",
              "  <thead>\n",
              "    <tr style=\"text-align: right;\">\n",
              "      <th></th>\n",
              "      <th>num_level5_sigs</th>\n",
              "    </tr>\n",
              "  </thead>\n",
              "  <tbody>\n",
              "    <tr>\n",
              "      <th>0</th>\n",
              "      <td>1165730</td>\n",
              "    </tr>\n",
              "  </tbody>\n",
              "</table>\n",
              "</div>"
            ],
            "text/plain": [
              "   num_level5_sigs\n",
              "0          1165730"
            ]
          },
          "metadata": {
            "tags": []
          },
          "execution_count": 39
        }
      ]
    },
    {
      "cell_type": "markdown",
      "metadata": {
        "id": "Oolqo1qST_sV"
      },
      "source": [
        "## Functions -- Data Preview"
      ]
    },
    {
      "cell_type": "code",
      "metadata": {
        "id": "mO7S5cqVURJc",
        "colab": {
          "base_uri": "https://localhost:8080/",
          "height": 423
        },
        "outputId": "e9e01241-6a41-4eb7-9d83-2cef82d9b594"
      },
      "source": [
        "cmap_query.list_cmap_compounds(bq_client)"
      ],
      "execution_count": null,
      "outputs": [
        {
          "output_type": "execute_result",
          "data": {
            "text/html": [
              "<div>\n",
              "<style scoped>\n",
              "    .dataframe tbody tr th:only-of-type {\n",
              "        vertical-align: middle;\n",
              "    }\n",
              "\n",
              "    .dataframe tbody tr th {\n",
              "        vertical-align: top;\n",
              "    }\n",
              "\n",
              "    .dataframe thead th {\n",
              "        text-align: right;\n",
              "    }\n",
              "</style>\n",
              "<table border=\"1\" class=\"dataframe\">\n",
              "  <thead>\n",
              "    <tr style=\"text-align: right;\">\n",
              "      <th></th>\n",
              "      <th>cmap_name</th>\n",
              "    </tr>\n",
              "  </thead>\n",
              "  <tbody>\n",
              "    <tr>\n",
              "      <th>0</th>\n",
              "      <td>L-theanine</td>\n",
              "    </tr>\n",
              "    <tr>\n",
              "      <th>1</th>\n",
              "      <td>L-citrulline</td>\n",
              "    </tr>\n",
              "    <tr>\n",
              "      <th>2</th>\n",
              "      <td>BRD-A18795974</td>\n",
              "    </tr>\n",
              "    <tr>\n",
              "      <th>3</th>\n",
              "      <td>BRD-A27924917</td>\n",
              "    </tr>\n",
              "    <tr>\n",
              "      <th>4</th>\n",
              "      <td>BRD-A35931254</td>\n",
              "    </tr>\n",
              "    <tr>\n",
              "      <th>...</th>\n",
              "      <td>...</td>\n",
              "    </tr>\n",
              "    <tr>\n",
              "      <th>33622</th>\n",
              "      <td>TAS-301</td>\n",
              "    </tr>\n",
              "    <tr>\n",
              "      <th>33623</th>\n",
              "      <td>goserelin-acetate</td>\n",
              "    </tr>\n",
              "    <tr>\n",
              "      <th>33624</th>\n",
              "      <td>triptorelin</td>\n",
              "    </tr>\n",
              "    <tr>\n",
              "      <th>33625</th>\n",
              "      <td>T-98475</td>\n",
              "    </tr>\n",
              "    <tr>\n",
              "      <th>33626</th>\n",
              "      <td>benzoic-acid</td>\n",
              "    </tr>\n",
              "  </tbody>\n",
              "</table>\n",
              "<p>33627 rows × 1 columns</p>\n",
              "</div>"
            ],
            "text/plain": [
              "               cmap_name\n",
              "0             L-theanine\n",
              "1           L-citrulline\n",
              "2          BRD-A18795974\n",
              "3          BRD-A27924917\n",
              "4          BRD-A35931254\n",
              "...                  ...\n",
              "33622            TAS-301\n",
              "33623  goserelin-acetate\n",
              "33624        triptorelin\n",
              "33625            T-98475\n",
              "33626       benzoic-acid\n",
              "\n",
              "[33627 rows x 1 columns]"
            ]
          },
          "metadata": {
            "tags": []
          },
          "execution_count": 40
        }
      ]
    },
    {
      "cell_type": "code",
      "metadata": {
        "id": "3FSn99k9UHzx",
        "colab": {
          "base_uri": "https://localhost:8080/",
          "height": 423
        },
        "outputId": "b2ce9fcc-c977-47a5-8d58-f6562af73940"
      },
      "source": [
        "cmap_query.list_cmap_targets(bq_client)"
      ],
      "execution_count": null,
      "outputs": [
        {
          "output_type": "execute_result",
          "data": {
            "text/html": [
              "<div>\n",
              "<style scoped>\n",
              "    .dataframe tbody tr th:only-of-type {\n",
              "        vertical-align: middle;\n",
              "    }\n",
              "\n",
              "    .dataframe tbody tr th {\n",
              "        vertical-align: top;\n",
              "    }\n",
              "\n",
              "    .dataframe thead th {\n",
              "        text-align: right;\n",
              "    }\n",
              "</style>\n",
              "<table border=\"1\" class=\"dataframe\">\n",
              "  <thead>\n",
              "    <tr style=\"text-align: right;\">\n",
              "      <th></th>\n",
              "      <th>target</th>\n",
              "      <th>count</th>\n",
              "    </tr>\n",
              "  </thead>\n",
              "  <tbody>\n",
              "    <tr>\n",
              "      <th>0</th>\n",
              "      <td>None</td>\n",
              "      <td>31262</td>\n",
              "    </tr>\n",
              "    <tr>\n",
              "      <th>1</th>\n",
              "      <td>NR1I3</td>\n",
              "      <td>3</td>\n",
              "    </tr>\n",
              "    <tr>\n",
              "      <th>2</th>\n",
              "      <td>ACVR1</td>\n",
              "      <td>3</td>\n",
              "    </tr>\n",
              "    <tr>\n",
              "      <th>3</th>\n",
              "      <td>AKT3</td>\n",
              "      <td>7</td>\n",
              "    </tr>\n",
              "    <tr>\n",
              "      <th>4</th>\n",
              "      <td>AKT1</td>\n",
              "      <td>10</td>\n",
              "    </tr>\n",
              "    <tr>\n",
              "      <th>...</th>\n",
              "      <td>...</td>\n",
              "      <td>...</td>\n",
              "    </tr>\n",
              "    <tr>\n",
              "      <th>886</th>\n",
              "      <td>WASL</td>\n",
              "      <td>1</td>\n",
              "    </tr>\n",
              "    <tr>\n",
              "      <th>887</th>\n",
              "      <td>EIF2S1</td>\n",
              "      <td>2</td>\n",
              "    </tr>\n",
              "    <tr>\n",
              "      <th>888</th>\n",
              "      <td>MTTP</td>\n",
              "      <td>1</td>\n",
              "    </tr>\n",
              "    <tr>\n",
              "      <th>889</th>\n",
              "      <td>HSD3B2</td>\n",
              "      <td>1</td>\n",
              "    </tr>\n",
              "    <tr>\n",
              "      <th>890</th>\n",
              "      <td>RAB9A</td>\n",
              "      <td>1</td>\n",
              "    </tr>\n",
              "  </tbody>\n",
              "</table>\n",
              "<p>891 rows × 2 columns</p>\n",
              "</div>"
            ],
            "text/plain": [
              "     target  count\n",
              "0      None  31262\n",
              "1     NR1I3      3\n",
              "2     ACVR1      3\n",
              "3      AKT3      7\n",
              "4      AKT1     10\n",
              "..      ...    ...\n",
              "886    WASL      1\n",
              "887  EIF2S1      2\n",
              "888    MTTP      1\n",
              "889  HSD3B2      1\n",
              "890   RAB9A      1\n",
              "\n",
              "[891 rows x 2 columns]"
            ]
          },
          "metadata": {
            "tags": []
          },
          "execution_count": 41
        }
      ]
    },
    {
      "cell_type": "code",
      "metadata": {
        "id": "o7egSxJCKJJx",
        "colab": {
          "base_uri": "https://localhost:8080/",
          "height": 625
        },
        "outputId": "8ab41f73-6afb-4a74-8432-658c35ce3658"
      },
      "source": [
        "cmap_query.list_cmap_moas(bq_client)"
      ],
      "execution_count": null,
      "outputs": [
        {
          "output_type": "execute_result",
          "data": {
            "application/vnd.google.colaboratory.module+javascript": "\n      import \"https://ssl.gstatic.com/colaboratory/data_table/a6224c040fa35dcf/data_table.js\";\n\n      window.createDataTable({\n        data: [[{\n            'v': 0,\n            'f': \"0\",\n        },\nnull,\n{\n            'v': 31262,\n            'f': \"31262\",\n        }],\n [{\n            'v': 1,\n            'f': \"1\",\n        },\n\"CAR agonist\",\n{\n            'v': 2,\n            'f': \"2\",\n        }],\n [{\n            'v': 2,\n            'f': \"2\",\n        },\n\"ALK inhibitor\",\n{\n            'v': 7,\n            'f': \"7\",\n        }],\n [{\n            'v': 3,\n            'f': \"3\",\n        },\n\"Akt inhibitor\",\n{\n            'v': 13,\n            'f': \"13\",\n        }],\n [{\n            'v': 4,\n            'f': \"4\",\n        },\n\"BCL inhibitor\",\n{\n            'v': 11,\n            'f': \"11\",\n        }],\n [{\n            'v': 5,\n            'f': \"5\",\n        },\n\"BTK inhibitor\",\n{\n            'v': 6,\n            'f': \"6\",\n        }],\n [{\n            'v': 6,\n            'f': \"6\",\n        },\n\"CDK inhibitor\",\n{\n            'v': 28,\n            'f': \"28\",\n        }],\n [{\n            'v': 7,\n            'f': \"7\",\n        },\n\"CHK inhibitor\",\n{\n            'v': 8,\n            'f': \"8\",\n        }],\n [{\n            'v': 8,\n            'f': \"8\",\n        },\n\"HSP inhibitor\",\n{\n            'v': 17,\n            'f': \"17\",\n        }],\n [{\n            'v': 9,\n            'f': \"9\",\n        },\n\"ITK inhibitor\",\n{\n            'v': 1,\n            'f': \"1\",\n        }],\n [{\n            'v': 10,\n            'f': \"10\",\n        },\n\"JAK inhibitor\",\n{\n            'v': 22,\n            'f': \"22\",\n        }],\n [{\n            'v': 11,\n            'f': \"11\",\n        },\n\"KIT inhibitor\",\n{\n            'v': 19,\n            'f': \"19\",\n        }],\n [{\n            'v': 12,\n            'f': \"12\",\n        },\n\"MDM inhibitor\",\n{\n            'v': 10,\n            'f': \"10\",\n        }],\n [{\n            'v': 13,\n            'f': \"13\",\n        },\n\"MEK inhibitor\",\n{\n            'v': 17,\n            'f': \"17\",\n        }],\n [{\n            'v': 14,\n            'f': \"14\",\n        },\n\"PKC inhibitor\",\n{\n            'v': 11,\n            'f': \"11\",\n        }],\n [{\n            'v': 15,\n            'f': \"15\",\n        },\n\"AMPK activator\",\n{\n            'v': 2,\n            'f': \"2\",\n        }],\n [{\n            'v': 16,\n            'f': \"16\",\n        },\n\"EGFR inhibitor\",\n{\n            'v': 39,\n            'f': \"39\",\n        }],\n [{\n            'v': 17,\n            'f': \"17\",\n        },\n\"FLT3 inhibitor\",\n{\n            'v': 24,\n            'f': \"24\",\n        }],\n [{\n            'v': 18,\n            'f': \"18\",\n        },\n\"HDAC inhibitor\",\n{\n            'v': 31,\n            'f': \"31\",\n        }],\n [{\n            'v': 19,\n            'f': \"19\",\n        },\n\"MTOR inhibitor\",\n{\n            'v': 36,\n            'f': \"36\",\n        }],\n [{\n            'v': 20,\n            'f': \"20\",\n        },\n\"PI3K inhibitor\",\n{\n            'v': 35,\n            'f': \"35\",\n        }],\n [{\n            'v': 21,\n            'f': \"21\",\n        },\n\"RIPK inhibitor\",\n{\n            'v': 1,\n            'f': \"1\",\n        }],\n [{\n            'v': 22,\n            'f': \"22\",\n        },\n\"SIRT inhibitor\",\n{\n            'v': 6,\n            'f': \"6\",\n        }],\n [{\n            'v': 23,\n            'f': \"23\",\n        },\n\"TP53 inhibitor\",\n{\n            'v': 2,\n            'f': \"2\",\n        }],\n [{\n            'v': 24,\n            'f': \"24\",\n        },\n\"PDGFR inhibitor\",\n{\n            'v': 31,\n            'f': \"31\",\n        }],\n [{\n            'v': 25,\n            'f': \"25\",\n        },\n\"USP14 inhibitor\",\n{\n            'v': 1,\n            'f': \"1\",\n        }],\n [{\n            'v': 26,\n            'f': \"26\",\n        },\n\"VEGFR inhibitor\",\n{\n            'v': 45,\n            'f': \"45\",\n        }],\n [{\n            'v': 27,\n            'f': \"27\",\n        },\n\"ATPase inhibitor\",\n{\n            'v': 39,\n            'f': \"39\",\n        }],\n [{\n            'v': 28,\n            'f': \"28\",\n        },\n\"Dynamin inhibitor\",\n{\n            'v': 2,\n            'f': \"2\",\n        }],\n [{\n            'v': 29,\n            'f': \"29\",\n        },\n\"Tubulin inhibitor\",\n{\n            'v': 34,\n            'f': \"34\",\n        }],\n [{\n            'v': 30,\n            'f': \"30\",\n        },\n\"Arginase inhibitor\",\n{\n            'v': 1,\n            'f': \"1\",\n        }],\n [{\n            'v': 31,\n            'f': \"31\",\n        },\n\"Exportin antagonist\",\n{\n            'v': 2,\n            'f': \"2\",\n        }],\n [{\n            'v': 32,\n            'f': \"32\",\n        },\n\"Glutamate inhibitor\",\n{\n            'v': 6,\n            'f': \"6\",\n        }],\n [{\n            'v': 33,\n            'f': \"33\",\n        },\n\"Porcupine inhibitor\",\n{\n            'v': 3,\n            'f': \"3\",\n        }],\n [{\n            'v': 34,\n            'f': \"34\",\n        },\n\"Urokinase inhibitor\",\n{\n            'v': 1,\n            'f': \"1\",\n        }],\n [{\n            'v': 35,\n            'f': \"35\",\n        },\n\"Abl kinase inhibitor\",\n{\n            'v': 15,\n            'f': \"15\",\n        }],\n [{\n            'v': 36,\n            'f': \"36\",\n        },\n\"Neprilysin inhibitor\",\n{\n            'v': 2,\n            'f': \"2\",\n        }],\n [{\n            'v': 37,\n            'f': \"37\",\n        },\n\"Pim kinase inhibitor\",\n{\n            'v': 7,\n            'f': \"7\",\n        }],\n [{\n            'v': 38,\n            'f': \"38\",\n        },\n\"Proteasome inhibitor\",\n{\n            'v': 6,\n            'f': \"6\",\n        }],\n [{\n            'v': 39,\n            'f': \"39\",\n        },\n\"Bromodomain inhibitor\",\n{\n            'v': 1,\n            'f': \"1\",\n        }],\n [{\n            'v': 40,\n            'f': \"40\",\n        },\n\"Leukotriene inhibitor\",\n{\n            'v': 4,\n            'f': \"4\",\n        }],\n [{\n            'v': 41,\n            'f': \"41\",\n        },\n\"Microtubule inhibitor\",\n{\n            'v': 11,\n            'f': \"11\",\n        }],\n [{\n            'v': 42,\n            'f': \"42\",\n        },\n\"PPAR receptor agonist\",\n{\n            'v': 27,\n            'f': \"27\",\n        }],\n [{\n            'v': 43,\n            'f': \"43\",\n        },\n\"Gap junction modulator\",\n{\n            'v': 2,\n            'f': \"2\",\n        }],\n [{\n            'v': 44,\n            'f': \"44\",\n        },\n\"Lipoxygenase inhibitor\",\n{\n            'v': 18,\n            'f': \"18\",\n        }],\n [{\n            'v': 45,\n            'f': \"45\",\n        },\n\"Aurora kinase inhibitor\",\n{\n            'v': 19,\n            'f': \"19\",\n        }],\n [{\n            'v': 46,\n            'f': \"46\",\n        },\n\"Casein kinase inhibitor\",\n{\n            'v': 4,\n            'f': \"4\",\n        }],\n [{\n            'v': 47,\n            'f': \"47\",\n        },\n\"NOP receptor antagonist\",\n{\n            'v': 1,\n            'f': \"1\",\n        }],\n [{\n            'v': 48,\n            'f': \"48\",\n        },\n\"Opioid receptor agonist\",\n{\n            'v': 28,\n            'f': \"28\",\n        }],\n [{\n            'v': 49,\n            'f': \"49\",\n        },\n\"Phospholipase activator\",\n{\n            'v': 3,\n            'f': \"3\",\n        }],\n [{\n            'v': 50,\n            'f': \"50\",\n        },\n\"Topoisomerase inhibitor\",\n{\n            'v': 46,\n            'f': \"46\",\n        }],\n [{\n            'v': 51,\n            'f': \"51\",\n        },\n\"Cyclooxygenase inhibitor\",\n{\n            'v': 80,\n            'f': \"80\",\n        }],\n [{\n            'v': 52,\n            'f': \"52\",\n        },\n\"Dopamine receptor ligand\",\n{\n            'v': 1,\n            'f': \"1\",\n        }],\n [{\n            'v': 53,\n            'f': \"53\",\n        },\n\"P-glycoprotein inhibitor\",\n{\n            'v': 7,\n            'f': \"7\",\n        }],\n [{\n            'v': 54,\n            'f': \"54\",\n        },\n\"PPAR receptor antagonist\",\n{\n            'v': 6,\n            'f': \"6\",\n        }],\n [{\n            'v': 55,\n            'f': \"55\",\n        },\n\"Protein kinase inhibitor\",\n{\n            'v': 7,\n            'f': \"7\",\n        }],\n [{\n            'v': 56,\n            'f': \"56\",\n        },\n\"Dopamine receptor agonist\",\n{\n            'v': 42,\n            'f': \"42\",\n        }],\n [{\n            'v': 57,\n            'f': \"57\",\n        },\n\"Estrogen receptor agonist\",\n{\n            'v': 44,\n            'f': \"44\",\n        }],\n [{\n            'v': 58,\n            'f': \"58\",\n        },\n\"Potassium channel blocker\",\n{\n            'v': 22,\n            'f': \"22\",\n        }],\n [{\n            'v': 59,\n            'f': \"59\",\n        },\n\"Adenosine kinase inhibitor\",\n{\n            'v': 2,\n            'f': \"2\",\n        }],\n [{\n            'v': 60,\n            'f': \"60\",\n        },\n\"Aldose reductase inhibitor\",\n{\n            'v': 12,\n            'f': \"12\",\n        }],\n [{\n            'v': 61,\n            'f': \"61\",\n        },\n\"Glutamate receptor agonist\",\n{\n            'v': 10,\n            'f': \"10\",\n        }],\n [{\n            'v': 62,\n            'f': \"62\",\n        },\n\"Guanylyl cyclase inhibitor\",\n{\n            'v': 3,\n            'f': \"3\",\n        }],\n [{\n            'v': 63,\n            'f': \"63\",\n        },\n\"Mediator release inhibitor\",\n{\n            'v': 2,\n            'f': \"2\",\n        }],\n [{\n            'v': 64,\n            'f': \"64\",\n        },\n\"Melatonin receptor agonist\",\n{\n            'v': 6,\n            'f': \"6\",\n        }],\n [{\n            'v': 65,\n            'f': \"65\",\n        },\n\"Opioid receptor antagonist\",\n{\n            'v': 32,\n            'f': \"32\",\n        }],\n [{\n            'v': 66,\n            'f': \"66\",\n        },\n\"Serotonin receptor agonist\",\n{\n            'v': 46,\n            'f': \"46\",\n        }],\n [{\n            'v': 67,\n            'f': \"67\",\n        },\n\"Adrenergic receptor agonist\",\n{\n            'v': 61,\n            'f': \"61\",\n        }],\n [{\n            'v': 68,\n            'f': \"68\",\n        },\n\"Chloride channel antagonist\",\n{\n            'v': 4,\n            'f': \"4\",\n        }],\n [{\n            'v': 69,\n            'f': \"69\",\n        },\n\"Phosphodiesterase inhibitor\",\n{\n            'v': 48,\n            'f': \"48\",\n        }],\n [{\n            'v': 70,\n            'f': \"70\",\n        },\n\"Cannabinoid receptor agonist\",\n{\n            'v': 15,\n            'f': \"15\",\n        }],\n [{\n            'v': 71,\n            'f': \"71\",\n        },\n\"Dopamine receptor antagonist\",\n{\n            'v': 73,\n            'f': \"73\",\n        }],\n [{\n            'v': 72,\n            'f': \"72\",\n        },\n\"Estrogen receptor antagonist\",\n{\n            'v': 22,\n            'f': \"22\",\n        }],\n [{\n            'v': 73,\n            'f': \"73\",\n        },\n\"Sphingosine kinase inhibitor\",\n{\n            'v': 3,\n            'f': \"3\",\n        }],\n [{\n            'v': 74,\n            'f': \"74\",\n        },\n\"Adenosine deaminase inhibitor\",\n{\n            'v': 2,\n            'f': \"2\",\n        }],\n [{\n            'v': 75,\n            'f': \"75\",\n        },\n\"Adenosine receptor antagonist\",\n{\n            'v': 22,\n            'f': \"22\",\n        }],\n [{\n            'v': 76,\n            'f': \"76\",\n        },\n\"Farnesyltransferase inhibitor\",\n{\n            'v': 7,\n            'f': \"7\",\n        }],\n [{\n            'v': 77,\n            'f': \"77\",\n        },\n\"Glucosyltransferase inhibitor\",\n{\n            'v': 1,\n            'f': \"1\",\n        }],\n [{\n            'v': 78,\n            'f': \"78\",\n        },\n\"Glutamate receptor antagonist\",\n{\n            'v': 51,\n            'f': \"51\",\n        }],\n [{\n            'v': 79,\n            'f': \"79\",\n        },\n\"Prostanoid receptor inhibitor\",\n{\n            'v': 1,\n            'f': \"1\",\n        }],\n [{\n            'v': 80,\n            'f': \"80\",\n        },\n\"Protein phosphatase inhibitor\",\n{\n            'v': 2,\n            'f': \"2\",\n        }],\n [{\n            'v': 81,\n            'f': \"81\",\n        },\n\"RET tyrosine kinase inhibitor\",\n{\n            'v': 8,\n            'f': \"8\",\n        }],\n [{\n            'v': 82,\n            'f': \"82\",\n        },\n\"Serotonin receptor antagonist\",\n{\n            'v': 93,\n            'f': \"93\",\n        }],\n [{\n            'v': 83,\n            'f': \"83\",\n        },\n\"Adrenergic receptor antagonist\",\n{\n            'v': 81,\n            'f': \"81\",\n        }],\n [{\n            'v': 84,\n            'f': \"84\",\n        },\n\"N-type calcium channel blocker\",\n{\n            'v': 1,\n            'f': \"1\",\n        }],\n [{\n            'v': 85,\n            'f': \"85\",\n        },\n\"Prostanoid receptor antagonist\",\n{\n            'v': 13,\n            'f': \"13\",\n        }],\n [{\n            'v': 86,\n            'f': \"86\",\n        },\n\"Purinergic receptor antagonist\",\n{\n            'v': 9,\n            'f': \"9\",\n        }],\n [{\n            'v': 87,\n            'f': \"87\",\n        },\n\"Smoothened receptor antagonist\",\n{\n            'v': 9,\n            'f': \"9\",\n        }],\n [{\n            'v': 88,\n            'f': \"88\",\n        },\n\"Nitric oxide synthase inhibitor\",\n{\n            'v': 7,\n            'f': \"7\",\n        }],\n [{\n            'v': 89,\n            'f': \"89\",\n        },\n\"Adenosylhomocysteinase inhibitor\",\n{\n            'v': 1,\n            'f': \"1\",\n        }],\n [{\n            'v': 90,\n            'f': \"90\",\n        },\n\"Aldehyde dehydrogenase activator\",\n{\n            'v': 1,\n            'f': \"1\",\n        }],\n [{\n            'v': 91,\n            'f': \"91\",\n        },\n\"Acetylcholine receptor antagonist\",\n{\n            'v': 68,\n            'f': \"68\",\n        }],\n [{\n            'v': 92,\n            'f': \"92\",\n        },\n\"Aryl hydrocarbon receptor agonist\",\n{\n            'v': 3,\n            'f': \"3\",\n        }],\n [{\n            'v': 93,\n            'f': \"93\",\n        },\n\"Dihydrofolate reductase inhibitor\",\n{\n            'v': 6,\n            'f': \"6\",\n        }],\n [{\n            'v': 94,\n            'f': \"94\",\n        },\n\"Fibroblast growth factor inhibitor\",\n{\n            'v': 1,\n            'f': \"1\",\n        }],\n [{\n            'v': 95,\n            'f': \"95\",\n        },\n\"Aryl hydrocarbon receptor antagonist\",\n{\n            'v': 2,\n            'f': \"2\",\n        }],\n [{\n            'v': 96,\n            'f': \"96\",\n        },\n\"Histone lysine demethylase inhibitor\",\n{\n            'v': 3,\n            'f': \"3\",\n        }],\n [{\n            'v': 97,\n            'f': \"97\",\n        },\n\"Kinesin-like spindle protein inhibitor\",\n{\n            'v': 2,\n            'f': \"2\",\n        }],\n [{\n            'v': 98,\n            'f': \"98\",\n        },\n\"Sphingosine N acyltransferase inhibitor\",\n{\n            'v': 1,\n            'f': \"1\",\n        }],\n [{\n            'v': 99,\n            'f': \"99\",\n        },\n\"Phosphoinositide dependent kinase inhibitor\",\n{\n            'v': 1,\n            'f': \"1\",\n        }],\n [{\n            'v': 100,\n            'f': \"100\",\n        },\n\"Steroid\",\n{\n            'v': 1,\n            'f': \"1\",\n        }],\n [{\n            'v': 101,\n            'f': \"101\",\n        },\n\"Diuretic\",\n{\n            'v': 2,\n            'f': \"2\",\n        }],\n [{\n            'v': 102,\n            'f': \"102\",\n        },\n\"Antiviral\",\n{\n            'v': 4,\n            'f': \"4\",\n        }],\n [{\n            'v': 103,\n            'f': \"103\",\n        },\n\"Bile acid\",\n{\n            'v': 2,\n            'f': \"2\",\n        }],\n [{\n            'v': 104,\n            'f': \"104\",\n        },\n\"Vitamin B\",\n{\n            'v': 5,\n            'f': \"5\",\n        }],\n [{\n            'v': 105,\n            'f': \"105\",\n        },\n\"Anti-HCVE2\",\n{\n            'v': 1,\n            'f': \"1\",\n        }],\n [{\n            'v': 106,\n            'f': \"106\",\n        },\n\"Antioxidant\",\n{\n            'v': 6,\n            'f': \"6\",\n        }],\n [{\n            'v': 107,\n            'f': \"107\",\n        },\n\"FXR agonist\",\n{\n            'v': 6,\n            'f': \"6\",\n        }],\n [{\n            'v': 108,\n            'f': \"108\",\n        },\n\"GSP agonist\",\n{\n            'v': 1,\n            'f': \"1\",\n        }],\n [{\n            'v': 109,\n            'f': \"109\",\n        },\n\"LXR agonist\",\n{\n            'v': 3,\n            'f': \"3\",\n        }],\n [{\n            'v': 110,\n            'f': \"110\",\n        },\n\"PAR agonist\",\n{\n            'v': 1,\n            'f': \"1\",\n        }],\n [{\n            'v': 111,\n            'f': \"111\",\n        },\n\"TLR agonist\",\n{\n            'v': 2,\n            'f': \"2\",\n        }],\n [{\n            'v': 112,\n            'f': \"112\",\n        },\n\"Vasodilator\",\n{\n            'v': 2,\n            'f': \"2\",\n        }],\n [{\n            'v': 113,\n            'f': \"113\",\n        },\n\"AP inhibitor\",\n{\n            'v': 1,\n            'f': \"1\",\n        }],\n [{\n            'v': 114,\n            'f': \"114\",\n        },\n\"M5 modulator\",\n{\n            'v': 1,\n            'f': \"1\",\n        }],\n [{\n            'v': 115,\n            'f': \"115\",\n        },\n\"Sulfonylurea\",\n{\n            'v': 3,\n            'f': \"3\",\n        }],\n [{\n            'v': 116,\n            'f': \"116\",\n        },\n\"TRPV agonist\",\n{\n            'v': 8,\n            'f': \"8\",\n        }],\n [{\n            'v': 117,\n            'f': \"117\",\n        },\n\"AGT inhibitor\",\n{\n            'v': 1,\n            'f': \"1\",\n        }],\n [{\n            'v': 118,\n            'f': \"118\",\n        },\n\"Antihistamine\",\n{\n            'v': 3,\n            'f': \"3\",\n        }],\n [{\n            'v': 119,\n            'f': \"119\",\n        },\n\"CDC inhibitor\",\n{\n            'v': 2,\n            'f': \"2\",\n        }],\n [{\n            'v': 120,\n            'f': \"120\",\n        },\n\"CLK inhibitor\",\n{\n            'v': 5,\n            'f': \"5\",\n        }],\n [{\n            'v': 121,\n            'f': \"121\",\n        },\n\"DNA inhibitor\",\n{\n            'v': 6,\n            'f': \"6\",\n        }],\n [{\n            'v': 122,\n            'f': \"122\",\n        },\n\"GAT inhibitor\",\n{\n            'v': 3,\n            'f': \"3\",\n        }],\n [{\n            'v': 123,\n            'f': \"123\",\n        },\n\"HCV inhibitor\",\n{\n            'v': 4,\n            'f': \"4\",\n        }],\n [{\n            'v': 124,\n            'f': \"124\",\n        },\n\"HIF inhibitor\",\n{\n            'v': 1,\n            'f': \"1\",\n        }],\n [{\n            'v': 125,\n            'f': \"125\",\n        },\n\"HIF modulator\",\n{\n            'v': 2,\n            'f': \"2\",\n        }],\n [{\n            'v': 126,\n            'f': \"126\",\n        },\n\"IKK inhibitor\",\n{\n            'v': 9,\n            'f': \"9\",\n        }],\n [{\n            'v': 127,\n            'f': \"127\",\n        },\n\"IL5 inhibitor\",\n{\n            'v': 1,\n            'f': \"1\",\n        }],\n [{\n            'v': 128,\n            'f': \"128\",\n        },\n\"JNK inhibitor\",\n{\n            'v': 6,\n            'f': \"6\",\n        }],\n [{\n            'v': 129,\n            'f': \"129\",\n        },\n\"MRP inhibitor\",\n{\n            'v': 1,\n            'f': \"1\",\n        }],\n [{\n            'v': 130,\n            'f': \"130\",\n        },\n\"PKA activator\",\n{\n            'v': 1,\n            'f': \"1\",\n        }],\n [{\n            'v': 131,\n            'f': \"131\",\n        },\n\"PKA inhibitor\",\n{\n            'v': 3,\n            'f': \"3\",\n        }],\n [{\n            'v': 132,\n            'f': \"132\",\n        },\n\"PKC activator\",\n{\n            'v': 2,\n            'f': \"2\",\n        }],\n [{\n            'v': 133,\n            'f': \"133\",\n        },\n\"PLK inhibitor\",\n{\n            'v': 10,\n            'f': \"10\",\n        }],\n [{\n            'v': 134,\n            'f': \"134\",\n        },\n\"RAF inhibitor\",\n{\n            'v': 14,\n            'f': \"14\",\n        }],\n [{\n            'v': 135,\n            'f': \"135\",\n        },\n\"Src activator\",\n{\n            'v': 1,\n            'f': \"1\",\n        }],\n [{\n            'v': 136,\n            'f': \"136\",\n        },\n\"Src inhibitor\",\n{\n            'v': 11,\n            'f': \"11\",\n        }],\n [{\n            'v': 137,\n            'f': \"137\",\n        },\n\"Syk inhibitor\",\n{\n            'v': 4,\n            'f': \"4\",\n        }],\n [{\n            'v': 138,\n            'f': \"138\",\n        },\n\"ACAT inhibitor\",\n{\n            'v': 3,\n            'f': \"3\",\n        }],\n [{\n            'v': 139,\n            'f': \"139\",\n        },\n\"AMPK inhibitor\",\n{\n            'v': 1,\n            'f': \"1\",\n        }],\n [{\n            'v': 140,\n            'f': \"140\",\n        },\n\"APEX inhibitor\",\n{\n            'v': 2,\n            'f': \"2\",\n        }],\n [{\n            'v': 141,\n            'f': \"141\",\n        },\n\"Antiarrhythmic\",\n{\n            'v': 1,\n            'f': \"1\",\n        }],\n [{\n            'v': 142,\n            'f': \"142\",\n        },\n\"CAMP stimulant\",\n{\n            'v': 5,\n            'f': \"5\",\n        }],\n [{\n            'v': 143,\n            'f': \"143\",\n        },\n\"CCR antagonist\",\n{\n            'v': 1,\n            'f': \"1\",\n        }],\n [{\n            'v': 144,\n            'f': \"144\",\n        },\n\"DYRK inhibitor\",\n{\n            'v': 8,\n            'f': \"8\",\n        }],\n [{\n            'v': 145,\n            'f': \"145\",\n        },\n\"FAAH inhibitor\",\n{\n            'v': 7,\n            'f': \"7\",\n        }],\n [{\n            'v': 146,\n            'f': \"146\",\n        },\n\"FGFR inhibitor\",\n{\n            'v': 12,\n            'f': \"12\",\n        }],\n [{\n            'v': 147,\n            'f': \"147\",\n        },\n\"FXR antagonist\",\n{\n            'v': 4,\n            'f': \"4\",\n        }],\n [{\n            'v': 148,\n            'f': \"148\",\n        },\n\"FtsZ inhibitor\",\n{\n            'v': 1,\n            'f': \"1\",\n        }],\n [{\n            'v': 149,\n            'f': \"149\",\n        },\n\"GLI antagonist\",\n{\n            'v': 2,\n            'f': \"2\",\n        }],\n [{\n            'v': 150,\n            'f': \"150\",\n        },\n\"IRE1 inhibitor\",\n{\n            'v': 1,\n            'f': \"1\",\n        }],\n [{\n            'v': 151,\n            'f': \"151\",\n        },\n\"KATP activator\",\n{\n            'v': 2,\n            'f': \"2\",\n        }],\n [{\n            'v': 152,\n            'f': \"152\",\n        },\n\"MCL1 inhibitor\",\n{\n            'v': 2,\n            'f': \"2\",\n        }],\n [{\n            'v': 153,\n            'f': \"153\",\n        },\n\"NRF2 activator\",\n{\n            'v': 2,\n            'f': \"2\",\n        }],\n [{\n            'v': 154,\n            'f': \"154\",\n        },\n\"PARP inhibitor\",\n{\n            'v': 17,\n            'f': \"17\",\n        }],\n [{\n            'v': 155,\n            'f': \"155\",\n        },\n\"ROR antagonist\",\n{\n            'v': 2,\n            'f': \"2\",\n        }],\n [{\n            'v': 156,\n            'f': \"156\",\n        },\n\"Reducing agent\",\n{\n            'v': 3,\n            'f': \"3\",\n        }],\n [{\n            'v': 157,\n            'f': \"157\",\n        },\n\"SERT inhibitor\",\n{\n            'v': 2,\n            'f': \"2\",\n        }],\n [{\n            'v': 158,\n            'f': \"158\",\n        },\n\"SIRT activator\",\n{\n            'v': 3,\n            'f': \"3\",\n        }],\n [{\n            'v': 159,\n            'f': \"159\",\n        },\n\"STAT inhibitor\",\n{\n            'v': 5,\n            'f': \"5\",\n        }],\n [{\n            'v': 160,\n            'f': \"160\",\n        },\n\"TP53 activator\",\n{\n            'v': 3,\n            'f': \"3\",\n        }],\n [{\n            'v': 161,\n            'f': \"161\",\n        },\n\"XIAP inhibitor\",\n{\n            'v': 8,\n            'f': \"8\",\n        }],\n [{\n            'v': 162,\n            'f': \"162\",\n        },\n\"C-Met inhibitor\",\n{\n            'v': 4,\n            'f': \"4\",\n        }],\n [{\n            'v': 163,\n            'f': \"163\",\n        },\n\"CSF1R inhibitor\",\n{\n            'v': 1,\n            'f': \"1\",\n        }],\n [{\n            'v': 164,\n            'f': \"164\",\n        },\n\"Chelating agent\",\n{\n            'v': 4,\n            'f': \"4\",\n        }],\n [{\n            'v': 165,\n            'f': \"165\",\n        },\n\"DOT1L inhibitor\",\n{\n            'v': 2,\n            'f': \"2\",\n        }],\n [{\n            'v': 166,\n            'f': \"166\",\n        },\n\"EPHB3 inhibitor\",\n{\n            'v': 1,\n            'f': \"1\",\n        }],\n [{\n            'v': 167,\n            'f': \"167\",\n        },\n\"ErbB2 inhibitor\",\n{\n            'v': 5,\n            'f': \"5\",\n        }],\n [{\n            'v': 168,\n            'f': \"168\",\n        },\n\"FOXM1 inhibitor\",\n{\n            'v': 2,\n            'f': \"2\",\n        }],\n [{\n            'v': 169,\n            'f': \"169\",\n        },\n\"GSK-3 inhibitor\",\n{\n            'v': 12,\n            'f': \"12\",\n        }],\n [{\n            'v': 170,\n            'f': \"170\",\n        },\n\"HMGCR inhibitor\",\n{\n            'v': 24,\n            'f': \"24\",\n        }],\n [{\n            'v': 171,\n            'f': \"171\",\n        },\n\"IGF-1 inhibitor\",\n{\n            'v': 13,\n            'f': \"13\",\n        }],\n [{\n            'v': 172,\n            'f': \"172\",\n        },\n\"IMPDH inhibitor\",\n{\n            'v': 3,\n            'f': \"3\",\n        }],\n [{\n            'v': 173,\n            'f': \"173\",\n        },\n\"MALT1 inhibitor\",\n{\n            'v': 1,\n            'f': \"1\",\n        }],\n [{\n            'v': 174,\n            'f': \"174\",\n        },\n\"Muscle relaxant\",\n{\n            'v': 1,\n            'f': \"1\",\n        }],\n [{\n            'v': 175,\n            'f': \"175\",\n        },\n\"NADPH inhibitor\",\n{\n            'v': 2,\n            'f': \"2\",\n        }],\n [{\n            'v': 176,\n            'f': \"176\",\n        },\n\"NAMPT inhibitor\",\n{\n            'v': 2,\n            'f': \"2\",\n        }],\n [{\n            'v': 177,\n            'f': \"177\",\n        },\n\"Nootropic agent\",\n{\n            'v': 1,\n            'f': \"1\",\n        }],\n [{\n            'v': 178,\n            'f': \"178\",\n        },\n\"RAD51 inhibitor\",\n{\n            'v': 1,\n            'f': \"1\",\n        }],\n [{\n            'v': 179,\n            'f': \"179\",\n        },\n\"Renin inhibitor\",\n{\n            'v': 2,\n            'f': \"2\",\n        }],\n [{\n            'v': 180,\n            'f': \"180\",\n        },\n\"SREBP inhibitor\",\n{\n            'v': 1,\n            'f': \"1\",\n        }],\n [{\n            'v': 181,\n            'f': \"181\",\n        },\n\"TRPV antagonist\",\n{\n            'v': 13,\n            'f': \"13\",\n        }],\n [{\n            'v': 182,\n            'f': \"182\",\n        },\n\"ARFGAP inhibitor\",\n{\n            'v': 1,\n            'f': \"1\",\n        }],\n [{\n            'v': 183,\n            'f': \"183\",\n        },\n\"Antifibrinolytic\",\n{\n            'v': 1,\n            'f': \"1\",\n        }],\n [{\n            'v': 184,\n            'f': \"184\",\n        },\n\"DNA intercalator\",\n{\n            'v': 1,\n            'f': \"1\",\n        }],\n [{\n            'v': 185,\n            'f': \"185\",\n        },\n\"Ephrin inhibitor\",\n{\n            'v': 4,\n            'f': \"4\",\n        }],\n [{\n            'v': 186,\n            'f': \"186\",\n        },\n\"GGTase inhibitor\",\n{\n            'v': 1,\n            'f': \"1\",\n        }],\n [{\n            'v': 187,\n            'f': \"187\",\n        },\n\"IMPase inhibitor\",\n{\n            'v': 4,\n            'f': \"4\",\n        }],\n [{\n            'v': 188,\n            'f': \"188\",\n        },\n\"Lipase inhibitor\",\n{\n            'v': 2,\n            'f': \"2\",\n        }],\n [{\n            'v': 189,\n            'f': \"189\",\n        },\n\"Local anesthetic\",\n{\n            'v': 2,\n            'f': \"2\",\n        }],\n [{\n            'v': 190,\n            'f': \"190\",\n        },\n\"Neurotransmitter\",\n{\n            'v': 1,\n            'f': \"1\",\n        }],\n [{\n            'v': 191,\n            'f': \"191\",\n        },\n\"S100A9 inhibitor\",\n{\n            'v': 1,\n            'f': \"1\",\n        }],\n [{\n            'v': 192,\n            'f': \"192\",\n        },\n\"Anti-cancer agent\",\n{\n            'v': 5,\n            'f': \"5\",\n        }],\n [{\n            'v': 193,\n            'f': \"193\",\n        },\n\"Calpain inhibitor\",\n{\n            'v': 1,\n            'f': \"1\",\n        }],\n [{\n            'v': 194,\n            'f': \"194\",\n        },\n\"Caspase activator\",\n{\n            'v': 10,\n            'f': \"10\",\n        }],\n [{\n            'v': 195,\n            'f': \"195\",\n        },\n\"Caspase inhibitor\",\n{\n            'v': 10,\n            'f': \"10\",\n        }],\n [{\n            'v': 196,\n            'f': \"196\",\n        },\n\"DNA binding agent\",\n{\n            'v': 1,\n            'f': \"1\",\n        }],\n [{\n            'v': 197,\n            'f': \"197\",\n        },\n\"Gastrin inhibitor\",\n{\n            'v': 2,\n            'f': \"2\",\n        }],\n [{\n            'v': 198,\n            'f': \"198\",\n        },\n\"Immunosuppressant\",\n{\n            'v': 6,\n            'f': \"6\",\n        }],\n [{\n            'v': 199,\n            'f': \"199\",\n        },\n\"Kinesin inhibitor\",\n{\n            'v': 4,\n            'f': \"4\",\n        }],\n [{\n            'v': 200,\n            'f': \"200\",\n        },\n\"Melanin inhibitor\",\n{\n            'v': 2,\n            'f': \"2\",\n        }],\n [{\n            'v': 201,\n            'f': \"201\",\n        },\n\"Mitotic inhibitor\",\n{\n            'v': 2,\n            'f': \"2\",\n        }],\n [{\n            'v': 202,\n            'f': \"202\",\n        },\n\"NTPDase inhibitor\",\n{\n            'v': 2,\n            'f': \"2\",\n        }],\n [{\n            'v': 203,\n            'f': \"203\",\n        },\n\"Opioid antagonist\",\n{\n            'v': 1,\n            'f': \"1\",\n        }],\n [{\n            'v': 204,\n            'f': \"204\",\n        },\n\"Purine antagonist\",\n{\n            'v': 2,\n            'f': \"2\",\n        }],\n [{\n            'v': 205,\n            'f': \"205\",\n        },\n\"Thiazide diuretic\",\n{\n            'v': 3,\n            'f': \"3\",\n        }],\n [{\n            'v': 206,\n            'f': \"206\",\n        },\n\"Trypsin inhibitor\",\n{\n            'v': 1,\n            'f': \"1\",\n        }],\n [{\n            'v': 207,\n            'f': \"207\",\n        },\n\"Anti-thyroid agent\",\n{\n            'v': 2,\n            'f': \"2\",\n        }],\n [{\n            'v': 208,\n            'f': \"208\",\n        },\n\"Calcium sensitizer\",\n{\n            'v': 2,\n            'f': \"2\",\n        }],\n [{\n            'v': 209,\n            'f': \"209\",\n        },\n\"Dopamine precursor\",\n{\n            'v': 1,\n            'f': \"1\",\n        }],\n [{\n            'v': 210,\n            'f': \"210\",\n        },\n\"Elastase inhibitor\",\n{\n            'v': 1,\n            'f': \"1\",\n        }],\n [{\n            'v': 211,\n            'f': \"211\",\n        },\n\"Imidazoline ligand\",\n{\n            'v': 1,\n            'f': \"1\",\n        }],\n [{\n            'v': 212,\n            'f': \"212\",\n        },\n\"Insulin sensitizer\",\n{\n            'v': 11,\n            'f': \"11\",\n        }],\n [{\n            'v': 213,\n            'f': \"213\",\n        },\n\"Integrin inhibitor\",\n{\n            'v': 4,\n            'f': \"4\",\n        }],\n [{\n            'v': 214,\n            'f': \"214\",\n        },\n\"Interferon inducer\",\n{\n            'v': 1,\n            'f': \"1\",\n        }],\n [{\n            'v': 215,\n            'f': \"215\",\n        },\n\"P38 MAPK inhibitor\",\n{\n            'v': 20,\n            'f': \"20\",\n        }],\n [{\n            'v': 216,\n            'f': \"216\",\n        },\n\"Protease inhibitor\",\n{\n            'v': 4,\n            'f': \"4\",\n        }],\n [{\n            'v': 217,\n            'f': \"217\",\n        },\n\"Survivin inhibitor\",\n{\n            'v': 2,\n            'f': \"2\",\n        }],\n [{\n            'v': 218,\n            'f': \"218\",\n        },\n\"Thrombin inhibitor\",\n{\n            'v': 6,\n            'f': \"6\",\n        }],\n [{\n            'v': 219,\n            'f': \"219\",\n        },\n\"Uric acid diuretic\",\n{\n            'v': 1,\n            'f': \"1\",\n        }],\n [{\n            'v': 220,\n            'f': \"220\",\n        },\n\"Uricosuric blocker\",\n{\n            'v': 2,\n            'f': \"2\",\n        }],\n [{\n            'v': 221,\n            'f': \"221\",\n        },\n\"ATP channel blocker\",\n{\n            'v': 4,\n            'f': \"4\",\n        }],\n [{\n            'v': 222,\n            'f': \"222\",\n        },\n\"Anti-malarial agent\",\n{\n            'v': 1,\n            'f': \"1\",\n        }],\n [{\n            'v': 223,\n            'f': \"223\",\n        },\n\"Anti-rheumatic drug\",\n{\n            'v': 1,\n            'f': \"1\",\n        }],\n [{\n            'v': 224,\n            'f': \"224\",\n        },\n\"Apoptosis inhibitor\",\n{\n            'v': 1,\n            'f': \"1\",\n        }],\n [{\n            'v': 225,\n            'f': \"225\",\n        },\n\"Apoptosis stimulant\",\n{\n            'v': 7,\n            'f': \"7\",\n        }],\n [{\n            'v': 226,\n            'f': \"226\",\n        },\n\"Aromatase inhibitor\",\n{\n            'v': 11,\n            'f': \"11\",\n        }],\n [{\n            'v': 227,\n            'f': \"227\",\n        },\n\"CCK receptor ligand\",\n{\n            'v': 1,\n            'f': \"1\",\n        }],\n [{\n            'v': 228,\n            'f': \"228\",\n        },\n\"Cadherin antagonist\",\n{\n            'v': 1,\n            'f': \"1\",\n        }],\n [{\n            'v': 229,\n            'f': \"229\",\n        },\n\"Cathepsin inhibitor\",\n{\n            'v': 4,\n            'f': \"4\",\n        }],\n [{\n            'v': 230,\n            'f': \"230\",\n        },\n\"HCN channel blocker\",\n{\n            'v': 2,\n            'f': \"2\",\n        }],\n [{\n            'v': 231,\n            'f': \"231\",\n        },\n\"Peptidase inhibitor\",\n{\n            'v': 5,\n            'f': \"5\",\n        }],\n [{\n            'v': 232,\n            'f': \"232\",\n        },\n\"Progestogen hormone\",\n{\n            'v': 8,\n            'f': \"8\",\n        }],\n [{\n            'v': 233,\n            'f': \"233\",\n        },\n\"Prostacyclin analog\",\n{\n            'v': 3,\n            'f': \"3\",\n        }],\n [{\n            'v': 234,\n            'f': \"234\",\n        },\n\"ROR inverse agonist\",\n{\n            'v': 2,\n            'f': \"2\",\n        }],\n [{\n            'v': 235,\n            'f': \"235\",\n        },\n\"Steroidal progestin\",\n{\n            'v': 3,\n            'f': \"3\",\n        }],\n [{\n            'v': 236,\n            'f': \"236\",\n        },\n\"Tankyrase inhibitor\",\n{\n            'v': 1,\n            'f': \"1\",\n        }],\n [{\n            'v': 237,\n            'f': \"237\",\n        },\n\"ATM kinase inhibitor\",\n{\n            'v': 4,\n            'f': \"4\",\n        }],\n [{\n            'v': 238,\n            'f': \"238\",\n        },\n\"ATR kinase inhibitor\",\n{\n            'v': 3,\n            'f': \"3\",\n        }],\n [{\n            'v': 239,\n            'f': \"239\",\n        },\n\"AXL kinase inhibitor\",\n{\n            'v': 2,\n            'f': \"2\",\n        }],\n [{\n            'v': 240,\n            'f': \"240\",\n        },\n\"Adrenergic inhibitor\",\n{\n            'v': 4,\n            'f': \"4\",\n        }],\n [{\n            'v': 241,\n            'f': \"241\",\n        },\n\"Bacterial antifolate\",\n{\n            'v': 2,\n            'f': \"2\",\n        }],\n [{\n            'v': 242,\n            'f': \"242\",\n        },\n\"CFTR channel agonist\",\n{\n            'v': 3,\n            'f': \"3\",\n        }],\n [{\n            'v': 243,\n            'f': \"243\",\n        },\n\"Cell cycle inhibitor\",\n{\n            'v': 5,\n            'f': \"5\",\n        }],\n [{\n            'v': 244,\n            'f': \"244\",\n        },\n\"DNA alkylating agent\",\n{\n            'v': 6,\n            'f': \"6\",\n        }],\n [{\n            'v': 245,\n            'f': \"245\",\n        },\n\"Dystrophin stimulant\",\n{\n            'v': 1,\n            'f': \"1\",\n        }],\n [{\n            'v': 246,\n            'f': \"246\",\n        },\n\"Fibrinogen stimulant\",\n{\n            'v': 1,\n            'f': \"1\",\n        }],\n [{\n            'v': 247,\n            'f': \"247\",\n        },\n\"GLP receptor agonist\",\n{\n            'v': 1,\n            'f': \"1\",\n        }],\n [{\n            'v': 248,\n            'f': \"248\",\n        },\n\"Hexokinase inhibitor\",\n{\n            'v': 1,\n            'f': \"1\",\n        }],\n [{\n            'v': 249,\n            'f': \"249\",\n        },\n\"Insulin secretagogue\",\n{\n            'v': 9,\n            'f': \"9\",\n        }],\n [{\n            'v': 250,\n            'f': \"250\",\n        },\n\"LIM kinase activator\",\n{\n            'v': 1,\n            'f': \"1\",\n        }],\n [{\n            'v': 251,\n            'f': \"251\",\n        },\n\"MAP kinase inhibitor\",\n{\n            'v': 8,\n            'f': \"8\",\n        }],\n [{\n            'v': 252,\n            'f': \"252\",\n        },\n\"Macrophage inhibitor\",\n{\n            'v': 1,\n            'f': \"1\",\n        }],\n [{\n            'v': 253,\n            'f': \"253\",\n        },\n\"Osteoclast inhibitor\",\n{\n            'v': 3,\n            'f': \"3\",\n        }],\n [{\n            'v': 254,\n            'f': \"254\",\n        },\n\"P selectin inhibitor\",\n{\n            'v': 1,\n            'f': \"1\",\n        }],\n [{\n            'v': 255,\n            'f': \"255\",\n        },\n\"Telomerase inhibitor\",\n{\n            'v': 2,\n            'f': \"2\",\n        }],\n [{\n            'v': 256,\n            'f': \"256\",\n        },\n\"Tyrosinase inhibitor\",\n{\n            'v': 2,\n            'f': \"2\",\n        }],\n [{\n            'v': 257,\n            'f': \"257\",\n        },\n\"Vitamin K antagonist\",\n{\n            'v': 5,\n            'f': \"5\",\n        }],\n [{\n            'v': 258,\n            'f': \"258\",\n        },\n\"ATP channel activator\",\n{\n            'v': 5,\n            'f': \"5\",\n        }],\n [{\n            'v': 259,\n            'f': \"259\",\n        },\n\"Anti-neoplastic agent\",\n{\n            'v': 1,\n            'f': \"1\",\n        }],\n [{\n            'v': 260,\n            'f': \"260\",\n        },\n\"Calcineurin inhibitor\",\n{\n            'v': 12,\n            'f': \"12\",\n        }],\n [{\n            'v': 261,\n            'f': \"261\",\n        },\n\"Calcitonin antagonist\",\n{\n            'v': 3,\n            'f': \"3\",\n        }],\n [{\n            'v': 262,\n            'f': \"262\",\n        },\n\"Calmodulin antagonist\",\n{\n            'v': 7,\n            'f': \"7\",\n        }],\n [{\n            'v': 263,\n            'f': \"263\",\n        },\n\"Chemoreceptor agonist\",\n{\n            'v': 1,\n            'f': \"1\",\n        }],\n [{\n            'v': 264,\n            'f': \"264\",\n        },\n\"Cholesterol inhibitor\",\n{\n            'v': 5,\n            'f': \"5\",\n        }],\n [{\n            'v': 265,\n            'f': \"265\",\n        },\n\"Coagulation inhibitor\",\n{\n            'v': 1,\n            'f': \"1\",\n        }],\n [{\n            'v': 266,\n            'f': \"266\",\n        },\n\"Collagenase inhibitor\",\n{\n            'v': 2,\n            'f': \"2\",\n        }],\n [{\n            'v': 267,\n            'f': \"267\",\n        },\n\"GABA receptor agonist\",\n{\n            'v': 16,\n            'f': \"16\",\n        }],\n [{\n            'v': 268,\n            'f': \"268\",\n        },\n\"GABA uptake inhibitor\",\n{\n            'v': 4,\n            'f': \"4\",\n        }],\n [{\n            'v': 269,\n            'f': \"269\",\n        },\n\"Glucokinase activator\",\n{\n            'v': 1,\n            'f': \"1\",\n        }],\n [{\n            'v': 270,\n            'f': \"270\",\n        },\n\"Glucosidase inhibitor\",\n{\n            'v': 8,\n            'f': \"8\",\n        }],\n [{\n            'v': 271,\n            'f': \"271\",\n        },\n\"IP receptor activator\",\n{\n            'v': 2,\n            'f': \"2\",\n        }],\n [{\n            'v': 272,\n            'f': \"272\",\n        },\n\"Interleukin inhibitor\",\n{\n            'v': 4,\n            'f': \"4\",\n        }],\n [{\n            'v': 273,\n            'f': \"273\",\n        },\n\"Microtubule stimulant\",\n{\n            'v': 1,\n            'f': \"1\",\n        }],\n [{\n            'v': 274,\n            'f': \"274\",\n        },\n\"NGF binding inhibitor\",\n{\n            'v': 1,\n            'f': \"1\",\n        }],\n [{\n            'v': 275,\n            'f': \"275\",\n        },\n\"Sigma receptor ligand\",\n{\n            'v': 1,\n            'f': \"1\",\n        }],\n [{\n            'v': 276,\n            'f': \"276\",\n        },\n\"TRPA1 channel blocker\",\n{\n            'v': 1,\n            'f': \"1\",\n        }],\n [{\n            'v': 277,\n            'f': \"277\",\n        },\n\"Tachykinin antagonist\",\n{\n            'v': 14,\n            'f': \"14\",\n        }],\n [{\n            'v': 278,\n            'f': \"278\",\n        },\n\"Thioredoxin inhibitor\",\n{\n            'v': 2,\n            'f': \"2\",\n        }],\n [{\n            'v': 279,\n            'f': \"279\",\n        },\n\"WEE1 kinase inhibitor\",\n{\n            'v': 1,\n            'f': \"1\",\n        }],\n [{\n            'v': 280,\n            'f': \"280\",\n        },\n\"11-beta-HSD1 inhibitor\",\n{\n            'v': 8,\n            'f': \"8\",\n        }],\n [{\n            'v': 281,\n            'f': \"281\",\n        },\n\"ATP synthase inhibitor\",\n{\n            'v': 7,\n            'f': \"7\",\n        }],\n [{\n            'v': 282,\n            'f': \"282\",\n        },\n\"Angiogenesis inhibitor\",\n{\n            'v': 3,\n            'f': \"3\",\n        }],\n [{\n            'v': 283,\n            'f': \"283\",\n        },\n\"Angiotensin antagonist\",\n{\n            'v': 3,\n            'f': \"3\",\n        }],\n [{\n            'v': 284,\n            'f': \"284\",\n        },\n\"Beta amyloid inhibitor\",\n{\n            'v': 5,\n            'f': \"5\",\n        }],\n [{\n            'v': 285,\n            'f': \"285\",\n        },\n\"Beta-catenin inhibitor\",\n{\n            'v': 2,\n            'f': \"2\",\n        }],\n [{\n            'v': 286,\n            'f': \"286\",\n        },\n\"Corticosteroid agonist\",\n{\n            'v': 5,\n            'f': \"5\",\n        }],\n [{\n            'v': 287,\n            'f': \"287\",\n        },\n\"Folate receptor ligand\",\n{\n            'v': 1,\n            'f': \"1\",\n        }],\n [{\n            'v': 288,\n            'f': \"288\",\n        },\n\"HCN channel antagonist\",\n{\n            'v': 1,\n            'f': \"1\",\n        }],\n [{\n            'v': 289,\n            'f': \"289\",\n        },\n\"HIV protease inhibitor\",\n{\n            'v': 9,\n            'f': \"9\",\n        }],\n [{\n            'v': 290,\n            'f': \"290\",\n        },\n\"Ion channel antagonist\",\n{\n            'v': 1,\n            'f': \"1\",\n        }],\n [{\n            'v': 291,\n            'f': \"291\",\n        },\n\"LDL receptor activator\",\n{\n            'v': 1,\n            'f': \"1\",\n        }],\n [{\n            'v': 292,\n            'f': \"292\",\n        },\n\"Mucus protecting agent\",\n{\n            'v': 2,\n            'f': \"2\",\n        }],\n [{\n            'v': 293,\n            'f': \"293\",\n        },\n\"NFKB pathway inhibitor\",\n{\n            'v': 23,\n            'f': \"23\",\n        }],\n [{\n            'v': 294,\n            'f': \"294\",\n        },\n\"NFkB pathway activator\",\n{\n            'v': 3,\n            'f': \"3\",\n        }],\n [{\n            'v': 295,\n            'f': \"295\",\n        },\n\"NUR77 receptor agonist\",\n{\n            'v': 1,\n            'f': \"1\",\n        }],\n [{\n            'v': 296,\n            'f': \"296\",\n        },\n\"Nitric oxide scavenger\",\n{\n            'v': 3,\n            'f': \"3\",\n        }],\n [{\n            'v': 297,\n            'f': \"297\",\n        },\n\"Nitric oxide stimulant\",\n{\n            'v': 2,\n            'f': \"2\",\n        }],\n [{\n            'v': 298,\n            'f': \"298\",\n        },\n\"Prostagladin inhibitor\",\n{\n            'v': 2,\n            'f': \"2\",\n        }],\n [{\n            'v': 299,\n            'f': \"299\",\n        },\n\"Sigma receptor agonist\",\n{\n            'v': 4,\n            'f': \"4\",\n        }],\n [{\n            'v': 300,\n            'f': \"300\",\n        },\n\"Sodium channel blocker\",\n{\n            'v': 32,\n            'f': \"32\",\n        }],\n [{\n            'v': 301,\n            'f': \"301\",\n        },\n\"Anti-hypertensive agent\",\n{\n            'v': 1,\n            'f': \"1\",\n        }],\n [{\n            'v': 302,\n            'f': \"302\",\n        },\n\"Anti-inflammatory agent\",\n{\n            'v': 2,\n            'f': \"2\",\n        }],\n [{\n            'v': 303,\n            'f': \"303\",\n        },\n\"Atherogenesis inhibitor\",\n{\n            'v': 1,\n            'f': \"1\",\n        }],\n [{\n            'v': 304,\n            'f': \"304\",\n        },\n\"CCK receptor antagonist\",\n{\n            'v': 18,\n            'f': \"18\",\n        }],\n [{\n            'v': 305,\n            'f': \"305\",\n        },\n\"CRF receptor antagonist\",\n{\n            'v': 1,\n            'f': \"1\",\n        }],\n [{\n            'v': 306,\n            'f': \"306\",\n        },\n\"Calcium channel blocker\",\n{\n            'v': 48,\n            'f': \"48\",\n        }],\n [{\n            'v': 307,\n            'f': \"307\",\n        },\n\"DNA synthesis inhibitor\",\n{\n            'v': 13,\n            'f': \"13\",\n        }],\n [{\n            'v': 308,\n            'f': \"308\",\n        },\n\"Dehydrogenase inhibitor\",\n{\n            'v': 2,\n            'f': \"2\",\n        }],\n [{\n            'v': 309,\n            'f': \"309\",\n        },\n\"Enkephalinase inhibitor\",\n{\n            'v': 1,\n            'f': \"1\",\n        }],\n [{\n            'v': 310,\n            'f': \"310\",\n        },\n\"FAAH reuptake inhibitor\",\n{\n            'v': 1,\n            'f': \"1\",\n        }],\n [{\n            'v': 311,\n            'f': \"311\",\n        },\n\"GABA receptor modulator\",\n{\n            'v': 12,\n            'f': \"12\",\n        }],\n [{\n            'v': 312,\n            'f': \"312\",\n        },\n\"HIV integrase inhibitor\",\n{\n            'v': 6,\n            'f': \"6\",\n        }],\n [{\n            'v': 313,\n            'f': \"313\",\n        },\n\"Hydantoin antiepileptic\",\n{\n            'v': 3,\n            'f': \"3\",\n        }],\n [{\n            'v': 314,\n            'f': \"314\",\n        },\n\"Insulin receptor ligand\",\n{\n            'v': 1,\n            'f': \"1\",\n        }],\n [{\n            'v': 315,\n            'f': \"315\",\n        },\n\"NADPH oxidase inhibitor\",\n{\n            'v': 1,\n            'f': \"1\",\n        }],\n [{\n            'v': 316,\n            'f': \"316\",\n        },\n\"PPAR receptor modulator\",\n{\n            'v': 2,\n            'f': \"2\",\n        }],\n [{\n            'v': 317,\n            'f': \"317\",\n        },\n\"Phospholipase inhibitor\",\n{\n            'v': 5,\n            'f': \"5\",\n        }],\n [{\n            'v': 318,\n            'f': \"318\",\n        },\n\"Phosphorylase inhibitor\",\n{\n            'v': 1,\n            'f': \"1\",\n        }],\n [{\n            'v': 319,\n            'f': \"319\",\n        },\n\"RNA synthesis inhibitor\",\n{\n            'v': 8,\n            'f': \"8\",\n        }],\n [{\n            'v': 320,\n            'f': \"320\",\n        },\n\"Anti-amyloidogenic agent\",\n{\n            'v': 2,\n            'f': \"2\",\n        }],\n [{\n            'v': 321,\n            'f': \"321\",\n        },\n\"Beta secretase inhibitor\",\n{\n            'v': 1,\n            'f': \"1\",\n        }],\n [{\n            'v': 322,\n            'f': \"322\",\n        },\n\"Beta-secretase inhibitor\",\n{\n            'v': 1,\n            'f': \"1\",\n        }],\n [{\n            'v': 323,\n            'f': \"323\",\n        },\n\"CFTR channel potentiator\",\n{\n            'v': 1,\n            'f': \"1\",\n        }],\n [{\n            'v': 324,\n            'f': \"324\",\n        },\n\"Cardiac myosin activator\",\n{\n            'v': 1,\n            'f': \"1\",\n        }],\n [{\n            'v': 325,\n            'f': \"325\",\n        },\n\"Chloride channel agonist\",\n{\n            'v': 2,\n            'f': \"2\",\n        }],\n [{\n            'v': 326,\n            'f': \"326\",\n        },\n\"Cholinesterase inhibitor\",\n{\n            'v': 4,\n            'f': \"4\",\n        }],\n [{\n            'v': 327,\n            'f': \"327\",\n        },\n\"DeltaF508-CFTR Corrector\",\n{\n            'v': 1,\n            'f': \"1\",\n        }],\n [{\n            'v': 328,\n            'f': \"328\",\n        },\n\"GABA receptor antagonist\",\n{\n            'v': 19,\n            'f': \"19\",\n        }],\n [{\n            'v': 329,\n            'f': \"329\",\n        },\n\"Heme oxygenase inhibitor\",\n{\n            'v': 1,\n            'f': \"1\",\n        }],\n [{\n            'v': 330,\n            'f': \"330\",\n        },\n\"MYC expression inhibitor\",\n{\n            'v': 1,\n            'f': \"1\",\n        }],\n [{\n            'v': 331,\n            'f': \"331\",\n        },\n\"Motilin receptor agonist\",\n{\n            'v': 2,\n            'f': \"2\",\n        }],\n [{\n            'v': 332,\n            'f': \"332\",\n        },\n\"Neural stem cell inducer\",\n{\n            'v': 1,\n            'f': \"1\",\n        }],\n [{\n            'v': 333,\n            'f': \"333\",\n        },\n\"Neurotransmitter agonist\",\n{\n            'v': 1,\n            'f': \"1\",\n        }],\n [{\n            'v': 334,\n            'f': \"334\",\n        },\n\"Norepinephrine inhibitor\",\n{\n            'v': 1,\n            'f': \"1\",\n        }],\n [{\n            'v': 335,\n            'f': \"335\",\n        },\n\"Norepinephrine precursor\",\n{\n            'v': 1,\n            'f': \"1\",\n        }],\n [{\n            'v': 336,\n            'f': \"336\",\n        },\n\"Opiod receptor modulator\",\n{\n            'v': 1,\n            'f': \"1\",\n        }],\n [{\n            'v': 337,\n            'f': \"337\",\n        },\n\"Oxidative stress inducer\",\n{\n            'v': 1,\n            'f': \"1\",\n        }],\n [{\n            'v': 338,\n            'f': \"338\",\n        },\n\"Protein kinase activator\",\n{\n            'v': 1,\n            'f': \"1\",\n        }],\n [{\n            'v': 339,\n            'f': \"339\",\n        },\n\"RNA polymerase inhibitor\",\n{\n            'v': 8,\n            'f': \"8\",\n        }],\n [{\n            'v': 340,\n            'f': \"340\",\n        },\n\"Retinoid receptor ligand\",\n{\n            'v': 5,\n            'f': \"5\",\n        }],\n [{\n            'v': 341,\n            'f': \"341\",\n        },\n\"TNF production inhibitor\",\n{\n            'v': 4,\n            'f': \"4\",\n        }],\n [{\n            'v': 342,\n            'f': \"342\",\n        },\n\"Transthyretin stabilizer\",\n{\n            'v': 1,\n            'f': \"1\",\n        }],\n [{\n            'v': 343,\n            'f': \"343\",\n        },\n\"Tricyclic antidepressant\",\n{\n            'v': 7,\n            'f': \"7\",\n        }],\n [{\n            'v': 344,\n            'f': \"344\",\n        },\n\"Androgen receptor agonist\",\n{\n            'v': 11,\n            'f': \"11\",\n        }],\n [{\n            'v': 345,\n            'f': \"345\",\n        },\n\"Barbiturate antiepileptic\",\n{\n            'v': 1,\n            'f': \"1\",\n        }],\n [{\n            'v': 346,\n            'f': \"346\",\n        },\n\"Bone resorption inhibitor\",\n{\n            'v': 6,\n            'f': \"6\",\n        }],\n [{\n            'v': 347,\n            'f': \"347\",\n        },\n\"Calcium channel activator\",\n{\n            'v': 4,\n            'f': \"4\",\n        }],\n [{\n            'v': 348,\n            'f': \"348\",\n        },\n\"Calcium channel modulator\",\n{\n            'v': 2,\n            'f': \"2\",\n        }],\n [{\n            'v': 349,\n            'f': \"349\",\n        },\n\"Carboxamide antiepileptic\",\n{\n            'v': 1,\n            'f': \"1\",\n        }],\n [{\n            'v': 350,\n            'f': \"350\",\n        },\n\"Cytochrome P450 inhibitor\",\n{\n            'v': 24,\n            'f': \"24\",\n        }],\n [{\n            'v': 351,\n            'f': \"351\",\n        },\n\"DNA replication inhibitor\",\n{\n            'v': 1,\n            'f': \"1\",\n        }],\n [{\n            'v': 352,\n            'f': \"352\",\n        },\n\"Dopamine uptake inhibitor\",\n{\n            'v': 10,\n            'f': \"10\",\n        }],\n [{\n            'v': 353,\n            'f': \"353\",\n        },\n\"Gamma secretase inhibitor\",\n{\n            'v': 1,\n            'f': \"1\",\n        }],\n [{\n            'v': 354,\n            'f': \"354\",\n        },\n\"Gluconeogenesis inhibitor\",\n{\n            'v': 1,\n            'f': \"1\",\n        }],\n [{\n            'v': 355,\n            'f': \"355\",\n        },\n\"Histamine receptor ligand\",\n{\n            'v': 3,\n            'f': \"3\",\n        }],\n [{\n            'v': 356,\n            'f': \"356\",\n        },\n\"Oxazolidine antiepileptic\",\n{\n            'v': 1,\n            'f': \"1\",\n        }],\n [{\n            'v': 357,\n            'f': \"357\",\n        },\n\"Oxytocin receptor agonist\",\n{\n            'v': 1,\n            'f': \"1\",\n        }],\n [{\n            'v': 358,\n            'f': \"358\",\n        },\n\"Retinoid receptor agonist\",\n{\n            'v': 25,\n            'f': \"25\",\n        }],\n [{\n            'v': 359,\n            'f': \"359\",\n        },\n\"Serine protease inhibitor\",\n{\n            'v': 2,\n            'f': \"2\",\n        }],\n [{\n            'v': 360,\n            'f': \"360\",\n        },\n\"Sigma receptor antagonist\",\n{\n            'v': 7,\n            'f': \"7\",\n        }],\n [{\n            'v': 361,\n            'f': \"361\",\n        },\n\"Succinimide antiepileptic\",\n{\n            'v': 1,\n            'f': \"1\",\n        }],\n [{\n            'v': 362,\n            'f': \"362\",\n        },\n\"Tau aggregation inhibitor\",\n{\n            'v': 1,\n            'f': \"1\",\n        }],\n [{\n            'v': 363,\n            'f': \"363\",\n        },\n\"Thyroid hormone stimulant\",\n{\n            'v': 4,\n            'f': \"4\",\n        }],\n [{\n            'v': 364,\n            'f': \"364\",\n        },\n\"Tyrosine kinase inhibitor\",\n{\n            'v': 19,\n            'f': \"19\",\n        }],\n [{\n            'v': 365,\n            'f': \"365\",\n        },\n\"Adenosine receptor agonist\",\n{\n            'v': 19,\n            'f': \"19\",\n        }],\n [{\n            'v': 366,\n            'f': \"366\",\n        },\n\"Adenylyl cyclase activator\",\n{\n            'v': 5,\n            'f': \"5\",\n        }],\n [{\n            'v': 367,\n            'f': \"367\",\n        },\n\"Adenylyl cyclase inhibitor\",\n{\n            'v': 1,\n            'f': \"1\",\n        }],\n [{\n            'v': 368,\n            'f': \"368\",\n        },\n\"Adrenergic receptor ligand\",\n{\n            'v': 1,\n            'f': \"1\",\n        }],\n [{\n            'v': 369,\n            'f': \"369\",\n        },\n\"Androgen receptor enhancer\",\n{\n            'v': 1,\n            'f': \"1\",\n        }],\n [{\n            'v': 370,\n            'f': \"370\",\n        },\n\"Apelin receptor antagonist\",\n{\n            'v': 1,\n            'f': \"1\",\n        }],\n [{\n            'v': 371,\n            'f': \"371\",\n        },\n\"Dehydropeptidase inhibitor\",\n{\n            'v': 3,\n            'f': \"3\",\n        }],\n [{\n            'v': 372,\n            'f': \"372\",\n        },\n\"Guanylyl cyclase activator\",\n{\n            'v': 3,\n            'f': \"3\",\n        }],\n [{\n            'v': 373,\n            'f': \"373\",\n        },\n\"Hedgehog pathway inhibitor\",\n{\n            'v': 1,\n            'f': \"1\",\n        }],\n [{\n            'v': 374,\n            'f': \"374\",\n        },\n\"Histamine receptor agonist\",\n{\n            'v': 10,\n            'f': \"10\",\n        }],\n [{\n            'v': 375,\n            'f': \"375\",\n        },\n\"Lipid peroxidase inhibitor\",\n{\n            'v': 3,\n            'f': \"3\",\n        }],\n [{\n            'v': 376,\n            'f': \"376\",\n        },\n\"Orexin receptor antagonist\",\n{\n            'v': 4,\n            'f': \"4\",\n        }],\n [{\n            'v': 377,\n            'f': \"377\",\n        },\n\"Protein kinase C inhibitor\",\n{\n            'v': 1,\n            'f': \"1\",\n        }],\n [{\n            'v': 378,\n            'f': \"378\",\n        },\n\"Steryl sulfatase inhibitor\",\n{\n            'v': 2,\n            'f': \"2\",\n        }],\n [{\n            'v': 379,\n            'f': \"379\",\n        },\n\"Toll-like receptor agonist\",\n{\n            'v': 1,\n            'f': \"1\",\n        }],\n [{\n            'v': 380,\n            'f': \"380\",\n        },\n\"Vitamin D receptor agonist\",\n{\n            'v': 20,\n            'f': \"20\",\n        }],\n [{\n            'v': 381,\n            'f': \"381\",\n        },\n\"Xanthine oxidase inhibitor\",\n{\n            'v': 4,\n            'f': \"4\",\n        }],\n [{\n            'v': 382,\n            'f': \"382\",\n        },\n\"5 alpha reductase inhibitor\",\n{\n            'v': 5,\n            'f': \"5\",\n        }],\n [{\n            'v': 383,\n            'f': \"383\",\n        },\n\"ATP citrase lyase inhibitor\",\n{\n            'v': 1,\n            'f': \"1\",\n        }],\n [{\n            'v': 384,\n            'f': \"384\",\n        },\n\"Androgen receptor modulator\",\n{\n            'v': 5,\n            'f': \"5\",\n        }],\n [{\n            'v': 385,\n            'f': \"385\",\n        },\n\"Capillary stabilizing agent\",\n{\n            'v': 4,\n            'f': \"4\",\n        }],\n [{\n            'v': 386,\n            'f': \"386\",\n        },\n\"DNA repair enzyme inhibitor\",\n{\n            'v': 1,\n            'f': \"1\",\n        }],\n [{\n            'v': 387,\n            'f': \"387\",\n        },\n\"Dopamine receptor modulator\",\n{\n            'v': 1,\n            'f': \"1\",\n        }],\n [{\n            'v': 388,\n            'f': \"388\",\n        },\n\"Dopamine reuptake inhibitor\",\n{\n            'v': 3,\n            'f': \"3\",\n        }],\n [{\n            'v': 389,\n            'f': \"389\",\n        },\n\"Glycine receptor antagonist\",\n{\n            'v': 3,\n            'f': \"3\",\n        }],\n [{\n            'v': 390,\n            'f': \"390\",\n        },\n\"Guanylate cyclase activator\",\n{\n            'v': 1,\n            'f': \"1\",\n        }],\n [{\n            'v': 391,\n            'f': \"391\",\n        },\n\"Guanylate cyclase stimulant\",\n{\n            'v': 2,\n            'f': \"2\",\n        }],\n [{\n            'v': 392,\n            'f': \"392\",\n        },\n\"ICAM-1 expression inhibitor\",\n{\n            'v': 1,\n            'f': \"1\",\n        }],\n [{\n            'v': 393,\n            'f': \"393\",\n        },\n\"Imidazoline receptor ligand\",\n{\n            'v': 1,\n            'f': \"1\",\n        }],\n [{\n            'v': 394,\n            'f': \"394\",\n        },\n\"Kainate receptor antagonist\",\n{\n            'v': 3,\n            'f': \"3\",\n        }],\n [{\n            'v': 395,\n            'f': \"395\",\n        },\n\"Metalloproteinase inhibitor\",\n{\n            'v': 9,\n            'f': \"9\",\n        }],\n [{\n            'v': 396,\n            'f': \"396\",\n        },\n\"Monoamine oxidase inhibitor\",\n{\n            'v': 23,\n            'f': \"23\",\n        }],\n [{\n            'v': 397,\n            'f': \"397\",\n        },\n\"Potassium channel activator\",\n{\n            'v': 16,\n            'f': \"16\",\n        }],\n [{\n            'v': 398,\n            'f': \"398\",\n        },\n\"Pregnane X receptor agonist\",\n{\n            'v': 2,\n            'f': \"2\",\n        }],\n [{\n            'v': 399,\n            'f': \"399\",\n        },\n\"Prostanoid receptor agonist\",\n{\n            'v': 12,\n            'f': \"12\",\n        }],\n [{\n            'v': 400,\n            'f': \"400\",\n        },\n\"Protein synthesis inhibitor\",\n{\n            'v': 12,\n            'f': \"12\",\n        }],\n [{\n            'v': 401,\n            'f': \"401\",\n        },\n\"Protein synthesis stimulant\",\n{\n            'v': 1,\n            'f': \"1\",\n        }],\n [{\n            'v': 402,\n            'f': \"402\",\n        },\n\"Ribosomal protein inhibitor\",\n{\n            'v': 2,\n            'f': \"2\",\n        }],\n [{\n            'v': 403,\n            'f': \"403\",\n        },\n\"SHIP2 phosphatase inhibitor\",\n{\n            'v': 1,\n            'f': \"1\",\n        }],\n [{\n            'v': 404,\n            'f': \"404\",\n        },\n\"Serotonin release inhibitor\",\n{\n            'v': 1,\n            'f': \"1\",\n        }],\n [{\n            'v': 405,\n            'f': \"405\",\n        },\n\"Smoothened receptor agonist\",\n{\n            'v': 1,\n            'f': \"1\",\n        }],\n [{\n            'v': 406,\n            'f': \"406\",\n        },\n\"TGF beta receptor inhibitor\",\n{\n            'v': 8,\n            'f': \"8\",\n        }],\n [{\n            'v': 407,\n            'f': \"407\",\n        },\n\"Adenosine reuptake inhibitor\",\n{\n            'v': 2,\n            'f': \"2\",\n        }],\n [{\n            'v': 408,\n            'f': \"408\",\n        },\n\"Androgen receptor antagonist\",\n{\n            'v': 14,\n            'f': \"14\",\n        }],\n [{\n            'v': 409,\n            'f': \"409\",\n        },\n\"Angiotensin receptor agonist\",\n{\n            'v': 1,\n            'f': \"1\",\n        }],\n [{\n            'v': 410,\n            'f': \"410\",\n        },\n\"Carbonic anhydrase inhibitor\",\n{\n            'v': 11,\n            'f': \"11\",\n        }],\n [{\n            'v': 411,\n            'f': \"411\",\n        },\n\"Cholinergic receptor agonist\",\n{\n            'v': 3,\n            'f': \"3\",\n        }],\n [{\n            'v': 412,\n            'f': \"412\",\n        },\n\"Coagulation factor inhibitor\",\n{\n            'v': 5,\n            'f': \"5\",\n        }],\n [{\n            'v': 413,\n            'f': \"413\",\n        },\n\"Cytidine deaminase inhibitor\",\n{\n            'v': 1,\n            'f': \"1\",\n        }],\n [{\n            'v': 414,\n            'f': \"414\",\n        },\n\"DNA protein kinase inhibitor\",\n{\n            'v': 2,\n            'f': \"2\",\n        }],\n [{\n            'v': 415,\n            'f': \"415\",\n        },\n\"DOPA decarboxylase inhibitor\",\n{\n            'v': 1,\n            'f': \"1\",\n        }],\n [{\n            'v': 416,\n            'f': \"416\",\n        },\n\"Glucagon receptor antagonist\",\n{\n            'v': 2,\n            'f': \"2\",\n        }],\n [{\n            'v': 417,\n            'f': \"417\",\n        },\n\"Glucosylceramidase inhibitor\",\n{\n            'v': 4,\n            'f': \"4\",\n        }],\n [{\n            'v': 418,\n            'f': \"418\",\n        },\n\"Glutamate receptor modulator\",\n{\n            'v': 10,\n            'f': \"10\",\n        }],\n [{\n            'v': 419,\n            'f': \"419\",\n        },\n\"Histamine receptor modulator\",\n{\n            'v': 2,\n            'f': \"2\",\n        }],\n [{\n            'v': 420,\n            'f': \"420\",\n        },\n\"Imidazoline receptor agonist\",\n{\n            'v': 4,\n            'f': \"4\",\n        }],\n [{\n            'v': 421,\n            'f': \"421\",\n        },\n\"Leukocyte elastase inhibitor\",\n{\n            'v': 2,\n            'f': \"2\",\n        }],\n [{\n            'v': 422,\n            'f': \"422\",\n        },\n\"Lipoprotein lipase activator\",\n{\n            'v': 1,\n            'f': \"1\",\n        }],\n [{\n            'v': 423,\n            'f': \"423\",\n        },\n\"MRE11A exonuclease inhibitor\",\n{\n            'v': 1,\n            'f': \"1\",\n        }],\n [{\n            'v': 424,\n            'f': \"424\",\n        },\n\"Membrane integrity inhibitor\",\n{\n            'v': 5,\n            'f': \"5\",\n        }],\n [{\n            'v': 425,\n            'f': \"425\",\n        },\n\"Neuropeptide receptor ligand\",\n{\n            'v': 1,\n            'f': \"1\",\n        }],\n [{\n            'v': 426,\n            'f': \"426\",\n        },\n\"Oxytocin receptor antagonist\",\n{\n            'v': 1,\n            'f': \"1\",\n        }],\n [{\n            'v': 427,\n            'f': \"427\",\n        },\n\"Serotonin reuptake inhibitor\",\n{\n            'v': 24,\n            'f': \"24\",\n        }],\n [{\n            'v': 428,\n            'f': \"428\",\n        },\n\"Sterol demethylase inhibitor\",\n{\n            'v': 5,\n            'f': \"5\",\n        }],\n [{\n            'v': 429,\n            'f': \"429\",\n        },\n\"Thyroid peroxidase inhibitor\",\n{\n            'v': 1,\n            'f': \"1\",\n        }],\n [{\n            'v': 430,\n            'f': \"430\",\n        },\n\"Vasopressin receptor agonist\",\n{\n            'v': 2,\n            'f': \"2\",\n        }],\n [{\n            'v': 431,\n            'f': \"431\",\n        },\n\"Cytokine production inhibitor\",\n{\n            'v': 1,\n            'f': \"1\",\n        }],\n [{\n            'v': 432,\n            'f': \"432\",\n        },\n\"Fatty acid synthase inhibitor\",\n{\n            'v': 2,\n            'f': \"2\",\n        }],\n [{\n            'v': 433,\n            'f': \"433\",\n        },\n\"GABA receptor inverse agonist\",\n{\n            'v': 2,\n            'f': \"2\",\n        }],\n [{\n            'v': 434,\n            'f': \"434\",\n        },\n\"Glycine transporter inhibitor\",\n{\n            'v': 3,\n            'f': \"3\",\n        }],\n [{\n            'v': 435,\n            'f': \"435\",\n        },\n\"Histamine receptor antagonist\",\n{\n            'v': 67,\n            'f': \"67\",\n        }],\n [{\n            'v': 436,\n            'f': \"436\",\n        },\n\"Melatonin receptor antagonist\",\n{\n            'v': 2,\n            'f': \"2\",\n        }],\n [{\n            'v': 437,\n            'f': \"437\",\n        },\n\"Microtubule stabilizing agent\",\n{\n            'v': 2,\n            'f': \"2\",\n        }],\n [{\n            'v': 438,\n            'f': \"438\",\n        },\n\"Monoamine oxidase B inhibitor\",\n{\n            'v': 1,\n            'f': \"1\",\n        }],\n [{\n            'v': 439,\n            'f': \"439\",\n        },\n\"PPAR receptor partial agonist\",\n{\n            'v': 1,\n            'f': \"1\",\n        }],\n [{\n            'v': 440,\n            'f': \"440\",\n        },\n\"Progesterone receptor agonist\",\n{\n            'v': 31,\n            'f': \"31\",\n        }],\n [{\n            'v': 441,\n            'f': \"441\",\n        },\n\"Somatostatin receptor agonist\",\n{\n            'v': 5,\n            'f': \"5\",\n        }],\n [{\n            'v': 442,\n            'f': \"442\",\n        },\n\"TIE tyrosine kinase inhibitor\",\n{\n            'v': 1,\n            'f': \"1\",\n        }],\n [{\n            'v': 443,\n            'f': \"443\",\n        },\n\"Toll-like receptor antagonist\",\n{\n            'v': 1,\n            'f': \"1\",\n        }],\n [{\n            'v': 444,\n            'f': \"444\",\n        },\n\"Urotensin receptor antagonist\",\n{\n            'v': 1,\n            'f': \"1\",\n        }],\n [{\n            'v': 445,\n            'f': \"445\",\n        },\n\"Acetylcholine receptor agonist\",\n{\n            'v': 19,\n            'f': \"19\",\n        }],\n [{\n            'v': 446,\n            'f': \"446\",\n        },\n\"Acetylcholinesterase inhibitor\",\n{\n            'v': 29,\n            'f': \"29\",\n        }],\n [{\n            'v': 447,\n            'f': \"447\",\n        },\n\"Alkaline phosphatase inhibitor\",\n{\n            'v': 1,\n            'f': \"1\",\n        }],\n [{\n            'v': 448,\n            'f': \"448\",\n        },\n\"Bradykinin receptor antagonist\",\n{\n            'v': 4,\n            'f': \"4\",\n        }],\n [{\n            'v': 449,\n            'f': \"449\",\n        },\n\"D-Amino Acid Oxidase Inhibitor\",\n{\n            'v': 1,\n            'f': \"1\",\n        }],\n [{\n            'v': 450,\n            'f': \"450\",\n        },\n\"Dipeptidyl peptidase inhibitor\",\n{\n            'v': 11,\n            'f': \"11\",\n        }],\n [{\n            'v': 451,\n            'f': \"451\",\n        },\n\"Endothelin receptor antagonist\",\n{\n            'v': 10,\n            'f': \"10\",\n        }],\n [{\n            'v': 452,\n            'f': \"452\",\n        },\n\"Fructose biphosphate inhibitor\",\n{\n            'v': 1,\n            'f': \"1\",\n        }],\n [{\n            'v': 453,\n            'f': \"453\",\n        },\n\"Glycosyl transferase inhibitor\",\n{\n            'v': 1,\n            'f': \"1\",\n        }],\n [{\n            'v': 454,\n            'f': \"454\",\n        },\n\"L-type calcium channel blocker\",\n{\n            'v': 2,\n            'f': \"2\",\n        }],\n [{\n            'v': 455,\n            'f': \"455\",\n        },\n\"Monamine transporter modulator\",\n{\n            'v': 1,\n            'f': \"1\",\n        }],\n [{\n            'v': 456,\n            'f': \"456\",\n        },\n\"Noradrenaline uptake inhibitor\",\n{\n            'v': 1,\n            'f': \"1\",\n        }],\n [{\n            'v': 457,\n            'f': \"457\",\n        },\n\"P21 activated kinase inhibitor\",\n{\n            'v': 1,\n            'f': \"1\",\n        }],\n [{\n            'v': 458,\n            'f': \"458\",\n        },\n\"Platelet aggregation inhibitor\",\n{\n            'v': 10,\n            'f': \"10\",\n        }],\n [{\n            'v': 459,\n            'f': \"459\",\n        },\n\"Superoxide dismutase inhibitor\",\n{\n            'v': 1,\n            'f': \"1\",\n        }],\n [{\n            'v': 460,\n            'f': \"460\",\n        },\n\"T-type calcium channel blocker\",\n{\n            'v': 5,\n            'f': \"5\",\n        }],\n [{\n            'v': 461,\n            'f': \"461\",\n        },\n\"Thromboxane synthase inhibitor\",\n{\n            'v': 6,\n            'f': \"6\",\n        }],\n [{\n            'v': 462,\n            'f': \"462\",\n        },\n\"Thymidylate synthase inhibitor\",\n{\n            'v': 16,\n            'f': \"16\",\n        }],\n [{\n            'v': 463,\n            'f': \"463\",\n        },\n\"Tyrosine phosphatase inhibitor\",\n{\n            'v': 6,\n            'f': \"6\",\n        }],\n [{\n            'v': 464,\n            'f': \"464\",\n        },\n\"Acetylcholine release stimulant\",\n{\n            'v': 1,\n            'f': \"1\",\n        }],\n [{\n            'v': 465,\n            'f': \"465\",\n        },\n\"Alcohol dehydrogenase inhibitor\",\n{\n            'v': 2,\n            'f': \"2\",\n        }],\n [{\n            'v': 466,\n            'f': \"466\",\n        },\n\"Androgen biosynthesis inhibitor\",\n{\n            'v': 4,\n            'f': \"4\",\n        }],\n [{\n            'v': 467,\n            'f': \"467\",\n        },\n\"Angiotensin receptor antagonist\",\n{\n            'v': 13,\n            'f': \"13\",\n        }],\n [{\n            'v': 468,\n            'f': \"468\",\n        },\n\"Benzodiazepine receptor agonist\",\n{\n            'v': 12,\n            'f': \"12\",\n        }],\n [{\n            'v': 469,\n            'f': \"469\",\n        },\n\"Butyrylcholinesterase inhibitor\",\n{\n            'v': 1,\n            'f': \"1\",\n        }],\n [{\n            'v': 470,\n            'f': \"470\",\n        },\n\"Cannabinoid receptor antagonist\",\n{\n            'v': 7,\n            'f': \"7\",\n        }],\n [{\n            'v': 471,\n            'f': \"471\",\n        },\n\"Cholinergic receptor antagonist\",\n{\n            'v': 4,\n            'f': \"4\",\n        }],\n [{\n            'v': 472,\n            'f': \"472\",\n        },\n\"DNA methyltransferase inhibitor\",\n{\n            'v': 10,\n            'f': \"10\",\n        }],\n [{\n            'v': 473,\n            'f': \"473\",\n        },\n\"Delta 1 opioid receptor agonist\",\n{\n            'v': 2,\n            'f': \"2\",\n        }],\n [{\n            'v': 474,\n            'f': \"474\",\n        },\n\"Diacylglycerol kinase inhibitor\",\n{\n            'v': 1,\n            'f': \"1\",\n        }],\n [{\n            'v': 475,\n            'f': \"475\",\n        },\n\"Focal adhesion kinase inhibitor\",\n{\n            'v': 2,\n            'f': \"2\",\n        }],\n [{\n            'v': 476,\n            'f': \"476\",\n        },\n\"GABA aminotransferase activator\",\n{\n            'v': 1,\n            'f': \"1\",\n        }],\n [{\n            'v': 477,\n            'f': \"477\",\n        },\n\"GABA aminotransferase inhibitor\",\n{\n            'v': 1,\n            'f': \"1\",\n        }],\n [{\n            'v': 478,\n            'f': \"478\",\n        },\n\"GABAergic transmission enhancer\",\n{\n            'v': 1,\n            'f': \"1\",\n        }],\n [{\n            'v': 479,\n            'f': \"479\",\n        },\n\"Glucocorticoid receptor agonist\",\n{\n            'v': 81,\n            'f': \"81\",\n        }],\n [{\n            'v': 480,\n            'f': \"480\",\n        },\n\"Interleukin receptor antagonist\",\n{\n            'v': 1,\n            'f': \"1\",\n        }],\n [{\n            'v': 481,\n            'f': \"481\",\n        },\n\"Interleukin synthesis inhibitor\",\n{\n            'v': 1,\n            'f': \"1\",\n        }],\n [{\n            'v': 482,\n            'f': \"482\",\n        },\n\"Leukotriene receptor antagonist\",\n{\n            'v': 11,\n            'f': \"11\",\n        }],\n [{\n            'v': 483,\n            'f': \"483\",\n        },\n\"Membrane permeability inhibitor\",\n{\n            'v': 4,\n            'f': \"4\",\n        }],\n [{\n            'v': 484,\n            'f': \"484\",\n        },\n\"Nitric oxide synthase stimulant\",\n{\n            'v': 1,\n            'f': \"1\",\n        }],\n [{\n            'v': 485,\n            'f': \"485\",\n        },\n\"Plasminogen activator inhibitor\",\n{\n            'v': 2,\n            'f': \"2\",\n        }],\n [{\n            'v': 486,\n            'f': \"486\",\n        },\n\"Polar auxin transport inhibitor\",\n{\n            'v': 1,\n            'f': \"1\",\n        }],\n [{\n            'v': 487,\n            'f': \"487\",\n        },\n\"Reverse transcriptase inhibitor\",\n{\n            'v': 2,\n            'f': \"2\",\n        }],\n [{\n            'v': 488,\n            'f': \"488\",\n        },\n\"Rho associated kinase activator\",\n{\n            'v': 1,\n            'f': \"1\",\n        }],\n [{\n            'v': 489,\n            'f': \"489\",\n        },\n\"Rho associated kinase inhibitor\",\n{\n            'v': 10,\n            'f': \"10\",\n        }],\n [{\n            'v': 490,\n            'f': \"490\",\n        },\n\"Steroidogenic factor antagonist\",\n{\n            'v': 2,\n            'f': \"2\",\n        }],\n [{\n            'v': 491,\n            'f': \"491\",\n        },\n\"Thrombopoietin receptor agonist\",\n{\n            'v': 1,\n            'f': \"1\",\n        }],\n [{\n            'v': 492,\n            'f': \"492\",\n        },\n\"Thromboxane receptor antagonist\",\n{\n            'v': 4,\n            'f': \"4\",\n        }],\n [{\n            'v': 493,\n            'f': \"493\",\n        },\n\"Transthyretin amyloid inhibitor\",\n{\n            'v': 1,\n            'f': \"1\",\n        }],\n [{\n            'v': 494,\n            'f': \"494\",\n        },\n\"Tripeptidyl peptidase inhibitor\",\n{\n            'v': 1,\n            'f': \"1\",\n        }],\n [{\n            'v': 495,\n            'f': \"495\",\n        },\n\"Vasopressin receptor antagonist\",\n{\n            'v': 4,\n            'f': \"4\",\n        }],\n [{\n            'v': 496,\n            'f': \"496\",\n        },\n\"Aldehyde dehydrogenase inhibitor\",\n{\n            'v': 1,\n            'f': \"1\",\n        }],\n [{\n            'v': 497,\n            'f': \"497\",\n        },\n\"Free fatty acid receptor agonist\",\n{\n            'v': 1,\n            'f': \"1\",\n        }],\n [{\n            'v': 498,\n            'f': \"498\",\n        },\n\"Glycogen phosphorylase inhibitor\",\n{\n            'v': 1,\n            'f': \"1\",\n        }],\n [{\n            'v': 499,\n            'f': \"499\",\n        },\n\"Growth factor receptor activator\",\n{\n            'v': 5,\n            'f': \"5\",\n        }],\n [{\n            'v': 500,\n            'f': \"500\",\n        },\n\"Growth factor receptor inhibitor\",\n{\n            'v': 6,\n            'f': \"6\",\n        }],\n [{\n            'v': 501,\n            'f': \"501\",\n        },\n\"L-type calcium channel activator\",\n{\n            'v': 1,\n            'f': \"1\",\n        }],\n [{\n            'v': 502,\n            'f': \"502\",\n        },\n\"Lipase clearing factor inhibitor\",\n{\n            'v': 3,\n            'f': \"3\",\n        }],\n [{\n            'v': 503,\n            'f': \"503\",\n        },\n\"MAP kinase phosphatase inhibitor\",\n{\n            'v': 1,\n            'f': \"1\",\n        }],\n [{\n            'v': 504,\n            'f': \"504\",\n        },\n\"Matrix metalloprotease inhibitor\",\n{\n            'v': 2,\n            'f': \"2\",\n        }],\n [{\n            'v': 505,\n            'f': \"505\",\n        },\n\"Neuropeptide receptor antagonist\",\n{\n            'v': 7,\n            'f': \"7\",\n        }],\n [{\n            'v': 506,\n            'f': \"506\",\n        },\n\"Progesterone receptor antagonist\",\n{\n            'v': 9,\n            'f': \"9\",\n        }],\n [{\n            'v': 507,\n            'f': \"507\",\n        },\n\"Pyruvate dehydrogenase inhibitor\",\n{\n            'v': 1,\n            'f': \"1\",\n        }],\n [{\n            'v': 508,\n            'f': \"508\",\n        },\n\"Thyroid hormone receptor agonist\",\n{\n            'v': 1,\n            'f': \"1\",\n        }],\n [{\n            'v': 509,\n            'f': \"509\",\n        },\n\"3-ketoacyl CoA thiolase inhibitor\",\n{\n            'v': 1,\n            'f': \"1\",\n        }],\n [{\n            'v': 510,\n            'f': \"510\",\n        },\n\"Dopamine receptor partial agonist\",\n{\n            'v': 1,\n            'f': \"1\",\n        }],\n [{\n            'v': 511,\n            'f': \"511\",\n        },\n\"Estrogen-related receptor agonist\",\n{\n            'v': 1,\n            'f': \"1\",\n        }],\n [{\n            'v': 512,\n            'f': \"512\",\n        },\n\"Glutathione transferase inhibitor\",\n{\n            'v': 1,\n            'f': \"1\",\n        }],\n [{\n            'v': 513,\n            'f': \"513\",\n        },\n\"Lysophospholipid receptor agonist\",\n{\n            'v': 5,\n            'f': \"5\",\n        }],\n [{\n            'v': 514,\n            'f': \"514\",\n        },\n\"MAPK-interacting kinase inhibitor\",\n{\n            'v': 1,\n            'f': \"1\",\n        }],\n [{\n            'v': 515,\n            'f': \"515\",\n        },\n\"Mitochondrial complex I inhibitor\",\n{\n            'v': 1,\n            'f': \"1\",\n        }],\n [{\n            'v': 516,\n            'f': \"516\",\n        },\n\"Nitric oxide production inhibitor\",\n{\n            'v': 4,\n            'f': \"4\",\n        }],\n [{\n            'v': 517,\n            'f': \"517\",\n        },\n\"Norepinephrine reputake inhibitor\",\n{\n            'v': 8,\n            'f': \"8\",\n        }],\n [{\n            'v': 518,\n            'f': \"518\",\n        },\n\"Norepinephrine reuptake inhibitor\",\n{\n            'v': 7,\n            'f': \"7\",\n        }],\n [{\n            'v': 519,\n            'f': \"519\",\n        },\n\"Ornithine decarboxylase inhibitor\",\n{\n            'v': 1,\n            'f': \"1\",\n        }],\n [{\n            'v': 520,\n            'f': \"520\",\n        },\n\"Protein tyrosine kinase activator\",\n{\n            'v': 1,\n            'f': \"1\",\n        }],\n [{\n            'v': 521,\n            'f': \"521\",\n        },\n\"Protein tyrosine kinase inhibitor\",\n{\n            'v': 2,\n            'f': \"2\",\n        }],\n [{\n            'v': 522,\n            'f': \"522\",\n        },\n\"Pyruvate kinase isozyme activator\",\n{\n            'v': 2,\n            'f': \"2\",\n        }],\n [{\n            'v': 523,\n            'f': \"523\",\n        },\n\"Secretory phospholipase inhibitor\",\n{\n            'v': 1,\n            'f': \"1\",\n        }],\n [{\n            'v': 524,\n            'f': \"524\",\n        },\n\"Serine/threonine kinase inhibitor\",\n{\n            'v': 1,\n            'f': \"1\",\n        }],\n [{\n            'v': 525,\n            'f': \"525\",\n        },\n\"Sodium/calcium exchange inhibitor\",\n{\n            'v': 2,\n            'f': \"2\",\n        }],\n [{\n            'v': 526,\n            'f': \"526\",\n        },\n\"Stearoyl-CoA desaturase inhibitor\",\n{\n            'v': 1,\n            'f': \"1\",\n        }],\n [{\n            'v': 527,\n            'f': \"527\",\n        },\n\"Thymidine phosphorylase inhibitor\",\n{\n            'v': 1,\n            'f': \"1\",\n        }],\n [{\n            'v': 528,\n            'f': \"528\",\n        },\n\"Benzodiazepine receptor antagonist\",\n{\n            'v': 3,\n            'f': \"3\",\n        }],\n [{\n            'v': 529,\n            'f': \"529\",\n        },\n\"Bone morphogenic protein inhibitor\",\n{\n            'v': 1,\n            'f': \"1\",\n        }],\n [{\n            'v': 530,\n            'f': \"530\",\n        },\n\"Electrolyte reabsorption inhibitor\",\n{\n            'v': 1,\n            'f': \"1\",\n        }],\n [{\n            'v': 531,\n            'f': \"531\",\n        },\n\"G protein-coupled receptor agonist\",\n{\n            'v': 3,\n            'f': \"3\",\n        }],\n [{\n            'v': 532,\n            'f': \"532\",\n        },\n\"Glucocorticoid receptor antagonist\",\n{\n            'v': 6,\n            'f': \"6\",\n        }],\n [{\n            'v': 533,\n            'f': \"533\",\n        },\n\"Isocitrate dehydrogenase inhibitor\",\n{\n            'v': 3,\n            'f': \"3\",\n        }],\n [{\n            'v': 534,\n            'f': \"534\",\n        },\n\"Methylmalonyl CoA mutase stimulant\",\n{\n            'v': 2,\n            'f': \"2\",\n        }],\n [{\n            'v': 535,\n            'f': \"535\",\n        },\n\"Mineralocorticoid receptor agonist\",\n{\n            'v': 3,\n            'f': \"3\",\n        }],\n [{\n            'v': 536,\n            'f': \"536\",\n        },\n\"Quorum sensing signaling modulator\",\n{\n            'v': 3,\n            'f': \"3\",\n        }],\n [{\n            'v': 537,\n            'f': \"537\",\n        },\n\"Ribonucleoside reductase inhibitor\",\n{\n            'v': 4,\n            'f': \"4\",\n        }],\n [{\n            'v': 538,\n            'f': \"538\",\n        },\n\"Ribonucleotide reductase inhibitor\",\n{\n            'v': 5,\n            'f': \"5\",\n        }],\n [{\n            'v': 539,\n            'f': \"539\",\n        },\n\"Serotonin receptor inverse agonist\",\n{\n            'v': 1,\n            'f': \"1\",\n        }],\n [{\n            'v': 540,\n            'f': \"540\",\n        },\n\"Serotonin receptor partial agonist\",\n{\n            'v': 4,\n            'f': \"4\",\n        }],\n [{\n            'v': 541,\n            'f': \"541\",\n        },\n\"Sodium/hydrogen antiport inhibitor\",\n{\n            'v': 1,\n            'f': \"1\",\n        }],\n [{\n            'v': 542,\n            'f': \"542\",\n        },\n\"Structural glycoprotein antagonist\",\n{\n            'v': 2,\n            'f': \"2\",\n        }],\n [{\n            'v': 543,\n            'f': \"543\",\n        },\n\"ABC transporter expression enhancer\",\n{\n            'v': 2,\n            'f': \"2\",\n        }],\n [{\n            'v': 544,\n            'f': \"544\",\n        },\n\"Dopamine beta hydroxylase inhibitor\",\n{\n            'v': 1,\n            'f': \"1\",\n        }],\n [{\n            'v': 545,\n            'f': \"545\",\n        },\n\"GLCNAC phosphotransferase inhibitor\",\n{\n            'v': 2,\n            'f': \"2\",\n        }],\n [{\n            'v': 546,\n            'f': \"546\",\n        },\n\"Histone acetyltransferase inhibitor\",\n{\n            'v': 3,\n            'f': \"3\",\n        }],\n [{\n            'v': 547,\n            'f': \"547\",\n        },\n\"Methionine aminopeptidase inhibitor\",\n{\n            'v': 2,\n            'f': \"2\",\n        }],\n [{\n            'v': 548,\n            'f': \"548\",\n        },\n\"Myosin light chain kinase inhibitor\",\n{\n            'v': 1,\n            'f': \"1\",\n        }],\n [{\n            'v': 549,\n            'f': \"549\",\n        },\n\"Cannabinoid receptor inverse agonist\",\n{\n            'v': 4,\n            'f': \"4\",\n        }],\n [{\n            'v': 550,\n            'f': \"550\",\n        },\n\"Cannabinoid receptor partial agonist\",\n{\n            'v': 1,\n            'f': \"1\",\n        }],\n [{\n            'v': 551,\n            'f': \"551\",\n        },\n\"Coflilin signaling pathway activator\",\n{\n            'v': 1,\n            'f': \"1\",\n        }],\n [{\n            'v': 552,\n            'f': \"552\",\n        },\n\"Dihydropteroate synthetase inhibitor\",\n{\n            'v': 1,\n            'f': \"1\",\n        }],\n [{\n            'v': 553,\n            'f': \"553\",\n        },\n\"G protein-coupled receptor modulator\",\n{\n            'v': 1,\n            'f': \"1\",\n        }],\n [{\n            'v': 554,\n            'f': \"554\",\n        },\n\"Leucine rich repeat kinase inhibitor\",\n{\n            'v': 4,\n            'f': \"4\",\n        }],\n [{\n            'v': 555,\n            'f': \"555\",\n        },\n\"Lysophospholipid receptor antagonist\",\n{\n            'v': 1,\n            'f': \"1\",\n        }],\n [{\n            'v': 556,\n            'f': \"556\",\n        },\n\"Norepinephrine transporter inhibitor\",\n{\n            'v': 2,\n            'f': \"2\",\n        }],\n [{\n            'v': 557,\n            'f': \"557\",\n        },\n\"Penicillin binding protein inhibitor\",\n{\n            'v': 1,\n            'f': \"1\",\n        }],\n [{\n            'v': 558,\n            'f': \"558\",\n        },\n\"Voltage-gated sodium channel blocker\",\n{\n            'v': 4,\n            'f': \"4\",\n        }],\n [{\n            'v': 559,\n            'f': \"559\",\n        },\n\"Catecholamine depleting sympatholytic\",\n{\n            'v': 1,\n            'f': \"1\",\n        }],\n [{\n            'v': 560,\n            'f': \"560\",\n        },\n\"DNA directed DNA polymerase inhibitor\",\n{\n            'v': 2,\n            'f': \"2\",\n        }],\n [{\n            'v': 561,\n            'f': \"561\",\n        },\n\"Hemozoin biocrystallization inhibitor\",\n{\n            'v': 3,\n            'f': \"3\",\n        }],\n [{\n            'v': 562,\n            'f': \"562\",\n        },\n\"Indoleamine 2,3-dioxygenase inhibitor\",\n{\n            'v': 1,\n            'f': \"1\",\n        }],\n [{\n            'v': 563,\n            'f': \"563\",\n        },\n\"Mineralocorticoid receptor antagonist\",\n{\n            'v': 9,\n            'f': \"9\",\n        }],\n [{\n            'v': 564,\n            'f': \"564\",\n        },\n\"Phenylalanine 4-hydroxylase stimulant\",\n{\n            'v': 2,\n            'f': \"2\",\n        }],\n [{\n            'v': 565,\n            'f': \"565\",\n        },\n\"Selective estrogen receptor modulator\",\n{\n            'v': 8,\n            'f': \"8\",\n        }],\n [{\n            'v': 566,\n            'f': \"566\",\n        },\n\"Selective serotonin reuptake enhancer\",\n{\n            'v': 1,\n            'f': \"1\",\n        }],\n [{\n            'v': 567,\n            'f': \"567\",\n        },\n\"Ubiquitin specific protease inhibitor\",\n{\n            'v': 3,\n            'f': \"3\",\n        }],\n [{\n            'v': 568,\n            'f': \"568\",\n        },\n\"Unidentified pharmacological activity\",\n{\n            'v': 1,\n            'f': \"1\",\n        }],\n [{\n            'v': 569,\n            'f': \"569\",\n        },\n\"Carbamoyl phosphate synthase activator\",\n{\n            'v': 1,\n            'f': \"1\",\n        }],\n [{\n            'v': 570,\n            'f': \"570\",\n        },\n\"Catechol O methyltransferase inhibitor\",\n{\n            'v': 4,\n            'f': \"4\",\n        }],\n [{\n            'v': 571,\n            'f': \"571\",\n        },\n\"DNA dependent protein kinase inhibitor\",\n{\n            'v': 6,\n            'f': \"6\",\n        }],\n [{\n            'v': 572,\n            'f': \"572\",\n        },\n\"Dihydroorotate dehydrogenase inhibitor\",\n{\n            'v': 4,\n            'f': \"4\",\n        }],\n [{\n            'v': 573,\n            'f': \"573\",\n        },\n\"Selective serotonin reuptake inhibitor\",\n{\n            'v': 8,\n            'f': \"8\",\n        }],\n [{\n            'v': 574,\n            'f': \"574\",\n        },\n\"Sodium/glucose cotransporter inhibitor\",\n{\n            'v': 6,\n            'f': \"6\",\n        }],\n [{\n            'v': 575,\n            'f': \"575\",\n        },\n\"Solute carrier family member inhibitor\",\n{\n            'v': 1,\n            'f': \"1\",\n        }],\n [{\n            'v': 576,\n            'f': \"576\",\n        },\n\"Ubiquitin-conjugating enzyme inhibitor\",\n{\n            'v': 1,\n            'f': \"1\",\n        }],\n [{\n            'v': 577,\n            'f': \"577\",\n        },\n\"Vesicular monoamine transporter ligand\",\n{\n            'v': 1,\n            'f': \"1\",\n        }],\n [{\n            'v': 578,\n            'f': \"578\",\n        },\n\"Adrenergic transmitter uptake inhibitor\",\n{\n            'v': 1,\n            'f': \"1\",\n        }],\n [{\n            'v': 579,\n            'f': \"579\",\n        },\n\"Angiotensin converting enzyme activator\",\n{\n            'v': 1,\n            'f': \"1\",\n        }],\n [{\n            'v': 580,\n            'f': \"580\",\n        },\n\"Angiotensin converting enzyme inhibitor\",\n{\n            'v': 24,\n            'f': \"24\",\n        }],\n [{\n            'v': 581,\n            'f': \"581\",\n        },\n\"Bacterial cell wall synthesis inhibitor\",\n{\n            'v': 4,\n            'f': \"4\",\n        }],\n [{\n            'v': 582,\n            'f': \"582\",\n        },\n\"Histamine N-methyltransferase inhibitor\",\n{\n            'v': 1,\n            'f': \"1\",\n        }],\n [{\n            'v': 583,\n            'f': \"583\",\n        },\n\"Hydroxycarboxylic acid receptor agonist\",\n{\n            'v': 2,\n            'f': \"2\",\n        }],\n [{\n            'v': 584,\n            'f': \"584\",\n        },\n\"Membrane metalloendopeptidase inhibitor\",\n{\n            'v': 1,\n            'f': \"1\",\n        }],\n [{\n            'v': 585,\n            'f': \"585\",\n        },\n\"Pyruvate dehydrogenase kinase inhibitor\",\n{\n            'v': 2,\n            'f': \"2\",\n        }],\n [{\n            'v': 586,\n            'f': \"586\",\n        },\n\"Trace amine associated receptor agonist\",\n{\n            'v': 1,\n            'f': \"1\",\n        }],\n [{\n            'v': 587,\n            'f': \"587\",\n        },\n\"Tumor necrosis factor release inhibitor\",\n{\n            'v': 2,\n            'f': \"2\",\n        }],\n [{\n            'v': 588,\n            'f': \"588\",\n        },\n\"Aspartate carbamoyltransferase inhibitor\",\n{\n            'v': 1,\n            'f': \"1\",\n        }],\n [{\n            'v': 589,\n            'f': \"589\",\n        },\n\"Carnitine palmitoyltransferase inhibitor\",\n{\n            'v': 4,\n            'f': \"4\",\n        }],\n [{\n            'v': 590,\n            'f': \"590\",\n        },\n\"Ionotropic glutamate receptor antagonist\",\n{\n            'v': 2,\n            'f': \"2\",\n        }],\n [{\n            'v': 591,\n            'f': \"591\",\n        },\n\"Kelch-like ECH-associated protein ligand\",\n{\n            'v': 3,\n            'f': \"3\",\n        }],\n [{\n            'v': 592,\n            'f': \"592\",\n        },\n\"Phosphatidylglycerophosphatase inhibitor\",\n{\n            'v': 1,\n            'f': \"1\",\n        }],\n [{\n            'v': 593,\n            'f': \"593\",\n        },\n\"Sphingosine 1 phosphate receptor agonist\",\n{\n            'v': 1,\n            'f': \"1\",\n        }],\n [{\n            'v': 594,\n            'f': \"594\",\n        },\n\"Bacterial 30S ribosomal subunit inhibitor\",\n{\n            'v': 1,\n            'f': \"1\",\n        }],\n [{\n            'v': 595,\n            'f': \"595\",\n        },\n\"Bacterial 50S ribosomal subunit inhibitor\",\n{\n            'v': 2,\n            'f': \"2\",\n        }],\n [{\n            'v': 596,\n            'f': \"596\",\n        },\n\"Dihydropyrimidine dehydrogenase inhibitor\",\n{\n            'v': 1,\n            'f': \"1\",\n        }],\n [{\n            'v': 597,\n            'f': \"597\",\n        },\n\"Farnesyl pyrophosphate synthase inhibitor\",\n{\n            'v': 1,\n            'f': \"1\",\n        }],\n [{\n            'v': 598,\n            'f': \"598\",\n        },\n\"GABA benzodiazepine site receptor agonist\",\n{\n            'v': 1,\n            'f': \"1\",\n        }],\n [{\n            'v': 599,\n            'f': \"599\",\n        },\n\"Lysophosphatidic acid receptor antagonist\",\n{\n            'v': 1,\n            'f': \"1\",\n        }],\n [{\n            'v': 600,\n            'f': \"600\",\n        },\n\"NAD precursor with lipid lowering effects\",\n{\n            'v': 2,\n            'f': \"2\",\n        }],\n [{\n            'v': 601,\n            'f': \"601\",\n        },\n\"Niemann-Pick C1-like 1 protein antagonist\",\n{\n            'v': 2,\n            'f': \"2\",\n        }],\n [{\n            'v': 602,\n            'f': \"602\",\n        },\n\"Tumor necrosis factor receptor antagonist\",\n{\n            'v': 1,\n            'f': \"1\",\n        }],\n [{\n            'v': 603,\n            'f': \"603\",\n        },\n\"Vesicular monoamine transporter inhibitor\",\n{\n            'v': 6,\n            'f': \"6\",\n        }],\n [{\n            'v': 604,\n            'f': \"604\",\n        },\n\"Breast cancer resistance protein inhibitor\",\n{\n            'v': 1,\n            'f': \"1\",\n        }],\n [{\n            'v': 605,\n            'f': \"605\",\n        },\n\"Diacylglycerol O acyltransferase inhibitor\",\n{\n            'v': 3,\n            'f': \"3\",\n        }],\n [{\n            'v': 606,\n            'f': \"606\",\n        },\n\"Dopamine-norepinephrine reuptake inhibitor\",\n{\n            'v': 1,\n            'f': \"1\",\n        }],\n [{\n            'v': 607,\n            'f': \"607\",\n        },\n\"Histone lysine methyltransferase inhibitor\",\n{\n            'v': 5,\n            'f': \"5\",\n        }],\n [{\n            'v': 608,\n            'f': \"608\",\n        },\n\"Importin-beta transport receptor inhibitor\",\n{\n            'v': 1,\n            'f': \"1\",\n        }],\n [{\n            'v': 609,\n            'f': \"609\",\n        },\n\"Nucleoside reverse transcriptase inhibitor\",\n{\n            'v': 1,\n            'f': \"1\",\n        }],\n [{\n            'v': 610,\n            'f': \"610\",\n        },\n\"Receptor tyrosine protein kinase inhibitor\",\n{\n            'v': 4,\n            'f': \"4\",\n        }],\n [{\n            'v': 611,\n            'f': \"611\",\n        },\n\"Tumor necrosis factor production inhibitor\",\n{\n            'v': 3,\n            'f': \"3\",\n        }],\n [{\n            'v': 612,\n            'f': \"612\",\n        },\n\"Acetylcholine receptor allosteric modulator\",\n{\n            'v': 1,\n            'f': \"1\",\n        }],\n [{\n            'v': 613,\n            'f': \"613\",\n        },\n\"Cholesterylester transfer protein inhibitor\",\n{\n            'v': 1,\n            'f': \"1\",\n        }],\n [{\n            'v': 614,\n            'f': \"614\",\n        },\n\"Excitatory amino acid transporter inhibitor\",\n{\n            'v': 1,\n            'f': \"1\",\n        }],\n [{\n            'v': 615,\n            'f': \"615\",\n        },\n\"GABA receptor positive allosteric modulator\",\n{\n            'v': 1,\n            'f': \"1\",\n        }],\n [{\n            'v': 616,\n            'f': \"616\",\n        },\n\"Glucose 6-phosphate dehydrogenase inhibitor\",\n{\n            'v': 1,\n            'f': \"1\",\n        }],\n [{\n            'v': 617,\n            'f': \"617\",\n        },\n\"Hepatocyte growth factor receptor inhibitor\",\n{\n            'v': 4,\n            'f': \"4\",\n        }],\n [{\n            'v': 618,\n            'f': \"618\",\n        },\n\"Hydroxyphenylpyruvate dioxygenase inhibitor\",\n{\n            'v': 1,\n            'f': \"1\",\n        }],\n [{\n            'v': 619,\n            'f': \"619\",\n        },\n\"Mitochondrial Na+/Ca2+ exchanger antagonist\",\n{\n            'v': 1,\n            'f': \"1\",\n        }],\n [{\n            'v': 620,\n            'f': \"620\",\n        },\n\"Runt-related transcription factor inhibitor\",\n{\n            'v': 1,\n            'f': \"1\",\n        }],\n [{\n            'v': 621,\n            'f': \"621\",\n        },\n\"SARS coronavirus 3C-like protease inhibitor\",\n{\n            'v': 2,\n            'f': \"2\",\n        }],\n [{\n            'v': 622,\n            'f': \"622\",\n        },\n\"Cholesteryl ester transfer protein inhibitor\",\n{\n            'v': 2,\n            'f': \"2\",\n        }],\n [{\n            'v': 623,\n            'f': \"623\",\n        },\n\"Growth hormone secretagogue receptor agonist\",\n{\n            'v': 1,\n            'f': \"1\",\n        }],\n [{\n            'v': 624,\n            'f': \"624\",\n        },\n\"Mitochondrial ADP, ATP translocase inhibitor\",\n{\n            'v': 1,\n            'f': \"1\",\n        }],\n [{\n            'v': 625,\n            'f': \"625\",\n        },\n\"Aromatic L-amino acid decarboxylase inhibitor\",\n{\n            'v': 2,\n            'f': \"2\",\n        }],\n [{\n            'v': 626,\n            'f': \"626\",\n        },\n\"Collapsin response mediator protein inhibitor\",\n{\n            'v': 1,\n            'f': \"1\",\n        }],\n [{\n            'v': 627,\n            'f': \"627\",\n        },\n\"Collapsin response mediator protein stimulant\",\n{\n            'v': 1,\n            'f': \"1\",\n        }],\n [{\n            'v': 628,\n            'f': \"628\",\n        },\n\"Inhibitor of translocation of PKCq in T cells\",\n{\n            'v': 1,\n            'f': \"1\",\n        }],\n [{\n            'v': 629,\n            'f': \"629\",\n        },\n\"Luteinizing hormone releasing hormone agonist\",\n{\n            'v': 1,\n            'f': \"1\",\n        }],\n [{\n            'v': 630,\n            'f': \"630\",\n        },\n\"11-beta hydroxysteroid dehydrogenase inhibitor\",\n{\n            'v': 2,\n            'f': \"2\",\n        }],\n [{\n            'v': 631,\n            'f': \"631\",\n        },\n\"Enoyl-acyl-carrier protein reductase inhibitor\",\n{\n            'v': 2,\n            'f': \"2\",\n        }],\n [{\n            'v': 632,\n            'f': \"632\",\n        },\n\"Non-nucleoside reverse transcriptase inhibitor\",\n{\n            'v': 3,\n            'f': \"3\",\n        }],\n [{\n            'v': 633,\n            'f': \"633\",\n        },\n\"Platelet activating factor receptor antagonist\",\n{\n            'v': 6,\n            'f': \"6\",\n        }],\n [{\n            'v': 634,\n            'f': \"634\",\n        },\n\"Thyrotropin releasing hormone receptor agonist\",\n{\n            'v': 2,\n            'f': \"2\",\n        }],\n [{\n            'v': 635,\n            'f': \"635\",\n        },\n\"Growth hormone releasing peptide ligand agonist\",\n{\n            'v': 1,\n            'f': \"1\",\n        }],\n [{\n            'v': 636,\n            'f': \"636\",\n        },\n\"Niacinamide phosphoribosyltransferase inhibitor\",\n{\n            'v': 1,\n            'f': \"1\",\n        }],\n [{\n            'v': 637,\n            'f': \"637\",\n        },\n\"Serum/glucocorticoid regulated kinase inhibitor\",\n{\n            'v': 1,\n            'f': \"1\",\n        }],\n [{\n            'v': 638,\n            'f': \"638\",\n        },\n\"Sodium/potassium/chloride transporter inhibitor\",\n{\n            'v': 4,\n            'f': \"4\",\n        }],\n [{\n            'v': 639,\n            'f': \"639\",\n        },\n\"Glutamate receptor negative allosteric modulator\",\n{\n            'v': 1,\n            'f': \"1\",\n        }],\n [{\n            'v': 640,\n            'f': \"640\",\n        },\n\"Glutamate receptor positive allosteric modulator\",\n{\n            'v': 1,\n            'f': \"1\",\n        }],\n [{\n            'v': 641,\n            'f': \"641\",\n        },\n\"Dimethylarginine dimethylaminohydrolase inhibitor\",\n{\n            'v': 1,\n            'f': \"1\",\n        }],\n [{\n            'v': 642,\n            'f': \"642\",\n        },\n\"GABA benzodiazepine site receptor inverse agonist\",\n{\n            'v': 1,\n            'f': \"1\",\n        }],\n [{\n            'v': 643,\n            'f': \"643\",\n        },\n\"GABA benzodiazepine site receptor partial agonist\",\n{\n            'v': 1,\n            'f': \"1\",\n        }],\n [{\n            'v': 644,\n            'f': \"644\",\n        },\n\"Glucose dependent insulinotropic receptor agonist\",\n{\n            'v': 3,\n            'f': \"3\",\n        }],\n [{\n            'v': 645,\n            'f': \"645\",\n        },\n\"Neural Wiskott-Aldrich syndrome protein inhibitor\",\n{\n            'v': 1,\n            'f': \"1\",\n        }],\n [{\n            'v': 646,\n            'f': \"646\",\n        },\n\"Eukaryotic translation initiation factor inhibitor\",\n{\n            'v': 2,\n            'f': \"2\",\n        }],\n [{\n            'v': 647,\n            'f': \"647\",\n        },\n\"Intermediate conductance potassium channel blocker\",\n{\n            'v': 1,\n            'f': \"1\",\n        }],\n [{\n            'v': 648,\n            'f': \"648\",\n        },\n\"Microsomal trigylceride transfer protein inhibitor\",\n{\n            'v': 1,\n            'f': \"1\",\n        }],\n [{\n            'v': 649,\n            'f': \"649\",\n        },\n\"3beta-hydroxy-delta5-steroid dehydrogenase inhibitor\",\n{\n            'v': 1,\n            'f': \"1\",\n        }],\n [{\n            'v': 650,\n            'f': \"650\",\n        },\n\"NADH-ubiquinone oxidoreductase (Complex I) inhibitor\",\n{\n            'v': 1,\n            'f': \"1\",\n        }],\n [{\n            'v': 651,\n            'f': \"651\",\n        },\n\"Thyroid-stimulating hormone receptor inverse agonist\",\n{\n            'v': 1,\n            'f': \"1\",\n        }],\n [{\n            'v': 652,\n            'f': \"652\",\n        },\n\"Calcium/calmodulin dependent protein kinase inhibitor\",\n{\n            'v': 3,\n            'f': \"3\",\n        }],\n [{\n            'v': 653,\n            'f': \"653\",\n        },\n\"Telomerase reverse transcriptase expression inhibitor\",\n{\n            'v': 1,\n            'f': \"1\",\n        }],\n [{\n            'v': 654,\n            'f': \"654\",\n        },\n\"Gonadotropin releasing factor hormone receptor agonist\",\n{\n            'v': 2,\n            'f': \"2\",\n        }],\n [{\n            'v': 655,\n            'f': \"655\",\n        },\n\"Gonadotropin releasing factor hormone receptor antagonist\",\n{\n            'v': 1,\n            'f': \"1\",\n        }],\n [{\n            'v': 656,\n            'f': \"656\",\n        },\n\"Precursor for food preservatives, plasticizers and medicinal compounds\",\n{\n            'v': 1,\n            'f': \"1\",\n        }],\n [{\n            'v': 657,\n            'f': \"657\",\n        },\n\"Binding of RNA helicase A to the transcription factor EWS-FLI1 inhibitor\",\n{\n            'v': 1,\n            'f': \"1\",\n        }]],\n        columns: [[\"number\", \"index\"], [\"string\", \"moa\"], [\"number\", \"count\"]],\n        columnOptions: [{\"width\": \"1px\", \"className\": \"index_column\"}],\n        rowsPerPage: 25,\n        helpUrl: \"https://colab.research.google.com/notebooks/data_table.ipynb\",\n        suppressOutputScrolling: true,\n        minimumWidth: undefined,\n      });\n    ",
            "text/html": [
              "<div>\n",
              "<style scoped>\n",
              "    .dataframe tbody tr th:only-of-type {\n",
              "        vertical-align: middle;\n",
              "    }\n",
              "\n",
              "    .dataframe tbody tr th {\n",
              "        vertical-align: top;\n",
              "    }\n",
              "\n",
              "    .dataframe thead th {\n",
              "        text-align: right;\n",
              "    }\n",
              "</style>\n",
              "<table border=\"1\" class=\"dataframe\">\n",
              "  <thead>\n",
              "    <tr style=\"text-align: right;\">\n",
              "      <th></th>\n",
              "      <th>moa</th>\n",
              "      <th>count</th>\n",
              "    </tr>\n",
              "  </thead>\n",
              "  <tbody>\n",
              "    <tr>\n",
              "      <th>0</th>\n",
              "      <td>None</td>\n",
              "      <td>31262</td>\n",
              "    </tr>\n",
              "    <tr>\n",
              "      <th>1</th>\n",
              "      <td>CAR agonist</td>\n",
              "      <td>2</td>\n",
              "    </tr>\n",
              "    <tr>\n",
              "      <th>2</th>\n",
              "      <td>ALK inhibitor</td>\n",
              "      <td>7</td>\n",
              "    </tr>\n",
              "    <tr>\n",
              "      <th>3</th>\n",
              "      <td>Akt inhibitor</td>\n",
              "      <td>13</td>\n",
              "    </tr>\n",
              "    <tr>\n",
              "      <th>4</th>\n",
              "      <td>BCL inhibitor</td>\n",
              "      <td>11</td>\n",
              "    </tr>\n",
              "    <tr>\n",
              "      <th>...</th>\n",
              "      <td>...</td>\n",
              "      <td>...</td>\n",
              "    </tr>\n",
              "    <tr>\n",
              "      <th>653</th>\n",
              "      <td>Telomerase reverse transcriptase expression in...</td>\n",
              "      <td>1</td>\n",
              "    </tr>\n",
              "    <tr>\n",
              "      <th>654</th>\n",
              "      <td>Gonadotropin releasing factor hormone receptor...</td>\n",
              "      <td>2</td>\n",
              "    </tr>\n",
              "    <tr>\n",
              "      <th>655</th>\n",
              "      <td>Gonadotropin releasing factor hormone receptor...</td>\n",
              "      <td>1</td>\n",
              "    </tr>\n",
              "    <tr>\n",
              "      <th>656</th>\n",
              "      <td>Precursor for food preservatives, plasticizers...</td>\n",
              "      <td>1</td>\n",
              "    </tr>\n",
              "    <tr>\n",
              "      <th>657</th>\n",
              "      <td>Binding of RNA helicase A to the transcription...</td>\n",
              "      <td>1</td>\n",
              "    </tr>\n",
              "  </tbody>\n",
              "</table>\n",
              "<p>658 rows × 2 columns</p>\n",
              "</div>"
            ],
            "text/plain": [
              "                                                   moa  count\n",
              "0                                                 None  31262\n",
              "1                                          CAR agonist      2\n",
              "2                                        ALK inhibitor      7\n",
              "3                                        Akt inhibitor     13\n",
              "4                                        BCL inhibitor     11\n",
              "..                                                 ...    ...\n",
              "653  Telomerase reverse transcriptase expression in...      1\n",
              "654  Gonadotropin releasing factor hormone receptor...      2\n",
              "655  Gonadotropin releasing factor hormone receptor...      1\n",
              "656  Precursor for food preservatives, plasticizers...      1\n",
              "657  Binding of RNA helicase A to the transcription...      1\n",
              "\n",
              "[658 rows x 2 columns]"
            ]
          },
          "metadata": {
            "tags": []
          },
          "execution_count": 64
        }
      ]
    },
    {
      "cell_type": "markdown",
      "metadata": {
        "id": "OURvAVwX72NQ"
      },
      "source": [
        "## Functions -- Data Retrieval"
      ]
    },
    {
      "cell_type": "markdown",
      "metadata": {
        "id": "5dMPQapai1Xk"
      },
      "source": [
        "### cmap_cell"
      ]
    },
    {
      "cell_type": "markdown",
      "metadata": {
        "id": "RQVkrXJlrlYQ"
      },
      "source": [
        "Query cellinfo table\n",
        "\n",
        "    cmapBQ.query.cmap_cell(client, cell_iname=None, cell_alias=None, ccle_name=None, primary_disease=None, cell_lineage=None, cell_type=None, table=None, verbose=False)\n",
        "\n",
        "    Parameters\n",
        "            client – Bigquery Client\n",
        "            cell_iname – List of cell_inames\n",
        "            cell_alias – List of cell aliases\n",
        "            ccle_name – List of ccle_names\n",
        "            primary_disease – List of primary_diseases\n",
        "            cell_lineage – List of cell_lineages\n",
        "            cell_type – List of cell_types [link text](https://)\n",
        "            table – table to query. This by default points to the siginfo table and normally should not be changed.\n",
        "            verbose – Print query and table address.\n",
        "    Returns\n",
        "        Pandas DataFrame\n",
        "\n"
      ]
    },
    {
      "cell_type": "code",
      "metadata": {
        "id": "a3xJ_svGvpxs",
        "colab": {
          "base_uri": "https://localhost:8080/",
          "height": 660
        },
        "outputId": "57c1b99c-f806-423d-e542-4674543037eb"
      },
      "source": [
        "cell_lineage = 'skin'\n",
        "core_cell_lines = ['A375', 'A549', 'HCC515', 'HEPG2', 'MCF7', 'PC3', 'VCAP', 'HT29', 'HA1E']\n",
        "\n",
        "cell_table = cmap_query.cmap_cell(\n",
        "    bq_client,\n",
        "    cell_iname = core_cell_lines, \n",
        "    primary_disease=None,\n",
        "#    cell_lineage=cell_lineage,\n",
        "    verbose=False\n",
        ")\n",
        "\n",
        "cell_table.head(10)"
      ],
      "execution_count": null,
      "outputs": [
        {
          "output_type": "execute_result",
          "data": {
            "application/vnd.google.colaboratory.module+javascript": "\n      import \"https://ssl.gstatic.com/colaboratory/data_table/a6224c040fa35dcf/data_table.js\";\n\n      window.createDataTable({\n        data: [[{\n            'v': 0,\n            'f': \"0\",\n        },\n\"HCC515\",\n\"CVCL_5136\",\nnull,\n{\n            'v': null,\n            'f': \"null\",\n        },\n{\n            'v': null,\n            'f': \"null\",\n        },\nnull,\nnull,\nnull,\nnull,\n\"tumor\",\n\"Unknown\",\n\"F\",\n\"Unknown\",\n\"lung\",\n\"lung cancer\",\n\"carcinoma\",\nnull,\n\"adherent\",\n\"HCC515_LUNG\",\n\"HCC0515\"],\n [{\n            'v': 1,\n            'f': \"1\",\n        },\n\"HA1E\",\nnull,\nnull,\n{\n            'v': null,\n            'f': \"null\",\n        },\n{\n            'v': null,\n            'f': \"null\",\n        },\n\"60\",\n\"MEM-ALPHA (Invitrogen A1049001) supplemented with 10% v/v fetal bovine serum (Sigma F4135) and 1% 100X penicillin-streptomycin-glutamine (Invitrogen 10378-016)\",\nnull,\nnull,\n\"normal\",\n\"Unknown\",\n\"Unknown\",\n\"Unknown\",\n\"kidney\",\n\"normal kidney sample\",\n\"normal kidney sample\",\nnull,\n\"unknown\",\n\"HA1E_KIDNEY\",\nnull],\n [{\n            'v': 2,\n            'f': \"2\",\n        },\n\"A549\",\n\"CVCL_0023\",\n\"58\",\n{\n            'v': null,\n            'f': \"null\",\n        },\n{\n            'v': null,\n            'f': \"null\",\n        },\n\"48\",\n\"F-12K ATCC catalog # 3-24\",\n\"CCL-185\",\n\"c-4\",\n\"tumor\",\n\"Caucasian\",\n\"M\",\n\"Primary\",\n\"lung\",\n\"lung cancer\",\n\"non small cell carcinoma\",\n\"ATCC\",\n\"adherent\",\n\"A549_LUNG\",\n\"A 549\"],\n [{\n            'v': 3,\n            'f': \"3\",\n        },\n\"A375\",\n\"CVCL_0132\",\n\"54\",\n{\n            'v': null,\n            'f': \"null\",\n        },\n{\n            'v': null,\n            'f': \"null\",\n        },\n\"36\",\n\"DMEM Invitrogen catalog # 11995-65\",\n\"CRL-1619\",\n\"c-127\",\n\"tumor\",\n\"Unknown\",\n\"F\",\n\"Metastatic\",\n\"skin\",\n\"skin cancer\",\n\"melanoma\",\n\"ATCC\",\n\"adherent\",\n\"A375_SKIN\",\n\"A 375|A-375\"],\n [{\n            'v': 4,\n            'f': \"4\",\n        },\n\"HT29\",\n\"CVCL_0320\",\n\"44\",\n{\n            'v': null,\n            'f': \"null\",\n        },\n{\n            'v': null,\n            'f': \"null\",\n        },\n\"36\",\n\"McCoy's 5A Invitrogen catalog # 166-82\",\n\"HTB-38\",\n\"c-272\",\n\"tumor\",\n\"Caucasian\",\n\"F\",\n\"Primary\",\n\"large_intestine\",\n\"colon cancer\",\n\"adenocarcinoma\",\n\"ATCC\",\n\"adherent\",\n\"HT29_LARGE_INTESTINE\",\n\"HT 29\"],\n [{\n            'v': 5,\n            'f': \"5\",\n        },\n\"HEPG2\",\n\"CVCL_0027\",\n\"15\",\n{\n            'v': null,\n            'f': \"null\",\n        },\n{\n            'v': null,\n            'f': \"null\",\n        },\n\"84\",\n\"EMEM ATCC catalog # 3-23\",\n\"HB-8065\",\nnull,\n\"tumor\",\n\"Caucasian\",\n\"M\",\n\"Primary\",\n\"liver\",\n\"liver cancer\",\n\"carcinoma\",\n\"ATCC\",\n\"adherent\",\n\"HEPG2_LIVER\",\n\"Hep G2|HEP-G2\"],\n [{\n            'v': 6,\n            'f': \"6\",\n        },\n\"MCF7\",\n\"CVCL_0031\",\n\"40\",\n{\n            'v': null,\n            'f': \"null\",\n        },\n{\n            'v': null,\n            'f': \"null\",\n        },\n\"72\",\n\"EMEM ATCC catalog # 3-23\",\n\"HTB-22\",\n\"c-438\",\n\"tumor\",\n\"Caucasian\",\n\"F\",\n\"Metastatic\",\n\"breast\",\n\"breast cancer\",\n\"adenocarcinoma\",\n\"ATCC\",\n\"adherent\",\n\"MCF7_BREAST\",\n\"IBMF-7\"],\n [{\n            'v': 7,\n            'f': \"7\",\n        },\n\"PC3\",\n\"CVCL_0035\",\n\"62\",\n{\n            'v': null,\n            'f': \"null\",\n        },\n{\n            'v': null,\n            'f': \"null\",\n        },\n\"72\",\n\"F-12K ATCC catalog # 3-24\",\n\"CRL-1435\",\n\"c-214\",\n\"tumor\",\n\"Caucasian\",\n\"M\",\n\"Metastatic\",\n\"prostate\",\n\"prostate cancer\",\n\"adenocarcinoma\",\n\"ATCC\",\n\"mix\",\n\"PC3_PROSTATE\",\n\"PC.3|PC-3\"],\n [{\n            'v': 8,\n            'f': \"8\",\n        },\n\"VCAP\",\n\"CVCL_2235\",\nnull,\n{\n            'v': null,\n            'f': \"null\",\n        },\n{\n            'v': null,\n            'f': \"null\",\n        },\n\"220\",\n\"DMEM ATCC catalog # 3-22\",\nnull,\nnull,\n\"tumor\",\n\"Caucasian\",\n\"M\",\n\"Metastatic\",\n\"prostate\",\n\"prostate cancer\",\n\"adenocarcinoma\",\n\"ATCC\",\n\"adherent\",\n\"VCAP_PROSTATE\",\n\"Vcap\"]],\n        columns: [[\"number\", \"index\"], [\"string\", \"cell_iname\"], [\"string\", \"cellosaurus_id\"], [\"string\", \"donor_age\"], [\"number\", \"donor_age_death\"], [\"number\", \"donor_disease_age_onset\"], [\"string\", \"doubling_time\"], [\"string\", \"growth_medium\"], [\"string\", \"provider_catalog_id\"], [\"string\", \"feature_id\"], [\"string\", \"cell_type\"], [\"string\", \"donor_ethnicity\"], [\"string\", \"donor_sex\"], [\"string\", \"donor_tumor_phase\"], [\"string\", \"cell_lineage\"], [\"string\", \"primary_disease\"], [\"string\", \"subtype\"], [\"string\", \"provider_name\"], [\"string\", \"growth_pattern\"], [\"string\", \"ccle_name\"], [\"string\", \"cell_alias\"]],\n        columnOptions: [{\"width\": \"1px\", \"className\": \"index_column\"}],\n        rowsPerPage: 25,\n        helpUrl: \"https://colab.research.google.com/notebooks/data_table.ipynb\",\n        suppressOutputScrolling: true,\n        minimumWidth: undefined,\n      });\n    ",
            "text/html": [
              "<div>\n",
              "<style scoped>\n",
              "    .dataframe tbody tr th:only-of-type {\n",
              "        vertical-align: middle;\n",
              "    }\n",
              "\n",
              "    .dataframe tbody tr th {\n",
              "        vertical-align: top;\n",
              "    }\n",
              "\n",
              "    .dataframe thead th {\n",
              "        text-align: right;\n",
              "    }\n",
              "</style>\n",
              "<table border=\"1\" class=\"dataframe\">\n",
              "  <thead>\n",
              "    <tr style=\"text-align: right;\">\n",
              "      <th></th>\n",
              "      <th>cell_iname</th>\n",
              "      <th>cellosaurus_id</th>\n",
              "      <th>donor_age</th>\n",
              "      <th>donor_age_death</th>\n",
              "      <th>donor_disease_age_onset</th>\n",
              "      <th>doubling_time</th>\n",
              "      <th>growth_medium</th>\n",
              "      <th>provider_catalog_id</th>\n",
              "      <th>feature_id</th>\n",
              "      <th>cell_type</th>\n",
              "      <th>donor_ethnicity</th>\n",
              "      <th>donor_sex</th>\n",
              "      <th>donor_tumor_phase</th>\n",
              "      <th>cell_lineage</th>\n",
              "      <th>primary_disease</th>\n",
              "      <th>subtype</th>\n",
              "      <th>provider_name</th>\n",
              "      <th>growth_pattern</th>\n",
              "      <th>ccle_name</th>\n",
              "      <th>cell_alias</th>\n",
              "    </tr>\n",
              "  </thead>\n",
              "  <tbody>\n",
              "    <tr>\n",
              "      <th>0</th>\n",
              "      <td>HCC515</td>\n",
              "      <td>CVCL_5136</td>\n",
              "      <td>None</td>\n",
              "      <td>None</td>\n",
              "      <td>None</td>\n",
              "      <td>None</td>\n",
              "      <td>None</td>\n",
              "      <td>None</td>\n",
              "      <td>None</td>\n",
              "      <td>tumor</td>\n",
              "      <td>Unknown</td>\n",
              "      <td>F</td>\n",
              "      <td>Unknown</td>\n",
              "      <td>lung</td>\n",
              "      <td>lung cancer</td>\n",
              "      <td>carcinoma</td>\n",
              "      <td>None</td>\n",
              "      <td>adherent</td>\n",
              "      <td>HCC515_LUNG</td>\n",
              "      <td>HCC0515</td>\n",
              "    </tr>\n",
              "    <tr>\n",
              "      <th>1</th>\n",
              "      <td>HA1E</td>\n",
              "      <td>None</td>\n",
              "      <td>None</td>\n",
              "      <td>None</td>\n",
              "      <td>None</td>\n",
              "      <td>60</td>\n",
              "      <td>MEM-ALPHA (Invitrogen A1049001) supplemented w...</td>\n",
              "      <td>None</td>\n",
              "      <td>None</td>\n",
              "      <td>normal</td>\n",
              "      <td>Unknown</td>\n",
              "      <td>Unknown</td>\n",
              "      <td>Unknown</td>\n",
              "      <td>kidney</td>\n",
              "      <td>normal kidney sample</td>\n",
              "      <td>normal kidney sample</td>\n",
              "      <td>None</td>\n",
              "      <td>unknown</td>\n",
              "      <td>HA1E_KIDNEY</td>\n",
              "      <td>None</td>\n",
              "    </tr>\n",
              "    <tr>\n",
              "      <th>2</th>\n",
              "      <td>A549</td>\n",
              "      <td>CVCL_0023</td>\n",
              "      <td>58</td>\n",
              "      <td>None</td>\n",
              "      <td>None</td>\n",
              "      <td>48</td>\n",
              "      <td>F-12K ATCC catalog # 3-24</td>\n",
              "      <td>CCL-185</td>\n",
              "      <td>c-4</td>\n",
              "      <td>tumor</td>\n",
              "      <td>Caucasian</td>\n",
              "      <td>M</td>\n",
              "      <td>Primary</td>\n",
              "      <td>lung</td>\n",
              "      <td>lung cancer</td>\n",
              "      <td>non small cell carcinoma</td>\n",
              "      <td>ATCC</td>\n",
              "      <td>adherent</td>\n",
              "      <td>A549_LUNG</td>\n",
              "      <td>A 549</td>\n",
              "    </tr>\n",
              "    <tr>\n",
              "      <th>3</th>\n",
              "      <td>A375</td>\n",
              "      <td>CVCL_0132</td>\n",
              "      <td>54</td>\n",
              "      <td>None</td>\n",
              "      <td>None</td>\n",
              "      <td>36</td>\n",
              "      <td>DMEM Invitrogen catalog # 11995-65</td>\n",
              "      <td>CRL-1619</td>\n",
              "      <td>c-127</td>\n",
              "      <td>tumor</td>\n",
              "      <td>Unknown</td>\n",
              "      <td>F</td>\n",
              "      <td>Metastatic</td>\n",
              "      <td>skin</td>\n",
              "      <td>skin cancer</td>\n",
              "      <td>melanoma</td>\n",
              "      <td>ATCC</td>\n",
              "      <td>adherent</td>\n",
              "      <td>A375_SKIN</td>\n",
              "      <td>A 375|A-375</td>\n",
              "    </tr>\n",
              "    <tr>\n",
              "      <th>4</th>\n",
              "      <td>HT29</td>\n",
              "      <td>CVCL_0320</td>\n",
              "      <td>44</td>\n",
              "      <td>None</td>\n",
              "      <td>None</td>\n",
              "      <td>36</td>\n",
              "      <td>McCoy's 5A Invitrogen catalog # 166-82</td>\n",
              "      <td>HTB-38</td>\n",
              "      <td>c-272</td>\n",
              "      <td>tumor</td>\n",
              "      <td>Caucasian</td>\n",
              "      <td>F</td>\n",
              "      <td>Primary</td>\n",
              "      <td>large_intestine</td>\n",
              "      <td>colon cancer</td>\n",
              "      <td>adenocarcinoma</td>\n",
              "      <td>ATCC</td>\n",
              "      <td>adherent</td>\n",
              "      <td>HT29_LARGE_INTESTINE</td>\n",
              "      <td>HT 29</td>\n",
              "    </tr>\n",
              "    <tr>\n",
              "      <th>5</th>\n",
              "      <td>HEPG2</td>\n",
              "      <td>CVCL_0027</td>\n",
              "      <td>15</td>\n",
              "      <td>None</td>\n",
              "      <td>None</td>\n",
              "      <td>84</td>\n",
              "      <td>EMEM ATCC catalog # 3-23</td>\n",
              "      <td>HB-8065</td>\n",
              "      <td>None</td>\n",
              "      <td>tumor</td>\n",
              "      <td>Caucasian</td>\n",
              "      <td>M</td>\n",
              "      <td>Primary</td>\n",
              "      <td>liver</td>\n",
              "      <td>liver cancer</td>\n",
              "      <td>carcinoma</td>\n",
              "      <td>ATCC</td>\n",
              "      <td>adherent</td>\n",
              "      <td>HEPG2_LIVER</td>\n",
              "      <td>Hep G2|HEP-G2</td>\n",
              "    </tr>\n",
              "    <tr>\n",
              "      <th>6</th>\n",
              "      <td>MCF7</td>\n",
              "      <td>CVCL_0031</td>\n",
              "      <td>40</td>\n",
              "      <td>None</td>\n",
              "      <td>None</td>\n",
              "      <td>72</td>\n",
              "      <td>EMEM ATCC catalog # 3-23</td>\n",
              "      <td>HTB-22</td>\n",
              "      <td>c-438</td>\n",
              "      <td>tumor</td>\n",
              "      <td>Caucasian</td>\n",
              "      <td>F</td>\n",
              "      <td>Metastatic</td>\n",
              "      <td>breast</td>\n",
              "      <td>breast cancer</td>\n",
              "      <td>adenocarcinoma</td>\n",
              "      <td>ATCC</td>\n",
              "      <td>adherent</td>\n",
              "      <td>MCF7_BREAST</td>\n",
              "      <td>IBMF-7</td>\n",
              "    </tr>\n",
              "    <tr>\n",
              "      <th>7</th>\n",
              "      <td>PC3</td>\n",
              "      <td>CVCL_0035</td>\n",
              "      <td>62</td>\n",
              "      <td>None</td>\n",
              "      <td>None</td>\n",
              "      <td>72</td>\n",
              "      <td>F-12K ATCC catalog # 3-24</td>\n",
              "      <td>CRL-1435</td>\n",
              "      <td>c-214</td>\n",
              "      <td>tumor</td>\n",
              "      <td>Caucasian</td>\n",
              "      <td>M</td>\n",
              "      <td>Metastatic</td>\n",
              "      <td>prostate</td>\n",
              "      <td>prostate cancer</td>\n",
              "      <td>adenocarcinoma</td>\n",
              "      <td>ATCC</td>\n",
              "      <td>mix</td>\n",
              "      <td>PC3_PROSTATE</td>\n",
              "      <td>PC.3|PC-3</td>\n",
              "    </tr>\n",
              "    <tr>\n",
              "      <th>8</th>\n",
              "      <td>VCAP</td>\n",
              "      <td>CVCL_2235</td>\n",
              "      <td>None</td>\n",
              "      <td>None</td>\n",
              "      <td>None</td>\n",
              "      <td>220</td>\n",
              "      <td>DMEM ATCC catalog # 3-22</td>\n",
              "      <td>None</td>\n",
              "      <td>None</td>\n",
              "      <td>tumor</td>\n",
              "      <td>Caucasian</td>\n",
              "      <td>M</td>\n",
              "      <td>Metastatic</td>\n",
              "      <td>prostate</td>\n",
              "      <td>prostate cancer</td>\n",
              "      <td>adenocarcinoma</td>\n",
              "      <td>ATCC</td>\n",
              "      <td>adherent</td>\n",
              "      <td>VCAP_PROSTATE</td>\n",
              "      <td>Vcap</td>\n",
              "    </tr>\n",
              "  </tbody>\n",
              "</table>\n",
              "</div>"
            ],
            "text/plain": [
              "  cell_iname cellosaurus_id  ...             ccle_name     cell_alias\n",
              "0     HCC515      CVCL_5136  ...           HCC515_LUNG        HCC0515\n",
              "1       HA1E           None  ...           HA1E_KIDNEY           None\n",
              "2       A549      CVCL_0023  ...             A549_LUNG          A 549\n",
              "3       A375      CVCL_0132  ...             A375_SKIN    A 375|A-375\n",
              "4       HT29      CVCL_0320  ...  HT29_LARGE_INTESTINE          HT 29\n",
              "5      HEPG2      CVCL_0027  ...           HEPG2_LIVER  Hep G2|HEP-G2\n",
              "6       MCF7      CVCL_0031  ...           MCF7_BREAST         IBMF-7\n",
              "7        PC3      CVCL_0035  ...          PC3_PROSTATE      PC.3|PC-3\n",
              "8       VCAP      CVCL_2235  ...         VCAP_PROSTATE           Vcap\n",
              "\n",
              "[9 rows x 20 columns]"
            ]
          },
          "metadata": {
            "tags": []
          },
          "execution_count": 90
        }
      ]
    },
    {
      "cell_type": "markdown",
      "metadata": {
        "id": "kj5EGRk3s408"
      },
      "source": [
        "### cmap_genes"
      ]
    },
    {
      "cell_type": "markdown",
      "metadata": {
        "id": "6MlSHv7gs40-"
      },
      "source": [
        "**Query geneinfo table. Geneinfo contains information about genes including ids, symbols, types, ensembl_ids, etc.**\n",
        "\n",
        "    cmapBQ.query.cmap_genes(client, gene_id=None, gene_symbol=None, ensembl_id=None, gene_title=None, gene_type=None, feature_space='landmark', src=None, table=None, verbose=False)\n",
        "\n",
        "    Parameters\n",
        "          client – Bigquery Client\n",
        "          gene_id – list of gene_ids\n",
        "          gene_symbol – list of gene_symbols\n",
        "          ensembl_id – list of ensembl_ids\n",
        "          gene_title – list of gene_titles\n",
        "          gene_type – list of gene_types\n",
        "          feature_space –\n",
        "                Common featurespaces to extract. ‘rid’ overrides selection\n",
        "                Choices: [‘landmark’, ‘bing’, ‘aig’]\n",
        "                landmark: 978 landmark genes\n",
        "                bing: Best-inferred set of 10,174 genes\n",
        "                aig: All inferred genes including 12,328 genes\n",
        "                Default is landmark.\n",
        "          src – list of gene sources\n",
        "          table – table to query. This by default points to the siginfo table and normally should not be changed.\n",
        "          verbose – Print query and table address.\n",
        "    Returns\n",
        "          Pandas DataFrame"
      ]
    },
    {
      "cell_type": "code",
      "metadata": {
        "id": "tVF3BUsAGKbC",
        "colab": {
          "base_uri": "https://localhost:8080/",
          "height": 153
        },
        "outputId": "9b3186b1-67fc-479a-a745-2401ca3e4585"
      },
      "source": [
        "#small sample of genes\n",
        "gene_symbol_list = ['EGFR', 'NR3C1', 'MDM2']\n",
        "gene_id_list = [1956, 2908, 4193] \n",
        "\n",
        "gene_table = cmap_query.cmap_genes(\n",
        "    bq_client, \n",
        "    #gene_id=gene_id_list, \n",
        "    gene_symbol=gene_list, \n",
        "    #feature_space='landmark', \n",
        "    feature_space='aig',\n",
        "    #verbose=True\n",
        "  )\n",
        "\n",
        "gene_table"
      ],
      "execution_count": null,
      "outputs": [
        {
          "output_type": "execute_result",
          "data": {
            "application/vnd.google.colaboratory.module+javascript": "\n      import \"https://ssl.gstatic.com/colaboratory/data_table/a6224c040fa35dcf/data_table.js\";\n\n      window.createDataTable({\n        data: [[{\n            'v': 0,\n            'f': \"0\",\n        },\n{\n            'v': 1956,\n            'f': \"1956\",\n        },\n\"EGFR\",\n\"ENSG00000146648\",\n\"epidermal growth factor receptor\",\n\"protein-coding\",\n\"NCBI\",\n\"landmark\"],\n [{\n            'v': 1,\n            'f': \"1\",\n        },\n{\n            'v': 2908,\n            'f': \"2908\",\n        },\n\"NR3C1\",\n\"ENSG00000113580\",\n\"nuclear receptor subfamily 3 group C member 1\",\n\"protein-coding\",\n\"NCBI\",\n\"landmark\"],\n [{\n            'v': 2,\n            'f': \"2\",\n        },\n{\n            'v': 4193,\n            'f': \"4193\",\n        },\n\"MDM2\",\n\"ENSG00000135679\",\n\"MDM2 proto-oncogene\",\n\"protein-coding\",\n\"NCBI\",\n\"best inferred\"]],\n        columns: [[\"number\", \"index\"], [\"number\", \"gene_id\"], [\"string\", \"gene_symbol\"], [\"string\", \"ensembl_id\"], [\"string\", \"gene_title\"], [\"string\", \"gene_type\"], [\"string\", \"src\"], [\"string\", \"feature_space\"]],\n        columnOptions: [{\"width\": \"1px\", \"className\": \"index_column\"}],\n        rowsPerPage: 25,\n        helpUrl: \"https://colab.research.google.com/notebooks/data_table.ipynb\",\n        suppressOutputScrolling: true,\n        minimumWidth: undefined,\n      });\n    ",
            "text/html": [
              "<div>\n",
              "<style scoped>\n",
              "    .dataframe tbody tr th:only-of-type {\n",
              "        vertical-align: middle;\n",
              "    }\n",
              "\n",
              "    .dataframe tbody tr th {\n",
              "        vertical-align: top;\n",
              "    }\n",
              "\n",
              "    .dataframe thead th {\n",
              "        text-align: right;\n",
              "    }\n",
              "</style>\n",
              "<table border=\"1\" class=\"dataframe\">\n",
              "  <thead>\n",
              "    <tr style=\"text-align: right;\">\n",
              "      <th></th>\n",
              "      <th>gene_id</th>\n",
              "      <th>gene_symbol</th>\n",
              "      <th>ensembl_id</th>\n",
              "      <th>gene_title</th>\n",
              "      <th>gene_type</th>\n",
              "      <th>src</th>\n",
              "      <th>feature_space</th>\n",
              "    </tr>\n",
              "  </thead>\n",
              "  <tbody>\n",
              "    <tr>\n",
              "      <th>0</th>\n",
              "      <td>1956</td>\n",
              "      <td>EGFR</td>\n",
              "      <td>ENSG00000146648</td>\n",
              "      <td>epidermal growth factor receptor</td>\n",
              "      <td>protein-coding</td>\n",
              "      <td>NCBI</td>\n",
              "      <td>landmark</td>\n",
              "    </tr>\n",
              "    <tr>\n",
              "      <th>1</th>\n",
              "      <td>2908</td>\n",
              "      <td>NR3C1</td>\n",
              "      <td>ENSG00000113580</td>\n",
              "      <td>nuclear receptor subfamily 3 group C member 1</td>\n",
              "      <td>protein-coding</td>\n",
              "      <td>NCBI</td>\n",
              "      <td>landmark</td>\n",
              "    </tr>\n",
              "    <tr>\n",
              "      <th>2</th>\n",
              "      <td>4193</td>\n",
              "      <td>MDM2</td>\n",
              "      <td>ENSG00000135679</td>\n",
              "      <td>MDM2 proto-oncogene</td>\n",
              "      <td>protein-coding</td>\n",
              "      <td>NCBI</td>\n",
              "      <td>best inferred</td>\n",
              "    </tr>\n",
              "  </tbody>\n",
              "</table>\n",
              "</div>"
            ],
            "text/plain": [
              "   gene_id gene_symbol       ensembl_id  ...       gene_type   src  feature_space\n",
              "0     1956        EGFR  ENSG00000146648  ...  protein-coding  NCBI       landmark\n",
              "1     2908       NR3C1  ENSG00000113580  ...  protein-coding  NCBI       landmark\n",
              "2     4193        MDM2  ENSG00000135679  ...  protein-coding  NCBI  best inferred\n",
              "\n",
              "[3 rows x 7 columns]"
            ]
          },
          "metadata": {
            "tags": []
          },
          "execution_count": 87
        }
      ]
    },
    {
      "cell_type": "markdown",
      "metadata": {
        "id": "4Tj3MDr4jChF"
      },
      "source": [
        "### cmap_genetic_perts"
      ]
    },
    {
      "cell_type": "markdown",
      "metadata": {
        "id": "QM2AYbTcp0Fq"
      },
      "source": [
        "**Query genetic_pertinfo table**\n",
        "\n",
        "\n",
        "    cmapBQ.query.cmap_genetic_perts(client, pert_id=None, cmap_name=None, gene_id=None, gene_title=None, ensemble_id=None, table=None, verbose=False)\n",
        "\n",
        "    Parameters\n",
        "            client – Bigquery Client\n",
        "            pert_id – List of pert_ids\n",
        "            cmap_name – List of cmap_names\n",
        "            gene_id – List of type INTEGER corresponding to gene_ids\n",
        "            gene_title – List of gene_titles\n",
        "            ensemble_id – List of ensumble_ids\n",
        "            table – table to query. This by default points to the siginfo table and normally should not be changed.\n",
        "            verbose – Print query and table address.\n",
        "    Returns: \n",
        "        Pandas Dataframe"
      ]
    },
    {
      "cell_type": "code",
      "metadata": {
        "id": "k7D-sakt0kwm",
        "colab": {
          "base_uri": "https://localhost:8080/",
          "height": 371
        },
        "outputId": "e6f349dd-37b6-4f62-efe6-068af1b42d8d"
      },
      "source": [
        "#small sample of genes\n",
        "gene_symbol_list = ['EGFR', 'NR3C1', 'MDM2']\n",
        "gene_id_list = [1956, 2908, 4193] \n",
        "\n",
        "genetic_perts_table = cmap_query.cmap_genetic_perts(bq_client,\n",
        "    pert_id=None,\n",
        "    cmap_name=None,\n",
        "    gene_id=gene_id_list,\n",
        "    gene_title=None,\n",
        "    verbose=True\n",
        ")\n",
        "\n",
        "genetic_perts_table.sample(10)"
      ],
      "execution_count": null,
      "outputs": [
        {
          "output_type": "stream",
          "text": [
            "Table: \n",
            " cmap-big-table.cmap_lincs_public_views.genetic_pertinfo\n",
            "Query:\n",
            " SELECT * FROM cmap-big-table.cmap_lincs_public_views.genetic_pertinfo WHERE gene_id in UNNEST([1956, 2908, 4193])\n"
          ],
          "name": "stdout"
        },
        {
          "output_type": "execute_result",
          "data": {
            "application/vnd.google.colaboratory.module+javascript": "\n      import \"https://ssl.gstatic.com/colaboratory/data_table/a6224c040fa35dcf/data_table.js\";\n\n      window.createDataTable({\n        data: [[{\n            'v': 102,\n            'f': \"102\",\n        },\n\"CGS001-4193\",\n\"MDM2\",\n\"trt_sh.cgs\",\n{\n            'v': 4193,\n            'f': \"4193\",\n        },\n\"MDM2 proto-oncogene\",\n\"ENSG00000135679\",\n\"protein-coding\",\n\"best inferred\"],\n [{\n            'v': 66,\n            'f': \"66\",\n        },\n\"TRCN0000121331\",\n\"EGFR\",\n\"trt_sh\",\n{\n            'v': 1956,\n            'f': \"1956\",\n        },\n\"epidermal growth factor receptor\",\n\"ENSG00000146648\",\n\"protein-coding\",\n\"landmark\"],\n [{\n            'v': 42,\n            'f': \"42\",\n        },\n\"BRDN0000462255\",\n\"EGFR\",\n\"trt_oe\",\n{\n            'v': 1956,\n            'f': \"1956\",\n        },\n\"epidermal growth factor receptor\",\n\"ENSG00000146648\",\n\"protein-coding\",\n\"landmark\"],\n [{\n            'v': 7,\n            'f': \"7\",\n        },\n\"BRDN0000464845\",\n\"EGFR\",\n\"trt_oe\",\n{\n            'v': 1956,\n            'f': \"1956\",\n        },\n\"epidermal growth factor receptor\",\n\"ENSG00000146648\",\n\"protein-coding\",\n\"landmark\"],\n [{\n            'v': 63,\n            'f': \"63\",\n        },\n\"TRCN0000121070\",\n\"EGFR\",\n\"trt_sh\",\n{\n            'v': 1956,\n            'f': \"1956\",\n        },\n\"epidermal growth factor receptor\",\n\"ENSG00000146648\",\n\"protein-coding\",\n\"landmark\"],\n [{\n            'v': 88,\n            'f': \"88\",\n        },\n\"TRCN0000019320\",\n\"NR3C1\",\n\"trt_sh\",\n{\n            'v': 2908,\n            'f': \"2908\",\n        },\n\"nuclear receptor subfamily 3 group C member 1\",\n\"ENSG00000113580\",\n\"protein-coding\",\n\"landmark\"],\n [{\n            'v': 4,\n            'f': \"4\",\n        },\n\"BRDN0000465002\",\n\"EGFR\",\n\"trt_oe\",\n{\n            'v': 1956,\n            'f': \"1956\",\n        },\n\"epidermal growth factor receptor\",\n\"ENSG00000146648\",\n\"protein-coding\",\n\"landmark\"],\n [{\n            'v': 45,\n            'f': \"45\",\n        },\n\"EGFR_L858R_T790M\",\n\"EGFR\",\n\"trt_oe\",\n{\n            'v': 1956,\n            'f': \"1956\",\n        },\n\"epidermal growth factor receptor\",\n\"ENSG00000146648\",\n\"protein-coding\",\n\"landmark\"],\n [{\n            'v': 2,\n            'f': \"2\",\n        },\n\"BRDN0000465000\",\n\"EGFR\",\n\"trt_oe\",\n{\n            'v': 1956,\n            'f': \"1956\",\n        },\n\"epidermal growth factor receptor\",\n\"ENSG00000146648\",\n\"protein-coding\",\n\"landmark\"],\n [{\n            'v': 56,\n            'f': \"56\",\n        },\n\"TRCN0000310112\",\n\"EGFR\",\n\"trt_sh\",\n{\n            'v': 1956,\n            'f': \"1956\",\n        },\n\"epidermal growth factor receptor\",\n\"ENSG00000146648\",\n\"protein-coding\",\n\"landmark\"]],\n        columns: [[\"number\", \"index\"], [\"string\", \"pert_id\"], [\"string\", \"cmap_name\"], [\"string\", \"pert_type\"], [\"number\", \"gene_id\"], [\"string\", \"gene_title\"], [\"string\", \"ensembl_id\"], [\"string\", \"gene_type\"], [\"string\", \"feature_space\"]],\n        columnOptions: [{\"width\": \"1px\", \"className\": \"index_column\"}],\n        rowsPerPage: 25,\n        helpUrl: \"https://colab.research.google.com/notebooks/data_table.ipynb\",\n        suppressOutputScrolling: true,\n        minimumWidth: undefined,\n      });\n    ",
            "text/html": [
              "<div>\n",
              "<style scoped>\n",
              "    .dataframe tbody tr th:only-of-type {\n",
              "        vertical-align: middle;\n",
              "    }\n",
              "\n",
              "    .dataframe tbody tr th {\n",
              "        vertical-align: top;\n",
              "    }\n",
              "\n",
              "    .dataframe thead th {\n",
              "        text-align: right;\n",
              "    }\n",
              "</style>\n",
              "<table border=\"1\" class=\"dataframe\">\n",
              "  <thead>\n",
              "    <tr style=\"text-align: right;\">\n",
              "      <th></th>\n",
              "      <th>pert_id</th>\n",
              "      <th>cmap_name</th>\n",
              "      <th>pert_type</th>\n",
              "      <th>gene_id</th>\n",
              "      <th>gene_title</th>\n",
              "      <th>ensembl_id</th>\n",
              "      <th>gene_type</th>\n",
              "      <th>feature_space</th>\n",
              "    </tr>\n",
              "  </thead>\n",
              "  <tbody>\n",
              "    <tr>\n",
              "      <th>102</th>\n",
              "      <td>CGS001-4193</td>\n",
              "      <td>MDM2</td>\n",
              "      <td>trt_sh.cgs</td>\n",
              "      <td>4193</td>\n",
              "      <td>MDM2 proto-oncogene</td>\n",
              "      <td>ENSG00000135679</td>\n",
              "      <td>protein-coding</td>\n",
              "      <td>best inferred</td>\n",
              "    </tr>\n",
              "    <tr>\n",
              "      <th>66</th>\n",
              "      <td>TRCN0000121331</td>\n",
              "      <td>EGFR</td>\n",
              "      <td>trt_sh</td>\n",
              "      <td>1956</td>\n",
              "      <td>epidermal growth factor receptor</td>\n",
              "      <td>ENSG00000146648</td>\n",
              "      <td>protein-coding</td>\n",
              "      <td>landmark</td>\n",
              "    </tr>\n",
              "    <tr>\n",
              "      <th>42</th>\n",
              "      <td>BRDN0000462255</td>\n",
              "      <td>EGFR</td>\n",
              "      <td>trt_oe</td>\n",
              "      <td>1956</td>\n",
              "      <td>epidermal growth factor receptor</td>\n",
              "      <td>ENSG00000146648</td>\n",
              "      <td>protein-coding</td>\n",
              "      <td>landmark</td>\n",
              "    </tr>\n",
              "    <tr>\n",
              "      <th>7</th>\n",
              "      <td>BRDN0000464845</td>\n",
              "      <td>EGFR</td>\n",
              "      <td>trt_oe</td>\n",
              "      <td>1956</td>\n",
              "      <td>epidermal growth factor receptor</td>\n",
              "      <td>ENSG00000146648</td>\n",
              "      <td>protein-coding</td>\n",
              "      <td>landmark</td>\n",
              "    </tr>\n",
              "    <tr>\n",
              "      <th>63</th>\n",
              "      <td>TRCN0000121070</td>\n",
              "      <td>EGFR</td>\n",
              "      <td>trt_sh</td>\n",
              "      <td>1956</td>\n",
              "      <td>epidermal growth factor receptor</td>\n",
              "      <td>ENSG00000146648</td>\n",
              "      <td>protein-coding</td>\n",
              "      <td>landmark</td>\n",
              "    </tr>\n",
              "    <tr>\n",
              "      <th>88</th>\n",
              "      <td>TRCN0000019320</td>\n",
              "      <td>NR3C1</td>\n",
              "      <td>trt_sh</td>\n",
              "      <td>2908</td>\n",
              "      <td>nuclear receptor subfamily 3 group C member 1</td>\n",
              "      <td>ENSG00000113580</td>\n",
              "      <td>protein-coding</td>\n",
              "      <td>landmark</td>\n",
              "    </tr>\n",
              "    <tr>\n",
              "      <th>4</th>\n",
              "      <td>BRDN0000465002</td>\n",
              "      <td>EGFR</td>\n",
              "      <td>trt_oe</td>\n",
              "      <td>1956</td>\n",
              "      <td>epidermal growth factor receptor</td>\n",
              "      <td>ENSG00000146648</td>\n",
              "      <td>protein-coding</td>\n",
              "      <td>landmark</td>\n",
              "    </tr>\n",
              "    <tr>\n",
              "      <th>45</th>\n",
              "      <td>EGFR_L858R_T790M</td>\n",
              "      <td>EGFR</td>\n",
              "      <td>trt_oe</td>\n",
              "      <td>1956</td>\n",
              "      <td>epidermal growth factor receptor</td>\n",
              "      <td>ENSG00000146648</td>\n",
              "      <td>protein-coding</td>\n",
              "      <td>landmark</td>\n",
              "    </tr>\n",
              "    <tr>\n",
              "      <th>2</th>\n",
              "      <td>BRDN0000465000</td>\n",
              "      <td>EGFR</td>\n",
              "      <td>trt_oe</td>\n",
              "      <td>1956</td>\n",
              "      <td>epidermal growth factor receptor</td>\n",
              "      <td>ENSG00000146648</td>\n",
              "      <td>protein-coding</td>\n",
              "      <td>landmark</td>\n",
              "    </tr>\n",
              "    <tr>\n",
              "      <th>56</th>\n",
              "      <td>TRCN0000310112</td>\n",
              "      <td>EGFR</td>\n",
              "      <td>trt_sh</td>\n",
              "      <td>1956</td>\n",
              "      <td>epidermal growth factor receptor</td>\n",
              "      <td>ENSG00000146648</td>\n",
              "      <td>protein-coding</td>\n",
              "      <td>landmark</td>\n",
              "    </tr>\n",
              "  </tbody>\n",
              "</table>\n",
              "</div>"
            ],
            "text/plain": [
              "              pert_id cmap_name  ...       gene_type  feature_space\n",
              "102       CGS001-4193      MDM2  ...  protein-coding  best inferred\n",
              "66     TRCN0000121331      EGFR  ...  protein-coding       landmark\n",
              "42     BRDN0000462255      EGFR  ...  protein-coding       landmark\n",
              "7      BRDN0000464845      EGFR  ...  protein-coding       landmark\n",
              "63     TRCN0000121070      EGFR  ...  protein-coding       landmark\n",
              "88     TRCN0000019320     NR3C1  ...  protein-coding       landmark\n",
              "4      BRDN0000465002      EGFR  ...  protein-coding       landmark\n",
              "45   EGFR_L858R_T790M      EGFR  ...  protein-coding       landmark\n",
              "2      BRDN0000465000      EGFR  ...  protein-coding       landmark\n",
              "56     TRCN0000310112      EGFR  ...  protein-coding       landmark\n",
              "\n",
              "[10 rows x 8 columns]"
            ]
          },
          "metadata": {
            "tags": []
          },
          "execution_count": 96
        }
      ]
    },
    {
      "cell_type": "markdown",
      "metadata": {
        "id": "nHoRzAxgigYy"
      },
      "source": [
        "### cmap_compounds"
      ]
    },
    {
      "cell_type": "markdown",
      "metadata": {
        "id": "Hp-Bfsa9qiWL"
      },
      "source": [
        "\n",
        "\n",
        "**Query compoundinfo table for various field by providing lists of compounds, moa, targets, etc. ‘AND’ operator used for multiple conditions.**\n",
        "\n",
        "\n",
        "    cmapBQ.query.cmap_compounds(client, pert_id=None, cmap_name=None, moa=None, target=None, compound_aliases=None, limit=None, verbose=False)\n",
        "\n",
        "    Parameters\n",
        "            client – BigQuery Client\n",
        "            pert_id – List of pert_ids\n",
        "            cmap_name – List of cmap_names\n",
        "            target – List of targets\n",
        "            moa – List of MoAs\n",
        "            compound_aliases – List of compound aliases\n",
        "            limit – Maximum number of rows to return\n",
        "            verbose – Print query and table address.\n",
        "    Returns\n",
        "        Pandas Dataframe matching queries"
      ]
    },
    {
      "cell_type": "code",
      "metadata": {
        "id": "QUwBjrU0tipq",
        "colab": {
          "base_uri": "https://localhost:8080/",
          "height": 466
        },
        "outputId": "7cef99bd-f761-4746-9311-9beae0bf4e20"
      },
      "source": [
        "target = 'EGFR'\n",
        "moa = 'EGFR inhibitor'\n",
        "\n",
        "compound_table = cmap_query.cmap_compounds(\n",
        "    bq_client,\n",
        "    pert_id=None,\n",
        "    cmap_name=None, \n",
        "    moa='MDM inhibitor', \n",
        "    target=None, \n",
        "    compound_aliases=None, \n",
        "    limit=None, \n",
        "    verbose=False\n",
        "  )\n",
        "\n",
        "compound_table\n",
        "## Do we need to be able to query by canonical smiles or inchi_keys? "
      ],
      "execution_count": null,
      "outputs": [
        {
          "output_type": "execute_result",
          "data": {
            "application/vnd.google.colaboratory.module+javascript": "\n      import \"https://ssl.gstatic.com/colaboratory/data_table/a6224c040fa35dcf/data_table.js\";\n\n      window.createDataTable({\n        data: [[{\n            'v': 0,\n            'f': \"0\",\n        },\n\"BRD-K84987553\",\n\"MDM2-inhibitor\",\n\"MDM2\",\n\"MDM inhibitor\",\n\"OB(O)c1ccc(cc1)C(=O)/C=C/c2ccc(I)cc2\",\n\"BYMGWCQXSPGCMW-XCVCLJGOSA-N\",\n\"MDM-2-INHIBITOR\"],\n [{\n            'v': 1,\n            'f': \"1\",\n        },\n\"BRD-A12230535\",\n\"nutlin-3\",\n\"MDM2\",\n\"MDM inhibitor\",\n\"COc1ccc(C2=NC(C(N2C(=O)N2CCNC(=O)C2)c2ccc(Cl)cc2)c2ccc(Cl)cc2)c(OC(C)C)c1\",\n\"BDUHCSBCVGXTJM-UHFFFAOYSA-N\",\n\"NUTLIN-3A\"],\n [{\n            'v': 2,\n            'f': \"2\",\n        },\n\"BRD-K00317371\",\n\"RITA\",\n\"MDM2\",\n\"MDM inhibitor\",\n\"OCc1ccc(s1)-c1ccc(o1)-c1ccc(CO)s1\",\n\"KZENBFUSKMWCJF-UHFFFAOYSA-N\",\n\"rita\"],\n [{\n            'v': 3,\n            'f': \"3\",\n        },\n\"BRD-K64925568\",\n\"AMG-232\",\n\"MDM2\",\n\"MDM inhibitor\",\n\"CC(C)[C@@H](CS(=O)(=O)C(C)C)N1[C@@H]([C@H](C[C@](C)(CC(O)=O)C1=O)c1cccc(Cl)c1)c1ccc(Cl)cc1\",\n\"DRLCSJFKKILATL-YWCVFVGNSA-N\",\nnull],\n [{\n            'v': 4,\n            'f': \"4\",\n        },\n\"BRD-K17349619\",\n\"HLI-373\",\n\"MDM2\",\n\"MDM inhibitor\",\n\"CN(C)CCCNc1c2ccccc2n(C)c2nc(=O)n(C)c(=O)c12\",\n\"LNRUPMPQQGPSQT-UHFFFAOYSA-N\",\nnull],\n [{\n            'v': 5,\n            'f': \"5\",\n        },\n\"BRD-K65924316\",\n\"serdemetan\",\n\"MDM2\",\n\"MDM inhibitor\",\n\"C(Cc1c[nH]c2ccccc12)Nc1ccc(Nc2ccncc2)cc1\",\n\"CEGSUKYESLWKJP-UHFFFAOYSA-N\",\nnull],\n [{\n            'v': 6,\n            'f': \"6\",\n        },\n\"BRD-K60219430\",\n\"serdemetan\",\n\"MDM2\",\n\"MDM inhibitor\",\n\"C(Cc1c[nH]c2ccccc12)Nc1cccc(Nc2ccncc2)c1\",\n\"JCKLHFMOFAYQHE-UHFFFAOYSA-N\",\nnull],\n [{\n            'v': 7,\n            'f': \"7\",\n        },\n\"BRD-K93095519\",\n\"SJ-172550\",\n\"MDM4\",\n\"MDM inhibitor\",\n\"CCOc1cc(cc(Cl)c1OCC(=O)OC)C=C1C(=O)N(N=C/1C)c1ccccc1\",\n\"RKKFQJXGAQWHBZ-YVLHZVERSA-N\",\nnull],\n [{\n            'v': 8,\n            'f': \"8\",\n        },\n\"BRD-A16035238\",\n\"SAR405838\",\n\"MDM2\",\n\"MDM inhibitor\",\n\"CC(C)(C)CC1NC(C(c2cccc(Cl)c2F)C11C(=O)Nc2cc(Cl)ccc12)C(=O)NC1CCC(O)CC1\",\n\"IDKAKZRYYDCJDU-UHFFFAOYSA-N\",\nnull],\n [{\n            'v': 9,\n            'f': \"9\",\n        },\n\"BRD-K73255294\",\n\"nutlin-3\",\n\"MDM2\",\n\"MDM inhibitor\",\n\"COc1ccc(C2=N[C@@H]([C@@H](N2C(=O)N2CCNC(=O)C2)c2ccc(Cl)cc2)c2ccc(Cl)cc2)c(OC(C)C)c1\",\n\"BDUHCSBCVGXTJM-IZLXSDGUSA-N\",\nnull]],\n        columns: [[\"number\", \"index\"], [\"string\", \"pert_id\"], [\"string\", \"cmap_name\"], [\"string\", \"target\"], [\"string\", \"moa\"], [\"string\", \"canonical_smiles\"], [\"string\", \"inchi_key\"], [\"string\", \"compound_aliases\"]],\n        columnOptions: [{\"width\": \"1px\", \"className\": \"index_column\"}],\n        rowsPerPage: 25,\n        helpUrl: \"https://colab.research.google.com/notebooks/data_table.ipynb\",\n        suppressOutputScrolling: true,\n        minimumWidth: undefined,\n      });\n    ",
            "text/html": [
              "<div>\n",
              "<style scoped>\n",
              "    .dataframe tbody tr th:only-of-type {\n",
              "        vertical-align: middle;\n",
              "    }\n",
              "\n",
              "    .dataframe tbody tr th {\n",
              "        vertical-align: top;\n",
              "    }\n",
              "\n",
              "    .dataframe thead th {\n",
              "        text-align: right;\n",
              "    }\n",
              "</style>\n",
              "<table border=\"1\" class=\"dataframe\">\n",
              "  <thead>\n",
              "    <tr style=\"text-align: right;\">\n",
              "      <th></th>\n",
              "      <th>pert_id</th>\n",
              "      <th>cmap_name</th>\n",
              "      <th>target</th>\n",
              "      <th>moa</th>\n",
              "      <th>canonical_smiles</th>\n",
              "      <th>inchi_key</th>\n",
              "      <th>compound_aliases</th>\n",
              "    </tr>\n",
              "  </thead>\n",
              "  <tbody>\n",
              "    <tr>\n",
              "      <th>0</th>\n",
              "      <td>BRD-K84987553</td>\n",
              "      <td>MDM2-inhibitor</td>\n",
              "      <td>MDM2</td>\n",
              "      <td>MDM inhibitor</td>\n",
              "      <td>OB(O)c1ccc(cc1)C(=O)/C=C/c2ccc(I)cc2</td>\n",
              "      <td>BYMGWCQXSPGCMW-XCVCLJGOSA-N</td>\n",
              "      <td>MDM-2-INHIBITOR</td>\n",
              "    </tr>\n",
              "    <tr>\n",
              "      <th>1</th>\n",
              "      <td>BRD-A12230535</td>\n",
              "      <td>nutlin-3</td>\n",
              "      <td>MDM2</td>\n",
              "      <td>MDM inhibitor</td>\n",
              "      <td>COc1ccc(C2=NC(C(N2C(=O)N2CCNC(=O)C2)c2ccc(Cl)c...</td>\n",
              "      <td>BDUHCSBCVGXTJM-UHFFFAOYSA-N</td>\n",
              "      <td>NUTLIN-3A</td>\n",
              "    </tr>\n",
              "    <tr>\n",
              "      <th>2</th>\n",
              "      <td>BRD-K00317371</td>\n",
              "      <td>RITA</td>\n",
              "      <td>MDM2</td>\n",
              "      <td>MDM inhibitor</td>\n",
              "      <td>OCc1ccc(s1)-c1ccc(o1)-c1ccc(CO)s1</td>\n",
              "      <td>KZENBFUSKMWCJF-UHFFFAOYSA-N</td>\n",
              "      <td>rita</td>\n",
              "    </tr>\n",
              "    <tr>\n",
              "      <th>3</th>\n",
              "      <td>BRD-K64925568</td>\n",
              "      <td>AMG-232</td>\n",
              "      <td>MDM2</td>\n",
              "      <td>MDM inhibitor</td>\n",
              "      <td>CC(C)[C@@H](CS(=O)(=O)C(C)C)N1[C@@H]([C@H](C[C...</td>\n",
              "      <td>DRLCSJFKKILATL-YWCVFVGNSA-N</td>\n",
              "      <td>None</td>\n",
              "    </tr>\n",
              "    <tr>\n",
              "      <th>4</th>\n",
              "      <td>BRD-K17349619</td>\n",
              "      <td>HLI-373</td>\n",
              "      <td>MDM2</td>\n",
              "      <td>MDM inhibitor</td>\n",
              "      <td>CN(C)CCCNc1c2ccccc2n(C)c2nc(=O)n(C)c(=O)c12</td>\n",
              "      <td>LNRUPMPQQGPSQT-UHFFFAOYSA-N</td>\n",
              "      <td>None</td>\n",
              "    </tr>\n",
              "    <tr>\n",
              "      <th>5</th>\n",
              "      <td>BRD-K65924316</td>\n",
              "      <td>serdemetan</td>\n",
              "      <td>MDM2</td>\n",
              "      <td>MDM inhibitor</td>\n",
              "      <td>C(Cc1c[nH]c2ccccc12)Nc1ccc(Nc2ccncc2)cc1</td>\n",
              "      <td>CEGSUKYESLWKJP-UHFFFAOYSA-N</td>\n",
              "      <td>None</td>\n",
              "    </tr>\n",
              "    <tr>\n",
              "      <th>6</th>\n",
              "      <td>BRD-K60219430</td>\n",
              "      <td>serdemetan</td>\n",
              "      <td>MDM2</td>\n",
              "      <td>MDM inhibitor</td>\n",
              "      <td>C(Cc1c[nH]c2ccccc12)Nc1cccc(Nc2ccncc2)c1</td>\n",
              "      <td>JCKLHFMOFAYQHE-UHFFFAOYSA-N</td>\n",
              "      <td>None</td>\n",
              "    </tr>\n",
              "    <tr>\n",
              "      <th>7</th>\n",
              "      <td>BRD-K93095519</td>\n",
              "      <td>SJ-172550</td>\n",
              "      <td>MDM4</td>\n",
              "      <td>MDM inhibitor</td>\n",
              "      <td>CCOc1cc(cc(Cl)c1OCC(=O)OC)C=C1C(=O)N(N=C/1C)c1...</td>\n",
              "      <td>RKKFQJXGAQWHBZ-YVLHZVERSA-N</td>\n",
              "      <td>None</td>\n",
              "    </tr>\n",
              "    <tr>\n",
              "      <th>8</th>\n",
              "      <td>BRD-A16035238</td>\n",
              "      <td>SAR405838</td>\n",
              "      <td>MDM2</td>\n",
              "      <td>MDM inhibitor</td>\n",
              "      <td>CC(C)(C)CC1NC(C(c2cccc(Cl)c2F)C11C(=O)Nc2cc(Cl...</td>\n",
              "      <td>IDKAKZRYYDCJDU-UHFFFAOYSA-N</td>\n",
              "      <td>None</td>\n",
              "    </tr>\n",
              "    <tr>\n",
              "      <th>9</th>\n",
              "      <td>BRD-K73255294</td>\n",
              "      <td>nutlin-3</td>\n",
              "      <td>MDM2</td>\n",
              "      <td>MDM inhibitor</td>\n",
              "      <td>COc1ccc(C2=N[C@@H]([C@@H](N2C(=O)N2CCNC(=O)C2)...</td>\n",
              "      <td>BDUHCSBCVGXTJM-IZLXSDGUSA-N</td>\n",
              "      <td>None</td>\n",
              "    </tr>\n",
              "  </tbody>\n",
              "</table>\n",
              "</div>"
            ],
            "text/plain": [
              "         pert_id       cmap_name  ...                    inchi_key compound_aliases\n",
              "0  BRD-K84987553  MDM2-inhibitor  ...  BYMGWCQXSPGCMW-XCVCLJGOSA-N  MDM-2-INHIBITOR\n",
              "1  BRD-A12230535        nutlin-3  ...  BDUHCSBCVGXTJM-UHFFFAOYSA-N        NUTLIN-3A\n",
              "2  BRD-K00317371            RITA  ...  KZENBFUSKMWCJF-UHFFFAOYSA-N             rita\n",
              "3  BRD-K64925568         AMG-232  ...  DRLCSJFKKILATL-YWCVFVGNSA-N             None\n",
              "4  BRD-K17349619         HLI-373  ...  LNRUPMPQQGPSQT-UHFFFAOYSA-N             None\n",
              "5  BRD-K65924316      serdemetan  ...  CEGSUKYESLWKJP-UHFFFAOYSA-N             None\n",
              "6  BRD-K60219430      serdemetan  ...  JCKLHFMOFAYQHE-UHFFFAOYSA-N             None\n",
              "7  BRD-K93095519       SJ-172550  ...  RKKFQJXGAQWHBZ-YVLHZVERSA-N             None\n",
              "8  BRD-A16035238       SAR405838  ...  IDKAKZRYYDCJDU-UHFFFAOYSA-N             None\n",
              "9  BRD-K73255294        nutlin-3  ...  BDUHCSBCVGXTJM-IZLXSDGUSA-N             None\n",
              "\n",
              "[10 rows x 7 columns]"
            ]
          },
          "metadata": {
            "tags": []
          },
          "execution_count": 80
        }
      ]
    },
    {
      "cell_type": "code",
      "metadata": {
        "id": "r9KsVZnB3uqq",
        "colab": {
          "base_uri": "https://localhost:8080/"
        },
        "outputId": "637c3d6f-59b0-48fb-f90d-8d086518e2e9"
      },
      "source": [
        "compound_table.cmap_name.unique()"
      ],
      "execution_count": null,
      "outputs": [
        {
          "output_type": "execute_result",
          "data": {
            "text/plain": [
              "array(['KIN001-055', 'tyrphostin-47', 'afatinib', 'AG-490', 'AG-494',\n",
              "       'ARRY-334543', 'AST-1306', 'BIBU-1361', 'BIBX-1382',\n",
              "       'bis-tyrphostin', 'BMS-599626', 'butein', 'canertinib',\n",
              "       'CGP-52411', 'CGP-53353', 'chrysophanic-acid', 'CP-724714',\n",
              "       'dacomitinib', 'dovitinib', 'erbstatin-analog', 'erlotinib',\n",
              "       'gefitinib', 'GW-583340', 'lapatinib', 'lavendustin-c', 'LFM-A12',\n",
              "       'neratinib', 'PD-158780', 'pelitinib', 'RG-14620', 'rociletinib',\n",
              "       'TAK-285', 'tyrphostin', 'vandetanib', 'WZ-3146', 'WZ-4002'],\n",
              "      dtype=object)"
            ]
          },
          "metadata": {
            "tags": []
          },
          "execution_count": 66
        }
      ]
    },
    {
      "cell_type": "markdown",
      "metadata": {
        "id": "4dwum4Enigme"
      },
      "source": [
        "### cmap_profiles"
      ]
    },
    {
      "cell_type": "markdown",
      "metadata": {
        "id": "onqAbYiUpVj9"
      },
      "source": [
        "**Query per sample metadata, corresponds to level 3 and level 4 data, AND operator used for multiple conditions.**\n",
        "\n",
        "    cmapBQ.query.cmap_profiles(client, sample_id=None, pert_id=None, cmap_name=None, cell_iname=None, build_name=None, return_fields='priority', limit=None, table=None, verbose=False)\n",
        "    \n",
        "    Parameters\n",
        "            client – Bigquery client\n",
        "            sample_id – list of sample_ids\n",
        "            pert_id – list of pert_ids\n",
        "            cmap_name – list of cmap_name\n",
        "            build_name – list of builds\n",
        "            return_fields – [‘priority’, ‘all’]\n",
        "            limit – Maximum number of rows to return\n",
        "            table – table to query. This by default points to the siginfo table and normally should not be changed.\n",
        "            verbose – Print query and table address.\n",
        "    Returns\n",
        "        Pandas Dataframe\n",
        "\n"
      ]
    },
    {
      "cell_type": "code",
      "metadata": {
        "id": "3g1hX79b3Pj7",
        "colab": {
          "base_uri": "https://localhost:8080/",
          "height": 556
        },
        "outputId": "f553087c-6aa9-4574-dc8d-d1e693f01e4a"
      },
      "source": [
        "list_of_sample_ids = [\n",
        "  ''\n",
        "]\n",
        "\n",
        "list_of_cmap_names = [\n",
        "    'afatinib',\n",
        "    'dacomitinib', \n",
        "    'dovitinib',\n",
        "    'erlotinib',\n",
        "    'gefitinib'\n",
        "]\n",
        "\n",
        "instinfo_table = cmap_query.cmap_profiles(\n",
        "    bq_client,\n",
        "    sample_id=None,\n",
        "    return_fields='all', \n",
        "    cmap_name=list_of_cmap_names \n",
        ")\n",
        "\n",
        "instinfo_table.head(10)"
      ],
      "execution_count": null,
      "outputs": [
        {
          "output_type": "execute_result",
          "data": {
            "text/html": [
              "<div>\n",
              "<style scoped>\n",
              "    .dataframe tbody tr th:only-of-type {\n",
              "        vertical-align: middle;\n",
              "    }\n",
              "\n",
              "    .dataframe tbody tr th {\n",
              "        vertical-align: top;\n",
              "    }\n",
              "\n",
              "    .dataframe thead th {\n",
              "        text-align: right;\n",
              "    }\n",
              "</style>\n",
              "<table border=\"1\" class=\"dataframe\">\n",
              "  <thead>\n",
              "    <tr style=\"text-align: right;\">\n",
              "      <th></th>\n",
              "      <th>bead_batch</th>\n",
              "      <th>nearest_dose</th>\n",
              "      <th>pert_dose</th>\n",
              "      <th>pert_dose_unit</th>\n",
              "      <th>pert_idose</th>\n",
              "      <th>pert_time</th>\n",
              "      <th>pert_itime</th>\n",
              "      <th>pert_time_unit</th>\n",
              "      <th>cell_mfc_name</th>\n",
              "      <th>pert_mfc_id</th>\n",
              "      <th>det_plate</th>\n",
              "      <th>det_well</th>\n",
              "      <th>rna_plate</th>\n",
              "      <th>rna_well</th>\n",
              "      <th>count_mean</th>\n",
              "      <th>count_cv</th>\n",
              "      <th>qc_f_logp</th>\n",
              "      <th>qc_iqr</th>\n",
              "      <th>qc_slope</th>\n",
              "      <th>pert_id</th>\n",
              "      <th>sample_id</th>\n",
              "      <th>pert_type</th>\n",
              "      <th>cell_iname</th>\n",
              "      <th>id</th>\n",
              "      <th>qc_pass</th>\n",
              "      <th>dyn_range</th>\n",
              "      <th>inv_level_10</th>\n",
              "      <th>build_name</th>\n",
              "      <th>failure_mode</th>\n",
              "      <th>project_code</th>\n",
              "      <th>cmap_name</th>\n",
              "    </tr>\n",
              "  </thead>\n",
              "  <tbody>\n",
              "    <tr>\n",
              "      <th>0</th>\n",
              "      <td>b15</td>\n",
              "      <td>2.50</td>\n",
              "      <td>2.500000</td>\n",
              "      <td>uM</td>\n",
              "      <td>2.5 uM</td>\n",
              "      <td>24.0</td>\n",
              "      <td>24 h</td>\n",
              "      <td>h</td>\n",
              "      <td>SKBR3</td>\n",
              "      <td>BRD-K66175015</td>\n",
              "      <td>ABY001_SKBR3_XH_X1_B15</td>\n",
              "      <td>B21</td>\n",
              "      <td>ABY001_SKBR3_XH_X1</td>\n",
              "      <td>B21</td>\n",
              "      <td>60</td>\n",
              "      <td>20</td>\n",
              "      <td>6.1</td>\n",
              "      <td>10.39</td>\n",
              "      <td>65</td>\n",
              "      <td>BRD-K66175015</td>\n",
              "      <td>ABY001_SKBR3_XH_X1_B15:B21</td>\n",
              "      <td>trt_cp</td>\n",
              "      <td>SKBR3</td>\n",
              "      <td>None</td>\n",
              "      <td>1</td>\n",
              "      <td>7.36862</td>\n",
              "      <td>1949.0</td>\n",
              "      <td>None</td>\n",
              "      <td>None</td>\n",
              "      <td>ABY</td>\n",
              "      <td>afatinib</td>\n",
              "    </tr>\n",
              "    <tr>\n",
              "      <th>1</th>\n",
              "      <td>b12</td>\n",
              "      <td>10.00</td>\n",
              "      <td>10.000000</td>\n",
              "      <td>uM</td>\n",
              "      <td>10 uM</td>\n",
              "      <td>48.0</td>\n",
              "      <td>48 h</td>\n",
              "      <td>h</td>\n",
              "      <td>HEK293T</td>\n",
              "      <td>BRD-K70401845</td>\n",
              "      <td>HSF039_HEK293T_48H_X1_B12</td>\n",
              "      <td>L21</td>\n",
              "      <td>HSF039_HEK293T_48H_X1</td>\n",
              "      <td>L21</td>\n",
              "      <td>79</td>\n",
              "      <td>14</td>\n",
              "      <td>8.2</td>\n",
              "      <td>8.37</td>\n",
              "      <td>57</td>\n",
              "      <td>BRD-K70401845</td>\n",
              "      <td>HSF039_HEK293T_48H_X1_B12:L21</td>\n",
              "      <td>trt_cp</td>\n",
              "      <td>HEK293T</td>\n",
              "      <td>None</td>\n",
              "      <td>1</td>\n",
              "      <td>16.38210</td>\n",
              "      <td>3473.0</td>\n",
              "      <td>None</td>\n",
              "      <td>None</td>\n",
              "      <td>HSF</td>\n",
              "      <td>erlotinib</td>\n",
              "    </tr>\n",
              "    <tr>\n",
              "      <th>2</th>\n",
              "      <td>b12</td>\n",
              "      <td>10.00</td>\n",
              "      <td>10.000000</td>\n",
              "      <td>uM</td>\n",
              "      <td>10 uM</td>\n",
              "      <td>48.0</td>\n",
              "      <td>48 h</td>\n",
              "      <td>h</td>\n",
              "      <td>HEK293T</td>\n",
              "      <td>BRD-K70401845</td>\n",
              "      <td>HSF039_HEK293T_48H_X2_B12</td>\n",
              "      <td>P23</td>\n",
              "      <td>HSF039_HEK293T_48H_X2</td>\n",
              "      <td>P23</td>\n",
              "      <td>53</td>\n",
              "      <td>18</td>\n",
              "      <td>6.6</td>\n",
              "      <td>8.24</td>\n",
              "      <td>57</td>\n",
              "      <td>BRD-K70401845</td>\n",
              "      <td>HSF039_HEK293T_48H_X2_B12:P23</td>\n",
              "      <td>trt_cp</td>\n",
              "      <td>HEK293T</td>\n",
              "      <td>None</td>\n",
              "      <td>1</td>\n",
              "      <td>26.61590</td>\n",
              "      <td>1836.5</td>\n",
              "      <td>None</td>\n",
              "      <td>None</td>\n",
              "      <td>HSF</td>\n",
              "      <td>erlotinib</td>\n",
              "    </tr>\n",
              "    <tr>\n",
              "      <th>3</th>\n",
              "      <td>b33</td>\n",
              "      <td>10.00</td>\n",
              "      <td>10.000000</td>\n",
              "      <td>uM</td>\n",
              "      <td>10 uM</td>\n",
              "      <td>3.0</td>\n",
              "      <td>3 h</td>\n",
              "      <td>h</td>\n",
              "      <td>MCF10A.WT</td>\n",
              "      <td>BRD-K66175015</td>\n",
              "      <td>LCP001_MCF10A.WT_3H_X3_B33</td>\n",
              "      <td>O13</td>\n",
              "      <td>LCP001_MCF10A.WT_3H_X3</td>\n",
              "      <td>O13</td>\n",
              "      <td>35</td>\n",
              "      <td>20</td>\n",
              "      <td>6.0</td>\n",
              "      <td>8.74</td>\n",
              "      <td>58</td>\n",
              "      <td>BRD-K66175015</td>\n",
              "      <td>LCP001_MCF10A.WT_3H_X3_B33:O13</td>\n",
              "      <td>trt_cp</td>\n",
              "      <td>MCF10A</td>\n",
              "      <td>None</td>\n",
              "      <td>0</td>\n",
              "      <td>18.56630</td>\n",
              "      <td>1819.5</td>\n",
              "      <td>None</td>\n",
              "      <td>count_mean</td>\n",
              "      <td>LCP</td>\n",
              "      <td>afatinib</td>\n",
              "    </tr>\n",
              "    <tr>\n",
              "      <th>4</th>\n",
              "      <td>b43</td>\n",
              "      <td>3.33</td>\n",
              "      <td>3.333330</td>\n",
              "      <td>uM</td>\n",
              "      <td>3.33 uM</td>\n",
              "      <td>48.0</td>\n",
              "      <td>48 h</td>\n",
              "      <td>h</td>\n",
              "      <td>XC.L100.L</td>\n",
              "      <td>BRD-K70401845</td>\n",
              "      <td>LGR001_XC.L100.L_48H_X1_B43</td>\n",
              "      <td>P08</td>\n",
              "      <td>LGR001_XC.L100.L_48H_X1</td>\n",
              "      <td>P08</td>\n",
              "      <td>98</td>\n",
              "      <td>19</td>\n",
              "      <td>7.5</td>\n",
              "      <td>8.95</td>\n",
              "      <td>64</td>\n",
              "      <td>BRD-K70401845</td>\n",
              "      <td>LGR001_XC.L100.L_48H_X1_B43:P08</td>\n",
              "      <td>trt_cp</td>\n",
              "      <td>XC.L100</td>\n",
              "      <td>None</td>\n",
              "      <td>1</td>\n",
              "      <td>6.16934</td>\n",
              "      <td>8452.0</td>\n",
              "      <td>None</td>\n",
              "      <td>None</td>\n",
              "      <td>LGR</td>\n",
              "      <td>erlotinib</td>\n",
              "    </tr>\n",
              "    <tr>\n",
              "      <th>5</th>\n",
              "      <td>b33</td>\n",
              "      <td>3.33</td>\n",
              "      <td>3.333330</td>\n",
              "      <td>uM</td>\n",
              "      <td>3.33 uM</td>\n",
              "      <td>24.0</td>\n",
              "      <td>24 h</td>\n",
              "      <td>h</td>\n",
              "      <td>MCF10A.KRAS.HG</td>\n",
              "      <td>BRD-K85402309</td>\n",
              "      <td>LCP001_MCF10A.KRAS.HG_24H_X2.A2_B33</td>\n",
              "      <td>E02</td>\n",
              "      <td>LCP001_MCF10A.KRAS.HG_24H_X2.A2</td>\n",
              "      <td>E02</td>\n",
              "      <td>57</td>\n",
              "      <td>17</td>\n",
              "      <td>5.7</td>\n",
              "      <td>9.17</td>\n",
              "      <td>58</td>\n",
              "      <td>BRD-K85402309</td>\n",
              "      <td>LCP001_MCF10A.KRAS.HG_24H_X2.A2_B33:E02</td>\n",
              "      <td>trt_cp</td>\n",
              "      <td>MCF10A</td>\n",
              "      <td>None</td>\n",
              "      <td>1</td>\n",
              "      <td>13.71280</td>\n",
              "      <td>3366.5</td>\n",
              "      <td>None</td>\n",
              "      <td>None</td>\n",
              "      <td>LCP</td>\n",
              "      <td>dovitinib</td>\n",
              "    </tr>\n",
              "    <tr>\n",
              "      <th>6</th>\n",
              "      <td>b15</td>\n",
              "      <td>10.00</td>\n",
              "      <td>10.000000</td>\n",
              "      <td>uM</td>\n",
              "      <td>10 uM</td>\n",
              "      <td>3.0</td>\n",
              "      <td>3 h</td>\n",
              "      <td>h</td>\n",
              "      <td>A549</td>\n",
              "      <td>BRD-K70401845</td>\n",
              "      <td>ABY001_A549_XH_X1_B15</td>\n",
              "      <td>I02</td>\n",
              "      <td>ABY001_A549_XH_X1</td>\n",
              "      <td>I02</td>\n",
              "      <td>63</td>\n",
              "      <td>20</td>\n",
              "      <td>6.6</td>\n",
              "      <td>8.44</td>\n",
              "      <td>61</td>\n",
              "      <td>BRD-K70401845</td>\n",
              "      <td>ABY001_A549_XH_X1_B15:I02</td>\n",
              "      <td>trt_cp</td>\n",
              "      <td>A549</td>\n",
              "      <td>None</td>\n",
              "      <td>1</td>\n",
              "      <td>13.72460</td>\n",
              "      <td>3513.5</td>\n",
              "      <td>None</td>\n",
              "      <td>None</td>\n",
              "      <td>ABY</td>\n",
              "      <td>erlotinib</td>\n",
              "    </tr>\n",
              "    <tr>\n",
              "      <th>7</th>\n",
              "      <td>b21</td>\n",
              "      <td>0.37</td>\n",
              "      <td>0.370370</td>\n",
              "      <td>uM</td>\n",
              "      <td>0.37 uM</td>\n",
              "      <td>24.0</td>\n",
              "      <td>24 h</td>\n",
              "      <td>h</td>\n",
              "      <td>HA1E</td>\n",
              "      <td>BRD-K70401845</td>\n",
              "      <td>PBIOA022_HA1E_24H_X3_B21</td>\n",
              "      <td>P22</td>\n",
              "      <td>PBIOA022_HA1E_24H_X3</td>\n",
              "      <td>P22</td>\n",
              "      <td>80</td>\n",
              "      <td>15</td>\n",
              "      <td>7.5</td>\n",
              "      <td>7.60</td>\n",
              "      <td>59</td>\n",
              "      <td>BRD-K70401845</td>\n",
              "      <td>PBIOA022_HA1E_24H_X3_B21:P22</td>\n",
              "      <td>trt_cp</td>\n",
              "      <td>HA1E</td>\n",
              "      <td>None</td>\n",
              "      <td>1</td>\n",
              "      <td>11.02030</td>\n",
              "      <td>3251.0</td>\n",
              "      <td>None</td>\n",
              "      <td>None</td>\n",
              "      <td>PBIOA</td>\n",
              "      <td>erlotinib</td>\n",
              "    </tr>\n",
              "    <tr>\n",
              "      <th>8</th>\n",
              "      <td>b21</td>\n",
              "      <td>0.04</td>\n",
              "      <td>0.041152</td>\n",
              "      <td>uM</td>\n",
              "      <td>0.04 uM</td>\n",
              "      <td>24.0</td>\n",
              "      <td>24 h</td>\n",
              "      <td>h</td>\n",
              "      <td>HT29</td>\n",
              "      <td>BRD-K64052750</td>\n",
              "      <td>PBIOA014_HT29_24H_X3_B21</td>\n",
              "      <td>C06</td>\n",
              "      <td>PBIOA014_HT29_24H_X3</td>\n",
              "      <td>C06</td>\n",
              "      <td>65</td>\n",
              "      <td>16</td>\n",
              "      <td>9.1</td>\n",
              "      <td>8.97</td>\n",
              "      <td>59</td>\n",
              "      <td>BRD-K64052750</td>\n",
              "      <td>PBIOA014_HT29_24H_X3_B21:C06</td>\n",
              "      <td>trt_cp</td>\n",
              "      <td>HT29</td>\n",
              "      <td>None</td>\n",
              "      <td>1</td>\n",
              "      <td>15.90540</td>\n",
              "      <td>4453.5</td>\n",
              "      <td>None</td>\n",
              "      <td>None</td>\n",
              "      <td>PBIOA</td>\n",
              "      <td>gefitinib</td>\n",
              "    </tr>\n",
              "    <tr>\n",
              "      <th>9</th>\n",
              "      <td>b21</td>\n",
              "      <td>4.00</td>\n",
              "      <td>4.000000</td>\n",
              "      <td>uM</td>\n",
              "      <td>4 uM</td>\n",
              "      <td>24.0</td>\n",
              "      <td>24 h</td>\n",
              "      <td>h</td>\n",
              "      <td>MCF7</td>\n",
              "      <td>BRD-K66175015</td>\n",
              "      <td>ERAM001_MCF7_24H_X2_B21</td>\n",
              "      <td>N13</td>\n",
              "      <td>ERAM001_MCF7_24H_X2</td>\n",
              "      <td>N13</td>\n",
              "      <td>65</td>\n",
              "      <td>16</td>\n",
              "      <td>9.4</td>\n",
              "      <td>7.13</td>\n",
              "      <td>57</td>\n",
              "      <td>BRD-K66175015</td>\n",
              "      <td>ERAM001_MCF7_24H_X2_B21:N13</td>\n",
              "      <td>trt_cp</td>\n",
              "      <td>MCF7</td>\n",
              "      <td>None</td>\n",
              "      <td>1</td>\n",
              "      <td>17.74720</td>\n",
              "      <td>3159.0</td>\n",
              "      <td>None</td>\n",
              "      <td>None</td>\n",
              "      <td>ERAM</td>\n",
              "      <td>afatinib</td>\n",
              "    </tr>\n",
              "  </tbody>\n",
              "</table>\n",
              "</div>"
            ],
            "text/plain": [
              "  bead_batch  nearest_dose  pert_dose  ... failure_mode project_code  cmap_name\n",
              "0        b15          2.50   2.500000  ...         None          ABY   afatinib\n",
              "1        b12         10.00  10.000000  ...         None          HSF  erlotinib\n",
              "2        b12         10.00  10.000000  ...         None          HSF  erlotinib\n",
              "3        b33         10.00  10.000000  ...   count_mean          LCP   afatinib\n",
              "4        b43          3.33   3.333330  ...         None          LGR  erlotinib\n",
              "5        b33          3.33   3.333330  ...         None          LCP  dovitinib\n",
              "6        b15         10.00  10.000000  ...         None          ABY  erlotinib\n",
              "7        b21          0.37   0.370370  ...         None        PBIOA  erlotinib\n",
              "8        b21          0.04   0.041152  ...         None        PBIOA  gefitinib\n",
              "9        b21          4.00   4.000000  ...         None         ERAM   afatinib\n",
              "\n",
              "[10 rows x 31 columns]"
            ]
          },
          "metadata": {
            "tags": []
          },
          "execution_count": 110
        }
      ]
    },
    {
      "cell_type": "markdown",
      "metadata": {
        "id": "DfPj_MZkicAZ"
      },
      "source": [
        "### cmap_sig"
      ]
    },
    {
      "cell_type": "markdown",
      "metadata": {
        "id": "jZ62FtoqoQT-"
      },
      "source": [
        "**Query level 5 metadata table**\n",
        "\n",
        "    cmapBQ.query.cmap_sig(client, sig_id=None, pert_id=None, cmap_name=None, cell_iname=None, build_name=None, return_fields='priority', limit=None, table=None, verbose=False)\n",
        "    Parameters\n",
        "            client – Bigquery Client\n",
        "            sig_id – list of sig_ids\n",
        "            pert_id – list of pert_ids\n",
        "            cmap_name – list of cmap_name, formerly pert_iname\n",
        "            cell_iname – list of cell names\n",
        "            build_name – list of builds\n",
        "            return_fields – [‘priority’, ‘all’]\n",
        "            limit – Maximum number of rows to return\n",
        "            table – table to query. This by default points to the level 5 siginfo table and normally should not be changed.\n",
        "            verbose – Print query and table address.\n",
        "    Returns\n",
        "        Pandas Dataframe\n",
        "\n"
      ]
    },
    {
      "cell_type": "code",
      "metadata": {
        "id": "PnIcvQEwrt8B"
      },
      "source": [
        "list_of_sig_ids = [\n",
        "  ''\n",
        "]\n",
        "\n",
        "list_of_cmap_names = [\n",
        "    'afatinib',\n",
        "    'dacomitinib', \n",
        "    'dovitinib',\n",
        "    'erlotinib',\n",
        "    'gefitinib'\n",
        "]\n",
        "\n",
        "\n",
        "siginfo_table = cmap_query.cmap_sig(\n",
        "    bq_client,\n",
        "    sig_id = None, \n",
        "    cell_iname = core_cell_lines, \n",
        "    cmap_name = list_of_cmap_names,\n",
        "    return_fields='priority'\n",
        ")\n",
        "\n"
      ],
      "execution_count": null,
      "outputs": []
    },
    {
      "cell_type": "code",
      "metadata": {
        "id": "8NT8aEuV_DpA"
      },
      "source": [
        ""
      ],
      "execution_count": null,
      "outputs": []
    },
    {
      "cell_type": "markdown",
      "metadata": {
        "id": "-SIWT2ebi3Qb"
      },
      "source": [
        "### cmap_matrix"
      ]
    },
    {
      "cell_type": "markdown",
      "metadata": {
        "id": "3JXryRQkqHoe"
      },
      "source": [
        "**Query for numerical data for signature-gene level data.**\n",
        "\n",
        "    cmapBQ.query.cmap_matrix(client, data_level='level5', feature_space='landmark', rid=None, cid=None, verbose=False, chunk_size=1000, table=None, limit=1000)\n",
        "\n",
        "    Parameters\n",
        "            client – Bigquery Client\n",
        "            data_level – Data level requested. IDs from siginfo file correspond to ‘level5’. Ids from instinfo are available in ‘level3’ and ‘level4’. Choices are [‘level5’, ‘level4’, ‘level3’]\n",
        "            rid – Row ids\n",
        "            cid – Column ids\n",
        "            verbose – Run in verbose mode\n",
        "            chunk_size – Runs queries in stages to avoid query character limit. Default 1,000\n",
        "            table – Table address to query. Overrides ‘data_level’ parameter. Generally should not be used.\n",
        "            verbose – Print query and table address.\n",
        "    Returns\n",
        "        GCToo object\n",
        "\n"
      ]
    },
    {
      "cell_type": "code",
      "metadata": {
        "id": "t3Ed6zVdEPhp",
        "colab": {
          "base_uri": "https://localhost:8080/",
          "height": 161
        },
        "outputId": "1193928a-2e57-4378-b316-5b30c7042656"
      },
      "source": [
        "list_of_sig_ids = list(siginfo_table.sample(10)['sig_id'])\n",
        "list_of_sample_ids = list(instinfo_table.sample(10)['sample_id'])\n",
        "\n",
        "data = cmap_query.cmap_matrix(\n",
        "    bq_client,\n",
        "    cid=list_of_sample_ids,\n",
        "    rid=None,\n",
        "    feature_space='landmark',\n",
        "    data_level='level5'\n",
        ")\n",
        "\n",
        "data.data_df"
      ],
      "execution_count": null,
      "outputs": [
        {
          "output_type": "stream",
          "text": [
            "Running query ... (1/1)\n",
            "Pivoting Dataframes to GCT objects\n",
            "Pivoting... (1/1)\n",
            "Complete\n"
          ],
          "name": "stdout"
        },
        {
          "output_type": "execute_result",
          "data": {
            "application/vnd.google.colaboratory.module+javascript": "\n      import \"https://ssl.gstatic.com/colaboratory/data_table/a6224c040fa35dcf/data_table.js\";\n\n      window.createDataTable({\n        data: [],\n        columns: [[\"number\", \"rid\"]],\n        columnOptions: [{\"width\": \"1px\", \"className\": \"index_column\"}],\n        rowsPerPage: 25,\n        helpUrl: \"https://colab.research.google.com/notebooks/data_table.ipynb\",\n        suppressOutputScrolling: true,\n        minimumWidth: undefined,\n      });\n    ",
            "text/html": [
              "<div>\n",
              "<style scoped>\n",
              "    .dataframe tbody tr th:only-of-type {\n",
              "        vertical-align: middle;\n",
              "    }\n",
              "\n",
              "    .dataframe tbody tr th {\n",
              "        vertical-align: top;\n",
              "    }\n",
              "\n",
              "    .dataframe thead th {\n",
              "        text-align: right;\n",
              "    }\n",
              "</style>\n",
              "<table border=\"1\" class=\"dataframe\">\n",
              "  <thead>\n",
              "    <tr style=\"text-align: right;\">\n",
              "      <th>cid</th>\n",
              "    </tr>\n",
              "    <tr>\n",
              "      <th>rid</th>\n",
              "    </tr>\n",
              "  </thead>\n",
              "  <tbody>\n",
              "  </tbody>\n",
              "</table>\n",
              "</div>"
            ],
            "text/plain": [
              "Empty DataFrame\n",
              "Columns: []\n",
              "Index: []"
            ]
          },
          "metadata": {
            "tags": []
          },
          "execution_count": 109
        }
      ]
    }
  ]
}