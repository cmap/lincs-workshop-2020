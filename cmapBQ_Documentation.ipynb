{
  "nbformat": 4,
  "nbformat_minor": 0,
  "metadata": {
    "colab": {
      "name": "cmapBQ Documentation",
      "provenance": [],
      "collapsed_sections": [
        "9BzY-ZW3Dq7k",
        "S_wNgSQrDnqH",
        "titAMjiCDnqX"
      ],
      "toc_visible": true
    },
    "kernelspec": {
      "name": "python3",
      "display_name": "Python 3"
    }
  },
  "cells": [
    {
      "cell_type": "markdown",
      "metadata": {
        "id": "w7oG5TjDZKOK"
      },
      "source": [
        "# Documentation notebook"
      ]
    },
    {
      "cell_type": "markdown",
      "metadata": {
        "id": "Zv3qnyFcZErE"
      },
      "source": [
        "## Setup"
      ]
    },
    {
      "cell_type": "markdown",
      "metadata": {
        "id": "9BzY-ZW3Dq7k"
      },
      "source": [
        "### Package installation"
      ]
    },
    {
      "cell_type": "markdown",
      "metadata": {
        "id": "M_QOAzWJxCuM"
      },
      "source": [
        "The cmapBQ package is available from `pip` and can be installed using the command below. Documentation is available on [Read The Docs](https://cmapbq.readthedocs.io/en/latest/)"
      ]
    },
    {
      "cell_type": "code",
      "metadata": {
        "id": "BOWAFnXQD3Xs",
        "colab": {
          "base_uri": "https://localhost:8080/"
        },
        "outputId": "0b579cc9-d34b-4216-f80f-eb767cd8b233"
      },
      "source": [
        "!pip -q install cmapBQ"
      ],
      "execution_count": 3,
      "outputs": [
        {
          "output_type": "stream",
          "text": [
            "\u001b[?25l\r\u001b[K     |██▏                             | 10kB 19.0MB/s eta 0:00:01\r\u001b[K     |████▍                           | 20kB 23.9MB/s eta 0:00:01\r\u001b[K     |██████▌                         | 30kB 20.8MB/s eta 0:00:01\r\u001b[K     |████████▊                       | 40kB 18.1MB/s eta 0:00:01\r\u001b[K     |███████████                     | 51kB 16.7MB/s eta 0:00:01\r\u001b[K     |█████████████                   | 61kB 14.5MB/s eta 0:00:01\r\u001b[K     |███████████████▎                | 71kB 6.6MB/s eta 0:00:01\r\u001b[K     |█████████████████▌              | 81kB 7.3MB/s eta 0:00:01\r\u001b[K     |███████████████████▋            | 92kB 8.0MB/s eta 0:00:01\r\u001b[K     |█████████████████████▉          | 102kB 8.0MB/s eta 0:00:01\r\u001b[K     |████████████████████████        | 112kB 8.0MB/s eta 0:00:01\r\u001b[K     |██████████████████████████▏     | 122kB 8.0MB/s eta 0:00:01\r\u001b[K     |████████████████████████████▍   | 133kB 8.0MB/s eta 0:00:01\r\u001b[K     |██████████████████████████████▌ | 143kB 8.0MB/s eta 0:00:01\r\u001b[K     |████████████████████████████████| 153kB 8.0MB/s \n",
            "\u001b[?25h"
          ],
          "name": "stdout"
        }
      ]
    },
    {
      "cell_type": "markdown",
      "metadata": {
        "id": "S_wNgSQrDnqH"
      },
      "source": [
        "### Standard Imports"
      ]
    },
    {
      "cell_type": "code",
      "metadata": {
        "ExecuteTime": {
          "end_time": "2020-10-16T15:08:01.975360Z",
          "start_time": "2020-10-16T15:08:01.326791Z"
        },
        "id": "KwESkecNDnqK"
      },
      "source": [
        "import os\n",
        "import pandas as pd\n",
        "import numpy as np\n",
        "import seaborn as sns\n",
        "import requests\n",
        "\n",
        "import matplotlib.pyplot as plt"
      ],
      "execution_count": 4,
      "outputs": []
    },
    {
      "cell_type": "markdown",
      "metadata": {
        "ExecuteTime": {
          "end_time": "2020-10-16T15:08:01.975360Z",
          "start_time": "2020-10-16T15:08:01.326791Z"
        },
        "id": "titAMjiCDnqX"
      },
      "source": [
        "### Credentials Setup and Package imports"
      ]
    },
    {
      "cell_type": "markdown",
      "metadata": {
        "id": "bnSqb7pda1R2"
      },
      "source": [
        "Getting demo credentials from S3. To access BigQuery, a service account JSON credentials file must be obtained. Running the `cmap.config.setup_credentials(credentials_path)` function will point the toolkit to the credentials connected to your Google Account. \n",
        "\n",
        "More information about service accounts are available here: [Getting started with authentication](https://cloud.google.com/docs/authentication/getting-started)"
      ]
    },
    {
      "cell_type": "code",
      "metadata": {
        "id": "U4lQS63voy4C"
      },
      "source": [
        "import requests\n",
        "\n",
        "# URL with credentials\n",
        "url = ('https://s3.amazonaws.com/data.clue.io/api/bq_creds/BQ-demo-credentials.json')\n",
        "\n",
        "response = requests.get(url)\n",
        "credentials_filepath='/content/BQ-demo-credentials.json'\n",
        "\n",
        "with open(credentials_filepath, 'w') as f:\n",
        "  f.write(response.text)"
      ],
      "execution_count": 5,
      "outputs": []
    },
    {
      "cell_type": "markdown",
      "metadata": {
        "id": "j79uwWIsa48M"
      },
      "source": [
        "Pointing cmapBQ to credentials file"
      ]
    },
    {
      "cell_type": "code",
      "metadata": {
        "ExecuteTime": {
          "end_time": "2020-10-16T15:08:01.975360Z",
          "start_time": "2020-10-16T15:08:01.326791Z"
        },
        "id": "CtzQMe-aDnqZ"
      },
      "source": [
        "import cmapBQ.query as cmap_query\n",
        "import cmapBQ.config as cmap_config\n",
        "\n",
        "#credentials_filepath='/content/cmapbq-external-test-580801ef1790.json'\n",
        "# Set up credentials\n",
        "cmap_config.setup_credentials(credentials_filepath)\n",
        "bq_client = cmap_config.get_bq_client()"
      ],
      "execution_count": 6,
      "outputs": []
    },
    {
      "cell_type": "markdown",
      "metadata": {
        "id": "nd9T22hXY5HF"
      },
      "source": [
        "## Functions"
      ]
    },
    {
      "cell_type": "markdown",
      "metadata": {
        "id": "nHoRzAxgigYy"
      },
      "source": [
        "### cmap_compounds"
      ]
    },
    {
      "cell_type": "markdown",
      "metadata": {
        "id": "Hp-Bfsa9qiWL"
      },
      "source": [
        "#### Query compoundinfo table for various field by providing lists of compounds, moa, targets, etc. ‘AND’ operator used for multiple conditions.\n",
        "\n",
        "\n",
        "    cmapBQ.query.cmap_compounds(client, pert_id=None, cmap_name=None, moa=None, target=None, compound_aliases=None, limit=None, verbose=False)\n",
        "\n",
        "    Parameters\n",
        "            client – BigQuery Client\n",
        "            pert_id – List of pert_ids\n",
        "            cmap_name – List of cmap_names\n",
        "            target – List of targets\n",
        "            moa – List of MoAs\n",
        "            compound_aliases – List of compound aliases\n",
        "            limit – Maximum number of rows to return\n",
        "            verbose – Print query and table address.\n",
        "    Returns\n",
        "        Pandas Dataframe matching queries"
      ]
    },
    {
      "cell_type": "code",
      "metadata": {
        "id": "QUwBjrU0tipq"
      },
      "source": [
        "target = 'EGFR'\n",
        "target = 'EGFR inhibitor'\n",
        "\n",
        "compound_table = cmap_query.cmap_compounds(\n",
        "    bq_client,\n",
        "    pert_id=None,\n",
        "    cmap_name=None, \n",
        "    moa=None, \n",
        "    target=None, \n",
        "    compound_aliases=None, \n",
        "    limit=None, \n",
        "    verbose=False\n",
        "  )\n",
        "\n",
        "## Do we need to be able to query by canonical smiles or inchi_keys? "
      ],
      "execution_count": 10,
      "outputs": []
    },
    {
      "cell_type": "code",
      "metadata": {
        "colab": {
          "base_uri": "https://localhost:8080/",
          "height": 424
        },
        "id": "L1iZ9EZTt7VQ",
        "outputId": "5af7b95b-276e-4f80-af42-22fb961f0bd8"
      },
      "source": [
        "compound_table"
      ],
      "execution_count": 11,
      "outputs": [
        {
          "output_type": "execute_result",
          "data": {
            "text/html": [
              "<div>\n",
              "<style scoped>\n",
              "    .dataframe tbody tr th:only-of-type {\n",
              "        vertical-align: middle;\n",
              "    }\n",
              "\n",
              "    .dataframe tbody tr th {\n",
              "        vertical-align: top;\n",
              "    }\n",
              "\n",
              "    .dataframe thead th {\n",
              "        text-align: right;\n",
              "    }\n",
              "</style>\n",
              "<table border=\"1\" class=\"dataframe\">\n",
              "  <thead>\n",
              "    <tr style=\"text-align: right;\">\n",
              "      <th></th>\n",
              "      <th>pert_id</th>\n",
              "      <th>cmap_name</th>\n",
              "      <th>target</th>\n",
              "      <th>moa</th>\n",
              "      <th>canonical_smiles</th>\n",
              "      <th>inchi_key</th>\n",
              "      <th>compound_aliases</th>\n",
              "    </tr>\n",
              "  </thead>\n",
              "  <tbody>\n",
              "    <tr>\n",
              "      <th>0</th>\n",
              "      <td>BRD-A08715367</td>\n",
              "      <td>L-theanine</td>\n",
              "      <td>None</td>\n",
              "      <td>None</td>\n",
              "      <td>CCNC(=O)CCC(N)C(O)=O</td>\n",
              "      <td>DATAGRPVKZEWHA-UHFFFAOYSA-N</td>\n",
              "      <td>l-theanine</td>\n",
              "    </tr>\n",
              "    <tr>\n",
              "      <th>1</th>\n",
              "      <td>BRD-A12237696</td>\n",
              "      <td>L-citrulline</td>\n",
              "      <td>None</td>\n",
              "      <td>None</td>\n",
              "      <td>NC(CCCNC(N)=O)C(O)=O</td>\n",
              "      <td>RHGKLRLOHDJJDR-UHFFFAOYSA-N</td>\n",
              "      <td>l-citrulline</td>\n",
              "    </tr>\n",
              "    <tr>\n",
              "      <th>2</th>\n",
              "      <td>BRD-A18795974</td>\n",
              "      <td>BRD-A18795974</td>\n",
              "      <td>None</td>\n",
              "      <td>None</td>\n",
              "      <td>CCCN(CCC)C1CCc2ccc(O)cc2C1</td>\n",
              "      <td>BLYMJBIZMIGWFK-UHFFFAOYSA-N</td>\n",
              "      <td>7-hydroxy-DPAT</td>\n",
              "    </tr>\n",
              "    <tr>\n",
              "      <th>3</th>\n",
              "      <td>BRD-A27924917</td>\n",
              "      <td>BRD-A27924917</td>\n",
              "      <td>None</td>\n",
              "      <td>None</td>\n",
              "      <td>NCC(O)(CS(O)(=O)=O)c1ccc(Cl)cc1</td>\n",
              "      <td>WBSMZVIMANOCNX-UHFFFAOYSA-N</td>\n",
              "      <td>2-hydroxysaclofen</td>\n",
              "    </tr>\n",
              "    <tr>\n",
              "      <th>4</th>\n",
              "      <td>BRD-A35931254</td>\n",
              "      <td>BRD-A35931254</td>\n",
              "      <td>None</td>\n",
              "      <td>None</td>\n",
              "      <td>CN1CCc2cccc-3c2C1Cc1ccc(O)c(O)c-31</td>\n",
              "      <td>VMWNQDUVQKEIOC-UHFFFAOYSA-N</td>\n",
              "      <td>r(-)-apomorphine</td>\n",
              "    </tr>\n",
              "    <tr>\n",
              "      <th>...</th>\n",
              "      <td>...</td>\n",
              "      <td>...</td>\n",
              "      <td>...</td>\n",
              "      <td>...</td>\n",
              "      <td>...</td>\n",
              "      <td>...</td>\n",
              "      <td>...</td>\n",
              "    </tr>\n",
              "    <tr>\n",
              "      <th>39316</th>\n",
              "      <td>BRD-K62685538</td>\n",
              "      <td>triptorelin</td>\n",
              "      <td>GNRHR</td>\n",
              "      <td>Gonadotropin releasing factor hormone receptor...</td>\n",
              "      <td>CC(C)C[C@H](NC(=O)[C@@H](Cc1c[nH]c2ccccc12)NC(...</td>\n",
              "      <td>VXKHXGOKWPXYNA-PGBVPBMZSA-N</td>\n",
              "      <td>None</td>\n",
              "    </tr>\n",
              "    <tr>\n",
              "      <th>39317</th>\n",
              "      <td>BRD-K62221994</td>\n",
              "      <td>T-98475</td>\n",
              "      <td>GNRHR</td>\n",
              "      <td>Gonadotropin releasing factor hormone receptor...</td>\n",
              "      <td>CC(C)OC(=O)c1cn(Cc2c(F)cccc2F)c3sc(c(CN(C)Cc4c...</td>\n",
              "      <td>RANJJVIMTOIWIN-UHFFFAOYSA-N</td>\n",
              "      <td>None</td>\n",
              "    </tr>\n",
              "    <tr>\n",
              "      <th>39318</th>\n",
              "      <td>BRD-K53397409</td>\n",
              "      <td>benzoic-acid</td>\n",
              "      <td>RAB9A</td>\n",
              "      <td>Precursor for food preservatives, plasticizers...</td>\n",
              "      <td>OC(=O)c1ccccc1</td>\n",
              "      <td>WPYMKLBDIGXBTP-UHFFFAOYSA-N</td>\n",
              "      <td>None</td>\n",
              "    </tr>\n",
              "    <tr>\n",
              "      <th>39319</th>\n",
              "      <td>BRD-A62182663</td>\n",
              "      <td>YK-4279</td>\n",
              "      <td>DHX9</td>\n",
              "      <td>Binding of RNA helicase A to the transcription...</td>\n",
              "      <td>COc1ccc(cc1)C(=O)CC1(O)C(=O)Nc2c1c(Cl)ccc2Cl</td>\n",
              "      <td>HLXSCTYHLQHQDJ-UHFFFAOYSA-N</td>\n",
              "      <td>None</td>\n",
              "    </tr>\n",
              "    <tr>\n",
              "      <th>39320</th>\n",
              "      <td>BRD-A62182663</td>\n",
              "      <td>YK-4279</td>\n",
              "      <td>FLI1</td>\n",
              "      <td>Binding of RNA helicase A to the transcription...</td>\n",
              "      <td>COc1ccc(cc1)C(=O)CC1(O)C(=O)Nc2c1c(Cl)ccc2Cl</td>\n",
              "      <td>HLXSCTYHLQHQDJ-UHFFFAOYSA-N</td>\n",
              "      <td>None</td>\n",
              "    </tr>\n",
              "  </tbody>\n",
              "</table>\n",
              "<p>39321 rows × 7 columns</p>\n",
              "</div>"
            ],
            "text/plain": [
              "             pert_id  ...   compound_aliases\n",
              "0      BRD-A08715367  ...         l-theanine\n",
              "1      BRD-A12237696  ...       l-citrulline\n",
              "2      BRD-A18795974  ...     7-hydroxy-DPAT\n",
              "3      BRD-A27924917  ...  2-hydroxysaclofen\n",
              "4      BRD-A35931254  ...   r(-)-apomorphine\n",
              "...              ...  ...                ...\n",
              "39316  BRD-K62685538  ...               None\n",
              "39317  BRD-K62221994  ...               None\n",
              "39318  BRD-K53397409  ...               None\n",
              "39319  BRD-A62182663  ...               None\n",
              "39320  BRD-A62182663  ...               None\n",
              "\n",
              "[39321 rows x 7 columns]"
            ]
          },
          "metadata": {
            "tags": []
          },
          "execution_count": 11
        }
      ]
    },
    {
      "cell_type": "code",
      "metadata": {
        "id": "WBAjCS3gvWb_"
      },
      "source": [
        ""
      ],
      "execution_count": null,
      "outputs": []
    },
    {
      "cell_type": "markdown",
      "metadata": {
        "id": "5dMPQapai1Xk"
      },
      "source": [
        "### cmap_cell"
      ]
    },
    {
      "cell_type": "markdown",
      "metadata": {
        "id": "RQVkrXJlrlYQ"
      },
      "source": [
        "####     Query cellinfo table\n",
        "\n",
        "    cmapBQ.query.cmap_cell(client, cell_iname=None, cell_alias=None, ccle_name=None, primary_disease=None, cell_lineage=None, cell_type=None, table=None, verbose=False)\n",
        "\n",
        "    Parameters\n",
        "            client – Bigquery Client\n",
        "            cell_iname – List of cell_inames\n",
        "            cell_alias – List of cell aliases\n",
        "            ccle_name – List of ccle_names\n",
        "            primary_disease – List of primary_diseases\n",
        "            cell_lineage – List of cell_lineages\n",
        "            cell_type – List of cell_types\n",
        "            table – table to query. This by default points to the siginfo table and normally should not be changed.\n",
        "            verbose – Print query and table address.\n",
        "    Returns\n",
        "        Pandas DataFrame\n",
        "\n"
      ]
    },
    {
      "cell_type": "code",
      "metadata": {
        "id": "a3xJ_svGvpxs"
      },
      "source": [
        "cell_lineage = 'lung'\n",
        "\n",
        "cell_table = cmap_query.cmap_cell(\n",
        "    bq_client,\n",
        "    cell_iname=None,\n",
        "    cell_alias=None,\n",
        "    ccle_name=None,\n",
        "    primary_disease=None,\n",
        "    cell_lineage=cell_lineage,\n",
        "    cell_type=None,\n",
        "    table=None,\n",
        "    verbose=False\n",
        ")\n",
        " "
      ],
      "execution_count": null,
      "outputs": []
    },
    {
      "cell_type": "markdown",
      "metadata": {
        "id": "kj5EGRk3s408"
      },
      "source": [
        "### cmap_genes"
      ]
    },
    {
      "cell_type": "markdown",
      "metadata": {
        "id": "6MlSHv7gs40-"
      },
      "source": [
        "#### Query geneinfo table. Geneinfo contains information about genes including ids, symbols, types, ensembl_ids, etc.\n",
        "\n",
        "    cmapBQ.query.cmap_genes(client, gene_id=None, gene_symbol=None, ensembl_id=None, gene_title=None, gene_type=None, src=None, table=None, verbose=False)\n",
        "   \n",
        "    Parameters\n",
        "            client – Bigquery Client\n",
        "            gene_id – list of gene_ids\n",
        "            gene_symbol – list of gene_symbols\n",
        "            ensembl_id – list of ensembl_ids\n",
        "            gene_title – list of gene_titles\n",
        "            gene_type – list of gene_types\n",
        "            src – list of gene sources\n",
        "            table – table to query. This by default points to the siginfo table and normally should not be changed.\n",
        "            verbose – Print query and table address.\n",
        "    Returns\n",
        "        Pandas DataFrame\n"
      ]
    },
    {
      "cell_type": "markdown",
      "metadata": {
        "id": "4Tj3MDr4jChF"
      },
      "source": [
        "### cmap_genetic_perts"
      ]
    },
    {
      "cell_type": "markdown",
      "metadata": {
        "id": "QM2AYbTcp0Fq"
      },
      "source": [
        "#### Query genetic_pertinfo table\n",
        "\n",
        "\n",
        "    cmapBQ.query.cmap_genetic_perts(client, pert_id=None, cmap_name=None, gene_id=None, gene_title=None, ensemble_id=None, table=None, verbose=False)\n",
        "\n",
        "    Parameters\n",
        "            client – Bigquery Client\n",
        "            pert_id – List of pert_ids\n",
        "            cmap_name – List of cmap_names\n",
        "            gene_id – List of type INTEGER corresponding to gene_ids\n",
        "            gene_title – List of gene_titles\n",
        "            ensemble_id – List of ensumble_ids\n",
        "            table – table to query. This by default points to the siginfo table and normally should not be changed.\n",
        "            verbose – Print query and table address.\n",
        "    Returns: \n",
        "        Pandas Dataframe"
      ]
    },
    {
      "cell_type": "markdown",
      "metadata": {
        "id": "4dwum4Enigme"
      },
      "source": [
        "### cmap_profiles"
      ]
    },
    {
      "cell_type": "markdown",
      "metadata": {
        "id": "onqAbYiUpVj9"
      },
      "source": [
        "#### Query per sample metadata, corresponds to level 3 and level 4 data, AND operator used for multiple conditions.\n",
        "\n",
        "    cmapBQ.query.cmap_profiles(client, sample_id=None, pert_id=None, cmap_name=None, cell_iname=None, build_name=None, return_fields='priority', limit=None, table=None, verbose=False)\n",
        "    \n",
        "    Parameters\n",
        "            client – Bigquery client\n",
        "            sample_id – list of sample_ids\n",
        "            pert_id – list of pert_ids\n",
        "            cmap_name – list of cmap_name\n",
        "            build_name – list of builds\n",
        "            return_fields – [‘priority’, ‘all’]\n",
        "            limit – Maximum number of rows to return\n",
        "            table – table to query. This by default points to the siginfo table and normally should not be changed.\n",
        "            verbose – Print query and table address.\n",
        "    Returns\n",
        "        Pandas Dataframe\n",
        "\n"
      ]
    },
    {
      "cell_type": "markdown",
      "metadata": {
        "id": "DfPj_MZkicAZ"
      },
      "source": [
        "### cmap_sig"
      ]
    },
    {
      "cell_type": "markdown",
      "metadata": {
        "id": "jZ62FtoqoQT-"
      },
      "source": [
        "#### Query level 5 metadata table\n",
        "\n",
        "    cmapBQ.query.cmap_sig(client, sig_id=None, pert_id=None, cmap_name=None, cell_iname=None, build_name=None, return_fields='priority', limit=None, table=None, verbose=False)\n",
        "    Parameters\n",
        "            client – Bigquery Client\n",
        "            sig_id – list of sig_ids\n",
        "            pert_id – list of pert_ids\n",
        "            cmap_name – list of cmap_name, formerly pert_iname\n",
        "            cell_iname – list of cell names\n",
        "            build_name – list of builds\n",
        "            return_fields – [‘priority’, ‘all’]\n",
        "            limit – Maximum number of rows to return\n",
        "            table – table to query. This by default points to the level 5 siginfo table and normally should not be changed.\n",
        "            verbose – Print query and table address.\n",
        "    Returns\n",
        "        Pandas Dataframe\n",
        "\n"
      ]
    },
    {
      "cell_type": "code",
      "metadata": {
        "id": "PnIcvQEwrt8B"
      },
      "source": [
        "sig = cmap_query.cmap_sig(\n",
        "    sig_id = '', \n",
        "    cmap_name = ''\n",
        ")"
      ],
      "execution_count": null,
      "outputs": []
    },
    {
      "cell_type": "markdown",
      "metadata": {
        "id": "-SIWT2ebi3Qb"
      },
      "source": [
        "### cmap_matrix"
      ]
    },
    {
      "cell_type": "markdown",
      "metadata": {
        "id": "3JXryRQkqHoe"
      },
      "source": [
        "#### Query for numerical data for signature-gene level data.\n",
        "\n",
        "    cmapBQ.query.cmap_matrix(client, data_level='level5', feature_space='landmark', rid=None, cid=None, verbose=False, chunk_size=1000, table=None, limit=1000)\n",
        "\n",
        "    Parameters\n",
        "            client – Bigquery Client\n",
        "            data_level – Data level requested. IDs from siginfo file correspond to ‘level5’. Ids from instinfo are available in ‘level3’ and ‘level4’. Choices are [‘level5’, ‘level4’, ‘level3’]\n",
        "            rid – Row ids\n",
        "            cid – Column ids\n",
        "            verbose – Run in verbose mode\n",
        "            chunk_size – Runs queries in stages to avoid query character limit. Default 1,000\n",
        "            table – Table address to query. Overrides ‘data_level’ parameter. Generally should not be used.\n",
        "            verbose – Print query and table address.\n",
        "    Returns\n",
        "        GCToo object\n",
        "\n"
      ]
    },
    {
      "cell_type": "code",
      "metadata": {
        "id": "yKHpzkGDZALk"
      },
      "source": [
        ""
      ],
      "execution_count": null,
      "outputs": []
    },
    {
      "cell_type": "markdown",
      "metadata": {
        "id": "tZ8yAKteiggX"
      },
      "source": [
        "### cmap_genes"
      ]
    },
    {
      "cell_type": "markdown",
      "metadata": {
        "id": "o3sOdn8dq8X8"
      },
      "source": [
        "#### Query geneinfo table. Geneinfo contains information about genes including ids, symbols, types, ensembl_ids, etc.\n",
        "\n",
        "    cmapBQ.query.cmap_genes(client, gene_id=None, gene_symbol=None, ensembl_id=None, gene_title=None, gene_type=None, src=None, table=None, verbose=False)\n",
        "   \n",
        "    Parameters\n",
        "            client – Bigquery Client\n",
        "            gene_id – list of gene_ids\n",
        "            gene_symbol – list of gene_symbols\n",
        "            ensembl_id – list of ensembl_ids\n",
        "            gene_title – list of gene_titles\n",
        "            gene_type – list of gene_types\n",
        "            src – list of gene sources\n",
        "            table – table to query. This by default points to the siginfo table and normally should not be changed.\n",
        "            verbose – Print query and table address.\n",
        "    Returns\n",
        "        Pandas DataFrame\n"
      ]
    }
  ]
}