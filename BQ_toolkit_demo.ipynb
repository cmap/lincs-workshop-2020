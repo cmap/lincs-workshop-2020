{
  "nbformat": 4,
  "nbformat_minor": 0,
  "metadata": {
    "kernelspec": {
      "display_name": "Python 3",
      "language": "python",
      "name": "python3"
    },
    "language_info": {
      "codemirror_mode": {
        "name": "ipython",
        "version": 3
      },
      "file_extension": ".py",
      "mimetype": "text/x-python",
      "name": "python",
      "nbconvert_exporter": "python",
      "pygments_lexer": "ipython3",
      "version": "3.8.5"
    },
    "toc": {
      "base_numbering": 1,
      "nav_menu": {},
      "number_sections": false,
      "sideBar": true,
      "skip_h1_title": true,
      "title_cell": "Table of Contents",
      "title_sidebar": "Contents",
      "toc_cell": false,
      "toc_position": {},
      "toc_section_display": true,
      "toc_window_display": false
    },
    "colab": {
      "name": "BQ_toolkit_demo.ipynb",
      "provenance": [],
      "collapsed_sections": [
        "LMA5uHXtB7V8",
        "8H7RQUqvSpWp",
        "JNf034n1DF7f"
      ],
      "toc_visible": true,
      "include_colab_link": true
    }
  },
  "cells": [
    {
      "cell_type": "markdown",
      "metadata": {
        "id": "view-in-github",
        "colab_type": "text"
      },
      "source": [
        "<a href=\"https://colab.research.google.com/github/cmap/lincs-workshop-2020/blob/main/BQ_toolkit_demo.ipynb\" target=\"_parent\"><img src=\"https://colab.research.google.com/assets/colab-badge.svg\" alt=\"Open In Colab\"/></a>"
      ]
    },
    {
      "cell_type": "markdown",
      "metadata": {
        "id": "MrN92xlsDnqE"
      },
      "source": [
        "## cmapBQ Tutorial\n",
        "\n",
        "This notebook is meant to show a few examples of exploring, selecting and retrieving data available within LINCS-CMap datasets from Google BigQuery.\n",
        "\n",
        "`cmapBQ` allows for targeted retrieval of relevant gene expression data from the resources provided by The Broad Institute and LINCS Project"
      ]
    },
    {
      "cell_type": "markdown",
      "metadata": {
        "id": "9BzY-ZW3Dq7k"
      },
      "source": [
        "### Package installation"
      ]
    },
    {
      "cell_type": "markdown",
      "metadata": {
        "id": "M_QOAzWJxCuM"
      },
      "source": [
        "The cmapBQ package is available from `pip` and can be installed using the command below. Documentation is available on [Read The Docs](https://cmapbq.readthedocs.io/en/latest/)"
      ]
    },
    {
      "cell_type": "code",
      "metadata": {
        "id": "BOWAFnXQD3Xs",
        "colab": {
          "base_uri": "https://localhost:8080/"
        },
        "outputId": "780bd425-30f3-465b-a6f6-6b7f3c9e61e3"
      },
      "source": [
        "!pip -q install cmapBQ"
      ],
      "execution_count": 4,
      "outputs": [
        {
          "output_type": "stream",
          "text": [
            "\u001b[?25l\r\u001b[K     |██▏                             | 10kB 25.4MB/s eta 0:00:01\r\u001b[K     |████▍                           | 20kB 29.2MB/s eta 0:00:01\r\u001b[K     |██████▌                         | 30kB 27.3MB/s eta 0:00:01\r\u001b[K     |████████▊                       | 40kB 19.7MB/s eta 0:00:01\r\u001b[K     |███████████                     | 51kB 16.4MB/s eta 0:00:01\r\u001b[K     |█████████████                   | 61kB 14.7MB/s eta 0:00:01\r\u001b[K     |███████████████▎                | 71kB 13.1MB/s eta 0:00:01\r\u001b[K     |█████████████████▌              | 81kB 12.8MB/s eta 0:00:01\r\u001b[K     |███████████████████▋            | 92kB 13.9MB/s eta 0:00:01\r\u001b[K     |█████████████████████▉          | 102kB 13.5MB/s eta 0:00:01\r\u001b[K     |████████████████████████        | 112kB 13.5MB/s eta 0:00:01\r\u001b[K     |██████████████████████████▏     | 122kB 13.5MB/s eta 0:00:01\r\u001b[K     |████████████████████████████▍   | 133kB 13.5MB/s eta 0:00:01\r\u001b[K     |██████████████████████████████▌ | 143kB 13.5MB/s eta 0:00:01\r\u001b[K     |████████████████████████████████| 153kB 13.5MB/s \n",
            "\u001b[?25h"
          ],
          "name": "stdout"
        }
      ]
    },
    {
      "cell_type": "markdown",
      "metadata": {
        "id": "S_wNgSQrDnqH"
      },
      "source": [
        "### Standard Imports"
      ]
    },
    {
      "cell_type": "code",
      "metadata": {
        "ExecuteTime": {
          "end_time": "2020-10-16T15:08:01.975360Z",
          "start_time": "2020-10-16T15:08:01.326791Z"
        },
        "id": "KwESkecNDnqK"
      },
      "source": [
        "import os\n",
        "import pandas as pd\n",
        "import numpy as np\n",
        "import seaborn as sns\n",
        "import requests\n",
        "\n",
        "import matplotlib.pyplot as plt"
      ],
      "execution_count": 5,
      "outputs": []
    },
    {
      "cell_type": "markdown",
      "metadata": {
        "ExecuteTime": {
          "end_time": "2020-10-16T15:08:01.975360Z",
          "start_time": "2020-10-16T15:08:01.326791Z"
        },
        "id": "titAMjiCDnqX"
      },
      "source": [
        "### Credentials Setup and Package imports"
      ]
    },
    {
      "cell_type": "markdown",
      "metadata": {
        "id": "bnSqb7pda1R2"
      },
      "source": [
        "Getting demo credentials from S3. To access BigQuery, a service account JSON credentials file must be obtained. Running the `cmap.config.setup_credentials(credentials_path)` function will point the toolkit to the credentials connected to your Google Account. \n",
        "\n",
        "More information about service accounts are available here: [Getting started with authentication](https://cloud.google.com/docs/authentication/getting-started)"
      ]
    },
    {
      "cell_type": "code",
      "metadata": {
        "id": "U4lQS63voy4C"
      },
      "source": [
        "import requests\n",
        "\n",
        "# URL with credentials\n",
        "url = ('https://s3.amazonaws.com/data.clue.io/api/bq_creds/BQ-demo-credentials.json')\n",
        "\n",
        "response = requests.get(url)\n",
        "credentials_filepath='/content/BQ-demo-credentials.json'\n",
        "\n",
        "with open(credentials_filepath, 'w') as f:\n",
        "  f.write(response.text)"
      ],
      "execution_count": 2,
      "outputs": []
    },
    {
      "cell_type": "markdown",
      "metadata": {
        "id": "j79uwWIsa48M"
      },
      "source": [
        "Pointing cmapBQ to credentials file"
      ]
    },
    {
      "cell_type": "code",
      "metadata": {
        "ExecuteTime": {
          "end_time": "2020-10-16T15:08:01.975360Z",
          "start_time": "2020-10-16T15:08:01.326791Z"
        },
        "id": "CtzQMe-aDnqZ"
      },
      "source": [
        "import cmapBQ.query as cmap_query\n",
        "import cmapBQ.config as cmap_config\n",
        "\n",
        "# Set up credentials\n",
        "cmap_config.setup_credentials(credentials_filepath)\n",
        "bq_client = cmap_config.get_bq_client()"
      ],
      "execution_count": 6,
      "outputs": []
    },
    {
      "cell_type": "markdown",
      "metadata": {
        "ExecuteTime": {
          "end_time": "2020-10-16T15:08:01.975360Z",
          "start_time": "2020-10-16T15:08:01.326791Z"
        },
        "id": "0gRb1ug3Dnqh"
      },
      "source": [
        "<div style=\"font-size: 10pt;line-height:30px\">\n",
        "    \n",
        "Alternative method of authentication:"
      ]
    },
    {
      "cell_type": "code",
      "metadata": {
        "ExecuteTime": {
          "end_time": "2020-10-16T15:08:01.975360Z",
          "start_time": "2020-10-16T15:08:01.326791Z"
        },
        "id": "subhwHdCDnqi"
      },
      "source": [
        "#from google.cloud import bigquery\n",
        "#os.environ['GOOGLE_APPLICATION_CREDENTIALS'] = credentials_filepath\n",
        "#bq_client = bigquery.Client()"
      ],
      "execution_count": null,
      "outputs": []
    },
    {
      "cell_type": "markdown",
      "metadata": {
        "id": "LMA5uHXtB7V8"
      },
      "source": [
        "# BigQuery Table Information"
      ]
    },
    {
      "cell_type": "markdown",
      "metadata": {
        "id": "7Erxfh69Dnqz"
      },
      "source": [
        "### The data hosted on BigQuery is organized in the following tables\n",
        "\n",
        "<div style=\"font-size: 10pt;line-height:18px;font-weight:normal\">\n",
        "    \n",
        "**compoundinfo:** <br> Metadata for all unique compounds included in the data release. Each row contains information about a unique compound such as MoA, target, etc. \n",
        "    \n",
        "**instinfo:**  <br> Sample level metadata includes information for each replicate including experimental parameters such as timepoint and dose\n",
        "\n",
        "**siginfo:**  <br> Signature (replicate collapsed) level 5 metadata. Includes experimental parameters such as timepoint and dose as well as metrics for bioactivity such as `tas` for [Transcriptional Activity Score](https://clue.io/connectopedia/signature_quality_metrics) and `cc_q75` for Replicate Correlation\n",
        "\n",
        "**L1000 Level3:**  <br> Gene expression (GEX, Level 2) are normalized to invariant gene set curves and quantile normalized across each plate. Here, the data from each perturbagen treatment is referred to as a profile, experiment, or instance. Additional values for 11,350 additional genes not directly measured in the L10000 assay are inferred based on the normalized values for the 978 landmark genes.\n",
        "\n",
        "    \n",
        "**L1000 Level4:**  <br> Z-scores for each gene based on Level 3 with respect to the entire plate population. This comparison of profiles to their appropriate population control generates a list of differentially expressed genes.\n",
        "\n",
        "**L1000 Level5:** <br> Replicate-collapsed z-score vectors based on Level 4. Replicate collapse generates one differential expression vector, which we term a signature. Connectivity analyses are performed on signatures.\n",
        "    \n",
        "**geneinfo:** <br> Metadata for gene_ids included in the data release. Each row contains mappings between gene_symbol, ensemble_id, gene_id as well as information about gene_type\n",
        "\n",
        "**cellinfo:** <br> Metadata for cell lines included in the data release. Each row contains information such as cell_iname, ccle_name or cell_lineage\n",
        "\n",
        "**genetic_pertinfo**: <br> Contains information related to genetic perturbagens such as type ['oe', 'sh', 'xpr'] and relevant gene_id, ensemble_id \n"
      ]
    },
    {
      "cell_type": "markdown",
      "metadata": {
        "id": "8H7RQUqvSpWp"
      },
      "source": [
        "# Raw SQL Queries"
      ]
    },
    {
      "cell_type": "markdown",
      "metadata": {
        "id": "59rrOYcv_08C"
      },
      "source": [
        "`cmapBQ.query.list_tables()` function will display table adresses of default tables for usage in SQL queries"
      ]
    },
    {
      "cell_type": "code",
      "metadata": {
        "id": "yCMwFJvcSn-8",
        "colab": {
          "base_uri": "https://localhost:8080/"
        },
        "outputId": "c1aacecd-c25b-4cec-ce72-1810a98e6ae0"
      },
      "source": [
        "import cmapBQ.query as cmap_query\n",
        "\n",
        "cmap_query.list_tables()"
      ],
      "execution_count": null,
      "outputs": [
        {
          "output_type": "stream",
          "text": [
            "cellinfo: cmap-big-table.cmap_lincs_public_views.cellinfo\n",
            "compoundinfo: cmap-big-table.cmap_lincs_public_views.compoundinfo\n",
            "geneinfo: cmap-big-table.cmap_lincs_public_views.geneinfo\n",
            "genetic_pertinfo: cmap-big-table.cmap_lincs_public_views.genetic_pertinfo\n",
            "instinfo: cmap-big-table.cmap_lincs_public_views.instinfo\n",
            "level3: cmap-big-table.cmap_lincs_public_views.L1000_Level3\n",
            "level4: cmap-big-table.cmap_lincs_public_views.L1000_Level4\n",
            "level5: cmap-big-table.cmap_lincs_public_views.L1000_Level5\n",
            "siginfo: cmap-big-table.cmap_lincs_public_views.siginfo\n"
          ],
          "name": "stdout"
        }
      ]
    },
    {
      "cell_type": "markdown",
      "metadata": {
        "id": "K55z8PJABDfe"
      },
      "source": [
        "Raw SQL queries can be run on the public datasets as shown below. Syntax follows that of Google Biqquery, available here: https://cloud.google.com/bigquery/docs/reference/standard-sql/query-syntax"
      ]
    },
    {
      "cell_type": "markdown",
      "metadata": {
        "id": "VwHW62U7Z1bT"
      },
      "source": [
        "### Example SQL Query "
      ]
    },
    {
      "cell_type": "code",
      "metadata": {
        "id": "zCD_qgt4__T4",
        "colab": {
          "base_uri": "https://localhost:8080/",
          "height": 81
        },
        "outputId": "cd25a593-f901-4f9b-c31c-2a497cd08fc3"
      },
      "source": [
        "## This query may take up to a minute\n",
        "query = \"SELECT COUNT(DISTINCT(cid)) as num_level5_sigs FROM cmap-big-table.cmap_lincs_public_views.L1000_Level5\"\n",
        "\n",
        "cmap_query.run_query(query=query, client=bq_client).result().to_dataframe()"
      ],
      "execution_count": null,
      "outputs": [
        {
          "output_type": "execute_result",
          "data": {
            "text/html": [
              "<div>\n",
              "<style scoped>\n",
              "    .dataframe tbody tr th:only-of-type {\n",
              "        vertical-align: middle;\n",
              "    }\n",
              "\n",
              "    .dataframe tbody tr th {\n",
              "        vertical-align: top;\n",
              "    }\n",
              "\n",
              "    .dataframe thead th {\n",
              "        text-align: right;\n",
              "    }\n",
              "</style>\n",
              "<table border=\"1\" class=\"dataframe\">\n",
              "  <thead>\n",
              "    <tr style=\"text-align: right;\">\n",
              "      <th></th>\n",
              "      <th>num_level5_sigs</th>\n",
              "    </tr>\n",
              "  </thead>\n",
              "  <tbody>\n",
              "    <tr>\n",
              "      <th>0</th>\n",
              "      <td>1165730</td>\n",
              "    </tr>\n",
              "  </tbody>\n",
              "</table>\n",
              "</div>"
            ],
            "text/plain": [
              "   num_level5_sigs\n",
              "0          1165730"
            ]
          },
          "metadata": {
            "tags": []
          },
          "execution_count": 5
        }
      ]
    },
    {
      "cell_type": "markdown",
      "metadata": {
        "id": "0jYyUZ2N_wqa"
      },
      "source": [
        "# cmapBQ Utilities"
      ]
    },
    {
      "cell_type": "markdown",
      "metadata": {
        "id": "qoPGexcRBv-I"
      },
      "source": [
        "`cmapBQ` provides a multitude of utility functions to survey and retrieve data hosted on BigQuery. Below we will demonstrate a workflow for finding and analyzing data pertaining to an MoA of interest as an example."
      ]
    },
    {
      "cell_type": "markdown",
      "metadata": {
        "id": "erfU4Fniqhwx"
      },
      "source": [
        "# Get Table Schema Information"
      ]
    },
    {
      "cell_type": "code",
      "metadata": {
        "colab": {
          "base_uri": "https://localhost:8080/"
        },
        "id": "Z_HpGVk5qbok",
        "outputId": "15c652a1-4bb1-4ddc-eae1-d340405727c1"
      },
      "source": [
        "cmap_query.list_tables()"
      ],
      "execution_count": 5,
      "outputs": [
        {
          "output_type": "stream",
          "text": [
            "cellinfo: cmap-big-table.cmap_lincs_public_views.cellinfo\n",
            "compoundinfo: cmap-big-table.cmap_lincs_public_views.compoundinfo\n",
            "geneinfo: cmap-big-table.cmap_lincs_public_views.geneinfo\n",
            "genetic_pertinfo: cmap-big-table.cmap_lincs_public_views.genetic_pertinfo\n",
            "instinfo: cmap-big-table.cmap_lincs_public_views.instinfo\n",
            "level3: cmap-big-table.cmap_lincs_public_views.L1000_Level3\n",
            "level4: cmap-big-table.cmap_lincs_public_views.L1000_Level4\n",
            "level5: cmap-big-table.cmap_lincs_public_views.L1000_Level5\n",
            "siginfo: cmap-big-table.cmap_lincs_public_views.siginfo\n"
          ],
          "name": "stdout"
        }
      ]
    },
    {
      "cell_type": "code",
      "metadata": {
        "colab": {
          "base_uri": "https://localhost:8080/",
          "height": 269
        },
        "id": "KWn3W1dsqTUQ",
        "outputId": "253db376-1a70-4a1e-ebf0-6c0addbfe89a"
      },
      "source": [
        "cmap_query.get_table_info(bq_client, 'cmap-big-table.cmap_lincs_public_views.compoundinfo') "
      ],
      "execution_count": 6,
      "outputs": [
        {
          "output_type": "execute_result",
          "data": {
            "text/html": [
              "<div>\n",
              "<style scoped>\n",
              "    .dataframe tbody tr th:only-of-type {\n",
              "        vertical-align: middle;\n",
              "    }\n",
              "\n",
              "    .dataframe tbody tr th {\n",
              "        vertical-align: top;\n",
              "    }\n",
              "\n",
              "    .dataframe thead th {\n",
              "        text-align: right;\n",
              "    }\n",
              "</style>\n",
              "<table border=\"1\" class=\"dataframe\">\n",
              "  <thead>\n",
              "    <tr style=\"text-align: right;\">\n",
              "      <th></th>\n",
              "      <th>column_name</th>\n",
              "      <th>data_type</th>\n",
              "    </tr>\n",
              "  </thead>\n",
              "  <tbody>\n",
              "    <tr>\n",
              "      <th>0</th>\n",
              "      <td>pert_id</td>\n",
              "      <td>STRING</td>\n",
              "    </tr>\n",
              "    <tr>\n",
              "      <th>1</th>\n",
              "      <td>cmap_name</td>\n",
              "      <td>STRING</td>\n",
              "    </tr>\n",
              "    <tr>\n",
              "      <th>2</th>\n",
              "      <td>target</td>\n",
              "      <td>STRING</td>\n",
              "    </tr>\n",
              "    <tr>\n",
              "      <th>3</th>\n",
              "      <td>moa</td>\n",
              "      <td>STRING</td>\n",
              "    </tr>\n",
              "    <tr>\n",
              "      <th>4</th>\n",
              "      <td>canonical_smiles</td>\n",
              "      <td>STRING</td>\n",
              "    </tr>\n",
              "    <tr>\n",
              "      <th>5</th>\n",
              "      <td>inchi_key</td>\n",
              "      <td>STRING</td>\n",
              "    </tr>\n",
              "    <tr>\n",
              "      <th>6</th>\n",
              "      <td>compound_aliases</td>\n",
              "      <td>STRING</td>\n",
              "    </tr>\n",
              "  </tbody>\n",
              "</table>\n",
              "</div>"
            ],
            "text/plain": [
              "        column_name data_type\n",
              "0           pert_id    STRING\n",
              "1         cmap_name    STRING\n",
              "2            target    STRING\n",
              "3               moa    STRING\n",
              "4  canonical_smiles    STRING\n",
              "5         inchi_key    STRING\n",
              "6  compound_aliases    STRING"
            ]
          },
          "metadata": {
            "tags": []
          },
          "execution_count": 6
        }
      ]
    },
    {
      "cell_type": "code",
      "metadata": {
        "colab": {
          "base_uri": "https://localhost:8080/",
          "height": 423
        },
        "id": "oQPtEl8axOsb",
        "outputId": "328619c9-c2ac-4ba8-80f6-bf1c0fb43cb3"
      },
      "source": [
        "config = cmap_config.get_default_config()\n",
        "compoundinfo_table = config.tables.compoundinfo\n",
        "\n",
        "QUERY = ( 'SELECT moa, ' \n",
        "'COUNT(DISTINCT(pert_id)) AS count ' \n",
        "'FROM `{}` ' \n",
        "'GROUP BY moa')\n",
        "\n",
        "QUERY = QUERY.format(compoundinfo_table)\n",
        "cmap_query.run_query(QUERY, bq_client).result().to_dataframe()"
      ],
      "execution_count": null,
      "outputs": [
        {
          "output_type": "execute_result",
          "data": {
            "text/html": [
              "<div>\n",
              "<style scoped>\n",
              "    .dataframe tbody tr th:only-of-type {\n",
              "        vertical-align: middle;\n",
              "    }\n",
              "\n",
              "    .dataframe tbody tr th {\n",
              "        vertical-align: top;\n",
              "    }\n",
              "\n",
              "    .dataframe thead th {\n",
              "        text-align: right;\n",
              "    }\n",
              "</style>\n",
              "<table border=\"1\" class=\"dataframe\">\n",
              "  <thead>\n",
              "    <tr style=\"text-align: right;\">\n",
              "      <th></th>\n",
              "      <th>moa</th>\n",
              "      <th>count</th>\n",
              "    </tr>\n",
              "  </thead>\n",
              "  <tbody>\n",
              "    <tr>\n",
              "      <th>0</th>\n",
              "      <td>None</td>\n",
              "      <td>31262</td>\n",
              "    </tr>\n",
              "    <tr>\n",
              "      <th>1</th>\n",
              "      <td>CAR agonist</td>\n",
              "      <td>2</td>\n",
              "    </tr>\n",
              "    <tr>\n",
              "      <th>2</th>\n",
              "      <td>ALK inhibitor</td>\n",
              "      <td>7</td>\n",
              "    </tr>\n",
              "    <tr>\n",
              "      <th>3</th>\n",
              "      <td>Akt inhibitor</td>\n",
              "      <td>13</td>\n",
              "    </tr>\n",
              "    <tr>\n",
              "      <th>4</th>\n",
              "      <td>BCL inhibitor</td>\n",
              "      <td>11</td>\n",
              "    </tr>\n",
              "    <tr>\n",
              "      <th>...</th>\n",
              "      <td>...</td>\n",
              "      <td>...</td>\n",
              "    </tr>\n",
              "    <tr>\n",
              "      <th>653</th>\n",
              "      <td>Telomerase reverse transcriptase expression in...</td>\n",
              "      <td>1</td>\n",
              "    </tr>\n",
              "    <tr>\n",
              "      <th>654</th>\n",
              "      <td>Gonadotropin releasing factor hormone receptor...</td>\n",
              "      <td>2</td>\n",
              "    </tr>\n",
              "    <tr>\n",
              "      <th>655</th>\n",
              "      <td>Gonadotropin releasing factor hormone receptor...</td>\n",
              "      <td>1</td>\n",
              "    </tr>\n",
              "    <tr>\n",
              "      <th>656</th>\n",
              "      <td>Precursor for food preservatives, plasticizers...</td>\n",
              "      <td>1</td>\n",
              "    </tr>\n",
              "    <tr>\n",
              "      <th>657</th>\n",
              "      <td>Binding of RNA helicase A to the transcription...</td>\n",
              "      <td>1</td>\n",
              "    </tr>\n",
              "  </tbody>\n",
              "</table>\n",
              "<p>658 rows × 2 columns</p>\n",
              "</div>"
            ],
            "text/plain": [
              "                                                   moa  count\n",
              "0                                                 None  31262\n",
              "1                                          CAR agonist      2\n",
              "2                                        ALK inhibitor      7\n",
              "3                                        Akt inhibitor     13\n",
              "4                                        BCL inhibitor     11\n",
              "..                                                 ...    ...\n",
              "653  Telomerase reverse transcriptase expression in...      1\n",
              "654  Gonadotropin releasing factor hormone receptor...      2\n",
              "655  Gonadotropin releasing factor hormone receptor...      1\n",
              "656  Precursor for food preservatives, plasticizers...      1\n",
              "657  Binding of RNA helicase A to the transcription...      1\n",
              "\n",
              "[658 rows x 2 columns]"
            ]
          },
          "metadata": {
            "tags": []
          },
          "execution_count": 17
        }
      ]
    },
    {
      "cell_type": "markdown",
      "metadata": {
        "id": "XEN8Xl8RcT6T"
      },
      "source": [
        "### Metadata at a glance"
      ]
    },
    {
      "cell_type": "code",
      "metadata": {
        "ExecuteTime": {
          "end_time": "2020-10-16T15:10:36.592241Z",
          "start_time": "2020-10-16T15:08:01.976661Z"
        },
        "scrolled": true,
        "id": "FjCH2S9JDnq0",
        "colab": {
          "base_uri": "https://localhost:8080/",
          "height": 424
        },
        "outputId": "1395c94e-9f55-4b81-9ab2-56b27e1f0f32"
      },
      "source": [
        "moas = cmap_query.list_cmap_moas(bq_client)\n",
        "display(moas)"
      ],
      "execution_count": null,
      "outputs": [
        {
          "output_type": "display_data",
          "data": {
            "text/html": [
              "<div>\n",
              "<style scoped>\n",
              "    .dataframe tbody tr th:only-of-type {\n",
              "        vertical-align: middle;\n",
              "    }\n",
              "\n",
              "    .dataframe tbody tr th {\n",
              "        vertical-align: top;\n",
              "    }\n",
              "\n",
              "    .dataframe thead th {\n",
              "        text-align: right;\n",
              "    }\n",
              "</style>\n",
              "<table border=\"1\" class=\"dataframe\">\n",
              "  <thead>\n",
              "    <tr style=\"text-align: right;\">\n",
              "      <th></th>\n",
              "      <th>moa</th>\n",
              "    </tr>\n",
              "  </thead>\n",
              "  <tbody>\n",
              "    <tr>\n",
              "      <th>0</th>\n",
              "      <td>None</td>\n",
              "    </tr>\n",
              "    <tr>\n",
              "      <th>1</th>\n",
              "      <td>CAR agonist</td>\n",
              "    </tr>\n",
              "    <tr>\n",
              "      <th>2</th>\n",
              "      <td>ALK inhibitor</td>\n",
              "    </tr>\n",
              "    <tr>\n",
              "      <th>3</th>\n",
              "      <td>Akt inhibitor</td>\n",
              "    </tr>\n",
              "    <tr>\n",
              "      <th>4</th>\n",
              "      <td>BCL inhibitor</td>\n",
              "    </tr>\n",
              "    <tr>\n",
              "      <th>...</th>\n",
              "      <td>...</td>\n",
              "    </tr>\n",
              "    <tr>\n",
              "      <th>653</th>\n",
              "      <td>Telomerase reverse transcriptase expression in...</td>\n",
              "    </tr>\n",
              "    <tr>\n",
              "      <th>654</th>\n",
              "      <td>Gonadotropin releasing factor hormone receptor...</td>\n",
              "    </tr>\n",
              "    <tr>\n",
              "      <th>655</th>\n",
              "      <td>Gonadotropin releasing factor hormone receptor...</td>\n",
              "    </tr>\n",
              "    <tr>\n",
              "      <th>656</th>\n",
              "      <td>Precursor for food preservatives, plasticizers...</td>\n",
              "    </tr>\n",
              "    <tr>\n",
              "      <th>657</th>\n",
              "      <td>Binding of RNA helicase A to the transcription...</td>\n",
              "    </tr>\n",
              "  </tbody>\n",
              "</table>\n",
              "<p>658 rows × 1 columns</p>\n",
              "</div>"
            ],
            "text/plain": [
              "                                                   moa\n",
              "0                                                 None\n",
              "1                                          CAR agonist\n",
              "2                                        ALK inhibitor\n",
              "3                                        Akt inhibitor\n",
              "4                                        BCL inhibitor\n",
              "..                                                 ...\n",
              "653  Telomerase reverse transcriptase expression in...\n",
              "654  Gonadotropin releasing factor hormone receptor...\n",
              "655  Gonadotropin releasing factor hormone receptor...\n",
              "656  Precursor for food preservatives, plasticizers...\n",
              "657  Binding of RNA helicase A to the transcription...\n",
              "\n",
              "[658 rows x 1 columns]"
            ]
          },
          "metadata": {
            "tags": []
          }
        }
      ]
    },
    {
      "cell_type": "code",
      "metadata": {
        "id": "VaUtgmHPeI2o",
        "colab": {
          "base_uri": "https://localhost:8080/",
          "height": 424
        },
        "outputId": "0461acc0-943a-4556-9b23-f9ceede8b4d8"
      },
      "source": [
        "targets = cmap_query.list_cmap_targets(bq_client)\n",
        "display(targets.sort_values('count'))"
      ],
      "execution_count": 8,
      "outputs": [
        {
          "output_type": "display_data",
          "data": {
            "text/html": [
              "<div>\n",
              "<style scoped>\n",
              "    .dataframe tbody tr th:only-of-type {\n",
              "        vertical-align: middle;\n",
              "    }\n",
              "\n",
              "    .dataframe tbody tr th {\n",
              "        vertical-align: top;\n",
              "    }\n",
              "\n",
              "    .dataframe thead th {\n",
              "        text-align: right;\n",
              "    }\n",
              "</style>\n",
              "<table border=\"1\" class=\"dataframe\">\n",
              "  <thead>\n",
              "    <tr style=\"text-align: right;\">\n",
              "      <th></th>\n",
              "      <th>target</th>\n",
              "      <th>count</th>\n",
              "    </tr>\n",
              "  </thead>\n",
              "  <tbody>\n",
              "    <tr>\n",
              "      <th>890</th>\n",
              "      <td>RAB9A</td>\n",
              "      <td>1</td>\n",
              "    </tr>\n",
              "    <tr>\n",
              "      <th>285</th>\n",
              "      <td>SOAT2</td>\n",
              "      <td>1</td>\n",
              "    </tr>\n",
              "    <tr>\n",
              "      <th>284</th>\n",
              "      <td>SOAT1</td>\n",
              "      <td>1</td>\n",
              "    </tr>\n",
              "    <tr>\n",
              "      <th>283</th>\n",
              "      <td>ACACB</td>\n",
              "      <td>1</td>\n",
              "    </tr>\n",
              "    <tr>\n",
              "      <th>282</th>\n",
              "      <td>ACACA</td>\n",
              "      <td>1</td>\n",
              "    </tr>\n",
              "    <tr>\n",
              "      <th>...</th>\n",
              "      <td>...</td>\n",
              "      <td>...</td>\n",
              "    </tr>\n",
              "    <tr>\n",
              "      <th>75</th>\n",
              "      <td>PTGS2</td>\n",
              "      <td>78</td>\n",
              "    </tr>\n",
              "    <tr>\n",
              "      <th>94</th>\n",
              "      <td>HTR2A</td>\n",
              "      <td>79</td>\n",
              "    </tr>\n",
              "    <tr>\n",
              "      <th>141</th>\n",
              "      <td>NR3C1</td>\n",
              "      <td>90</td>\n",
              "    </tr>\n",
              "    <tr>\n",
              "      <th>77</th>\n",
              "      <td>DRD2</td>\n",
              "      <td>95</td>\n",
              "    </tr>\n",
              "    <tr>\n",
              "      <th>0</th>\n",
              "      <td>None</td>\n",
              "      <td>31262</td>\n",
              "    </tr>\n",
              "  </tbody>\n",
              "</table>\n",
              "<p>891 rows × 2 columns</p>\n",
              "</div>"
            ],
            "text/plain": [
              "    target  count\n",
              "890  RAB9A      1\n",
              "285  SOAT2      1\n",
              "284  SOAT1      1\n",
              "283  ACACB      1\n",
              "282  ACACA      1\n",
              "..     ...    ...\n",
              "75   PTGS2     78\n",
              "94   HTR2A     79\n",
              "141  NR3C1     90\n",
              "77    DRD2     95\n",
              "0     None  31262\n",
              "\n",
              "[891 rows x 2 columns]"
            ]
          },
          "metadata": {
            "tags": []
          }
        }
      ]
    },
    {
      "cell_type": "code",
      "metadata": {
        "id": "UrFc4KJKeSpS",
        "colab": {
          "base_uri": "https://localhost:8080/",
          "height": 144
        },
        "outputId": "e7fa4d36-d127-4451-bc17-6c70da5faf86"
      },
      "source": [
        "display(\n",
        "    moas[moas['moa'].str.contains('Glucocorticoid receptor agonist', na=False)]\n",
        ")\n",
        "display(\n",
        "    targets[targets['target'].str.contains('EGFR', na=False)]\n",
        ")"
      ],
      "execution_count": null,
      "outputs": [
        {
          "output_type": "display_data",
          "data": {
            "text/html": [
              "<div>\n",
              "<style scoped>\n",
              "    .dataframe tbody tr th:only-of-type {\n",
              "        vertical-align: middle;\n",
              "    }\n",
              "\n",
              "    .dataframe tbody tr th {\n",
              "        vertical-align: top;\n",
              "    }\n",
              "\n",
              "    .dataframe thead th {\n",
              "        text-align: right;\n",
              "    }\n",
              "</style>\n",
              "<table border=\"1\" class=\"dataframe\">\n",
              "  <thead>\n",
              "    <tr style=\"text-align: right;\">\n",
              "      <th></th>\n",
              "      <th>moa</th>\n",
              "    </tr>\n",
              "  </thead>\n",
              "  <tbody>\n",
              "    <tr>\n",
              "      <th>479</th>\n",
              "      <td>Glucocorticoid receptor agonist</td>\n",
              "    </tr>\n",
              "  </tbody>\n",
              "</table>\n",
              "</div>"
            ],
            "text/plain": [
              "                                 moa\n",
              "479  Glucocorticoid receptor agonist"
            ]
          },
          "metadata": {
            "tags": []
          }
        },
        {
          "output_type": "display_data",
          "data": {
            "text/html": [
              "<div>\n",
              "<style scoped>\n",
              "    .dataframe tbody tr th:only-of-type {\n",
              "        vertical-align: middle;\n",
              "    }\n",
              "\n",
              "    .dataframe tbody tr th {\n",
              "        vertical-align: top;\n",
              "    }\n",
              "\n",
              "    .dataframe thead th {\n",
              "        text-align: right;\n",
              "    }\n",
              "</style>\n",
              "<table border=\"1\" class=\"dataframe\">\n",
              "  <thead>\n",
              "    <tr style=\"text-align: right;\">\n",
              "      <th></th>\n",
              "      <th>target</th>\n",
              "    </tr>\n",
              "  </thead>\n",
              "  <tbody>\n",
              "    <tr>\n",
              "      <th>31</th>\n",
              "      <td>EGFR</td>\n",
              "    </tr>\n",
              "  </tbody>\n",
              "</table>\n",
              "</div>"
            ],
            "text/plain": [
              "   target\n",
              "31   EGFR"
            ]
          },
          "metadata": {
            "tags": []
          }
        }
      ]
    },
    {
      "cell_type": "markdown",
      "metadata": {
        "id": "OIUh2yzkCEvz"
      },
      "source": [
        "# Compound Information Table"
      ]
    },
    {
      "cell_type": "markdown",
      "metadata": {
        "id": "j2JpkD_2DnrV"
      },
      "source": [
        "<div style=\"font-size: 12pt;line-height:20px\">\n",
        "\n",
        "If the desired target or MoA is present, we can then query the compound table to get information about what compounds may relate to that MoA"
      ]
    },
    {
      "cell_type": "code",
      "metadata": {
        "ExecuteTime": {
          "end_time": "2020-10-16T15:10:38.777966Z",
          "start_time": "2020-10-16T15:10:36.594280Z"
        },
        "id": "pi2PFOV7Dnq7",
        "colab": {
          "base_uri": "https://localhost:8080/",
          "height": 363
        },
        "outputId": "7abc62f6-8a03-4067-d62c-90330c2e9f4e"
      },
      "source": [
        "moa = 'Glucocorticoid receptor agonist'\n",
        "#moa = 'EGFR inhibitor'\n",
        "\n",
        "moa_cpinfo = cmap_query.cmap_compounds(client=bq_client,\n",
        "  moa=moa, \n",
        "  #verbose=True,\n",
        ")\n",
        "moa_cpinfo.sample(10)"
      ],
      "execution_count": null,
      "outputs": [
        {
          "output_type": "execute_result",
          "data": {
            "text/html": [
              "<div>\n",
              "<style scoped>\n",
              "    .dataframe tbody tr th:only-of-type {\n",
              "        vertical-align: middle;\n",
              "    }\n",
              "\n",
              "    .dataframe tbody tr th {\n",
              "        vertical-align: top;\n",
              "    }\n",
              "\n",
              "    .dataframe thead th {\n",
              "        text-align: right;\n",
              "    }\n",
              "</style>\n",
              "<table border=\"1\" class=\"dataframe\">\n",
              "  <thead>\n",
              "    <tr style=\"text-align: right;\">\n",
              "      <th></th>\n",
              "      <th>pert_id</th>\n",
              "      <th>cmap_name</th>\n",
              "      <th>target</th>\n",
              "      <th>moa</th>\n",
              "      <th>canonical_smiles</th>\n",
              "      <th>inchi_key</th>\n",
              "      <th>compound_aliases</th>\n",
              "    </tr>\n",
              "  </thead>\n",
              "  <tbody>\n",
              "    <tr>\n",
              "      <th>12</th>\n",
              "      <td>BRD-K39188321</td>\n",
              "      <td>betamethasone</td>\n",
              "      <td>NR3C1</td>\n",
              "      <td>Glucocorticoid receptor agonist</td>\n",
              "      <td>C[C@H]1C[C@H]2[C@@H]3CCC4=CC(=O)C=C[C@]4(C)[C@...</td>\n",
              "      <td>UREBDLICKHMUKA-DVTGEIKXSA-N</td>\n",
              "      <td>None</td>\n",
              "    </tr>\n",
              "    <tr>\n",
              "      <th>53</th>\n",
              "      <td>BRD-K71451869</td>\n",
              "      <td>halcinonide</td>\n",
              "      <td>NR3C1</td>\n",
              "      <td>Glucocorticoid receptor agonist</td>\n",
              "      <td>CC1(C)O[C@@H]2C[C@H]3[C@H]4CCC5=CC(=O)CC[C@]5(...</td>\n",
              "      <td>MUQNGPZZQDCDFT-VDJZZIFASA-N</td>\n",
              "      <td>None</td>\n",
              "    </tr>\n",
              "    <tr>\n",
              "      <th>67</th>\n",
              "      <td>BRD-K13688115</td>\n",
              "      <td>medrysone</td>\n",
              "      <td>NR3C1</td>\n",
              "      <td>Glucocorticoid receptor agonist</td>\n",
              "      <td>C[C@H]1C[C@H]2[C@H]3CC[C@H](C(C)=O)[C@@]3(C)C[...</td>\n",
              "      <td>GZENKSODFLBBHQ-WXWRWIGRSA-N</td>\n",
              "      <td>None</td>\n",
              "    </tr>\n",
              "    <tr>\n",
              "      <th>73</th>\n",
              "      <td>BRD-K87990216</td>\n",
              "      <td>piretanide</td>\n",
              "      <td>SLC12A2</td>\n",
              "      <td>Glucocorticoid receptor agonist</td>\n",
              "      <td>NS(=O)(=O)c1cc(cc(N2CCCC2)c1Oc1ccccc1)C(O)=O</td>\n",
              "      <td>UJEWTUDSLQGTOA-UHFFFAOYSA-N</td>\n",
              "      <td>None</td>\n",
              "    </tr>\n",
              "    <tr>\n",
              "      <th>58</th>\n",
              "      <td>BRD-K73978287</td>\n",
              "      <td>hydrocortisone</td>\n",
              "      <td>NR3C1</td>\n",
              "      <td>Glucocorticoid receptor agonist</td>\n",
              "      <td>C[C@@]12C[C@H](O)[C@H]3[C@@H](CCC4=CC(=O)CC[C@...</td>\n",
              "      <td>VWQWXZAWFPZJDA-VDINROJTSA-N</td>\n",
              "      <td>None</td>\n",
              "    </tr>\n",
              "    <tr>\n",
              "      <th>9</th>\n",
              "      <td>BRD-K76747609</td>\n",
              "      <td>beclometasone</td>\n",
              "      <td>NR3C1</td>\n",
              "      <td>Glucocorticoid receptor agonist</td>\n",
              "      <td>CCC(=O)OCC(=O)[C@@]1(OC(=O)CC)[C@@H](C)C[C@H]2...</td>\n",
              "      <td>KUVIULQEHSCUHY-YFYIJNNCSA-N</td>\n",
              "      <td>None</td>\n",
              "    </tr>\n",
              "    <tr>\n",
              "      <th>72</th>\n",
              "      <td>BRD-K87990216</td>\n",
              "      <td>piretanide</td>\n",
              "      <td>SLC12A1</td>\n",
              "      <td>Glucocorticoid receptor agonist</td>\n",
              "      <td>NS(=O)(=O)c1cc(cc(N2CCCC2)c1Oc1ccccc1)C(O)=O</td>\n",
              "      <td>UJEWTUDSLQGTOA-UHFFFAOYSA-N</td>\n",
              "      <td>None</td>\n",
              "    </tr>\n",
              "    <tr>\n",
              "      <th>1</th>\n",
              "      <td>BRD-K60640630</td>\n",
              "      <td>mometasone</td>\n",
              "      <td>NR3C1</td>\n",
              "      <td>Glucocorticoid receptor agonist</td>\n",
              "      <td>C[C@@H]1C[C@H]2[C@@H]3CCC4=CC(=O)C=C[C@]4(C)[C...</td>\n",
              "      <td>WOFMFGQZHJDGCX-ZULDAHANSA-N</td>\n",
              "      <td>None</td>\n",
              "    </tr>\n",
              "    <tr>\n",
              "      <th>5</th>\n",
              "      <td>BRD-K45149020</td>\n",
              "      <td>amcinonide</td>\n",
              "      <td>NR3C1</td>\n",
              "      <td>Glucocorticoid receptor agonist</td>\n",
              "      <td>CC(=O)OCC(=O)[C@@]12OC3(CCCC3)O[C@@H]1C[C@H]1[...</td>\n",
              "      <td>ILKJAFIWWBXGDU-KNPIAJNZSA-N</td>\n",
              "      <td>None</td>\n",
              "    </tr>\n",
              "    <tr>\n",
              "      <th>78</th>\n",
              "      <td>BRD-A62525898</td>\n",
              "      <td>prednisone</td>\n",
              "      <td>NR3C1</td>\n",
              "      <td>Glucocorticoid receptor agonist</td>\n",
              "      <td>C[C@]12CC(=O)C3C(CCC4=CC(=O)C=C[C@]34C)C1CC[C@...</td>\n",
              "      <td>XOFYZVNMUHMLCC-BDQMTFAOSA-N</td>\n",
              "      <td>None</td>\n",
              "    </tr>\n",
              "  </tbody>\n",
              "</table>\n",
              "</div>"
            ],
            "text/plain": [
              "          pert_id       cmap_name  ...                    inchi_key compound_aliases\n",
              "12  BRD-K39188321   betamethasone  ...  UREBDLICKHMUKA-DVTGEIKXSA-N             None\n",
              "53  BRD-K71451869     halcinonide  ...  MUQNGPZZQDCDFT-VDJZZIFASA-N             None\n",
              "67  BRD-K13688115       medrysone  ...  GZENKSODFLBBHQ-WXWRWIGRSA-N             None\n",
              "73  BRD-K87990216      piretanide  ...  UJEWTUDSLQGTOA-UHFFFAOYSA-N             None\n",
              "58  BRD-K73978287  hydrocortisone  ...  VWQWXZAWFPZJDA-VDINROJTSA-N             None\n",
              "9   BRD-K76747609   beclometasone  ...  KUVIULQEHSCUHY-YFYIJNNCSA-N             None\n",
              "72  BRD-K87990216      piretanide  ...  UJEWTUDSLQGTOA-UHFFFAOYSA-N             None\n",
              "1   BRD-K60640630      mometasone  ...  WOFMFGQZHJDGCX-ZULDAHANSA-N             None\n",
              "5   BRD-K45149020      amcinonide  ...  ILKJAFIWWBXGDU-KNPIAJNZSA-N             None\n",
              "78  BRD-A62525898      prednisone  ...  XOFYZVNMUHMLCC-BDQMTFAOSA-N             None\n",
              "\n",
              "[10 rows x 7 columns]"
            ]
          },
          "metadata": {
            "tags": []
          },
          "execution_count": 85
        }
      ]
    },
    {
      "cell_type": "markdown",
      "metadata": {
        "id": "27G0ZiKyDnrd"
      },
      "source": [
        "<div style=\"font-size: 12pt;line-height:20px\">\n",
        "\n",
        "Lets take the first 10 compounds and see how many signatures are available for those compounds. We can pass a list of compounds to the **cmap_sig function**, which then queries the dataset for compounds that match."
      ]
    },
    {
      "cell_type": "code",
      "metadata": {
        "id": "v0HBkU2EnssJ",
        "colab": {
          "base_uri": "https://localhost:8080/"
        },
        "outputId": "76fe4727-abf9-4a0b-e6b2-445c583cb33f"
      },
      "source": [
        "moa_cps = moa_cpinfo.cmap_name.unique()\n",
        "moa_cps[0:10]"
      ],
      "execution_count": null,
      "outputs": [
        {
          "output_type": "execute_result",
          "data": {
            "text/plain": [
              "array(['dexamethasone', 'mometasone', 'flumetasone', 'alclometasone',\n",
              "       'amcinonide', 'beclometasone', 'beclomethasone-dipropionate',\n",
              "       'betamethasone', 'betamethasone-acetate', 'betamethasone-valerate'],\n",
              "      dtype=object)"
            ]
          },
          "metadata": {
            "tags": []
          },
          "execution_count": 14
        }
      ]
    },
    {
      "cell_type": "markdown",
      "metadata": {
        "id": "M4HvZ56L9ScL"
      },
      "source": [
        "# Cell Line information"
      ]
    },
    {
      "cell_type": "code",
      "metadata": {
        "id": "jdTO3msOS9uC",
        "colab": {
          "base_uri": "https://localhost:8080/",
          "height": 648
        },
        "outputId": "96f80b3a-7e14-49e3-fb4e-4ca12ff081d5"
      },
      "source": [
        "core_cell_lines = ['A375', 'A549', 'HCC515', 'HEPG2', 'MCF7', 'PC3', 'VCAP', 'HT29', 'HA1E']\n",
        "\n",
        "core_cellinfo = cmap_query.cmap_cell(bq_client, \n",
        "  cell_iname=core_cell_lines, \n",
        "  verbose=True,\n",
        ")\n",
        "core_cellinfo.head(10)"
      ],
      "execution_count": null,
      "outputs": [
        {
          "output_type": "stream",
          "text": [
            "Table: \n",
            " cmap-big-table.cmap_lincs_public_views.cellinfo\n",
            "Query:\n",
            " SELECT * FROM cmap-big-table.cmap_lincs_public_views.cellinfo WHERE cell_iname in UNNEST(['A375', 'A549', 'HCC515', 'HEPG2', 'MCF7', 'PC3', 'VCAP', 'HT29', 'HA1E'])\n"
          ],
          "name": "stdout"
        },
        {
          "output_type": "execute_result",
          "data": {
            "text/html": [
              "<div>\n",
              "<style scoped>\n",
              "    .dataframe tbody tr th:only-of-type {\n",
              "        vertical-align: middle;\n",
              "    }\n",
              "\n",
              "    .dataframe tbody tr th {\n",
              "        vertical-align: top;\n",
              "    }\n",
              "\n",
              "    .dataframe thead th {\n",
              "        text-align: right;\n",
              "    }\n",
              "</style>\n",
              "<table border=\"1\" class=\"dataframe\">\n",
              "  <thead>\n",
              "    <tr style=\"text-align: right;\">\n",
              "      <th></th>\n",
              "      <th>cell_iname</th>\n",
              "      <th>cellosaurus_id</th>\n",
              "      <th>donor_age</th>\n",
              "      <th>donor_age_death</th>\n",
              "      <th>donor_disease_age_onset</th>\n",
              "      <th>doubling_time</th>\n",
              "      <th>growth_medium</th>\n",
              "      <th>provider_catalog_id</th>\n",
              "      <th>feature_id</th>\n",
              "      <th>cell_type</th>\n",
              "      <th>donor_ethnicity</th>\n",
              "      <th>donor_sex</th>\n",
              "      <th>donor_tumor_phase</th>\n",
              "      <th>cell_lineage</th>\n",
              "      <th>primary_disease</th>\n",
              "      <th>subtype</th>\n",
              "      <th>provider_name</th>\n",
              "      <th>growth_pattern</th>\n",
              "      <th>ccle_name</th>\n",
              "      <th>cell_alias</th>\n",
              "    </tr>\n",
              "  </thead>\n",
              "  <tbody>\n",
              "    <tr>\n",
              "      <th>0</th>\n",
              "      <td>HCC515</td>\n",
              "      <td>CVCL_5136</td>\n",
              "      <td>None</td>\n",
              "      <td>None</td>\n",
              "      <td>None</td>\n",
              "      <td>None</td>\n",
              "      <td>None</td>\n",
              "      <td>None</td>\n",
              "      <td>None</td>\n",
              "      <td>tumor</td>\n",
              "      <td>Unknown</td>\n",
              "      <td>F</td>\n",
              "      <td>Unknown</td>\n",
              "      <td>lung</td>\n",
              "      <td>lung cancer</td>\n",
              "      <td>carcinoma</td>\n",
              "      <td>None</td>\n",
              "      <td>adherent</td>\n",
              "      <td>HCC515_LUNG</td>\n",
              "      <td>HCC0515</td>\n",
              "    </tr>\n",
              "    <tr>\n",
              "      <th>1</th>\n",
              "      <td>HA1E</td>\n",
              "      <td>None</td>\n",
              "      <td>None</td>\n",
              "      <td>None</td>\n",
              "      <td>None</td>\n",
              "      <td>60</td>\n",
              "      <td>MEM-ALPHA (Invitrogen A1049001) supplemented w...</td>\n",
              "      <td>None</td>\n",
              "      <td>None</td>\n",
              "      <td>normal</td>\n",
              "      <td>Unknown</td>\n",
              "      <td>Unknown</td>\n",
              "      <td>Unknown</td>\n",
              "      <td>kidney</td>\n",
              "      <td>normal kidney sample</td>\n",
              "      <td>normal kidney sample</td>\n",
              "      <td>None</td>\n",
              "      <td>unknown</td>\n",
              "      <td>HA1E_KIDNEY</td>\n",
              "      <td>None</td>\n",
              "    </tr>\n",
              "    <tr>\n",
              "      <th>2</th>\n",
              "      <td>A549</td>\n",
              "      <td>CVCL_0023</td>\n",
              "      <td>58</td>\n",
              "      <td>None</td>\n",
              "      <td>None</td>\n",
              "      <td>48</td>\n",
              "      <td>F-12K ATCC catalog # 3-24</td>\n",
              "      <td>CCL-185</td>\n",
              "      <td>c-4</td>\n",
              "      <td>tumor</td>\n",
              "      <td>Caucasian</td>\n",
              "      <td>M</td>\n",
              "      <td>Primary</td>\n",
              "      <td>lung</td>\n",
              "      <td>lung cancer</td>\n",
              "      <td>non small cell carcinoma</td>\n",
              "      <td>ATCC</td>\n",
              "      <td>adherent</td>\n",
              "      <td>A549_LUNG</td>\n",
              "      <td>A 549</td>\n",
              "    </tr>\n",
              "    <tr>\n",
              "      <th>3</th>\n",
              "      <td>A375</td>\n",
              "      <td>CVCL_0132</td>\n",
              "      <td>54</td>\n",
              "      <td>None</td>\n",
              "      <td>None</td>\n",
              "      <td>36</td>\n",
              "      <td>DMEM Invitrogen catalog # 11995-65</td>\n",
              "      <td>CRL-1619</td>\n",
              "      <td>c-127</td>\n",
              "      <td>tumor</td>\n",
              "      <td>Unknown</td>\n",
              "      <td>F</td>\n",
              "      <td>Metastatic</td>\n",
              "      <td>skin</td>\n",
              "      <td>skin cancer</td>\n",
              "      <td>melanoma</td>\n",
              "      <td>ATCC</td>\n",
              "      <td>adherent</td>\n",
              "      <td>A375_SKIN</td>\n",
              "      <td>A 375|A-375</td>\n",
              "    </tr>\n",
              "    <tr>\n",
              "      <th>4</th>\n",
              "      <td>HT29</td>\n",
              "      <td>CVCL_0320</td>\n",
              "      <td>44</td>\n",
              "      <td>None</td>\n",
              "      <td>None</td>\n",
              "      <td>36</td>\n",
              "      <td>McCoy's 5A Invitrogen catalog # 166-82</td>\n",
              "      <td>HTB-38</td>\n",
              "      <td>c-272</td>\n",
              "      <td>tumor</td>\n",
              "      <td>Caucasian</td>\n",
              "      <td>F</td>\n",
              "      <td>Primary</td>\n",
              "      <td>large_intestine</td>\n",
              "      <td>colon cancer</td>\n",
              "      <td>adenocarcinoma</td>\n",
              "      <td>ATCC</td>\n",
              "      <td>adherent</td>\n",
              "      <td>HT29_LARGE_INTESTINE</td>\n",
              "      <td>HT 29</td>\n",
              "    </tr>\n",
              "    <tr>\n",
              "      <th>5</th>\n",
              "      <td>HEPG2</td>\n",
              "      <td>CVCL_0027</td>\n",
              "      <td>15</td>\n",
              "      <td>None</td>\n",
              "      <td>None</td>\n",
              "      <td>84</td>\n",
              "      <td>EMEM ATCC catalog # 3-23</td>\n",
              "      <td>HB-8065</td>\n",
              "      <td>None</td>\n",
              "      <td>tumor</td>\n",
              "      <td>Caucasian</td>\n",
              "      <td>M</td>\n",
              "      <td>Primary</td>\n",
              "      <td>liver</td>\n",
              "      <td>liver cancer</td>\n",
              "      <td>carcinoma</td>\n",
              "      <td>ATCC</td>\n",
              "      <td>adherent</td>\n",
              "      <td>HEPG2_LIVER</td>\n",
              "      <td>Hep G2|HEP-G2</td>\n",
              "    </tr>\n",
              "    <tr>\n",
              "      <th>6</th>\n",
              "      <td>MCF7</td>\n",
              "      <td>CVCL_0031</td>\n",
              "      <td>40</td>\n",
              "      <td>None</td>\n",
              "      <td>None</td>\n",
              "      <td>72</td>\n",
              "      <td>EMEM ATCC catalog # 3-23</td>\n",
              "      <td>HTB-22</td>\n",
              "      <td>c-438</td>\n",
              "      <td>tumor</td>\n",
              "      <td>Caucasian</td>\n",
              "      <td>F</td>\n",
              "      <td>Metastatic</td>\n",
              "      <td>breast</td>\n",
              "      <td>breast cancer</td>\n",
              "      <td>adenocarcinoma</td>\n",
              "      <td>ATCC</td>\n",
              "      <td>adherent</td>\n",
              "      <td>MCF7_BREAST</td>\n",
              "      <td>IBMF-7</td>\n",
              "    </tr>\n",
              "    <tr>\n",
              "      <th>7</th>\n",
              "      <td>PC3</td>\n",
              "      <td>CVCL_0035</td>\n",
              "      <td>62</td>\n",
              "      <td>None</td>\n",
              "      <td>None</td>\n",
              "      <td>72</td>\n",
              "      <td>F-12K ATCC catalog # 3-24</td>\n",
              "      <td>CRL-1435</td>\n",
              "      <td>c-214</td>\n",
              "      <td>tumor</td>\n",
              "      <td>Caucasian</td>\n",
              "      <td>M</td>\n",
              "      <td>Metastatic</td>\n",
              "      <td>prostate</td>\n",
              "      <td>prostate cancer</td>\n",
              "      <td>adenocarcinoma</td>\n",
              "      <td>ATCC</td>\n",
              "      <td>mix</td>\n",
              "      <td>PC3_PROSTATE</td>\n",
              "      <td>PC.3|PC-3</td>\n",
              "    </tr>\n",
              "    <tr>\n",
              "      <th>8</th>\n",
              "      <td>VCAP</td>\n",
              "      <td>CVCL_2235</td>\n",
              "      <td>None</td>\n",
              "      <td>None</td>\n",
              "      <td>None</td>\n",
              "      <td>220</td>\n",
              "      <td>DMEM ATCC catalog # 3-22</td>\n",
              "      <td>None</td>\n",
              "      <td>None</td>\n",
              "      <td>tumor</td>\n",
              "      <td>Caucasian</td>\n",
              "      <td>M</td>\n",
              "      <td>Metastatic</td>\n",
              "      <td>prostate</td>\n",
              "      <td>prostate cancer</td>\n",
              "      <td>adenocarcinoma</td>\n",
              "      <td>ATCC</td>\n",
              "      <td>adherent</td>\n",
              "      <td>VCAP_PROSTATE</td>\n",
              "      <td>Vcap</td>\n",
              "    </tr>\n",
              "  </tbody>\n",
              "</table>\n",
              "</div>"
            ],
            "text/plain": [
              "  cell_iname cellosaurus_id  ...             ccle_name     cell_alias\n",
              "0     HCC515      CVCL_5136  ...           HCC515_LUNG        HCC0515\n",
              "1       HA1E           None  ...           HA1E_KIDNEY           None\n",
              "2       A549      CVCL_0023  ...             A549_LUNG          A 549\n",
              "3       A375      CVCL_0132  ...             A375_SKIN    A 375|A-375\n",
              "4       HT29      CVCL_0320  ...  HT29_LARGE_INTESTINE          HT 29\n",
              "5      HEPG2      CVCL_0027  ...           HEPG2_LIVER  Hep G2|HEP-G2\n",
              "6       MCF7      CVCL_0031  ...           MCF7_BREAST         IBMF-7\n",
              "7        PC3      CVCL_0035  ...          PC3_PROSTATE      PC.3|PC-3\n",
              "8       VCAP      CVCL_2235  ...         VCAP_PROSTATE           Vcap\n",
              "\n",
              "[9 rows x 20 columns]"
            ]
          },
          "metadata": {
            "tags": []
          },
          "execution_count": 81
        }
      ]
    },
    {
      "cell_type": "markdown",
      "metadata": {
        "id": "trvLt0FV9XTv"
      },
      "source": [
        "# Query Siginfo "
      ]
    },
    {
      "cell_type": "markdown",
      "metadata": {
        "id": "qyzjNqtlDnr0"
      },
      "source": [
        "<div style=\"font-size: 12pt;line-height:20px\">\n",
        "\n",
        "\n",
        "The siginfo file provides information on the conditions for each experiment such as compound, dose, timepoint, cell line, and more.\n",
        "\n",
        "The table also includes information regarding the signal strength and replicate correlation of the compound. The `tas` contains the signatures **Transcriptional Activity Score (TAS)** which is an aggregate measure of strength and reproducibilty.  [More information about signature quality metrics can be found on Connectopedia](https://clue.io/connectopedia/signature_quality_metrics)"
      ]
    },
    {
      "cell_type": "code",
      "metadata": {
        "id": "E-23XFmkjXAW",
        "colab": {
          "base_uri": "https://localhost:8080/",
          "height": 383
        },
        "outputId": "c48d9b83-0f6f-4982-e1e9-847e3d6eda90"
      },
      "source": [
        "sample_cell_lines = list(core_cellinfo.cell_iname.unique()) #core_cell_lines\n",
        "\n",
        "sample_compounds = list(moa_cps[0:10])\n",
        "print(\"Compounds: {}\".format(sample_compounds))\n",
        "print(\"Cell Lines: {}\".format(sample_cell_lines))\n",
        "\n",
        "siginfo_sample = cmap_query.cmap_sig(     #Query the siginfo table\n",
        "    bq_client, \n",
        "    cmap_name = sample_compounds,\n",
        "    cell_iname = sample_cell_lines,\n",
        "    return_fields = 'all'\n",
        ")\n",
        "\n",
        "siginfo_sample_filtered = siginfo_sample.loc[     #Filter returned table \n",
        "    (siginfo_sample.nsample >= 3) &\n",
        "    (siginfo_sample.pert_dose >= 10) &\n",
        "    (siginfo_sample.pert_itime.eq('24 h'))\n",
        "]\n",
        "\n",
        "\n",
        "siginfo_sample_filtered = siginfo_sample_filtered.merge(core_cellinfo, on='cell_iname') #join with cellinfo table to get cell lineage information\n",
        "siginfo_sample_filtered.sample(5)"
      ],
      "execution_count": null,
      "outputs": [
        {
          "output_type": "stream",
          "text": [
            "Compounds: ['dexamethasone', 'mometasone', 'flumetasone', 'alclometasone', 'amcinonide', 'beclometasone', 'beclomethasone-dipropionate', 'betamethasone', 'betamethasone-acetate', 'betamethasone-valerate']\n",
            "Cell Lines: ['HCC515', 'HA1E', 'A549', 'A375', 'HT29', 'HEPG2', 'MCF7', 'PC3', 'VCAP']\n"
          ],
          "name": "stdout"
        },
        {
          "output_type": "execute_result",
          "data": {
            "text/html": [
              "<div>\n",
              "<style scoped>\n",
              "    .dataframe tbody tr th:only-of-type {\n",
              "        vertical-align: middle;\n",
              "    }\n",
              "\n",
              "    .dataframe tbody tr th {\n",
              "        vertical-align: top;\n",
              "    }\n",
              "\n",
              "    .dataframe thead th {\n",
              "        text-align: right;\n",
              "    }\n",
              "</style>\n",
              "<table border=\"1\" class=\"dataframe\">\n",
              "  <thead>\n",
              "    <tr style=\"text-align: right;\">\n",
              "      <th></th>\n",
              "      <th>bead_batch</th>\n",
              "      <th>nearest_dose</th>\n",
              "      <th>pert_dose</th>\n",
              "      <th>pert_dose_unit</th>\n",
              "      <th>pert_idose</th>\n",
              "      <th>pert_itime</th>\n",
              "      <th>pert_time</th>\n",
              "      <th>pert_time_unit</th>\n",
              "      <th>cell_mfc_name</th>\n",
              "      <th>pert_mfc_id</th>\n",
              "      <th>nsample</th>\n",
              "      <th>cc_q75</th>\n",
              "      <th>ss_ngene</th>\n",
              "      <th>tas</th>\n",
              "      <th>pct_self_rank_q25</th>\n",
              "      <th>wt</th>\n",
              "      <th>median_recall_rank_spearman</th>\n",
              "      <th>median_recall_rank_wtcs_50</th>\n",
              "      <th>median_recall_score_spearman</th>\n",
              "      <th>median_recall_score_wtcs_50</th>\n",
              "      <th>batch_effect_tstat</th>\n",
              "      <th>batch_effect_tstat_pct</th>\n",
              "      <th>is_hiq</th>\n",
              "      <th>qc_pass</th>\n",
              "      <th>pert_id</th>\n",
              "      <th>sig_id</th>\n",
              "      <th>pert_type</th>\n",
              "      <th>cell_iname</th>\n",
              "      <th>id</th>\n",
              "      <th>det_wells</th>\n",
              "      <th>det_plates</th>\n",
              "      <th>distil_ids</th>\n",
              "      <th>build_name</th>\n",
              "      <th>project_code</th>\n",
              "      <th>cmap_name</th>\n",
              "      <th>cellosaurus_id</th>\n",
              "      <th>donor_age</th>\n",
              "      <th>donor_age_death</th>\n",
              "      <th>donor_disease_age_onset</th>\n",
              "      <th>doubling_time</th>\n",
              "      <th>growth_medium</th>\n",
              "      <th>provider_catalog_id</th>\n",
              "      <th>feature_id</th>\n",
              "      <th>cell_type</th>\n",
              "      <th>donor_ethnicity</th>\n",
              "      <th>donor_sex</th>\n",
              "      <th>donor_tumor_phase</th>\n",
              "      <th>cell_lineage</th>\n",
              "      <th>primary_disease</th>\n",
              "      <th>subtype</th>\n",
              "      <th>provider_name</th>\n",
              "      <th>growth_pattern</th>\n",
              "      <th>ccle_name</th>\n",
              "      <th>cell_alias</th>\n",
              "    </tr>\n",
              "  </thead>\n",
              "  <tbody>\n",
              "    <tr>\n",
              "      <th>89</th>\n",
              "      <td>b3</td>\n",
              "      <td>10.0</td>\n",
              "      <td>10.0</td>\n",
              "      <td>uM</td>\n",
              "      <td>10 uM</td>\n",
              "      <td>24 h</td>\n",
              "      <td>24.0</td>\n",
              "      <td>h</td>\n",
              "      <td>PC3</td>\n",
              "      <td>BRD-K61496577</td>\n",
              "      <td>5</td>\n",
              "      <td>0.13</td>\n",
              "      <td>220</td>\n",
              "      <td>0.171007</td>\n",
              "      <td>5.399570</td>\n",
              "      <td>\"\"</td>\n",
              "      <td>15.48170</td>\n",
              "      <td>5.509010</td>\n",
              "      <td>0.063123</td>\n",
              "      <td>0.411144</td>\n",
              "      <td>25.09</td>\n",
              "      <td>87.7692</td>\n",
              "      <td>0</td>\n",
              "      <td>0</td>\n",
              "      <td>BRD-K61496577</td>\n",
              "      <td>CPC003_PC3_24H:BRD-K61496577-001-03-8:10</td>\n",
              "      <td>trt_cp</td>\n",
              "      <td>PC3</td>\n",
              "      <td>None</td>\n",
              "      <td>L09</td>\n",
              "      <td>CPC003_PC3_24H_X1_B3_DUO52HI53LO|CPC003_PC3_24...</td>\n",
              "      <td>CPC003_PC3_24H_X1_B3_DUO52HI53LO:L09|CPC003_PC...</td>\n",
              "      <td>None</td>\n",
              "      <td>CPC</td>\n",
              "      <td>flumetasone</td>\n",
              "      <td>CVCL_0035</td>\n",
              "      <td>62</td>\n",
              "      <td>None</td>\n",
              "      <td>None</td>\n",
              "      <td>72</td>\n",
              "      <td>F-12K ATCC catalog # 3-24</td>\n",
              "      <td>CRL-1435</td>\n",
              "      <td>c-214</td>\n",
              "      <td>tumor</td>\n",
              "      <td>Caucasian</td>\n",
              "      <td>M</td>\n",
              "      <td>Metastatic</td>\n",
              "      <td>prostate</td>\n",
              "      <td>prostate cancer</td>\n",
              "      <td>adenocarcinoma</td>\n",
              "      <td>ATCC</td>\n",
              "      <td>mix</td>\n",
              "      <td>PC3_PROSTATE</td>\n",
              "      <td>PC.3|PC-3</td>\n",
              "    </tr>\n",
              "    <tr>\n",
              "      <th>112</th>\n",
              "      <td>b3</td>\n",
              "      <td>10.0</td>\n",
              "      <td>10.0</td>\n",
              "      <td>uM</td>\n",
              "      <td>10 uM</td>\n",
              "      <td>24 h</td>\n",
              "      <td>24.0</td>\n",
              "      <td>h</td>\n",
              "      <td>HT29</td>\n",
              "      <td>BRD-A35108200</td>\n",
              "      <td>4</td>\n",
              "      <td>0.20</td>\n",
              "      <td>70</td>\n",
              "      <td>0.119645</td>\n",
              "      <td>5.483210</td>\n",
              "      <td>\"\"</td>\n",
              "      <td>10.35870</td>\n",
              "      <td>11.993400</td>\n",
              "      <td>0.134203</td>\n",
              "      <td>0.365652</td>\n",
              "      <td>9.22</td>\n",
              "      <td>38.1281</td>\n",
              "      <td>0</td>\n",
              "      <td>1</td>\n",
              "      <td>BRD-A35108200</td>\n",
              "      <td>CPC006_HT29_24H:BRD-A35108200-001-04-7:10</td>\n",
              "      <td>trt_cp</td>\n",
              "      <td>HT29</td>\n",
              "      <td>None</td>\n",
              "      <td>F09</td>\n",
              "      <td>CPC006_HT29_24H_X1_B3_DUO52HI53LO|CPC006_HT29_...</td>\n",
              "      <td>CPC006_HT29_24H_X1_B3_DUO52HI53LO:F09|CPC006_H...</td>\n",
              "      <td>None</td>\n",
              "      <td>CPC</td>\n",
              "      <td>dexamethasone</td>\n",
              "      <td>CVCL_0320</td>\n",
              "      <td>44</td>\n",
              "      <td>None</td>\n",
              "      <td>None</td>\n",
              "      <td>36</td>\n",
              "      <td>McCoy's 5A Invitrogen catalog # 166-82</td>\n",
              "      <td>HTB-38</td>\n",
              "      <td>c-272</td>\n",
              "      <td>tumor</td>\n",
              "      <td>Caucasian</td>\n",
              "      <td>F</td>\n",
              "      <td>Primary</td>\n",
              "      <td>large_intestine</td>\n",
              "      <td>colon cancer</td>\n",
              "      <td>adenocarcinoma</td>\n",
              "      <td>ATCC</td>\n",
              "      <td>adherent</td>\n",
              "      <td>HT29_LARGE_INTESTINE</td>\n",
              "      <td>HT 29</td>\n",
              "    </tr>\n",
              "    <tr>\n",
              "      <th>1</th>\n",
              "      <td>b3</td>\n",
              "      <td>10.0</td>\n",
              "      <td>10.0</td>\n",
              "      <td>uM</td>\n",
              "      <td>10 uM</td>\n",
              "      <td>24 h</td>\n",
              "      <td>24.0</td>\n",
              "      <td>h</td>\n",
              "      <td>A375</td>\n",
              "      <td>BRD-A69951442</td>\n",
              "      <td>5</td>\n",
              "      <td>0.35</td>\n",
              "      <td>198</td>\n",
              "      <td>0.266193</td>\n",
              "      <td>0.169972</td>\n",
              "      <td>\"\"</td>\n",
              "      <td>3.33683</td>\n",
              "      <td>0.908281</td>\n",
              "      <td>0.266865</td>\n",
              "      <td>0.532617</td>\n",
              "      <td>13.76</td>\n",
              "      <td>60.3503</td>\n",
              "      <td>1</td>\n",
              "      <td>1</td>\n",
              "      <td>BRD-A69951442</td>\n",
              "      <td>CPC006_A375_24H:BRD-A69951442-001-01-3:10</td>\n",
              "      <td>trt_cp</td>\n",
              "      <td>A375</td>\n",
              "      <td>None</td>\n",
              "      <td>O03</td>\n",
              "      <td>CPC006_A375_24H_X1_B3_DUO52HI53LO|CPC006_A375_...</td>\n",
              "      <td>CPC006_A375_24H_X1_B3_DUO52HI53LO:O03|CPC006_A...</td>\n",
              "      <td>None</td>\n",
              "      <td>CPC</td>\n",
              "      <td>dexamethasone</td>\n",
              "      <td>CVCL_0132</td>\n",
              "      <td>54</td>\n",
              "      <td>None</td>\n",
              "      <td>None</td>\n",
              "      <td>36</td>\n",
              "      <td>DMEM Invitrogen catalog # 11995-65</td>\n",
              "      <td>CRL-1619</td>\n",
              "      <td>c-127</td>\n",
              "      <td>tumor</td>\n",
              "      <td>Unknown</td>\n",
              "      <td>F</td>\n",
              "      <td>Metastatic</td>\n",
              "      <td>skin</td>\n",
              "      <td>skin cancer</td>\n",
              "      <td>melanoma</td>\n",
              "      <td>ATCC</td>\n",
              "      <td>adherent</td>\n",
              "      <td>A375_SKIN</td>\n",
              "      <td>A 375|A-375</td>\n",
              "    </tr>\n",
              "    <tr>\n",
              "      <th>66</th>\n",
              "      <td>b4</td>\n",
              "      <td>10.0</td>\n",
              "      <td>10.0</td>\n",
              "      <td>uM</td>\n",
              "      <td>10 uM</td>\n",
              "      <td>24 h</td>\n",
              "      <td>24.0</td>\n",
              "      <td>h</td>\n",
              "      <td>MCF7</td>\n",
              "      <td>BRD-A92177080</td>\n",
              "      <td>5</td>\n",
              "      <td>0.16</td>\n",
              "      <td>99</td>\n",
              "      <td>0.127265</td>\n",
              "      <td>10.940900</td>\n",
              "      <td>\"\"</td>\n",
              "      <td>37.89950</td>\n",
              "      <td>15.401000</td>\n",
              "      <td>0.038437</td>\n",
              "      <td>0.395826</td>\n",
              "      <td>24.78</td>\n",
              "      <td>87.3672</td>\n",
              "      <td>0</td>\n",
              "      <td>1</td>\n",
              "      <td>BRD-A92177080</td>\n",
              "      <td>CPC015_MCF7_24H:BRD-A92177080-001-01-3:10</td>\n",
              "      <td>trt_cp</td>\n",
              "      <td>MCF7</td>\n",
              "      <td>None</td>\n",
              "      <td>B09</td>\n",
              "      <td>CPC015_MCF7_24H_X1_B4_DUO52HI53LO|CPC015_MCF7_...</td>\n",
              "      <td>CPC015_MCF7_24H_X1_B4_DUO52HI53LO:B09|CPC015_M...</td>\n",
              "      <td>None</td>\n",
              "      <td>CPC</td>\n",
              "      <td>betamethasone-acetate</td>\n",
              "      <td>CVCL_0031</td>\n",
              "      <td>40</td>\n",
              "      <td>None</td>\n",
              "      <td>None</td>\n",
              "      <td>72</td>\n",
              "      <td>EMEM ATCC catalog # 3-23</td>\n",
              "      <td>HTB-22</td>\n",
              "      <td>c-438</td>\n",
              "      <td>tumor</td>\n",
              "      <td>Caucasian</td>\n",
              "      <td>F</td>\n",
              "      <td>Metastatic</td>\n",
              "      <td>breast</td>\n",
              "      <td>breast cancer</td>\n",
              "      <td>adenocarcinoma</td>\n",
              "      <td>ATCC</td>\n",
              "      <td>adherent</td>\n",
              "      <td>MCF7_BREAST</td>\n",
              "      <td>IBMF-7</td>\n",
              "    </tr>\n",
              "    <tr>\n",
              "      <th>58</th>\n",
              "      <td>b4</td>\n",
              "      <td>10.0</td>\n",
              "      <td>10.0</td>\n",
              "      <td>uM</td>\n",
              "      <td>10 uM</td>\n",
              "      <td>24 h</td>\n",
              "      <td>24.0</td>\n",
              "      <td>h</td>\n",
              "      <td>MCF7</td>\n",
              "      <td>BRD-A90131694</td>\n",
              "      <td>5</td>\n",
              "      <td>0.07</td>\n",
              "      <td>100</td>\n",
              "      <td>0.084602</td>\n",
              "      <td>27.133500</td>\n",
              "      <td>\"\"</td>\n",
              "      <td>38.93730</td>\n",
              "      <td>29.240400</td>\n",
              "      <td>0.043602</td>\n",
              "      <td>0.279774</td>\n",
              "      <td>24.78</td>\n",
              "      <td>87.3672</td>\n",
              "      <td>0</td>\n",
              "      <td>1</td>\n",
              "      <td>BRD-A90131694</td>\n",
              "      <td>CPC015_MCF7_24H:BRD-A90131694-001-02-8:10</td>\n",
              "      <td>trt_cp</td>\n",
              "      <td>MCF7</td>\n",
              "      <td>None</td>\n",
              "      <td>N23</td>\n",
              "      <td>CPC015_MCF7_24H_X1_B4_DUO52HI53LO|CPC015_MCF7_...</td>\n",
              "      <td>CPC015_MCF7_24H_X1_B4_DUO52HI53LO:N23|CPC015_M...</td>\n",
              "      <td>None</td>\n",
              "      <td>CPC</td>\n",
              "      <td>alclometasone</td>\n",
              "      <td>CVCL_0031</td>\n",
              "      <td>40</td>\n",
              "      <td>None</td>\n",
              "      <td>None</td>\n",
              "      <td>72</td>\n",
              "      <td>EMEM ATCC catalog # 3-23</td>\n",
              "      <td>HTB-22</td>\n",
              "      <td>c-438</td>\n",
              "      <td>tumor</td>\n",
              "      <td>Caucasian</td>\n",
              "      <td>F</td>\n",
              "      <td>Metastatic</td>\n",
              "      <td>breast</td>\n",
              "      <td>breast cancer</td>\n",
              "      <td>adenocarcinoma</td>\n",
              "      <td>ATCC</td>\n",
              "      <td>adherent</td>\n",
              "      <td>MCF7_BREAST</td>\n",
              "      <td>IBMF-7</td>\n",
              "    </tr>\n",
              "  </tbody>\n",
              "</table>\n",
              "</div>"
            ],
            "text/plain": [
              "    bead_batch  nearest_dose  ...             ccle_name   cell_alias\n",
              "89          b3          10.0  ...          PC3_PROSTATE    PC.3|PC-3\n",
              "112         b3          10.0  ...  HT29_LARGE_INTESTINE        HT 29\n",
              "1           b3          10.0  ...             A375_SKIN  A 375|A-375\n",
              "66          b4          10.0  ...           MCF7_BREAST       IBMF-7\n",
              "58          b4          10.0  ...           MCF7_BREAST       IBMF-7\n",
              "\n",
              "[5 rows x 54 columns]"
            ]
          },
          "metadata": {
            "tags": []
          },
          "execution_count": 16
        }
      ]
    },
    {
      "cell_type": "code",
      "metadata": {
        "id": "d3NxRWAJ5Pg3",
        "colab": {
          "base_uri": "https://localhost:8080/",
          "height": 404
        },
        "outputId": "2882ebe3-230a-4dc8-de51-4cd69220cdf8"
      },
      "source": [
        "plt.figure(figsize=(8,6))\n",
        "\n",
        "sorted_index = siginfo_sample_filtered.groupby('cell_iname').median().sort_values('tas').index\n",
        "\n",
        "sns.boxplot(\n",
        "    data=siginfo_sample_filtered,\n",
        "    x='cell_iname',\n",
        "    y='tas',\n",
        "    hue='cell_lineage',\n",
        "    dodge=False,\n",
        "    order=sorted_index\n",
        ");\n",
        "\n",
        "plt.title('Transcriptional Activity by Cell Line')\n",
        "plt.xlabel('Cell Line')\n",
        "plt.ylabel('Transcriptional Activity Score (TAS)')\n",
        "plt.legend(loc='upper left', bbox_to_anchor=(1.01,1))\n",
        "plt.show()"
      ],
      "execution_count": null,
      "outputs": [
        {
          "output_type": "display_data",
          "data": {
            "image/png": "[encoded data removed]",
            "text/plain": [
              "<Figure size 576x432 with 1 Axes>"
            ]
          },
          "metadata": {
            "tags": [],
            "needs_background": "light"
          }
        }
      ]
    },
    {
      "cell_type": "markdown",
      "metadata": {
        "id": "Lsgw2Fnmw75G"
      },
      "source": [
        "# Numerical Data"
      ]
    },
    {
      "cell_type": "markdown",
      "metadata": {
        "id": "_3F-3atyDgjy"
      },
      "source": [
        "## Landmark Genespace"
      ]
    },
    {
      "cell_type": "code",
      "metadata": {
        "id": "wzs_OQcdJkPU"
      },
      "source": [
        "import requests\n",
        "\n",
        "# URL with credentials\n",
        "url = ('https://s3.amazonaws.com/data.clue.io/api/bq_creds/lm_epsilon_gene_ids_n978.grp')\n",
        "\n",
        "response = requests.get(url)\n",
        "lm_grp='/content/lm_epsilon_gene_ids_n978.grp'\n",
        "\n",
        "with open(lm_grp, 'w') as f:\n",
        "  f.write(response.text)"
      ],
      "execution_count": null,
      "outputs": []
    },
    {
      "cell_type": "code",
      "metadata": {
        "id": "I_AnwAjeJ8sD"
      },
      "source": [
        "from cmapPy.set_io import grp\n",
        "lm_gene_ids = grp.read(lm_grp)"
      ],
      "execution_count": null,
      "outputs": []
    },
    {
      "cell_type": "code",
      "metadata": {
        "colab": {
          "base_uri": "https://localhost:8080/"
        },
        "id": "Jncf9inkUBWE",
        "outputId": "3429450f-b5c4-46a4-bf82-e6dc241a675b"
      },
      "source": [
        "len(siginfo_sample_filtered)"
      ],
      "execution_count": null,
      "outputs": [
        {
          "output_type": "execute_result",
          "data": {
            "text/plain": [
              "129"
            ]
          },
          "metadata": {
            "tags": []
          },
          "execution_count": 20
        }
      ]
    },
    {
      "cell_type": "markdown",
      "metadata": {
        "id": "JXoXha2Tav6W"
      },
      "source": [
        "## Extracting Numerical data using `cmapBQ.query.cmap_matrix`"
      ]
    },
    {
      "cell_type": "code",
      "metadata": {
        "id": "egy1Ak7ApLR8",
        "colab": {
          "base_uri": "https://localhost:8080/"
        },
        "outputId": "7a55144b-091a-4e76-d83e-aa5f076f75a7"
      },
      "source": [
        "sig_ids = siginfo_sample_filtered.sig_id.unique() #sig_ids are unique for each signature and relates siginfo table to numerical data\n",
        "\n",
        "sample_data_numerical = cmap_query.cmap_matrix(bq_client,\n",
        "    data_level='level5',\n",
        "    cid=list(sig_ids), #columns are signatures\n",
        "    rid=lm_gene_ids, #subset to L1000 space #rows are features (genes)\n",
        ")\n",
        "\n",
        "print( sample_data_numerical.data_df.shape )"
      ],
      "execution_count": null,
      "outputs": [
        {
          "output_type": "stream",
          "text": [
            "Running query ... (1/1)\n",
            "Pivoting Dataframes to GCT objects\n",
            "Pivoting... (1/1)\n",
            "Complete\n",
            "(978, 129)\n"
          ],
          "name": "stdout"
        }
      ]
    },
    {
      "cell_type": "markdown",
      "metadata": {
        "id": "IshdQPt5gw5B"
      },
      "source": [
        "`cmap_matrix` returns a GCToo object, part of the cmapPy resource. Documentation on the GCToo object structure and useful cmapPy utilities can be found in the cmapPy documentation here: https://cmappy.readthedocs.io/en/stable/"
      ]
    },
    {
      "cell_type": "markdown",
      "metadata": {
        "id": "RyQH2lKka-7-"
      },
      "source": [
        "### Write to file as GCTX"
      ]
    },
    {
      "cell_type": "code",
      "metadata": {
        "id": "vB1SQaAiDnsN"
      },
      "source": [
        "from cmapPy.pandasGEXpress.write_gctx import write as write_gctx\n",
        "from cmapPy.pandasGEXpress.write_gct import write as write_gct\n",
        "\n",
        "#write_gctx(sample_data_numerical, filename)\n",
        "#write_gct(sample_data_numerical, filename)"
      ],
      "execution_count": null,
      "outputs": []
    },
    {
      "cell_type": "markdown",
      "metadata": {
        "id": "yHAUuOQCG5Ml"
      },
      "source": [
        "## Pairwise Correlations"
      ]
    },
    {
      "cell_type": "code",
      "metadata": {
        "id": "2b3r9xYxw6eB",
        "colab": {
          "base_uri": "https://localhost:8080/"
        },
        "outputId": "e8215a74-b28f-48f9-9b0f-2e7100fd2e0e"
      },
      "source": [
        "corr_matrix = sample_data_numerical.data_df.corr()\n",
        "print(corr_matrix.shape)"
      ],
      "execution_count": null,
      "outputs": [
        {
          "output_type": "stream",
          "text": [
            "(129, 129)\n"
          ],
          "name": "stdout"
        }
      ]
    },
    {
      "cell_type": "markdown",
      "metadata": {
        "id": "c-K98pMLWsRA"
      },
      "source": [
        "### Function definitions"
      ]
    },
    {
      "cell_type": "code",
      "metadata": {
        "id": "XkW9ZNHvI_MN"
      },
      "source": [
        "import scipy\n",
        "import scipy.cluster.hierarchy as sch\n",
        "import numpy as np\n",
        "\n",
        "\n",
        "def get_off_diagonals(matrix):\n",
        "  \"\"\"\n",
        "  Extract off-diagonal elements of matrix as list of values\n",
        "\n",
        "  Parameters\n",
        "  ----------\n",
        "  matrix: pandas.DataFrame or numpy.ndarray, NxN matrix\n",
        "  \n",
        "  Returns\n",
        "  -------\n",
        "  \"\"\"\n",
        "  return matrix.where(\n",
        "    np.triu(np.ones(matrix.shape).astype(bool), k=1)\n",
        "  ).stack().reset_index(drop=True)\n",
        "\n",
        "def cluster_corr(corr_array, inplace=False):\n",
        "    \"\"\"\n",
        "    Rearranges the correlation matrix, corr_array, so that groups of highly \n",
        "    correlated variables are next to eachother \n",
        "    \n",
        "    Parameters\n",
        "    ----------\n",
        "    corr_array : pandas.DataFrame or numpy.ndarray\n",
        "        a NxN correlation matrix \n",
        "        \n",
        "    Returns\n",
        "    -------\n",
        "    pandas.DataFrame or numpy.ndarray\n",
        "        a NxN correlation matrix with the columns and rows rearranged\n",
        "    \"\"\"\n",
        "    pairwise_distances = sch.distance.pdist(corr_array)\n",
        "    linkage = sch.linkage(pairwise_distances, method='complete')\n",
        "    cluster_distance_threshold = pairwise_distances.max()/2\n",
        "    idx_to_cluster_array = sch.fcluster(linkage, cluster_distance_threshold, \n",
        "                                        criterion='distance')\n",
        "    idx = np.argsort(idx_to_cluster_array)\n",
        "    \n",
        "    if not inplace:\n",
        "        corr_array = corr_array.copy()\n",
        "    \n",
        "    if isinstance(corr_array, pd.DataFrame):\n",
        "        return corr_array.iloc[idx, :].T.iloc[idx, :]\n",
        "    return corr_array[idx, :][:, idx]\n",
        "\n",
        "def get_subplot_dimensions(num_plots):\n",
        "  if num_plots % 4 == 0:\n",
        "    return num_plots//4, 4\n",
        "  elif num_plots % 3 == 0:\n",
        "    return num_plots//3, 3\n",
        "  elif num_plots % 2 == 0:\n",
        "    return num_plots//2, 2\n",
        "  elif num_plots % 1 == 0:\n",
        "    return num_plots//1, 1\n"
      ],
      "execution_count": null,
      "outputs": []
    },
    {
      "cell_type": "code",
      "metadata": {
        "id": "wY70dfWvKYy7"
      },
      "source": [
        "clustered_matrix = cluster_corr(sample_data_numerical.data_df.corr())"
      ],
      "execution_count": null,
      "outputs": []
    },
    {
      "cell_type": "markdown",
      "metadata": {
        "id": "5Kml4zu0Vfg3"
      },
      "source": [
        "### Histograms"
      ]
    },
    {
      "cell_type": "code",
      "metadata": {
        "colab": {
          "base_uri": "https://localhost:8080/",
          "height": 729
        },
        "id": "BmBTuJj1Vf_b",
        "outputId": "171c9df4-f800-4044-d080-1599326bc911"
      },
      "source": [
        "#Lists used for sns.boxplot\n",
        "dist_list = []\n",
        "cell_list = siginfo_sample_filtered.groupby('cell_iname').median().sort_values('tas').index\n",
        "\n",
        "lineage_list = []\n",
        "\n",
        "#ncols=4\n",
        "#nrows=2\n",
        "subplot_size = 5\n",
        "nrows, ncols = get_subplot_dimensions(len(cell_list))\n",
        "fig_dist, axes_dist = plt.subplots(nrows, ncols, figsize=(subplot_size*ncols,subplot_size*nrows))\n",
        "\n",
        "\n",
        "for i,cell in enumerate(cell_list):\n",
        "\n",
        "  lineage = core_cellinfo.loc[\n",
        "        core_cellinfo.cell_iname.eq(cell)\n",
        "      ].cell_lineage.unique()[0]  #Lineage information for cell line\n",
        "\n",
        "  cell_sig_ids = siginfo_sample_filtered.loc[\n",
        "    siginfo_sample_filtered.cell_iname.eq(cell)\n",
        "  ].sig_id.unique()  #Get sig_ids for cell line\n",
        "\n",
        "  cell_corrs = corr_matrix.loc[cell_sig_ids, cell_sig_ids] #Extract correlations for cell line\n",
        "  cell_corrs = cluster_corr(cell_corrs) #Cluster cell correlations\n",
        "  \n",
        "  dist = get_off_diagonals(cell_corrs) #Extract off-diagonals\n",
        "  \n",
        "  dist_list.append(dist)\n",
        "  lineage_list.append(lineage)\n",
        "\n",
        "  sns.histplot(dist, \n",
        "               binwidth=0.1,\n",
        "               ax=axes_dist[i // ncols][i % ncols])\n",
        "  axes_dist[i // ncols][i % ncols].set_title(\n",
        "    'Distribution of pairwise connections in {} \\n({})'.format(\n",
        "        cell, \n",
        "        lineage\n",
        "      )\n",
        "    )\n",
        "  axes_dist[i // ncols][i % ncols].set_xlim(-1, 1)\n",
        "  axes_dist[i // ncols][i % ncols].set_xlabel('Correlation')\n",
        "  axes_dist[i // ncols][i % ncols].set_xticks([-1, -0.5, 0, 0.5, 1])\n",
        "\n",
        "plt.tight_layout()\n",
        "plt.show()"
      ],
      "execution_count": null,
      "outputs": [
        {
          "output_type": "display_data",
          "data": {
            "image/png": "[encoded data removed]",
            "text/plain": [
              "<Figure size 1440x720 with 8 Axes>"
            ]
          },
          "metadata": {
            "tags": [],
            "needs_background": "light"
          }
        }
      ]
    },
    {
      "cell_type": "markdown",
      "metadata": {
        "id": "fATzaSlUV2cX"
      },
      "source": [
        "### Boxplots"
      ]
    },
    {
      "cell_type": "code",
      "metadata": {
        "colab": {
          "base_uri": "https://localhost:8080/",
          "height": 634
        },
        "id": "bBBOWqnFVwSi",
        "outputId": "f0a8bbe0-201b-4250-a98e-f9c9f99b7485"
      },
      "source": [
        "plt.figure(figsize=(10,10))\n",
        "colors_list = ['brown', 'red', 'orange', 'magenta', 'blue', 'orange', 'green', 'green'] #manual coloring by cell_lineage\n",
        "\n",
        "sns.boxplot(data=dist_list, palette=colors_list)\n",
        "\n",
        "labels = ['{}\\n({})'.format(cell_list[i], lineage_list[i]) for i in range(0,len(cell_list))]\n",
        "plt.xticks(np.linspace(0,7, 8), labels)\n",
        "\n",
        "plt.ylabel('Pairwise Correlations')\n",
        "plt.xlabel('Cell Line')\n",
        "plt.ylim([-1,1])\n",
        "plt.title('Comparison of {} concordance in Core Cell Lines'.format(moa))\n",
        "plt.show()"
      ],
      "execution_count": null,
      "outputs": [
        {
          "output_type": "display_data",
          "data": {
            "image/png": "[encoded data removed]",
            "text/plain": [
              "<Figure size 720x720 with 1 Axes>"
            ]
          },
          "metadata": {
            "tags": [],
            "needs_background": "light"
          }
        }
      ]
    },
    {
      "cell_type": "markdown",
      "metadata": {
        "id": "LBX2J0MrViB4"
      },
      "source": [
        "### Heatmaps"
      ]
    },
    {
      "cell_type": "markdown",
      "metadata": {
        "id": "O2kxIoQsbkso"
      },
      "source": [
        "#### Color Map Configuration"
      ]
    },
    {
      "cell_type": "code",
      "metadata": {
        "id": "NkUHXKdjEaC_"
      },
      "source": [
        "from matplotlib import cm\n",
        "from matplotlib.colors import ListedColormap, LinearSegmentedColormap\n",
        "\n",
        "red_blue_map = cm.get_cmap('RdBu_r', 256)\n",
        "tau_red_blue_90 = red_blue_map(np.linspace(0,1,200))\n",
        "white = np.array([1, 1, 1, 1])\n",
        "tau_red_blue_90[70:130, :] = white\n",
        "tau_red_blue_90 = ListedColormap(tau_red_blue_90)"
      ],
      "execution_count": null,
      "outputs": []
    },
    {
      "cell_type": "markdown",
      "metadata": {
        "id": "2mgvIbuJbw9z"
      },
      "source": [
        "#### Full Correlation Matrix"
      ]
    },
    {
      "cell_type": "code",
      "metadata": {
        "colab": {
          "base_uri": "https://localhost:8080/",
          "height": 1000
        },
        "id": "Z5733x9eKdED",
        "outputId": "a725d23e-2af0-4245-f69e-ba291c800dea"
      },
      "source": [
        "plt.figure(figsize=(20,20))\n",
        "sns.heatmap(clustered_matrix, cmap=tau_red_blue_90, vmin=-1, vmax=1)\n",
        "plt.show()"
      ],
      "execution_count": null,
      "outputs": [
        {
          "output_type": "display_data",
          "data": {
            "image/png": "[encoded data removed]",
            "text/plain": [
              "<Figure size 1440x1440 with 2 Axes>"
            ]
          },
          "metadata": {
            "tags": [],
            "needs_background": "light"
          }
        }
      ]
    },
    {
      "cell_type": "markdown",
      "metadata": {
        "id": "M3jtC2Uvbp1F"
      },
      "source": [
        "#### Pairwise correlations by Cell Line"
      ]
    },
    {
      "cell_type": "code",
      "metadata": {
        "colab": {
          "base_uri": "https://localhost:8080/",
          "height": 240
        },
        "id": "iuuTpn8APFCp",
        "outputId": "f3b451e0-f097-46ae-92c7-47516fcd888a"
      },
      "source": [
        "cell_list = siginfo_sample_filtered.groupby('cell_iname').median().sort_values('tas').index #sorted by median tas\n",
        "\n",
        "nrows, ncols = get_subplot_dimensions(len(cell_list))\n",
        "subplot_size = 5\n",
        "fig_hm, axes_hm = plt.subplots(nrows, ncols, figsize=(subplot_size*ncols*1.4,subplot_size*nrows))\n",
        "\n",
        "for i,cell in enumerate(cell_list):\n",
        "\n",
        "  lineage = core_cellinfo.loc[\n",
        "          core_cellinfo.cell_iname.eq(cell)\n",
        "        ].cell_lineage.unique()[0]\n",
        "\n",
        "  cell_siginfo = siginfo_sample_filtered.loc[\n",
        "    siginfo_sample_filtered.cell_iname.eq(cell)\n",
        "  ]\n",
        "\n",
        "  cell_sig_ids = cell_siginfo.sig_id.unique()  \n",
        "  \n",
        "  cell_corrs = corr_matrix.loc[cell_sig_ids, cell_sig_ids]\n",
        "\n",
        "  cell_corrs = cluster_corr(cell_corrs)\n",
        "\n",
        "  cell_siginfo.set_index('sig_id').loc[cell_corrs.columns] #sort to match clustered matrix\n",
        "  \n",
        "  sns.heatmap(cell_corrs,\n",
        "              cmap=tau_red_blue_90, \n",
        "              vmin=-1, \n",
        "              vmax=1,\n",
        "              ax=axes_hm[i // ncols][i % ncols])\n",
        "  \n",
        "  axes_hm[i // ncols][i % ncols].set_xticklabels([]) \n",
        "  axes_hm[i // ncols][i % ncols].set_yticklabels(cell_siginfo.cmap_name) # Add compound names\n",
        "  axes_hm[i // ncols][i % ncols].set_xlabel('')\n",
        "  axes_hm[i // ncols][i % ncols].set_ylabel('')\n",
        "  axes_hm[i // ncols][i % ncols].set_title('Cell Line: {}\\n Cell Lineage: {}'.format(cell, lineage))\n",
        "\n",
        "plt.tight_layout()\n"
      ],
      "execution_count": 7,
      "outputs": [
        {
          "output_type": "error",
          "ename": "NameError",
          "evalue": "ignored",
          "traceback": [
            "\u001b[0;31m---------------------------------------------------------------------------\u001b[0m",
            "\u001b[0;31mNameError\u001b[0m                                 Traceback (most recent call last)",
            "\u001b[0;32m<ipython-input-7-86347ba62fa7>\u001b[0m in \u001b[0;36m<module>\u001b[0;34m()\u001b[0m\n\u001b[0;32m----> 1\u001b[0;31m \u001b[0mcell_list\u001b[0m \u001b[0;34m=\u001b[0m \u001b[0msiginfo_sample_filtered\u001b[0m\u001b[0;34m.\u001b[0m\u001b[0mgroupby\u001b[0m\u001b[0;34m(\u001b[0m\u001b[0;34m'cell_iname'\u001b[0m\u001b[0;34m)\u001b[0m\u001b[0;34m.\u001b[0m\u001b[0mmedian\u001b[0m\u001b[0;34m(\u001b[0m\u001b[0;34m)\u001b[0m\u001b[0;34m.\u001b[0m\u001b[0msort_values\u001b[0m\u001b[0;34m(\u001b[0m\u001b[0;34m'tas'\u001b[0m\u001b[0;34m)\u001b[0m\u001b[0;34m.\u001b[0m\u001b[0mindex\u001b[0m \u001b[0;31m#sorted by median tas\u001b[0m\u001b[0;34m\u001b[0m\u001b[0;34m\u001b[0m\u001b[0m\n\u001b[0m\u001b[1;32m      2\u001b[0m \u001b[0;34m\u001b[0m\u001b[0m\n\u001b[1;32m      3\u001b[0m \u001b[0mnrows\u001b[0m\u001b[0;34m,\u001b[0m \u001b[0mncols\u001b[0m \u001b[0;34m=\u001b[0m \u001b[0mget_subplot_dimensions\u001b[0m\u001b[0;34m(\u001b[0m\u001b[0mlen\u001b[0m\u001b[0;34m(\u001b[0m\u001b[0mcell_list\u001b[0m\u001b[0;34m)\u001b[0m\u001b[0;34m)\u001b[0m\u001b[0;34m\u001b[0m\u001b[0;34m\u001b[0m\u001b[0m\n\u001b[1;32m      4\u001b[0m \u001b[0msubplot_size\u001b[0m \u001b[0;34m=\u001b[0m \u001b[0;36m5\u001b[0m\u001b[0;34m\u001b[0m\u001b[0;34m\u001b[0m\u001b[0m\n\u001b[1;32m      5\u001b[0m \u001b[0mfig_hm\u001b[0m\u001b[0;34m,\u001b[0m \u001b[0maxes_hm\u001b[0m \u001b[0;34m=\u001b[0m \u001b[0mplt\u001b[0m\u001b[0;34m.\u001b[0m\u001b[0msubplots\u001b[0m\u001b[0;34m(\u001b[0m\u001b[0mnrows\u001b[0m\u001b[0;34m,\u001b[0m \u001b[0mncols\u001b[0m\u001b[0;34m,\u001b[0m \u001b[0mfigsize\u001b[0m\u001b[0;34m=\u001b[0m\u001b[0;34m(\u001b[0m\u001b[0msubplot_size\u001b[0m\u001b[0;34m*\u001b[0m\u001b[0mncols\u001b[0m\u001b[0;34m*\u001b[0m\u001b[0;36m1.4\u001b[0m\u001b[0;34m,\u001b[0m\u001b[0msubplot_size\u001b[0m\u001b[0;34m*\u001b[0m\u001b[0mnrows\u001b[0m\u001b[0;34m)\u001b[0m\u001b[0;34m)\u001b[0m\u001b[0;34m\u001b[0m\u001b[0;34m\u001b[0m\u001b[0m\n",
            "\u001b[0;31mNameError\u001b[0m: name 'siginfo_sample_filtered' is not defined"
          ]
        }
      ]
    }
  ]
}