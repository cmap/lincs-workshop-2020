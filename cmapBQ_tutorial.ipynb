{
 "cells": [
  {
   "cell_type": "code",
   "execution_count": null,
   "metadata": {
    "ExecuteTime": {
     "end_time": "2020-10-16T15:08:01.975360Z",
     "start_time": "2020-10-16T15:08:01.326791Z"
    }
   },
   "outputs": [],
   "source": [
    "import pandas as pd\n",
    "import os\n",
    "from google.cloud import bigquery\n",
    "import cmapBQ.query as cmap_query\n",
    "import cmapBQ.config as cmap_config\n",
    "from cmapPy.pandasGEXpress.write_gctx import write as write_gctx\n",
    "\n",
    "#viewing\n",
    "#import qgrid\n",
    "\n",
    "\n",
    "# Set up credentials\n",
    "bq_client = cmap_config.get_bq_client()\n",
    "\n",
    "#Old method of authentication\n",
    "#os.environ['GOOGLE_APPLICATION_CREDENTIALS'] = 'cmap-big-table-bd0276aaff22.json'\n",
    "#bq_client = bigquery.Client()"
   ]
  },
  {
   "cell_type": "code",
   "execution_count": null,
   "metadata": {
    "ExecuteTime": {
     "end_time": "2020-10-16T15:10:36.592241Z",
     "start_time": "2020-10-16T15:08:01.976661Z"
    },
    "scrolled": true
   },
   "outputs": [],
   "source": [
    "moas = cmap_query.list_cmap_moas(bq_client)\n",
    "display(moas)"
   ]
  },
  {
   "cell_type": "code",
   "execution_count": null,
   "metadata": {
    "ExecuteTime": {
     "end_time": "2020-10-16T15:10:38.777966Z",
     "start_time": "2020-10-16T15:10:36.594280Z"
    }
   },
   "outputs": [],
   "source": [
    "brom_inhib = cmap_query.cmap_compounds(client=bq_client, moa='Bromodomain inhibitor')"
   ]
  },
  {
   "cell_type": "code",
   "execution_count": null,
   "metadata": {
    "ExecuteTime": {
     "end_time": "2020-10-16T15:10:38.788921Z",
     "start_time": "2020-10-16T15:10:38.779761Z"
    }
   },
   "outputs": [],
   "source": [
    "display(brom_inhib)"
   ]
  },
  {
   "cell_type": "markdown",
   "metadata": {},
   "source": [
    "<div style=\"font-size: 12pt;line-height:30px\">\n",
    "\n",
    "In another example, we can query the dataset to look for all available gene targets using list_cmap_targets(). From this list of targets, we will see if our desired target **'CDK1'** is witin the database. "
   ]
  },
  {
   "cell_type": "code",
   "execution_count": null,
   "metadata": {
    "ExecuteTime": {
     "end_time": "2020-10-16T15:10:41.251044Z",
     "start_time": "2020-10-16T15:10:38.791186Z"
    },
    "scrolled": true
   },
   "outputs": [],
   "source": [
    "targets = cmap_query.list_cmap_targets(bq_client)\n",
    "display(targets)"
   ]
  },
  {
   "cell_type": "code",
   "execution_count": null,
   "metadata": {
    "ExecuteTime": {
     "end_time": "2020-10-16T15:10:41.259735Z",
     "start_time": "2020-10-16T15:10:41.253735Z"
    }
   },
   "outputs": [],
   "source": [
    "'CDK1' in targets.target.unique()"
   ]
  },
  {
   "cell_type": "markdown",
   "metadata": {},
   "source": [
    "<div style=\"font-size: 12pt;line-height:30px\">\n",
    "\n",
    "If the desired target is in the database, we can then query the compound table to get information about what compounds affect the CDK1 target. "
   ]
  },
  {
   "cell_type": "code",
   "execution_count": null,
   "metadata": {
    "ExecuteTime": {
     "end_time": "2020-10-16T15:10:43.615400Z",
     "start_time": "2020-10-16T15:10:41.263057Z"
    },
    "scrolled": true
   },
   "outputs": [],
   "source": [
    "CDK1_cpinfo = cmap_query.cmap_compounds(client=bq_client, target='CDK1', verbose=True)\n",
    "display(CDK1_cpinfo)"
   ]
  },
  {
   "cell_type": "markdown",
   "metadata": {},
   "source": [
    "<div style=\"font-size: 12pt;line-height:30px\">\n",
    "\n",
    "Lets take the first 10 compounds and see how many signatures are available for those compounds. We can pass a list of compounds to the **cmap_sig function**, which then queries the dataset for compounds that match."
   ]
  },
  {
   "cell_type": "code",
   "execution_count": null,
   "metadata": {
    "ExecuteTime": {
     "end_time": "2020-10-16T15:10:43.619552Z",
     "start_time": "2020-10-16T15:10:43.617027Z"
    }
   },
   "outputs": [],
   "source": [
    "CDK1_cps = CDK1_cpinfo.pert_id.unique()"
   ]
  },
  {
   "cell_type": "code",
   "execution_count": null,
   "metadata": {
    "ExecuteTime": {
     "end_time": "2020-10-16T15:10:43.625637Z",
     "start_time": "2020-10-16T15:10:43.621626Z"
    }
   },
   "outputs": [],
   "source": [
    "CDK1_cps[1:10]"
   ]
  },
  {
   "cell_type": "code",
   "execution_count": null,
   "metadata": {
    "ExecuteTime": {
     "end_time": "2020-10-16T15:10:55.014323Z",
     "start_time": "2020-10-16T15:10:43.627631Z"
    }
   },
   "outputs": [],
   "source": [
    "CDK1_siginfo = cmap_query.cmap_sig(bq_client, pert_id=list(CDK1_cps), verbose=True)"
   ]
  },
  {
   "cell_type": "code",
   "execution_count": null,
   "metadata": {
    "ExecuteTime": {
     "end_time": "2020-10-16T15:10:55.019627Z",
     "start_time": "2020-10-16T15:10:55.015899Z"
    },
    "scrolled": false
   },
   "outputs": [],
   "source": [
    "CDK1_siginfo"
   ]
  },
  {
   "cell_type": "markdown",
   "metadata": {},
   "source": [
    "<div style=\"font-size: 12pt;line-height:30px\">\n",
    "\n",
    "\n",
    "The siginfo file provides information on the conditions for each experiment such as compound, dose, timepoint, cell line, and more.\n",
    "\n",
    "The table also includes information regarding the signal strength and replicate correlation of the compound. The `distil_tas` contains the signatures **Transcriptional Activity Score (TAS)** which is an aggregate measure of strength and reproducibilty.  [More information about signature quality metrics can be found on Connectopedia](https://clue.io/connectopedia/signature_quality_metrics)"
   ]
  },
  {
   "cell_type": "code",
   "execution_count": null,
   "metadata": {
    "ExecuteTime": {
     "end_time": "2020-10-16T15:10:55.030608Z",
     "start_time": "2020-10-16T15:10:55.021901Z"
    }
   },
   "outputs": [],
   "source": [
    "print(\"Time points:\\n {}\".format(CDK1_siginfo.pert_itime.unique()))\n",
    "print(\"Doses: \\n {}\".format(CDK1_siginfo.pert_idose.unique()))"
   ]
  },
  {
   "cell_type": "code",
   "execution_count": null,
   "metadata": {
    "ExecuteTime": {
     "end_time": "2020-10-16T15:10:55.072054Z",
     "start_time": "2020-10-16T15:10:55.032425Z"
    }
   },
   "outputs": [],
   "source": [
    "filtered_CDK1 = CDK1_siginfo.loc[\n",
    "    (CDK1_siginfo.pert_dose == 10 ) & \n",
    "    (CDK1_siginfo.pert_itime == '24 h' )\n",
    "]\n",
    "display(filtered_CDK1[0:10])"
   ]
  },
  {
   "cell_type": "markdown",
   "metadata": {},
   "source": [
    "<div style=\"font-size: 12pt;line-height:30px\">\n",
    "\n",
    "From this table if we want the numerical data, we can extract the sig_ids and use them to query Level 5 database"
   ]
  },
  {
   "cell_type": "code",
   "execution_count": null,
   "metadata": {
    "ExecuteTime": {
     "end_time": "2020-10-16T15:10:55.076775Z",
     "start_time": "2020-10-16T15:10:55.073404Z"
    }
   },
   "outputs": [],
   "source": [
    "CDK1_sig_ids = list(filtered_CDK1.sig_id.unique())"
   ]
  },
  {
   "cell_type": "code",
   "execution_count": null,
   "metadata": {
    "ExecuteTime": {
     "end_time": "2020-10-16T15:11:09.253479Z",
     "start_time": "2020-10-16T15:10:55.079170Z"
    }
   },
   "outputs": [],
   "source": [
    "CDK1_data = cmap_query.cmap_matrix(bq_client, data_level='level5', cid=list(CDK1_siginfo.sig_id.unique()[0:1000]))"
   ]
  },
  {
   "cell_type": "code",
   "execution_count": null,
   "metadata": {
    "ExecuteTime": {
     "end_time": "2020-10-16T15:11:09.275221Z",
     "start_time": "2020-10-16T15:11:09.255505Z"
    },
    "scrolled": true
   },
   "outputs": [],
   "source": [
    "CDK1_data.data_df"
   ]
  },
  {
   "cell_type": "code",
   "execution_count": null,
   "metadata": {},
   "outputs": [],
   "source": [
    "#write_gctx(CDK1_data, filename)"
   ]
  },
  {
   "cell_type": "code",
   "execution_count": null,
   "metadata": {},
   "outputs": [],
   "source": []
  }
 ],
 "metadata": {
  "kernelspec": {
   "display_name": "Python 3",
   "language": "python",
   "name": "python3"
  },
  "language_info": {
   "codemirror_mode": {
    "name": "ipython",
    "version": 3
   },
   "file_extension": ".py",
   "mimetype": "text/x-python",
   "name": "python",
   "nbconvert_exporter": "python",
   "pygments_lexer": "ipython3",
   "version": "3.6.12"
  },
  "toc": {
   "base_numbering": 1,
   "nav_menu": {},
   "number_sections": false,
   "sideBar": true,
   "skip_h1_title": true,
   "title_cell": "Table of Contents",
   "title_sidebar": "Contents",
   "toc_cell": false,
   "toc_position": {},
   "toc_section_display": true,
   "toc_window_display": false
  }
 },
 "nbformat": 4,
 "nbformat_minor": 2
}
